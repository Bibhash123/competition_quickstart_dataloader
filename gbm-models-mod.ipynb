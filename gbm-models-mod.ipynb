{
  "cells": [
    {
      "cell_type": "markdown",
      "metadata": {
        "id": "view-in-github",
        "colab_type": "text"
      },
      "source": [
        "<a href=\"https://colab.research.google.com/github/Bibhash123/competition_quickstart_dataloader/blob/main/gbm-models-mod.ipynb\" target=\"_parent\"><img src=\"https://colab.research.google.com/assets/colab-badge.svg\" alt=\"Open In Colab\"/></a>"
      ]
    },
    {
      "cell_type": "code",
      "execution_count": null,
      "metadata": {
        "id": "ee31a3ed-68f1-460d-90f4-7dbe89185702"
      },
      "outputs": [],
      "source": [
        "from IPython.display import clear_output\n",
        "!pip install -U layer\n",
        "clear_output(wait = False)"
      ]
    },
    {
      "cell_type": "code",
      "execution_count": null,
      "metadata": {
        "id": "63859387-1f1a-4973-a250-dd36e6ac8d90",
        "outputId": "206b0397-94f8-4680-8550-e0bebe165a8a",
        "colab": {
          "base_uri": "https://localhost:8080/"
        }
      },
      "outputs": [
        {
          "output_type": "stream",
          "name": "stdout",
          "text": [
            "Please open the following link in your web browser. Once logged in, copy the code and paste it here.\n",
            "https://app.layer.ai/oauth/authorize?response_type=code&code_challenge=Q-znWbDTGXZSB49g3torKk5B4XlFX49xP-NU4bchd1Y&code_challenge_method=S256&client_id=0STDdcnpK48P8A429EAAn93WNuLmViLR&redirect_uri=https://app.layer.ai/oauth/code&scope=offline_access&audience=https://app.layer.ai\n",
            "Code: BfYrQrEFEgY6hvF8aYpCcel4VI-6H5BpIcWPdieYd91xc\n",
            "Successfully logged into https://app.layer.ai\n"
          ]
        }
      ],
      "source": [
        "import layer\n",
        "from layer.decorators import dataset,model, pip_requirements, resources\n",
        "layer.login()"
      ]
    },
    {
      "cell_type": "code",
      "execution_count": null,
      "metadata": {
        "colab": {
          "base_uri": "https://localhost:8080/"
        },
        "id": "4fa445e3-9cab-4ecb-b608-569cb0b4a13d",
        "outputId": "361303ed-e07b-48f4-aa73-736cc86298ef"
      },
      "outputs": [
        {
          "output_type": "execute_result",
          "data": {
            "text/plain": [
              "Your Layer project is here: https://app.layer.ai/bibhash/rci-competition"
            ]
          },
          "metadata": {},
          "execution_count": 22
        }
      ],
      "source": [
        "layer.init(\"rci-competition\")"
      ]
    },
    {
      "cell_type": "markdown",
      "source": [
        "## Imports"
      ],
      "metadata": {
        "id": "200S2nD2NhrH"
      }
    },
    {
      "cell_type": "code",
      "source": [
        "import os\n",
        "import gc\n",
        "from tqdm.notebook import tqdm\n",
        "from sklearn.metrics import mean_squared_error, mean_absolute_error\n",
        "import matplotlib.pyplot\n",
        "import seaborn as sns\n",
        "import pandas as pd\n",
        "import numpy as np\n",
        "import scipy as sp\n",
        "import warnings\n",
        "\n",
        "warnings.filterwarnings(action='ignore', category=UserWarning)"
      ],
      "metadata": {
        "id": "YgzM4cbIZoox"
      },
      "execution_count": 1,
      "outputs": []
    },
    {
      "cell_type": "code",
      "source": [
        "def rank_data(series):\n",
        "    return (series.rank() - 1) / (len(series) - 1)"
      ],
      "metadata": {
        "id": "xoUpfyDZingj"
      },
      "execution_count": 2,
      "outputs": []
    },
    {
      "cell_type": "markdown",
      "source": [
        "# **Data Preparation**"
      ],
      "metadata": {
        "id": "PkRtP1W7NBMe"
      }
    },
    {
      "cell_type": "code",
      "source": [
        "import os\n",
        "import numpy as np\n",
        "import pandas as pd\n",
        "from tqdm.notebook import tqdm\n",
        "import matplotlib.pyplot as plt\n",
        "import seaborn as sns"
      ],
      "metadata": {
        "id": "ZdjJY--dEck1"
      },
      "execution_count": 3,
      "outputs": []
    },
    {
      "cell_type": "code",
      "source": [
        "!wget https://rocketcompetition.mypinata.cloud/ipfs/QmctD3YVXdXJ42kKCuQgFRGs4ZYaKRbTyXioMQt1ogdSww\n",
        "!unzip -q QmctD3YVXdXJ42kKCuQgFRGs4ZYaKRbTyXioMQt1ogdSww -d \"/content/\"\n",
        "!rm -r QmctD3YVXdXJ42kKCuQgFRGs4ZYaKRbTyXioMQt1ogdSww"
      ],
      "metadata": {
        "colab": {
          "base_uri": "https://localhost:8080/"
        },
        "id": "2GmJgHsYyuu7",
        "outputId": "793c6a4c-d135-4068-8183-f36d26a45ea4"
      },
      "execution_count": 4,
      "outputs": [
        {
          "output_type": "stream",
          "name": "stdout",
          "text": [
            "--2022-07-11 06:19:28--  https://rocketcompetition.mypinata.cloud/ipfs/QmctD3YVXdXJ42kKCuQgFRGs4ZYaKRbTyXioMQt1ogdSww\n",
            "Resolving rocketcompetition.mypinata.cloud (rocketcompetition.mypinata.cloud)... 104.18.30.237, 104.18.31.237, 2606:4700::6812:1fed, ...\n",
            "Connecting to rocketcompetition.mypinata.cloud (rocketcompetition.mypinata.cloud)|104.18.30.237|:443... connected.\n",
            "HTTP request sent, awaiting response... 200 OK\n",
            "Length: 364841434 (348M) [application/zip]\n",
            "Saving to: ‘QmctD3YVXdXJ42kKCuQgFRGs4ZYaKRbTyXioMQt1ogdSww’\n",
            "\n",
            "QmctD3YVXdXJ42kKCuQ 100%[===================>] 347.94M  12.7MB/s    in 25s     \n",
            "\n",
            "2022-07-11 06:19:55 (13.9 MB/s) - ‘QmctD3YVXdXJ42kKCuQgFRGs4ZYaKRbTyXioMQt1ogdSww’ saved [364841434/364841434]\n",
            "\n"
          ]
        }
      ]
    },
    {
      "cell_type": "markdown",
      "metadata": {
        "id": "bnhEMubk8R3L"
      },
      "source": [
        "### Loading train_dataset and validation_dataset"
      ]
    },
    {
      "cell_type": "code",
      "source": [
        "train_dataset  = pd.read_csv('/content/dataset/train_dataset.csv', index_col = 'date')\n",
        "validation_dataset  = pd.read_csv('/content/dataset/validation_dataset.csv', index_col = 'date')\n",
        "print(\"Shape of train set:\",train_dataset.shape)\n",
        "print(\"Shape of test set:\",validation_dataset.shape)"
      ],
      "metadata": {
        "id": "rsFeEBtLhqXe",
        "outputId": "d679220a-3d46-49c4-aa28-e5ff97ac7e06",
        "colab": {
          "base_uri": "https://localhost:8080/"
        }
      },
      "execution_count": 5,
      "outputs": [
        {
          "output_type": "stream",
          "name": "stdout",
          "text": [
            "Shape of train set: (82585, 2013)\n",
            "Shape of test set: (704, 2013)\n"
          ]
        }
      ]
    },
    {
      "cell_type": "code",
      "source": [
        "train_dataset = train_dataset.sort_values(by=[\"symbol\",\"date\"]).reset_index(drop=False)\n",
        "validation_dataset = validation_dataset.sort_values(by=[\"symbol\",\"date\"]).reset_index(drop=False)"
      ],
      "metadata": {
        "id": "C7J4gI1oKElb"
      },
      "execution_count": 6,
      "outputs": []
    },
    {
      "cell_type": "code",
      "source": [
        "df = train_dataset.groupby(\"symbol\")['date'].count().to_frame().reset_index()\n",
        "sns.displot(df['date'],bins = 100)"
      ],
      "metadata": {
        "id": "r8_ERZybER7t",
        "outputId": "182dac0a-b322-4b96-8774-e28ee4c624ed",
        "colab": {
          "base_uri": "https://localhost:8080/",
          "height": 386
        }
      },
      "execution_count": 7,
      "outputs": [
        {
          "output_type": "execute_result",
          "data": {
            "text/plain": [
              "<seaborn.axisgrid.FacetGrid at 0x7f7fe1840b90>"
            ]
          },
          "metadata": {},
          "execution_count": 7
        },
        {
          "output_type": "display_data",
          "data": {
            "text/plain": [
              "<Figure size 360x360 with 1 Axes>"
            ],
            "image/png": "[encoded data removed]"
          },
          "metadata": {
            "needs_background": "light"
          }
        }
      ]
    },
    {
      "cell_type": "code",
      "execution_count": 8,
      "metadata": {
        "colab": {
          "base_uri": "https://localhost:8080/",
          "height": 386
        },
        "id": "9S5S-hgR8R3M",
        "outputId": "2e2b940c-c9e1-4601-89e4-c2b6a0caf966"
      },
      "outputs": [
        {
          "output_type": "execute_result",
          "data": {
            "text/plain": [
              "         date symbol  feature_1  feature_2  feature_3  feature_4  feature_5  \\\n",
              "0  2018-12-23  0xBTC   0.974026   0.987013   0.978355   0.991342   0.982684   \n",
              "1  2018-12-30  0xBTC   0.016878   0.033755   0.949367   0.936709   0.978903   \n",
              "2  2019-01-06  0xBTC   0.158996   0.016736   0.033473   0.928870   0.868201   \n",
              "3  2019-01-13  0xBTC   0.737500   0.279167   0.020833   0.054167   0.945833   \n",
              "4  2019-01-20  0xBTC   0.983607   0.987705   0.983607   0.430328   0.971311   \n",
              "\n",
              "   feature_6  feature_7  feature_8  ...  feature_2003  feature_2004  \\\n",
              "0   0.982684   0.982684   0.978355  ...      0.887446      0.857143   \n",
              "1   0.907173   0.962025   0.953586  ...      0.936709      0.953586   \n",
              "2   0.941423   0.740586   0.933054  ...      0.891213      0.874477   \n",
              "3   0.908333   0.962500   0.870833  ...      0.645833      0.600000   \n",
              "4   0.991803   0.987705   0.991803  ...      0.504098      0.454918   \n",
              "\n",
              "   feature_2005  feature_2006  feature_2007  feature_2008  feature_2009  \\\n",
              "0      0.857143      0.857143      0.835498      0.839827      0.839827   \n",
              "1      0.962025      0.932489      0.940928      0.945148      0.915612   \n",
              "2      0.857741      0.912134      0.849372      0.807531      0.878661   \n",
              "3      0.541667      0.691667      0.591667      0.504167      0.670833   \n",
              "4      0.422131      0.553279      0.368852      0.331967      0.450820   \n",
              "\n",
              "   feature_DC1    target  target_DC1  \n",
              "0     0.891775  0.095238   -0.211551  \n",
              "1     0.101266  0.046414   -0.192849  \n",
              "2     0.050209  0.284519   -0.263822  \n",
              "3     0.287500  0.391667    0.023985  \n",
              "4     0.397541  0.032787   -0.251842  \n",
              "\n",
              "[5 rows x 2014 columns]"
            ],
            "text/html": [
              "\n",
              "  <div id=\"df-867c49d1-34d3-4de4-b43b-230f1cd85802\">\n",
              "    <div class=\"colab-df-container\">\n",
              "      <div>\n",
              "<style scoped>\n",
              "    .dataframe tbody tr th:only-of-type {\n",
              "        vertical-align: middle;\n",
              "    }\n",
              "\n",
              "    .dataframe tbody tr th {\n",
              "        vertical-align: top;\n",
              "    }\n",
              "\n",
              "    .dataframe thead th {\n",
              "        text-align: right;\n",
              "    }\n",
              "</style>\n",
              "<table border=\"1\" class=\"dataframe\">\n",
              "  <thead>\n",
              "    <tr style=\"text-align: right;\">\n",
              "      <th></th>\n",
              "      <th>date</th>\n",
              "      <th>symbol</th>\n",
              "      <th>feature_1</th>\n",
              "      <th>feature_2</th>\n",
              "      <th>feature_3</th>\n",
              "      <th>feature_4</th>\n",
              "      <th>feature_5</th>\n",
              "      <th>feature_6</th>\n",
              "      <th>feature_7</th>\n",
              "      <th>feature_8</th>\n",
              "      <th>...</th>\n",
              "      <th>feature_2003</th>\n",
              "      <th>feature_2004</th>\n",
              "      <th>feature_2005</th>\n",
              "      <th>feature_2006</th>\n",
              "      <th>feature_2007</th>\n",
              "      <th>feature_2008</th>\n",
              "      <th>feature_2009</th>\n",
              "      <th>feature_DC1</th>\n",
              "      <th>target</th>\n",
              "      <th>target_DC1</th>\n",
              "    </tr>\n",
              "  </thead>\n",
              "  <tbody>\n",
              "    <tr>\n",
              "      <th>0</th>\n",
              "      <td>2018-12-23</td>\n",
              "      <td>0xBTC</td>\n",
              "      <td>0.974026</td>\n",
              "      <td>0.987013</td>\n",
              "      <td>0.978355</td>\n",
              "      <td>0.991342</td>\n",
              "      <td>0.982684</td>\n",
              "      <td>0.982684</td>\n",
              "      <td>0.982684</td>\n",
              "      <td>0.978355</td>\n",
              "      <td>...</td>\n",
              "      <td>0.887446</td>\n",
              "      <td>0.857143</td>\n",
              "      <td>0.857143</td>\n",
              "      <td>0.857143</td>\n",
              "      <td>0.835498</td>\n",
              "      <td>0.839827</td>\n",
              "      <td>0.839827</td>\n",
              "      <td>0.891775</td>\n",
              "      <td>0.095238</td>\n",
              "      <td>-0.211551</td>\n",
              "    </tr>\n",
              "    <tr>\n",
              "      <th>1</th>\n",
              "      <td>2018-12-30</td>\n",
              "      <td>0xBTC</td>\n",
              "      <td>0.016878</td>\n",
              "      <td>0.033755</td>\n",
              "      <td>0.949367</td>\n",
              "      <td>0.936709</td>\n",
              "      <td>0.978903</td>\n",
              "      <td>0.907173</td>\n",
              "      <td>0.962025</td>\n",
              "      <td>0.953586</td>\n",
              "      <td>...</td>\n",
              "      <td>0.936709</td>\n",
              "      <td>0.953586</td>\n",
              "      <td>0.962025</td>\n",
              "      <td>0.932489</td>\n",
              "      <td>0.940928</td>\n",
              "      <td>0.945148</td>\n",
              "      <td>0.915612</td>\n",
              "      <td>0.101266</td>\n",
              "      <td>0.046414</td>\n",
              "      <td>-0.192849</td>\n",
              "    </tr>\n",
              "    <tr>\n",
              "      <th>2</th>\n",
              "      <td>2019-01-06</td>\n",
              "      <td>0xBTC</td>\n",
              "      <td>0.158996</td>\n",
              "      <td>0.016736</td>\n",
              "      <td>0.033473</td>\n",
              "      <td>0.928870</td>\n",
              "      <td>0.868201</td>\n",
              "      <td>0.941423</td>\n",
              "      <td>0.740586</td>\n",
              "      <td>0.933054</td>\n",
              "      <td>...</td>\n",
              "      <td>0.891213</td>\n",
              "      <td>0.874477</td>\n",
              "      <td>0.857741</td>\n",
              "      <td>0.912134</td>\n",
              "      <td>0.849372</td>\n",
              "      <td>0.807531</td>\n",
              "      <td>0.878661</td>\n",
              "      <td>0.050209</td>\n",
              "      <td>0.284519</td>\n",
              "      <td>-0.263822</td>\n",
              "    </tr>\n",
              "    <tr>\n",
              "      <th>3</th>\n",
              "      <td>2019-01-13</td>\n",
              "      <td>0xBTC</td>\n",
              "      <td>0.737500</td>\n",
              "      <td>0.279167</td>\n",
              "      <td>0.020833</td>\n",
              "      <td>0.054167</td>\n",
              "      <td>0.945833</td>\n",
              "      <td>0.908333</td>\n",
              "      <td>0.962500</td>\n",
              "      <td>0.870833</td>\n",
              "      <td>...</td>\n",
              "      <td>0.645833</td>\n",
              "      <td>0.600000</td>\n",
              "      <td>0.541667</td>\n",
              "      <td>0.691667</td>\n",
              "      <td>0.591667</td>\n",
              "      <td>0.504167</td>\n",
              "      <td>0.670833</td>\n",
              "      <td>0.287500</td>\n",
              "      <td>0.391667</td>\n",
              "      <td>0.023985</td>\n",
              "    </tr>\n",
              "    <tr>\n",
              "      <th>4</th>\n",
              "      <td>2019-01-20</td>\n",
              "      <td>0xBTC</td>\n",
              "      <td>0.983607</td>\n",
              "      <td>0.987705</td>\n",
              "      <td>0.983607</td>\n",
              "      <td>0.430328</td>\n",
              "      <td>0.971311</td>\n",
              "      <td>0.991803</td>\n",
              "      <td>0.987705</td>\n",
              "      <td>0.991803</td>\n",
              "      <td>...</td>\n",
              "      <td>0.504098</td>\n",
              "      <td>0.454918</td>\n",
              "      <td>0.422131</td>\n",
              "      <td>0.553279</td>\n",
              "      <td>0.368852</td>\n",
              "      <td>0.331967</td>\n",
              "      <td>0.450820</td>\n",
              "      <td>0.397541</td>\n",
              "      <td>0.032787</td>\n",
              "      <td>-0.251842</td>\n",
              "    </tr>\n",
              "  </tbody>\n",
              "</table>\n",
              "<p>5 rows × 2014 columns</p>\n",
              "</div>\n",
              "      <button class=\"colab-df-convert\" onclick=\"convertToInteractive('df-867c49d1-34d3-4de4-b43b-230f1cd85802')\"\n",
              "              title=\"Convert this dataframe to an interactive table.\"\n",
              "              style=\"display:none;\">\n",
              "        \n",
              "  <svg xmlns=\"http://www.w3.org/2000/svg\" height=\"24px\"viewBox=\"0 0 24 24\"\n",
              "       width=\"24px\">\n",
              "    <path d=\"M0 0h24v24H0V0z\" fill=\"none\"/>\n",
              "    <path d=\"M18.56 5.44l.94 2.06.94-2.06 2.06-.94-2.06-.94-.94-2.06-.94 2.06-2.06.94zm-11 1L8.5 8.5l.94-2.06 2.06-.94-2.06-.94L8.5 2.5l-.94 2.06-2.06.94zm10 10l.94 2.06.94-2.06 2.06-.94-2.06-.94-.94-2.06-.94 2.06-2.06.94z\"/><path d=\"M17.41 7.96l-1.37-1.37c-.4-.4-.92-.59-1.43-.59-.52 0-1.04.2-1.43.59L10.3 9.45l-7.72 7.72c-.78.78-.78 2.05 0 2.83L4 21.41c.39.39.9.59 1.41.59.51 0 1.02-.2 1.41-.59l7.78-7.78 2.81-2.81c.8-.78.8-2.07 0-2.86zM5.41 20L4 18.59l7.72-7.72 1.47 1.35L5.41 20z\"/>\n",
              "  </svg>\n",
              "      </button>\n",
              "      \n",
              "  <style>\n",
              "    .colab-df-container {\n",
              "      display:flex;\n",
              "      flex-wrap:wrap;\n",
              "      gap: 12px;\n",
              "    }\n",
              "\n",
              "    .colab-df-convert {\n",
              "      background-color: #E8F0FE;\n",
              "      border: none;\n",
              "      border-radius: 50%;\n",
              "      cursor: pointer;\n",
              "      display: none;\n",
              "      fill: #1967D2;\n",
              "      height: 32px;\n",
              "      padding: 0 0 0 0;\n",
              "      width: 32px;\n",
              "    }\n",
              "\n",
              "    .colab-df-convert:hover {\n",
              "      background-color: #E2EBFA;\n",
              "      box-shadow: 0px 1px 2px rgba(60, 64, 67, 0.3), 0px 1px 3px 1px rgba(60, 64, 67, 0.15);\n",
              "      fill: #174EA6;\n",
              "    }\n",
              "\n",
              "    [theme=dark] .colab-df-convert {\n",
              "      background-color: #3B4455;\n",
              "      fill: #D2E3FC;\n",
              "    }\n",
              "\n",
              "    [theme=dark] .colab-df-convert:hover {\n",
              "      background-color: #434B5C;\n",
              "      box-shadow: 0px 1px 3px 1px rgba(0, 0, 0, 0.15);\n",
              "      filter: drop-shadow(0px 1px 2px rgba(0, 0, 0, 0.3));\n",
              "      fill: #FFFFFF;\n",
              "    }\n",
              "  </style>\n",
              "\n",
              "      <script>\n",
              "        const buttonEl =\n",
              "          document.querySelector('#df-867c49d1-34d3-4de4-b43b-230f1cd85802 button.colab-df-convert');\n",
              "        buttonEl.style.display =\n",
              "          google.colab.kernel.accessAllowed ? 'block' : 'none';\n",
              "\n",
              "        async function convertToInteractive(key) {\n",
              "          const element = document.querySelector('#df-867c49d1-34d3-4de4-b43b-230f1cd85802');\n",
              "          const dataTable =\n",
              "            await google.colab.kernel.invokeFunction('convertToInteractive',\n",
              "                                                     [key], {});\n",
              "          if (!dataTable) return;\n",
              "\n",
              "          const docLinkHtml = 'Like what you see? Visit the ' +\n",
              "            '<a target=\"_blank\" href=https://colab.research.google.com/notebooks/data_table.ipynb>data table notebook</a>'\n",
              "            + ' to learn more about interactive tables.';\n",
              "          element.innerHTML = '';\n",
              "          dataTable['output_type'] = 'display_data';\n",
              "          await google.colab.output.renderOutput(dataTable, element);\n",
              "          const docLink = document.createElement('div');\n",
              "          docLink.innerHTML = docLinkHtml;\n",
              "          element.appendChild(docLink);\n",
              "        }\n",
              "      </script>\n",
              "    </div>\n",
              "  </div>\n",
              "  "
            ]
          },
          "metadata": {},
          "execution_count": 8
        }
      ],
      "source": [
        "# first column (symbol) is the ticker\n",
        "# 'target_DC1' is the log of return for delta between current close to previous close\n",
        "# 'target' is the y which is ranked by Era using 'target_DC1'\n",
        "# the rest of the columns are features to be used for ML\n",
        "train_dataset.head()"
      ]
    },
    {
      "cell_type": "code",
      "source": [
        "info = train_dataset.describe().transpose().reset_index()"
      ],
      "metadata": {
        "id": "JIIo-J6qnX-P"
      },
      "execution_count": 9,
      "outputs": []
    },
    {
      "cell_type": "code",
      "source": [
        "plt.plot(train_dataset[train_dataset['symbol']=='0xBTC']['date'], np.exp(train_dataset[train_dataset['symbol']=='0xBTC']['target_DC1']))"
      ],
      "metadata": {
        "id": "lkWnUt1bXoJQ",
        "outputId": "aa4f578b-b563-4e51-94ce-40b3276a2fb5",
        "colab": {
          "base_uri": "https://localhost:8080/",
          "height": 282
        }
      },
      "execution_count": 10,
      "outputs": [
        {
          "output_type": "execute_result",
          "data": {
            "text/plain": [
              "[<matplotlib.lines.Line2D at 0x7f7fe17ba5d0>]"
            ]
          },
          "metadata": {},
          "execution_count": 10
        },
        {
          "output_type": "display_data",
          "data": {
            "text/plain": [
              "<Figure size 432x288 with 1 Axes>"
            ],
            "image/png": "[encoded data removed]"
          },
          "metadata": {
            "needs_background": "light"
          }
        }
      ]
    },
    {
      "cell_type": "code",
      "source": [
        "plt.plot(train_dataset[train_dataset['symbol']=='0xBTC']['date'], np.exp(train_dataset[train_dataset['symbol']=='0xBTC']['feature_DC1']))"
      ],
      "metadata": {
        "id": "9CAuvDncVOB7",
        "outputId": "88f4f3e9-dfd8-481e-e606-d2faad594a15",
        "colab": {
          "base_uri": "https://localhost:8080/",
          "height": 282
        }
      },
      "execution_count": 11,
      "outputs": [
        {
          "output_type": "execute_result",
          "data": {
            "text/plain": [
              "[<matplotlib.lines.Line2D at 0x7f7fe05f3f10>]"
            ]
          },
          "metadata": {},
          "execution_count": 11
        },
        {
          "output_type": "display_data",
          "data": {
            "text/plain": [
              "<Figure size 432x288 with 1 Axes>"
            ],
            "image/png": "[encoded data removed]"
          },
          "metadata": {
            "needs_background": "light"
          }
        }
      ]
    },
    {
      "cell_type": "code",
      "source": [
        "symbols = train_dataset.symbol.unique()\n",
        "trainsize = train_dataset.shape[0]\n",
        "\n",
        "train_dataset = pd.concat([train_dataset, validation_dataset], axis = 0)\n",
        "train_dataset['dc1_lag1'] = -1\n",
        "train_dataset['dc1_lag1_rolling'] = -1\n",
        "train_dataset['dc1_lag2'] = -1\n",
        "train_dataset['target_lag1'] = -1\n",
        "train_dataset['target_lag2'] = -1\n",
        "\n",
        "for sym in tqdm(symbols):\n",
        "  train_dataset.loc[train_dataset['symbol']==sym,'dc1_lag1'] = train_dataset[train_dataset['symbol']==sym]['target_DC1'].shift(1)\n",
        "  train_dataset.loc[train_dataset['symbol']==sym,'target_lag1'] = train_dataset[train_dataset['symbol']==sym]['target'].shift(1)\n",
        "  train_dataset.loc[train_dataset['symbol']==sym,'dc1_lag2'] = train_dataset[train_dataset['symbol']==sym]['target_DC1'].shift(2)\n",
        "  train_dataset.loc[train_dataset['symbol']==sym,'target_lag2'] = train_dataset[train_dataset['symbol']==sym]['target'].shift(2)\n",
        "  train_dataset.loc[train_dataset['symbol']==sym,'dc1_lag1_rolling'] = train_dataset.loc[train_dataset['symbol']==sym,'dc1_lag1'].rolling(window=3).sum()\n",
        "\n",
        "train_dataset['dc1_lag1_exp'] = np.exp(train_dataset['dc1_lag1'])\n",
        "train_dataset.fillna(-1,inplace = True)\n",
        "train_dataset['month'] = pd.to_datetime(train_dataset['date']).apply(lambda x: x.month)\n",
        "train_dataset['year'] = pd.to_datetime(train_dataset['date']).apply(lambda x: x.year)\n",
        "train_dataset['day'] = pd.to_datetime(train_dataset['date']).apply(lambda x: x.day)\n",
        "\n",
        "\n",
        "\n",
        "validation_dataset = train_dataset.iloc[trainsize:]\n",
        "train_dataset = train_dataset.iloc[:trainsize]"
      ],
      "metadata": {
        "id": "yXTR6esMjujL",
        "outputId": "aae1209a-81a8-4501-daac-62d727a28ab0",
        "colab": {
          "base_uri": "https://localhost:8080/",
          "height": 49,
          "referenced_widgets": [
            "f64dde4c82c341b2931ea648e9c0bc93",
            "af4eb78b527941449d0304125c894db9",
            "67d1fed3973f48608de7d92b4fdea856",
            "3b7c320a47634df2b8171ee620d5800a",
            "8958aec5e0ce4b9586c97957e1e6c54f",
            "76af87609a864066ac75f234b9cca284",
            "5bc273d3243d47ef9bea7d35e988855d",
            "5fb4cffd5b274df4b314fa3aa34c43a9",
            "a30777d8e26f4e33b8aaac44bcbb16a7",
            "b410103791814b56b37c0900c0f02d9e",
            "6900829c155f49488618b7b4a0297d30"
          ]
        }
      },
      "execution_count": 12,
      "outputs": [
        {
          "output_type": "display_data",
          "data": {
            "text/plain": [
              "  0%|          | 0/968 [00:00<?, ?it/s]"
            ],
            "application/vnd.jupyter.widget-view+json": {
              "version_major": 2,
              "version_minor": 0,
              "model_id": "f64dde4c82c341b2931ea648e9c0bc93"
            }
          },
          "metadata": {}
        }
      ]
    },
    {
      "cell_type": "markdown",
      "metadata": {
        "id": "bfLrwf_h8R3N"
      },
      "source": [
        "### Create X and y from train_dataset"
      ]
    },
    {
      "cell_type": "markdown",
      "metadata": {
        "id": "-hTrF-1x8R3P"
      },
      "source": [
        "### Each era representing a set of cryptocurrency assets for the time period, the number of assets within each Era is different"
      ]
    },
    {
      "cell_type": "code",
      "execution_count": 13,
      "metadata": {
        "colab": {
          "base_uri": "https://localhost:8080/",
          "height": 334
        },
        "id": "38VXk0008R3P",
        "outputId": "2b5950f6-526b-455c-e585-984097d60718"
      },
      "outputs": [
        {
          "output_type": "display_data",
          "data": {
            "text/plain": [
              "<Figure size 720x360 with 1 Axes>"
            ],
            "image/png": "[encoded data removed]"
          },
          "metadata": {
            "needs_background": "light"
          }
        }
      ],
      "source": [
        "train_dataset.groupby(train_dataset.date).count().iloc[:,1].plot(figsize = (10,5));"
      ]
    },
    {
      "cell_type": "markdown",
      "metadata": {
        "id": "CaqtnWY78R3P"
      },
      "source": [
        "### Split dataset into train and test by era"
      ]
    },
    {
      "cell_type": "code",
      "execution_count": 14,
      "metadata": {
        "colab": {
          "base_uri": "https://localhost:8080/"
        },
        "id": "FqhwxuL58R3P",
        "outputId": "01ec0159-3151-4257-860e-4c23eb4d7787"
      },
      "outputs": [
        {
          "output_type": "stream",
          "name": "stdout",
          "text": [
            "total Era: 219\n",
            "train Era: 197\n",
            "validation Era: 22\n"
          ]
        }
      ],
      "source": [
        "# Run Once\n",
        "train = 0.9\n",
        "test = 0.1\n",
        "dates = sorted(train_dataset.date.unique())\n",
        "era = len(dates)\n",
        "train_era = int(era * train)\n",
        "test_era = era - train_era\n",
        "print('total Era: {}'.format(era))\n",
        "print('train Era: {}'.format(train_era))\n",
        "print('validation Era: {}'.format(test_era))"
      ]
    },
    {
      "cell_type": "code",
      "execution_count": 15,
      "metadata": {
        "colab": {
          "base_uri": "https://localhost:8080/"
        },
        "id": "IFLlfFTn8R3Q",
        "outputId": "0a1f2f18-7c43-4310-d8df-a07d0b69e865"
      },
      "outputs": [
        {
          "output_type": "stream",
          "name": "stdout",
          "text": [
            "Train dataset shape: (69680, 2023)\n",
            "Validation dataset shape: (12905, 2023)\n"
          ]
        }
      ],
      "source": [
        "#split train and test set according to the train_era and test_era\n",
        "# Run Once\n",
        "train_set = train_dataset.loc[train_dataset.date < dates[train_era]]\n",
        "val_set = train_dataset.loc[train_dataset.date >= dates[train_era]]\n",
        "print('Train dataset shape: {}'.format(train_set.shape))\n",
        "print('Validation dataset shape: {}'.format(val_set.shape))"
      ]
    },
    {
      "cell_type": "code",
      "source": [
        "train_set.to_csv(\"train_set.csv\",index = False)\n",
        "val_set.to_csv(\"val_set.csv\",index = False)\n",
        "validation_dataset.to_csv(\"test_set.csv\",index = False)"
      ],
      "metadata": {
        "id": "sZ8c979plYWn"
      },
      "execution_count": 16,
      "outputs": []
    },
    {
      "cell_type": "code",
      "source": [
        "os.kill(os.getpid(), 9)"
      ],
      "metadata": {
        "id": "-EN-Z6Pwl8Tb"
      },
      "execution_count": null,
      "outputs": []
    },
    {
      "cell_type": "code",
      "source": [
        "train_set = pd.read_csv(\"train_set.csv\")\n",
        "val_set = pd.read_csv(\"val_set.csv\")\n",
        "validation_dataset= pd.read_csv(\"test_set.csv\")"
      ],
      "metadata": {
        "id": "NUk6RiHlljzV"
      },
      "execution_count": 4,
      "outputs": []
    },
    {
      "cell_type": "code",
      "source": [
        "train_set.head()"
      ],
      "metadata": {
        "id": "AB_wHOkh3NEL",
        "outputId": "df4540fa-54f1-4ec6-ee4c-89f213b8a171",
        "colab": {
          "base_uri": "https://localhost:8080/",
          "height": 386
        }
      },
      "execution_count": 5,
      "outputs": [
        {
          "output_type": "execute_result",
          "data": {
            "text/plain": [
              "         date symbol  feature_1  feature_2  feature_3  feature_4  feature_5  \\\n",
              "0  2018-12-23  0xBTC   0.974026   0.987013   0.978355   0.991342   0.982684   \n",
              "1  2018-12-30  0xBTC   0.016878   0.033755   0.949367   0.936709   0.978903   \n",
              "2  2019-01-06  0xBTC   0.158996   0.016736   0.033473   0.928870   0.868201   \n",
              "3  2019-01-13  0xBTC   0.737500   0.279167   0.020833   0.054167   0.945833   \n",
              "4  2019-01-20  0xBTC   0.983607   0.987705   0.983607   0.430328   0.971311   \n",
              "\n",
              "   feature_6  feature_7  feature_8  ...  target_DC1  dc1_lag1  \\\n",
              "0   0.982684   0.982684   0.978355  ...   -0.211551 -1.000000   \n",
              "1   0.907173   0.962025   0.953586  ...   -0.192849 -0.211551   \n",
              "2   0.941423   0.740586   0.933054  ...   -0.263822 -0.192849   \n",
              "3   0.908333   0.962500   0.870833  ...    0.023985 -0.263822   \n",
              "4   0.991803   0.987705   0.991803  ...   -0.251842  0.023985   \n",
              "\n",
              "   dc1_lag1_rolling  dc1_lag2  target_lag1  target_lag2  dc1_lag1_exp  month  \\\n",
              "0         -1.000000 -1.000000    -1.000000    -1.000000     -1.000000     12   \n",
              "1         -1.000000 -1.000000     0.095238    -1.000000      0.809328     12   \n",
              "2         -1.000000 -0.211551     0.046414     0.095238      0.824607      1   \n",
              "3         -0.668222 -0.192849     0.284519     0.046414      0.768110      1   \n",
              "4         -0.432686 -0.263822     0.391667     0.284519      1.024275      1   \n",
              "\n",
              "   year  day  \n",
              "0  2018   23  \n",
              "1  2018   30  \n",
              "2  2019    6  \n",
              "3  2019   13  \n",
              "4  2019   20  \n",
              "\n",
              "[5 rows x 2023 columns]"
            ],
            "text/html": [
              "\n",
              "  <div id=\"df-864317a2-ce17-41d7-a782-c8425f330100\">\n",
              "    <div class=\"colab-df-container\">\n",
              "      <div>\n",
              "<style scoped>\n",
              "    .dataframe tbody tr th:only-of-type {\n",
              "        vertical-align: middle;\n",
              "    }\n",
              "\n",
              "    .dataframe tbody tr th {\n",
              "        vertical-align: top;\n",
              "    }\n",
              "\n",
              "    .dataframe thead th {\n",
              "        text-align: right;\n",
              "    }\n",
              "</style>\n",
              "<table border=\"1\" class=\"dataframe\">\n",
              "  <thead>\n",
              "    <tr style=\"text-align: right;\">\n",
              "      <th></th>\n",
              "      <th>date</th>\n",
              "      <th>symbol</th>\n",
              "      <th>feature_1</th>\n",
              "      <th>feature_2</th>\n",
              "      <th>feature_3</th>\n",
              "      <th>feature_4</th>\n",
              "      <th>feature_5</th>\n",
              "      <th>feature_6</th>\n",
              "      <th>feature_7</th>\n",
              "      <th>feature_8</th>\n",
              "      <th>...</th>\n",
              "      <th>target_DC1</th>\n",
              "      <th>dc1_lag1</th>\n",
              "      <th>dc1_lag1_rolling</th>\n",
              "      <th>dc1_lag2</th>\n",
              "      <th>target_lag1</th>\n",
              "      <th>target_lag2</th>\n",
              "      <th>dc1_lag1_exp</th>\n",
              "      <th>month</th>\n",
              "      <th>year</th>\n",
              "      <th>day</th>\n",
              "    </tr>\n",
              "  </thead>\n",
              "  <tbody>\n",
              "    <tr>\n",
              "      <th>0</th>\n",
              "      <td>2018-12-23</td>\n",
              "      <td>0xBTC</td>\n",
              "      <td>0.974026</td>\n",
              "      <td>0.987013</td>\n",
              "      <td>0.978355</td>\n",
              "      <td>0.991342</td>\n",
              "      <td>0.982684</td>\n",
              "      <td>0.982684</td>\n",
              "      <td>0.982684</td>\n",
              "      <td>0.978355</td>\n",
              "      <td>...</td>\n",
              "      <td>-0.211551</td>\n",
              "      <td>-1.000000</td>\n",
              "      <td>-1.000000</td>\n",
              "      <td>-1.000000</td>\n",
              "      <td>-1.000000</td>\n",
              "      <td>-1.000000</td>\n",
              "      <td>-1.000000</td>\n",
              "      <td>12</td>\n",
              "      <td>2018</td>\n",
              "      <td>23</td>\n",
              "    </tr>\n",
              "    <tr>\n",
              "      <th>1</th>\n",
              "      <td>2018-12-30</td>\n",
              "      <td>0xBTC</td>\n",
              "      <td>0.016878</td>\n",
              "      <td>0.033755</td>\n",
              "      <td>0.949367</td>\n",
              "      <td>0.936709</td>\n",
              "      <td>0.978903</td>\n",
              "      <td>0.907173</td>\n",
              "      <td>0.962025</td>\n",
              "      <td>0.953586</td>\n",
              "      <td>...</td>\n",
              "      <td>-0.192849</td>\n",
              "      <td>-0.211551</td>\n",
              "      <td>-1.000000</td>\n",
              "      <td>-1.000000</td>\n",
              "      <td>0.095238</td>\n",
              "      <td>-1.000000</td>\n",
              "      <td>0.809328</td>\n",
              "      <td>12</td>\n",
              "      <td>2018</td>\n",
              "      <td>30</td>\n",
              "    </tr>\n",
              "    <tr>\n",
              "      <th>2</th>\n",
              "      <td>2019-01-06</td>\n",
              "      <td>0xBTC</td>\n",
              "      <td>0.158996</td>\n",
              "      <td>0.016736</td>\n",
              "      <td>0.033473</td>\n",
              "      <td>0.928870</td>\n",
              "      <td>0.868201</td>\n",
              "      <td>0.941423</td>\n",
              "      <td>0.740586</td>\n",
              "      <td>0.933054</td>\n",
              "      <td>...</td>\n",
              "      <td>-0.263822</td>\n",
              "      <td>-0.192849</td>\n",
              "      <td>-1.000000</td>\n",
              "      <td>-0.211551</td>\n",
              "      <td>0.046414</td>\n",
              "      <td>0.095238</td>\n",
              "      <td>0.824607</td>\n",
              "      <td>1</td>\n",
              "      <td>2019</td>\n",
              "      <td>6</td>\n",
              "    </tr>\n",
              "    <tr>\n",
              "      <th>3</th>\n",
              "      <td>2019-01-13</td>\n",
              "      <td>0xBTC</td>\n",
              "      <td>0.737500</td>\n",
              "      <td>0.279167</td>\n",
              "      <td>0.020833</td>\n",
              "      <td>0.054167</td>\n",
              "      <td>0.945833</td>\n",
              "      <td>0.908333</td>\n",
              "      <td>0.962500</td>\n",
              "      <td>0.870833</td>\n",
              "      <td>...</td>\n",
              "      <td>0.023985</td>\n",
              "      <td>-0.263822</td>\n",
              "      <td>-0.668222</td>\n",
              "      <td>-0.192849</td>\n",
              "      <td>0.284519</td>\n",
              "      <td>0.046414</td>\n",
              "      <td>0.768110</td>\n",
              "      <td>1</td>\n",
              "      <td>2019</td>\n",
              "      <td>13</td>\n",
              "    </tr>\n",
              "    <tr>\n",
              "      <th>4</th>\n",
              "      <td>2019-01-20</td>\n",
              "      <td>0xBTC</td>\n",
              "      <td>0.983607</td>\n",
              "      <td>0.987705</td>\n",
              "      <td>0.983607</td>\n",
              "      <td>0.430328</td>\n",
              "      <td>0.971311</td>\n",
              "      <td>0.991803</td>\n",
              "      <td>0.987705</td>\n",
              "      <td>0.991803</td>\n",
              "      <td>...</td>\n",
              "      <td>-0.251842</td>\n",
              "      <td>0.023985</td>\n",
              "      <td>-0.432686</td>\n",
              "      <td>-0.263822</td>\n",
              "      <td>0.391667</td>\n",
              "      <td>0.284519</td>\n",
              "      <td>1.024275</td>\n",
              "      <td>1</td>\n",
              "      <td>2019</td>\n",
              "      <td>20</td>\n",
              "    </tr>\n",
              "  </tbody>\n",
              "</table>\n",
              "<p>5 rows × 2023 columns</p>\n",
              "</div>\n",
              "      <button class=\"colab-df-convert\" onclick=\"convertToInteractive('df-864317a2-ce17-41d7-a782-c8425f330100')\"\n",
              "              title=\"Convert this dataframe to an interactive table.\"\n",
              "              style=\"display:none;\">\n",
              "        \n",
              "  <svg xmlns=\"http://www.w3.org/2000/svg\" height=\"24px\"viewBox=\"0 0 24 24\"\n",
              "       width=\"24px\">\n",
              "    <path d=\"M0 0h24v24H0V0z\" fill=\"none\"/>\n",
              "    <path d=\"M18.56 5.44l.94 2.06.94-2.06 2.06-.94-2.06-.94-.94-2.06-.94 2.06-2.06.94zm-11 1L8.5 8.5l.94-2.06 2.06-.94-2.06-.94L8.5 2.5l-.94 2.06-2.06.94zm10 10l.94 2.06.94-2.06 2.06-.94-2.06-.94-.94-2.06-.94 2.06-2.06.94z\"/><path d=\"M17.41 7.96l-1.37-1.37c-.4-.4-.92-.59-1.43-.59-.52 0-1.04.2-1.43.59L10.3 9.45l-7.72 7.72c-.78.78-.78 2.05 0 2.83L4 21.41c.39.39.9.59 1.41.59.51 0 1.02-.2 1.41-.59l7.78-7.78 2.81-2.81c.8-.78.8-2.07 0-2.86zM5.41 20L4 18.59l7.72-7.72 1.47 1.35L5.41 20z\"/>\n",
              "  </svg>\n",
              "      </button>\n",
              "      \n",
              "  <style>\n",
              "    .colab-df-container {\n",
              "      display:flex;\n",
              "      flex-wrap:wrap;\n",
              "      gap: 12px;\n",
              "    }\n",
              "\n",
              "    .colab-df-convert {\n",
              "      background-color: #E8F0FE;\n",
              "      border: none;\n",
              "      border-radius: 50%;\n",
              "      cursor: pointer;\n",
              "      display: none;\n",
              "      fill: #1967D2;\n",
              "      height: 32px;\n",
              "      padding: 0 0 0 0;\n",
              "      width: 32px;\n",
              "    }\n",
              "\n",
              "    .colab-df-convert:hover {\n",
              "      background-color: #E2EBFA;\n",
              "      box-shadow: 0px 1px 2px rgba(60, 64, 67, 0.3), 0px 1px 3px 1px rgba(60, 64, 67, 0.15);\n",
              "      fill: #174EA6;\n",
              "    }\n",
              "\n",
              "    [theme=dark] .colab-df-convert {\n",
              "      background-color: #3B4455;\n",
              "      fill: #D2E3FC;\n",
              "    }\n",
              "\n",
              "    [theme=dark] .colab-df-convert:hover {\n",
              "      background-color: #434B5C;\n",
              "      box-shadow: 0px 1px 3px 1px rgba(0, 0, 0, 0.15);\n",
              "      filter: drop-shadow(0px 1px 2px rgba(0, 0, 0, 0.3));\n",
              "      fill: #FFFFFF;\n",
              "    }\n",
              "  </style>\n",
              "\n",
              "      <script>\n",
              "        const buttonEl =\n",
              "          document.querySelector('#df-864317a2-ce17-41d7-a782-c8425f330100 button.colab-df-convert');\n",
              "        buttonEl.style.display =\n",
              "          google.colab.kernel.accessAllowed ? 'block' : 'none';\n",
              "\n",
              "        async function convertToInteractive(key) {\n",
              "          const element = document.querySelector('#df-864317a2-ce17-41d7-a782-c8425f330100');\n",
              "          const dataTable =\n",
              "            await google.colab.kernel.invokeFunction('convertToInteractive',\n",
              "                                                     [key], {});\n",
              "          if (!dataTable) return;\n",
              "\n",
              "          const docLinkHtml = 'Like what you see? Visit the ' +\n",
              "            '<a target=\"_blank\" href=https://colab.research.google.com/notebooks/data_table.ipynb>data table notebook</a>'\n",
              "            + ' to learn more about interactive tables.';\n",
              "          element.innerHTML = '';\n",
              "          dataTable['output_type'] = 'display_data';\n",
              "          await google.colab.output.renderOutput(dataTable, element);\n",
              "          const docLink = document.createElement('div');\n",
              "          docLink.innerHTML = docLinkHtml;\n",
              "          element.appendChild(docLink);\n",
              "        }\n",
              "      </script>\n",
              "    </div>\n",
              "  </div>\n",
              "  "
            ]
          },
          "metadata": {},
          "execution_count": 5
        }
      ]
    },
    {
      "cell_type": "code",
      "source": [
        "with_target = True"
      ],
      "metadata": {
        "id": "_HTX98zuX8TF"
      },
      "execution_count": 6,
      "outputs": []
    },
    {
      "cell_type": "code",
      "execution_count": 7,
      "metadata": {
        "id": "QkGs7IpI8R3Q",
        "outputId": "1cfa5539-e261-4103-b0df-c990e0760690",
        "colab": {
          "base_uri": "https://localhost:8080/"
        }
      },
      "outputs": [
        {
          "output_type": "stream",
          "name": "stdout",
          "text": [
            "[0]\tvalidation_0-rmse:0.288551\tvalidation_1-rmse:0.289034\n",
            "Multiple eval metrics have been passed: 'validation_1-rmse' will be used for early stopping.\n",
            "\n",
            "Will train until validation_1-rmse hasn't improved in 10 rounds.\n",
            "[1]\tvalidation_0-rmse:0.28761\tvalidation_1-rmse:0.288914\n",
            "[2]\tvalidation_0-rmse:0.286714\tvalidation_1-rmse:0.288752\n",
            "[3]\tvalidation_0-rmse:0.285859\tvalidation_1-rmse:0.288641\n",
            "[4]\tvalidation_0-rmse:0.285009\tvalidation_1-rmse:0.288595\n",
            "[5]\tvalidation_0-rmse:0.284179\tvalidation_1-rmse:0.288537\n",
            "[6]\tvalidation_0-rmse:0.283394\tvalidation_1-rmse:0.288452\n",
            "[7]\tvalidation_0-rmse:0.282596\tvalidation_1-rmse:0.288356\n",
            "[8]\tvalidation_0-rmse:0.281797\tvalidation_1-rmse:0.288242\n",
            "[9]\tvalidation_0-rmse:0.280977\tvalidation_1-rmse:0.28818\n",
            "[10]\tvalidation_0-rmse:0.280152\tvalidation_1-rmse:0.288126\n",
            "[11]\tvalidation_0-rmse:0.279348\tvalidation_1-rmse:0.288002\n",
            "[12]\tvalidation_0-rmse:0.278599\tvalidation_1-rmse:0.287945\n",
            "[13]\tvalidation_0-rmse:0.277856\tvalidation_1-rmse:0.287834\n",
            "[14]\tvalidation_0-rmse:0.277113\tvalidation_1-rmse:0.287765\n",
            "[15]\tvalidation_0-rmse:0.276454\tvalidation_1-rmse:0.287711\n",
            "[16]\tvalidation_0-rmse:0.275807\tvalidation_1-rmse:0.287678\n",
            "[17]\tvalidation_0-rmse:0.275097\tvalidation_1-rmse:0.287633\n",
            "[18]\tvalidation_0-rmse:0.274381\tvalidation_1-rmse:0.287548\n",
            "[19]\tvalidation_0-rmse:0.273653\tvalidation_1-rmse:0.287474\n",
            "[20]\tvalidation_0-rmse:0.272956\tvalidation_1-rmse:0.287438\n",
            "[21]\tvalidation_0-rmse:0.272305\tvalidation_1-rmse:0.287437\n",
            "[22]\tvalidation_0-rmse:0.271646\tvalidation_1-rmse:0.287438\n",
            "[23]\tvalidation_0-rmse:0.270993\tvalidation_1-rmse:0.287411\n",
            "[24]\tvalidation_0-rmse:0.270367\tvalidation_1-rmse:0.287375\n",
            "[25]\tvalidation_0-rmse:0.269713\tvalidation_1-rmse:0.287375\n",
            "[26]\tvalidation_0-rmse:0.269006\tvalidation_1-rmse:0.287367\n",
            "[27]\tvalidation_0-rmse:0.268324\tvalidation_1-rmse:0.287299\n",
            "[28]\tvalidation_0-rmse:0.267649\tvalidation_1-rmse:0.2873\n",
            "[29]\tvalidation_0-rmse:0.267135\tvalidation_1-rmse:0.287291\n",
            "[30]\tvalidation_0-rmse:0.266545\tvalidation_1-rmse:0.287278\n",
            "[31]\tvalidation_0-rmse:0.265997\tvalidation_1-rmse:0.287232\n",
            "[32]\tvalidation_0-rmse:0.265372\tvalidation_1-rmse:0.287215\n",
            "[33]\tvalidation_0-rmse:0.264665\tvalidation_1-rmse:0.287208\n",
            "[34]\tvalidation_0-rmse:0.264038\tvalidation_1-rmse:0.287259\n",
            "[35]\tvalidation_0-rmse:0.263454\tvalidation_1-rmse:0.287231\n",
            "[36]\tvalidation_0-rmse:0.262933\tvalidation_1-rmse:0.287225\n",
            "[37]\tvalidation_0-rmse:0.262436\tvalidation_1-rmse:0.287245\n",
            "[38]\tvalidation_0-rmse:0.261785\tvalidation_1-rmse:0.287193\n",
            "[39]\tvalidation_0-rmse:0.261218\tvalidation_1-rmse:0.287179\n",
            "[40]\tvalidation_0-rmse:0.2606\tvalidation_1-rmse:0.287174\n",
            "[41]\tvalidation_0-rmse:0.260088\tvalidation_1-rmse:0.287185\n",
            "[42]\tvalidation_0-rmse:0.259598\tvalidation_1-rmse:0.287172\n",
            "[43]\tvalidation_0-rmse:0.259067\tvalidation_1-rmse:0.287189\n",
            "[44]\tvalidation_0-rmse:0.258467\tvalidation_1-rmse:0.287111\n",
            "[45]\tvalidation_0-rmse:0.257924\tvalidation_1-rmse:0.287048\n",
            "[46]\tvalidation_0-rmse:0.257377\tvalidation_1-rmse:0.287036\n",
            "[47]\tvalidation_0-rmse:0.256867\tvalidation_1-rmse:0.287014\n",
            "[48]\tvalidation_0-rmse:0.256273\tvalidation_1-rmse:0.287032\n",
            "[49]\tvalidation_0-rmse:0.255752\tvalidation_1-rmse:0.287043\n",
            "[50]\tvalidation_0-rmse:0.255243\tvalidation_1-rmse:0.287051\n",
            "[51]\tvalidation_0-rmse:0.254672\tvalidation_1-rmse:0.28702\n",
            "[52]\tvalidation_0-rmse:0.254208\tvalidation_1-rmse:0.287044\n",
            "[53]\tvalidation_0-rmse:0.253668\tvalidation_1-rmse:0.287007\n",
            "[54]\tvalidation_0-rmse:0.253175\tvalidation_1-rmse:0.287026\n",
            "[55]\tvalidation_0-rmse:0.25261\tvalidation_1-rmse:0.287061\n",
            "[56]\tvalidation_0-rmse:0.252131\tvalidation_1-rmse:0.287032\n",
            "[57]\tvalidation_0-rmse:0.25156\tvalidation_1-rmse:0.287045\n",
            "[58]\tvalidation_0-rmse:0.251039\tvalidation_1-rmse:0.287014\n",
            "[59]\tvalidation_0-rmse:0.250477\tvalidation_1-rmse:0.28703\n",
            "[60]\tvalidation_0-rmse:0.249918\tvalidation_1-rmse:0.287045\n",
            "[61]\tvalidation_0-rmse:0.249367\tvalidation_1-rmse:0.287046\n",
            "[62]\tvalidation_0-rmse:0.248931\tvalidation_1-rmse:0.287048\n",
            "[63]\tvalidation_0-rmse:0.248405\tvalidation_1-rmse:0.287047\n",
            "Stopping. Best iteration:\n",
            "[53]\tvalidation_0-rmse:0.253668\tvalidation_1-rmse:0.287007\n",
            "\n"
          ]
        }
      ],
      "source": [
        "from xgboost import XGBRegressor\n",
        "\n",
        "params = {'objective' : \"reg:squarederror\", \n",
        "          'n_estimators' : 1000, \n",
        "          'tree_method' : \"gpu_hist\", \n",
        "          'learning_rate': 0.03,                                                                                                                                                                                                                                                                                                                                                                                                                                                                    \n",
        "          'reg_alpha':0.1,\n",
        "          'reg_lambda':0.01,\n",
        "          'subsample': 0.8,\n",
        "          'colsample_bytree':0.8,\n",
        "          'colsample_bylevel':0.8,\n",
        "          'max_depth':9, \n",
        "          \"reg_alpha\":0.01\n",
        "}\n",
        "\n",
        "def fitXGB(with_target = with_target):\n",
        "  X_train = train_set.drop(['date','symbol','target','target_DC1'], axis = 1)\n",
        "  X_val = val_set.drop(['date','symbol','target','target_DC1'], axis = 1)\n",
        "\n",
        "  if with_target:\n",
        "    Y_train = train_set['target']\n",
        "    Y_val = val_set['target']\n",
        "  else:\n",
        "    Y_train = train_set['target_DC1']\n",
        "    Y_val = val_set['target_DC1']\n",
        "  \n",
        "  reg = XGBRegressor(**params)\n",
        "  reg.fit(X_train,Y_train, eval_metric = \"rmse\",\n",
        "          eval_set=[(X_train,Y_train),(X_val,Y_val)], \n",
        "          early_stopping_rounds = 10)\n",
        "  return reg\n",
        "\n",
        "reg = fitXGB()"
      ]
    },
    {
      "cell_type": "code",
      "source": [
        "evals = reg.evals_result()\n",
        "evaluation_plot = plt.figure()\n",
        "plt.grid()\n",
        "plt.plot(evals['validation_0']['rmse'],c='blue',label = 'train')\n",
        "plt.plot(evals['validation_1']['rmse'],c='orange',label = 'valid')\n",
        "plt.legend()"
      ],
      "metadata": {
        "id": "fciBoilGZlXT",
        "outputId": "0afc593e-28e7-4c26-e5c7-4c69d727fe7a",
        "colab": {
          "base_uri": "https://localhost:8080/",
          "height": 282
        }
      },
      "execution_count": 8,
      "outputs": [
        {
          "output_type": "execute_result",
          "data": {
            "text/plain": [
              "<matplotlib.legend.Legend at 0x7feb9cc3f150>"
            ]
          },
          "metadata": {},
          "execution_count": 8
        },
        {
          "output_type": "display_data",
          "data": {
            "text/plain": [
              "<Figure size 432x288 with 1 Axes>"
            ],
            "image/png": "[encoded data removed]"
          },
          "metadata": {
            "needs_background": "light"
          }
        }
      ]
    },
    {
      "cell_type": "code",
      "source": [
        "def predictFunction(xgb,dataset, with_target = with_target):\n",
        "  files = dataset.copy()\n",
        "  xgb_pred = xgb.predict(files.drop(['date','symbol','target','target_DC1'], axis = 1))\n",
        "\n",
        "  if with_target:\n",
        "    files.loc[:,'predicted_target'] = xgb_pred.reshape((-1,1))\n",
        "  else:\n",
        "    files.loc[:,'predicted_DC1'] = xgb_pred.reshape((-1,1))\n",
        "    files.loc[:,'predicted_target'] = -1\n",
        "    for date in files.date.unique():\n",
        "      files.loc[files['date']==date,'predicted_target'] = rank_data(files[files['date']==date]['predicted_DC1'])\n",
        "      \n",
        "  return files[['symbol','date','predicted_target']]"
      ],
      "metadata": {
        "id": "Dgu9ZPeq-mNG"
      },
      "execution_count": 9,
      "outputs": []
    },
    {
      "cell_type": "code",
      "execution_count": 10,
      "metadata": {
        "id": "ETY9qjj58R3Q"
      },
      "outputs": [],
      "source": [
        "# function to calculate Spearman correlation by era (mean, std, max, min)\n",
        "# we want to maximize but maintain stable correlation across era to maximize both challenge and competition reward\n",
        "def spearman_by_era(prediction,target, dates):\n",
        "  df = pd.DataFrame(index=dates,\n",
        "                    data = {'prediction': prediction,\n",
        "                            'target': target}\n",
        "                    )\n",
        "  spearman_era_list = []\n",
        "  for era in df.index.unique():\n",
        "    era_df = df[df.index == era]\n",
        "    spearman_corr = sp.stats.spearmanr(era_df.prediction, era_df.target)[0]\n",
        "    spearman_era_list.append(spearman_corr)\n",
        "\n",
        "  mean = np.mean(spearman_era_list)\n",
        "  std = np.std(spearman_era_list)\n",
        "  max = np.max(spearman_era_list)\n",
        "  min = np.min(spearman_era_list)\n",
        "  return mean, std, max, min\n",
        "  "
      ]
    },
    {
      "cell_type": "code",
      "source": [
        "pred_train = predictFunction(reg, train_set)\n",
        "train_spearman = spearman_by_era(pred_train['predicted_target'].values, train_set['target'].values,\n",
        "                                pred_train['date'].values)\n",
        "\n",
        "print('Train dataset Spearman correlation: mean = {} ; std = {} ; max = {} ; min = {}'.format(round(train_spearman[0], 4), \n",
        "                                                                                            round(train_spearman[1], 4),\n",
        "                                                                                            round(train_spearman[2], 4),\n",
        "                                                                                            round(train_spearman[3], 4),\n",
        "                                                                                            ))\n"
      ],
      "metadata": {
        "id": "uSYGCko-7-Nd",
        "outputId": "669a18e5-5c1c-4465-8ca0-b9f57ca978e5",
        "colab": {
          "base_uri": "https://localhost:8080/"
        }
      },
      "execution_count": 11,
      "outputs": [
        {
          "output_type": "stream",
          "name": "stdout",
          "text": [
            "Train dataset Spearman correlation: mean = 0.7062 ; std = 0.046 ; max = 0.8336 ; min = 0.5729\n"
          ]
        }
      ]
    },
    {
      "cell_type": "code",
      "source": [
        "pred_val = predictFunction(reg, val_set)\n",
        "test_spearman = spearman_by_era(pred_val['predicted_target'].values, val_set['target'].values,\n",
        "                                pred_val['date'].values)\n",
        "\n",
        "print('Test dataset Spearman correlation: mean = {} ; std = {} ; max = {} ; min = {}'.format(round(test_spearman[0], 4),\n",
        "                                                                                            round(test_spearman[1], 4),\n",
        "                                                                                            round(test_spearman[2], 4),\n",
        "                                                                                            round(test_spearman[3], 4),\n",
        "                                                                                            ))"
      ],
      "metadata": {
        "id": "hGDlyG6j7nj6",
        "outputId": "797eda00-1ae8-4d1c-b5ea-52517a2d552e",
        "colab": {
          "base_uri": "https://localhost:8080/"
        }
      },
      "execution_count": 12,
      "outputs": [
        {
          "output_type": "stream",
          "name": "stdout",
          "text": [
            "Test dataset Spearman correlation: mean = 0.0964 ; std = 0.0702 ; max = 0.269 ; min = 0.0012\n"
          ]
        }
      ]
    },
    {
      "cell_type": "code",
      "source": [
        "mse = mean_squared_error(pred_val['predicted_target'],val_set['target'])\n",
        "mae = mean_absolute_error(pred_val['predicted_target'],val_set['target'])\n",
        "rmse = mean_squared_error(pred_val['predicted_target'],val_set['target'], squared = False)"
      ],
      "metadata": {
        "id": "a1j0ZoXcYOUU"
      },
      "execution_count": null,
      "outputs": []
    },
    {
      "cell_type": "code",
      "source": [
        "error = train_set[['symbol','date','target','target_DC1']].copy()\n",
        "error['error'] = (error['target_DC1']-reg.predict(train_set.drop(['date','symbol','target','target_DC1'], axis = 1)))**2\n",
        "error"
      ],
      "metadata": {
        "id": "hYL9_3ScwQ7q",
        "outputId": "bcdc050b-67b0-486a-eb69-4f769df76f45",
        "colab": {
          "base_uri": "https://localhost:8080/",
          "height": 424
        }
      },
      "execution_count": null,
      "outputs": [
        {
          "output_type": "execute_result",
          "data": {
            "text/plain": [
              "      symbol        date    target  target_DC1     error\n",
              "0      0xBTC  2018-12-23  0.095238   -0.211551  0.370475\n",
              "1      0xBTC  2018-12-30  0.046414   -0.192849  0.419791\n",
              "2      0xBTC  2019-01-06  0.284519   -0.263822  0.486705\n",
              "3      0xBTC  2019-01-13  0.391667    0.023985  0.204970\n",
              "4      0xBTC  2019-01-20  0.032787   -0.251842  0.508493\n",
              "...      ...         ...       ...         ...       ...\n",
              "69018    ZYN  2021-12-12  0.906061    0.084073  0.214563\n",
              "69019    ZYN  2021-12-19  0.108761   -0.072964  0.185500\n",
              "69020    ZYN  2021-12-26  0.727134    0.001455  0.271594\n",
              "69021    ZYN  2022-01-02  0.984894    0.447752  0.007580\n",
              "69022    ZYN  2022-01-23  0.884615    0.143837  0.106777\n",
              "\n",
              "[69023 rows x 5 columns]"
            ],
            "text/html": [
              "\n",
              "  <div id=\"df-0a8fa1dd-a7bf-4c7f-835a-c2120b80e3ce\">\n",
              "    <div class=\"colab-df-container\">\n",
              "      <div>\n",
              "<style scoped>\n",
              "    .dataframe tbody tr th:only-of-type {\n",
              "        vertical-align: middle;\n",
              "    }\n",
              "\n",
              "    .dataframe tbody tr th {\n",
              "        vertical-align: top;\n",
              "    }\n",
              "\n",
              "    .dataframe thead th {\n",
              "        text-align: right;\n",
              "    }\n",
              "</style>\n",
              "<table border=\"1\" class=\"dataframe\">\n",
              "  <thead>\n",
              "    <tr style=\"text-align: right;\">\n",
              "      <th></th>\n",
              "      <th>symbol</th>\n",
              "      <th>date</th>\n",
              "      <th>target</th>\n",
              "      <th>target_DC1</th>\n",
              "      <th>error</th>\n",
              "    </tr>\n",
              "  </thead>\n",
              "  <tbody>\n",
              "    <tr>\n",
              "      <th>0</th>\n",
              "      <td>0xBTC</td>\n",
              "      <td>2018-12-23</td>\n",
              "      <td>0.095238</td>\n",
              "      <td>-0.211551</td>\n",
              "      <td>0.370475</td>\n",
              "    </tr>\n",
              "    <tr>\n",
              "      <th>1</th>\n",
              "      <td>0xBTC</td>\n",
              "      <td>2018-12-30</td>\n",
              "      <td>0.046414</td>\n",
              "      <td>-0.192849</td>\n",
              "      <td>0.419791</td>\n",
              "    </tr>\n",
              "    <tr>\n",
              "      <th>2</th>\n",
              "      <td>0xBTC</td>\n",
              "      <td>2019-01-06</td>\n",
              "      <td>0.284519</td>\n",
              "      <td>-0.263822</td>\n",
              "      <td>0.486705</td>\n",
              "    </tr>\n",
              "    <tr>\n",
              "      <th>3</th>\n",
              "      <td>0xBTC</td>\n",
              "      <td>2019-01-13</td>\n",
              "      <td>0.391667</td>\n",
              "      <td>0.023985</td>\n",
              "      <td>0.204970</td>\n",
              "    </tr>\n",
              "    <tr>\n",
              "      <th>4</th>\n",
              "      <td>0xBTC</td>\n",
              "      <td>2019-01-20</td>\n",
              "      <td>0.032787</td>\n",
              "      <td>-0.251842</td>\n",
              "      <td>0.508493</td>\n",
              "    </tr>\n",
              "    <tr>\n",
              "      <th>...</th>\n",
              "      <td>...</td>\n",
              "      <td>...</td>\n",
              "      <td>...</td>\n",
              "      <td>...</td>\n",
              "      <td>...</td>\n",
              "    </tr>\n",
              "    <tr>\n",
              "      <th>69018</th>\n",
              "      <td>ZYN</td>\n",
              "      <td>2021-12-12</td>\n",
              "      <td>0.906061</td>\n",
              "      <td>0.084073</td>\n",
              "      <td>0.214563</td>\n",
              "    </tr>\n",
              "    <tr>\n",
              "      <th>69019</th>\n",
              "      <td>ZYN</td>\n",
              "      <td>2021-12-19</td>\n",
              "      <td>0.108761</td>\n",
              "      <td>-0.072964</td>\n",
              "      <td>0.185500</td>\n",
              "    </tr>\n",
              "    <tr>\n",
              "      <th>69020</th>\n",
              "      <td>ZYN</td>\n",
              "      <td>2021-12-26</td>\n",
              "      <td>0.727134</td>\n",
              "      <td>0.001455</td>\n",
              "      <td>0.271594</td>\n",
              "    </tr>\n",
              "    <tr>\n",
              "      <th>69021</th>\n",
              "      <td>ZYN</td>\n",
              "      <td>2022-01-02</td>\n",
              "      <td>0.984894</td>\n",
              "      <td>0.447752</td>\n",
              "      <td>0.007580</td>\n",
              "    </tr>\n",
              "    <tr>\n",
              "      <th>69022</th>\n",
              "      <td>ZYN</td>\n",
              "      <td>2022-01-23</td>\n",
              "      <td>0.884615</td>\n",
              "      <td>0.143837</td>\n",
              "      <td>0.106777</td>\n",
              "    </tr>\n",
              "  </tbody>\n",
              "</table>\n",
              "<p>69023 rows × 5 columns</p>\n",
              "</div>\n",
              "      <button class=\"colab-df-convert\" onclick=\"convertToInteractive('df-0a8fa1dd-a7bf-4c7f-835a-c2120b80e3ce')\"\n",
              "              title=\"Convert this dataframe to an interactive table.\"\n",
              "              style=\"display:none;\">\n",
              "        \n",
              "  <svg xmlns=\"http://www.w3.org/2000/svg\" height=\"24px\"viewBox=\"0 0 24 24\"\n",
              "       width=\"24px\">\n",
              "    <path d=\"M0 0h24v24H0V0z\" fill=\"none\"/>\n",
              "    <path d=\"M18.56 5.44l.94 2.06.94-2.06 2.06-.94-2.06-.94-.94-2.06-.94 2.06-2.06.94zm-11 1L8.5 8.5l.94-2.06 2.06-.94-2.06-.94L8.5 2.5l-.94 2.06-2.06.94zm10 10l.94 2.06.94-2.06 2.06-.94-2.06-.94-.94-2.06-.94 2.06-2.06.94z\"/><path d=\"M17.41 7.96l-1.37-1.37c-.4-.4-.92-.59-1.43-.59-.52 0-1.04.2-1.43.59L10.3 9.45l-7.72 7.72c-.78.78-.78 2.05 0 2.83L4 21.41c.39.39.9.59 1.41.59.51 0 1.02-.2 1.41-.59l7.78-7.78 2.81-2.81c.8-.78.8-2.07 0-2.86zM5.41 20L4 18.59l7.72-7.72 1.47 1.35L5.41 20z\"/>\n",
              "  </svg>\n",
              "      </button>\n",
              "      \n",
              "  <style>\n",
              "    .colab-df-container {\n",
              "      display:flex;\n",
              "      flex-wrap:wrap;\n",
              "      gap: 12px;\n",
              "    }\n",
              "\n",
              "    .colab-df-convert {\n",
              "      background-color: #E8F0FE;\n",
              "      border: none;\n",
              "      border-radius: 50%;\n",
              "      cursor: pointer;\n",
              "      display: none;\n",
              "      fill: #1967D2;\n",
              "      height: 32px;\n",
              "      padding: 0 0 0 0;\n",
              "      width: 32px;\n",
              "    }\n",
              "\n",
              "    .colab-df-convert:hover {\n",
              "      background-color: #E2EBFA;\n",
              "      box-shadow: 0px 1px 2px rgba(60, 64, 67, 0.3), 0px 1px 3px 1px rgba(60, 64, 67, 0.15);\n",
              "      fill: #174EA6;\n",
              "    }\n",
              "\n",
              "    [theme=dark] .colab-df-convert {\n",
              "      background-color: #3B4455;\n",
              "      fill: #D2E3FC;\n",
              "    }\n",
              "\n",
              "    [theme=dark] .colab-df-convert:hover {\n",
              "      background-color: #434B5C;\n",
              "      box-shadow: 0px 1px 3px 1px rgba(0, 0, 0, 0.15);\n",
              "      filter: drop-shadow(0px 1px 2px rgba(0, 0, 0, 0.3));\n",
              "      fill: #FFFFFF;\n",
              "    }\n",
              "  </style>\n",
              "\n",
              "      <script>\n",
              "        const buttonEl =\n",
              "          document.querySelector('#df-0a8fa1dd-a7bf-4c7f-835a-c2120b80e3ce button.colab-df-convert');\n",
              "        buttonEl.style.display =\n",
              "          google.colab.kernel.accessAllowed ? 'block' : 'none';\n",
              "\n",
              "        async function convertToInteractive(key) {\n",
              "          const element = document.querySelector('#df-0a8fa1dd-a7bf-4c7f-835a-c2120b80e3ce');\n",
              "          const dataTable =\n",
              "            await google.colab.kernel.invokeFunction('convertToInteractive',\n",
              "                                                     [key], {});\n",
              "          if (!dataTable) return;\n",
              "\n",
              "          const docLinkHtml = 'Like what you see? Visit the ' +\n",
              "            '<a target=\"_blank\" href=https://colab.research.google.com/notebooks/data_table.ipynb>data table notebook</a>'\n",
              "            + ' to learn more about interactive tables.';\n",
              "          element.innerHTML = '';\n",
              "          dataTable['output_type'] = 'display_data';\n",
              "          await google.colab.output.renderOutput(dataTable, element);\n",
              "          const docLink = document.createElement('div');\n",
              "          docLink.innerHTML = docLinkHtml;\n",
              "          element.appendChild(docLink);\n",
              "        }\n",
              "      </script>\n",
              "    </div>\n",
              "  </div>\n",
              "  "
            ]
          },
          "metadata": {},
          "execution_count": 14
        }
      ]
    },
    {
      "cell_type": "code",
      "source": [
        "error[error['error']==np.max(error['error'])]"
      ],
      "metadata": {
        "id": "o9uPYBFswgJT",
        "outputId": "d8dc727f-f839-47f7-e2c0-01e47a8b6750",
        "colab": {
          "base_uri": "https://localhost:8080/",
          "height": 81
        }
      },
      "execution_count": null,
      "outputs": [
        {
          "output_type": "execute_result",
          "data": {
            "text/plain": [
              "      symbol        date  target  target_DC1       error\n",
              "45637    PIB  2021-11-21     1.0   11.550866  120.136701"
            ],
            "text/html": [
              "\n",
              "  <div id=\"df-2fb4a5fb-1d63-459f-9a6a-2b03887acae1\">\n",
              "    <div class=\"colab-df-container\">\n",
              "      <div>\n",
              "<style scoped>\n",
              "    .dataframe tbody tr th:only-of-type {\n",
              "        vertical-align: middle;\n",
              "    }\n",
              "\n",
              "    .dataframe tbody tr th {\n",
              "        vertical-align: top;\n",
              "    }\n",
              "\n",
              "    .dataframe thead th {\n",
              "        text-align: right;\n",
              "    }\n",
              "</style>\n",
              "<table border=\"1\" class=\"dataframe\">\n",
              "  <thead>\n",
              "    <tr style=\"text-align: right;\">\n",
              "      <th></th>\n",
              "      <th>symbol</th>\n",
              "      <th>date</th>\n",
              "      <th>target</th>\n",
              "      <th>target_DC1</th>\n",
              "      <th>error</th>\n",
              "    </tr>\n",
              "  </thead>\n",
              "  <tbody>\n",
              "    <tr>\n",
              "      <th>45637</th>\n",
              "      <td>PIB</td>\n",
              "      <td>2021-11-21</td>\n",
              "      <td>1.0</td>\n",
              "      <td>11.550866</td>\n",
              "      <td>120.136701</td>\n",
              "    </tr>\n",
              "  </tbody>\n",
              "</table>\n",
              "</div>\n",
              "      <button class=\"colab-df-convert\" onclick=\"convertToInteractive('df-2fb4a5fb-1d63-459f-9a6a-2b03887acae1')\"\n",
              "              title=\"Convert this dataframe to an interactive table.\"\n",
              "              style=\"display:none;\">\n",
              "        \n",
              "  <svg xmlns=\"http://www.w3.org/2000/svg\" height=\"24px\"viewBox=\"0 0 24 24\"\n",
              "       width=\"24px\">\n",
              "    <path d=\"M0 0h24v24H0V0z\" fill=\"none\"/>\n",
              "    <path d=\"M18.56 5.44l.94 2.06.94-2.06 2.06-.94-2.06-.94-.94-2.06-.94 2.06-2.06.94zm-11 1L8.5 8.5l.94-2.06 2.06-.94-2.06-.94L8.5 2.5l-.94 2.06-2.06.94zm10 10l.94 2.06.94-2.06 2.06-.94-2.06-.94-.94-2.06-.94 2.06-2.06.94z\"/><path d=\"M17.41 7.96l-1.37-1.37c-.4-.4-.92-.59-1.43-.59-.52 0-1.04.2-1.43.59L10.3 9.45l-7.72 7.72c-.78.78-.78 2.05 0 2.83L4 21.41c.39.39.9.59 1.41.59.51 0 1.02-.2 1.41-.59l7.78-7.78 2.81-2.81c.8-.78.8-2.07 0-2.86zM5.41 20L4 18.59l7.72-7.72 1.47 1.35L5.41 20z\"/>\n",
              "  </svg>\n",
              "      </button>\n",
              "      \n",
              "  <style>\n",
              "    .colab-df-container {\n",
              "      display:flex;\n",
              "      flex-wrap:wrap;\n",
              "      gap: 12px;\n",
              "    }\n",
              "\n",
              "    .colab-df-convert {\n",
              "      background-color: #E8F0FE;\n",
              "      border: none;\n",
              "      border-radius: 50%;\n",
              "      cursor: pointer;\n",
              "      display: none;\n",
              "      fill: #1967D2;\n",
              "      height: 32px;\n",
              "      padding: 0 0 0 0;\n",
              "      width: 32px;\n",
              "    }\n",
              "\n",
              "    .colab-df-convert:hover {\n",
              "      background-color: #E2EBFA;\n",
              "      box-shadow: 0px 1px 2px rgba(60, 64, 67, 0.3), 0px 1px 3px 1px rgba(60, 64, 67, 0.15);\n",
              "      fill: #174EA6;\n",
              "    }\n",
              "\n",
              "    [theme=dark] .colab-df-convert {\n",
              "      background-color: #3B4455;\n",
              "      fill: #D2E3FC;\n",
              "    }\n",
              "\n",
              "    [theme=dark] .colab-df-convert:hover {\n",
              "      background-color: #434B5C;\n",
              "      box-shadow: 0px 1px 3px 1px rgba(0, 0, 0, 0.15);\n",
              "      filter: drop-shadow(0px 1px 2px rgba(0, 0, 0, 0.3));\n",
              "      fill: #FFFFFF;\n",
              "    }\n",
              "  </style>\n",
              "\n",
              "      <script>\n",
              "        const buttonEl =\n",
              "          document.querySelector('#df-2fb4a5fb-1d63-459f-9a6a-2b03887acae1 button.colab-df-convert');\n",
              "        buttonEl.style.display =\n",
              "          google.colab.kernel.accessAllowed ? 'block' : 'none';\n",
              "\n",
              "        async function convertToInteractive(key) {\n",
              "          const element = document.querySelector('#df-2fb4a5fb-1d63-459f-9a6a-2b03887acae1');\n",
              "          const dataTable =\n",
              "            await google.colab.kernel.invokeFunction('convertToInteractive',\n",
              "                                                     [key], {});\n",
              "          if (!dataTable) return;\n",
              "\n",
              "          const docLinkHtml = 'Like what you see? Visit the ' +\n",
              "            '<a target=\"_blank\" href=https://colab.research.google.com/notebooks/data_table.ipynb>data table notebook</a>'\n",
              "            + ' to learn more about interactive tables.';\n",
              "          element.innerHTML = '';\n",
              "          dataTable['output_type'] = 'display_data';\n",
              "          await google.colab.output.renderOutput(dataTable, element);\n",
              "          const docLink = document.createElement('div');\n",
              "          docLink.innerHTML = docLinkHtml;\n",
              "          element.appendChild(docLink);\n",
              "        }\n",
              "      </script>\n",
              "    </div>\n",
              "  </div>\n",
              "  "
            ]
          },
          "metadata": {},
          "execution_count": 15
        }
      ]
    },
    {
      "cell_type": "code",
      "source": [
        "error[error['error']==np.min(error['error'])]"
      ],
      "metadata": {
        "id": "e9k2nyK_DFwG",
        "outputId": "1b0392d1-f213-4c04-dad3-dc479f4b9999",
        "colab": {
          "base_uri": "https://localhost:8080/",
          "height": 81
        }
      },
      "execution_count": null,
      "outputs": [
        {
          "output_type": "execute_result",
          "data": {
            "text/plain": [
              "      symbol        date    target  target_DC1         error\n",
              "14235   CRPT  2021-03-14  0.855234    0.527546  7.993685e-09"
            ],
            "text/html": [
              "\n",
              "  <div id=\"df-4fd8c593-9f0d-4208-8e07-8b184bfd69ca\">\n",
              "    <div class=\"colab-df-container\">\n",
              "      <div>\n",
              "<style scoped>\n",
              "    .dataframe tbody tr th:only-of-type {\n",
              "        vertical-align: middle;\n",
              "    }\n",
              "\n",
              "    .dataframe tbody tr th {\n",
              "        vertical-align: top;\n",
              "    }\n",
              "\n",
              "    .dataframe thead th {\n",
              "        text-align: right;\n",
              "    }\n",
              "</style>\n",
              "<table border=\"1\" class=\"dataframe\">\n",
              "  <thead>\n",
              "    <tr style=\"text-align: right;\">\n",
              "      <th></th>\n",
              "      <th>symbol</th>\n",
              "      <th>date</th>\n",
              "      <th>target</th>\n",
              "      <th>target_DC1</th>\n",
              "      <th>error</th>\n",
              "    </tr>\n",
              "  </thead>\n",
              "  <tbody>\n",
              "    <tr>\n",
              "      <th>14235</th>\n",
              "      <td>CRPT</td>\n",
              "      <td>2021-03-14</td>\n",
              "      <td>0.855234</td>\n",
              "      <td>0.527546</td>\n",
              "      <td>7.993685e-09</td>\n",
              "    </tr>\n",
              "  </tbody>\n",
              "</table>\n",
              "</div>\n",
              "      <button class=\"colab-df-convert\" onclick=\"convertToInteractive('df-4fd8c593-9f0d-4208-8e07-8b184bfd69ca')\"\n",
              "              title=\"Convert this dataframe to an interactive table.\"\n",
              "              style=\"display:none;\">\n",
              "        \n",
              "  <svg xmlns=\"http://www.w3.org/2000/svg\" height=\"24px\"viewBox=\"0 0 24 24\"\n",
              "       width=\"24px\">\n",
              "    <path d=\"M0 0h24v24H0V0z\" fill=\"none\"/>\n",
              "    <path d=\"M18.56 5.44l.94 2.06.94-2.06 2.06-.94-2.06-.94-.94-2.06-.94 2.06-2.06.94zm-11 1L8.5 8.5l.94-2.06 2.06-.94-2.06-.94L8.5 2.5l-.94 2.06-2.06.94zm10 10l.94 2.06.94-2.06 2.06-.94-2.06-.94-.94-2.06-.94 2.06-2.06.94z\"/><path d=\"M17.41 7.96l-1.37-1.37c-.4-.4-.92-.59-1.43-.59-.52 0-1.04.2-1.43.59L10.3 9.45l-7.72 7.72c-.78.78-.78 2.05 0 2.83L4 21.41c.39.39.9.59 1.41.59.51 0 1.02-.2 1.41-.59l7.78-7.78 2.81-2.81c.8-.78.8-2.07 0-2.86zM5.41 20L4 18.59l7.72-7.72 1.47 1.35L5.41 20z\"/>\n",
              "  </svg>\n",
              "      </button>\n",
              "      \n",
              "  <style>\n",
              "    .colab-df-container {\n",
              "      display:flex;\n",
              "      flex-wrap:wrap;\n",
              "      gap: 12px;\n",
              "    }\n",
              "\n",
              "    .colab-df-convert {\n",
              "      background-color: #E8F0FE;\n",
              "      border: none;\n",
              "      border-radius: 50%;\n",
              "      cursor: pointer;\n",
              "      display: none;\n",
              "      fill: #1967D2;\n",
              "      height: 32px;\n",
              "      padding: 0 0 0 0;\n",
              "      width: 32px;\n",
              "    }\n",
              "\n",
              "    .colab-df-convert:hover {\n",
              "      background-color: #E2EBFA;\n",
              "      box-shadow: 0px 1px 2px rgba(60, 64, 67, 0.3), 0px 1px 3px 1px rgba(60, 64, 67, 0.15);\n",
              "      fill: #174EA6;\n",
              "    }\n",
              "\n",
              "    [theme=dark] .colab-df-convert {\n",
              "      background-color: #3B4455;\n",
              "      fill: #D2E3FC;\n",
              "    }\n",
              "\n",
              "    [theme=dark] .colab-df-convert:hover {\n",
              "      background-color: #434B5C;\n",
              "      box-shadow: 0px 1px 3px 1px rgba(0, 0, 0, 0.15);\n",
              "      filter: drop-shadow(0px 1px 2px rgba(0, 0, 0, 0.3));\n",
              "      fill: #FFFFFF;\n",
              "    }\n",
              "  </style>\n",
              "\n",
              "      <script>\n",
              "        const buttonEl =\n",
              "          document.querySelector('#df-4fd8c593-9f0d-4208-8e07-8b184bfd69ca button.colab-df-convert');\n",
              "        buttonEl.style.display =\n",
              "          google.colab.kernel.accessAllowed ? 'block' : 'none';\n",
              "\n",
              "        async function convertToInteractive(key) {\n",
              "          const element = document.querySelector('#df-4fd8c593-9f0d-4208-8e07-8b184bfd69ca');\n",
              "          const dataTable =\n",
              "            await google.colab.kernel.invokeFunction('convertToInteractive',\n",
              "                                                     [key], {});\n",
              "          if (!dataTable) return;\n",
              "\n",
              "          const docLinkHtml = 'Like what you see? Visit the ' +\n",
              "            '<a target=\"_blank\" href=https://colab.research.google.com/notebooks/data_table.ipynb>data table notebook</a>'\n",
              "            + ' to learn more about interactive tables.';\n",
              "          element.innerHTML = '';\n",
              "          dataTable['output_type'] = 'display_data';\n",
              "          await google.colab.output.renderOutput(dataTable, element);\n",
              "          const docLink = document.createElement('div');\n",
              "          docLink.innerHTML = docLinkHtml;\n",
              "          element.appendChild(docLink);\n",
              "        }\n",
              "      </script>\n",
              "    </div>\n",
              "  </div>\n",
              "  "
            ]
          },
          "metadata": {},
          "execution_count": 16
        }
      ]
    },
    {
      "cell_type": "code",
      "source": [
        "error[[\"target\",\"target_DC1\",\"error\"]].corr()"
      ],
      "metadata": {
        "id": "7q6NpCeQDIsd",
        "outputId": "f3d8feaf-464b-4a7b-f51e-6c670d345b19",
        "colab": {
          "base_uri": "https://localhost:8080/",
          "height": 143
        }
      },
      "execution_count": null,
      "outputs": [
        {
          "output_type": "execute_result",
          "data": {
            "text/plain": [
              "              target  target_DC1     error\n",
              "target      1.000000    0.673111 -0.175051\n",
              "target_DC1  0.673111    1.000000 -0.171981\n",
              "error      -0.175051   -0.171981  1.000000"
            ],
            "text/html": [
              "\n",
              "  <div id=\"df-fbfc82ae-37d8-4225-b158-e4a17298e68e\">\n",
              "    <div class=\"colab-df-container\">\n",
              "      <div>\n",
              "<style scoped>\n",
              "    .dataframe tbody tr th:only-of-type {\n",
              "        vertical-align: middle;\n",
              "    }\n",
              "\n",
              "    .dataframe tbody tr th {\n",
              "        vertical-align: top;\n",
              "    }\n",
              "\n",
              "    .dataframe thead th {\n",
              "        text-align: right;\n",
              "    }\n",
              "</style>\n",
              "<table border=\"1\" class=\"dataframe\">\n",
              "  <thead>\n",
              "    <tr style=\"text-align: right;\">\n",
              "      <th></th>\n",
              "      <th>target</th>\n",
              "      <th>target_DC1</th>\n",
              "      <th>error</th>\n",
              "    </tr>\n",
              "  </thead>\n",
              "  <tbody>\n",
              "    <tr>\n",
              "      <th>target</th>\n",
              "      <td>1.000000</td>\n",
              "      <td>0.673111</td>\n",
              "      <td>-0.175051</td>\n",
              "    </tr>\n",
              "    <tr>\n",
              "      <th>target_DC1</th>\n",
              "      <td>0.673111</td>\n",
              "      <td>1.000000</td>\n",
              "      <td>-0.171981</td>\n",
              "    </tr>\n",
              "    <tr>\n",
              "      <th>error</th>\n",
              "      <td>-0.175051</td>\n",
              "      <td>-0.171981</td>\n",
              "      <td>1.000000</td>\n",
              "    </tr>\n",
              "  </tbody>\n",
              "</table>\n",
              "</div>\n",
              "      <button class=\"colab-df-convert\" onclick=\"convertToInteractive('df-fbfc82ae-37d8-4225-b158-e4a17298e68e')\"\n",
              "              title=\"Convert this dataframe to an interactive table.\"\n",
              "              style=\"display:none;\">\n",
              "        \n",
              "  <svg xmlns=\"http://www.w3.org/2000/svg\" height=\"24px\"viewBox=\"0 0 24 24\"\n",
              "       width=\"24px\">\n",
              "    <path d=\"M0 0h24v24H0V0z\" fill=\"none\"/>\n",
              "    <path d=\"M18.56 5.44l.94 2.06.94-2.06 2.06-.94-2.06-.94-.94-2.06-.94 2.06-2.06.94zm-11 1L8.5 8.5l.94-2.06 2.06-.94-2.06-.94L8.5 2.5l-.94 2.06-2.06.94zm10 10l.94 2.06.94-2.06 2.06-.94-2.06-.94-.94-2.06-.94 2.06-2.06.94z\"/><path d=\"M17.41 7.96l-1.37-1.37c-.4-.4-.92-.59-1.43-.59-.52 0-1.04.2-1.43.59L10.3 9.45l-7.72 7.72c-.78.78-.78 2.05 0 2.83L4 21.41c.39.39.9.59 1.41.59.51 0 1.02-.2 1.41-.59l7.78-7.78 2.81-2.81c.8-.78.8-2.07 0-2.86zM5.41 20L4 18.59l7.72-7.72 1.47 1.35L5.41 20z\"/>\n",
              "  </svg>\n",
              "      </button>\n",
              "      \n",
              "  <style>\n",
              "    .colab-df-container {\n",
              "      display:flex;\n",
              "      flex-wrap:wrap;\n",
              "      gap: 12px;\n",
              "    }\n",
              "\n",
              "    .colab-df-convert {\n",
              "      background-color: #E8F0FE;\n",
              "      border: none;\n",
              "      border-radius: 50%;\n",
              "      cursor: pointer;\n",
              "      display: none;\n",
              "      fill: #1967D2;\n",
              "      height: 32px;\n",
              "      padding: 0 0 0 0;\n",
              "      width: 32px;\n",
              "    }\n",
              "\n",
              "    .colab-df-convert:hover {\n",
              "      background-color: #E2EBFA;\n",
              "      box-shadow: 0px 1px 2px rgba(60, 64, 67, 0.3), 0px 1px 3px 1px rgba(60, 64, 67, 0.15);\n",
              "      fill: #174EA6;\n",
              "    }\n",
              "\n",
              "    [theme=dark] .colab-df-convert {\n",
              "      background-color: #3B4455;\n",
              "      fill: #D2E3FC;\n",
              "    }\n",
              "\n",
              "    [theme=dark] .colab-df-convert:hover {\n",
              "      background-color: #434B5C;\n",
              "      box-shadow: 0px 1px 3px 1px rgba(0, 0, 0, 0.15);\n",
              "      filter: drop-shadow(0px 1px 2px rgba(0, 0, 0, 0.3));\n",
              "      fill: #FFFFFF;\n",
              "    }\n",
              "  </style>\n",
              "\n",
              "      <script>\n",
              "        const buttonEl =\n",
              "          document.querySelector('#df-fbfc82ae-37d8-4225-b158-e4a17298e68e button.colab-df-convert');\n",
              "        buttonEl.style.display =\n",
              "          google.colab.kernel.accessAllowed ? 'block' : 'none';\n",
              "\n",
              "        async function convertToInteractive(key) {\n",
              "          const element = document.querySelector('#df-fbfc82ae-37d8-4225-b158-e4a17298e68e');\n",
              "          const dataTable =\n",
              "            await google.colab.kernel.invokeFunction('convertToInteractive',\n",
              "                                                     [key], {});\n",
              "          if (!dataTable) return;\n",
              "\n",
              "          const docLinkHtml = 'Like what you see? Visit the ' +\n",
              "            '<a target=\"_blank\" href=https://colab.research.google.com/notebooks/data_table.ipynb>data table notebook</a>'\n",
              "            + ' to learn more about interactive tables.';\n",
              "          element.innerHTML = '';\n",
              "          dataTable['output_type'] = 'display_data';\n",
              "          await google.colab.output.renderOutput(dataTable, element);\n",
              "          const docLink = document.createElement('div');\n",
              "          docLink.innerHTML = docLinkHtml;\n",
              "          element.appendChild(docLink);\n",
              "        }\n",
              "      </script>\n",
              "    </div>\n",
              "  </div>\n",
              "  "
            ]
          },
          "metadata": {},
          "execution_count": 17
        }
      ]
    },
    {
      "cell_type": "code",
      "source": [
        "error_plot = plt.figure()\n",
        "sns.scatterplot(x = \"target_DC1\", y = \"error\", data = error)"
      ],
      "metadata": {
        "id": "88VlU_cmDNOZ",
        "outputId": "e8985ec8-c1b7-45f1-b5f8-2c1761e020d1",
        "colab": {
          "base_uri": "https://localhost:8080/",
          "height": 297
        }
      },
      "execution_count": null,
      "outputs": [
        {
          "output_type": "execute_result",
          "data": {
            "text/plain": [
              "<matplotlib.axes._subplots.AxesSubplot at 0x7f43a4092b50>"
            ]
          },
          "metadata": {},
          "execution_count": 18
        },
        {
          "output_type": "display_data",
          "data": {
            "text/plain": [
              "<Figure size 432x288 with 1 Axes>"
            ],
            "image/png": "[encoded data removed]"
          },
          "metadata": {
            "needs_background": "light"
          }
        }
      ]
    },
    {
      "cell_type": "code",
      "source": [
        "@model(\"xgb_model\")\n",
        "def train_function():  \n",
        "    importance = reg.feature_importances_\n",
        "    importances_rfc_df = pd.DataFrame(importance, index=train_set.drop(['date','symbol','target','target_DC1'], axis = 1).columns, columns=['Importance'])\n",
        "    importances_rfc_df = importances_rfc_df.sort_values(by='Importance', ascending=False)\n",
        "    importances_rfc_df = importances_rfc_df[importances_rfc_df['Importance'] > 0]\n",
        "    print(\"[INFO] Number of important features:\",importances_rfc_df.shape[0])\n",
        "    importances_rfc_df = importances_rfc_df.head(15)\n",
        "\n",
        "    plt.figure(figsize=(8,8))\n",
        "    plt.xticks(rotation=60, fontsize = 20)\n",
        "    sns.barplot(y=importances_rfc_df.index, x=importances_rfc_df['Importance'])\n",
        "    \n",
        "    \n",
        "    layer.log(params)\n",
        "    layer.log({'With Target':with_target})\n",
        "    layer.log({'Mean Absolute Error':mae})\n",
        "    layer.log({'Mean Squarred Error': mse})\n",
        "    layer.log({'Root Mean Squared Error': rmse})\n",
        "    layer.log({\"Train mean pearson\":round(train_spearman[0], 4)})\n",
        "    layer.log({\"Train std pearson\":round(train_spearman[1], 4)})\n",
        "    layer.log({\"Validation mean pearson\":round(test_spearman[0], 4)})\n",
        "    layer.log({\"Validation std pearson\":round(test_spearman[1], 4)})\n",
        "    layer.log({\"Feature importance\": plt.gcf()})\n",
        "    layer.log({\"Training metrics\": evaluation_plot})\n",
        "    layer.log({\"Error Plot\":error_plot})\n",
        "    plt.show()\n",
        "    return reg\n",
        "\n",
        "reg = train_function()"
      ],
      "metadata": {
        "id": "6940MUi1U7Ac",
        "outputId": "dd339730-5ed9-4741-bdcd-b724ee6eaca2",
        "colab": {
          "base_uri": "https://localhost:8080/",
          "height": 660,
          "referenced_widgets": [
            "8bc43e499f954384aefb3a2f7b48d306",
            "02ac7698144942349a0d567205de281b"
          ]
        }
      },
      "execution_count": null,
      "outputs": [
        {
          "output_type": "display_data",
          "data": {
            "text/plain": [
              "Output()"
            ],
            "application/vnd.jupyter.widget-view+json": {
              "version_major": 2,
              "version_minor": 0,
              "model_id": "8bc43e499f954384aefb3a2f7b48d306"
            }
          },
          "metadata": {}
        },
        {
          "output_type": "display_data",
          "data": {
            "text/plain": [
              "[INFO] Number of important features: 2015\n"
            ],
            "text/html": [
              "<pre style=\"white-space:pre;overflow-x:auto;line-height:normal;font-family:Menlo,'DejaVu Sans Mono',consolas,'Courier New',monospace\">[INFO] Number of important features: 2015\n",
              "</pre>\n"
            ]
          },
          "metadata": {}
        },
        {
          "output_type": "display_data",
          "data": {
            "text/plain": [
              "<Figure size 576x576 with 1 Axes>"
            ],
            "image/png": "[encoded data removed]"
          },
          "metadata": {
            "needs_background": "light"
          }
        },
        {
          "output_type": "display_data",
          "data": {
            "text/plain": [
              "2022/07/10 16:12:23 WARNING mlflow.utils.environment: Encountered an unexpected error while \n",
              "inferring pip requirements (model URI: /tmp/tmp6ova1t2r/model, flavor: xgboost), fall back to\n",
              "return ['xgboost==0.90']. Set logging level to DEBUG to see the full traceback.\n"
            ],
            "text/html": [
              "<pre style=\"white-space:pre;overflow-x:auto;line-height:normal;font-family:Menlo,'DejaVu Sans Mono',consolas,'Courier New',monospace\">2022/07/10 16:12:23 WARNING mlflow.utils.environment: Encountered an unexpected error while \n",
              "inferring pip requirements (model URI: /tmp/tmp6ova1t2r/model, flavor: xgboost), fall back to\n",
              "return ['xgboost==0.90']. Set logging level to DEBUG to see the full traceback.\n",
              "</pre>\n"
            ]
          },
          "metadata": {}
        },
        {
          "output_type": "display_data",
          "data": {
            "text/plain": [
              ""
            ],
            "text/html": [
              "<pre style=\"white-space:pre;overflow-x:auto;line-height:normal;font-family:Menlo,'DejaVu Sans Mono',consolas,'Courier New',monospace\"></pre>\n"
            ]
          },
          "metadata": {}
        },
        {
          "output_type": "display_data",
          "data": {
            "text/plain": [
              "\n"
            ],
            "text/html": [
              "<pre style=\"white-space:pre;overflow-x:auto;line-height:normal;font-family:Menlo,'DejaVu Sans Mono',consolas,'Courier New',monospace\">\n",
              "</pre>\n"
            ]
          },
          "metadata": {}
        }
      ]
    },
    {
      "cell_type": "code",
      "source": [
        "pred_submission = predictFunction(reg, validation_dataset)"
      ],
      "metadata": {
        "id": "z3vXir9lkkrD"
      },
      "execution_count": null,
      "outputs": []
    },
    {
      "cell_type": "code",
      "execution_count": null,
      "metadata": {
        "id": "wemVQ7xo8R3Q",
        "outputId": "7e939221-6376-49bf-8f30-86bc7e7e2594",
        "colab": {
          "base_uri": "https://localhost:8080/"
        }
      },
      "outputs": [
        {
          "output_type": "execute_result",
          "data": {
            "text/plain": [
              "array([0.85376045, 0.56406685, 0.74233983, 0.045961  , 0.48885794])"
            ]
          },
          "metadata": {},
          "execution_count": 21
        }
      ],
      "source": [
        "# Use the trained Linear Regression model to make prediction on latest data\n",
        "# X_validation = validation_dataset.iloc[:, 1:-2]\n",
        "# y_validation_linear_reg = reg.predict(X_validation)\n",
        "y_validation_linear_reg = pred_submission['predicted_target'].values\n",
        "y_validation_linear_reg[:5]"
      ]
    },
    {
      "cell_type": "markdown",
      "metadata": {
        "id": "wPdrXYI58R3R"
      },
      "source": [
        "### Let's use the prediction from linear regression to join with validation dataset symbol for submission"
      ]
    },
    {
      "cell_type": "code",
      "execution_count": null,
      "metadata": {
        "id": "OKwa_RfT8R3R",
        "outputId": "f0a0fbd7-815c-40a4-a665-2cbac6cc6034",
        "colab": {
          "base_uri": "https://localhost:8080/",
          "height": 424
        }
      },
      "outputs": [
        {
          "output_type": "execute_result",
          "data": {
            "text/plain": [
              "    symbol  prediction\n",
              "707  YTSLA    0.000000\n",
              "601   SWRV    0.001393\n",
              "173    DGD    0.002786\n",
              "57    BASE    0.004178\n",
              "224    EVX    0.005571\n",
              "..     ...         ...\n",
              "8      ABX    0.994429\n",
              "701  YFFII    0.995822\n",
              "611  TITAN    0.997214\n",
              "659    VGX    0.998607\n",
              "320    ITC    1.000000\n",
              "\n",
              "[719 rows x 2 columns]"
            ],
            "text/html": [
              "\n",
              "  <div id=\"df-da6d7931-3c67-4e1d-89c4-aefb07533e57\">\n",
              "    <div class=\"colab-df-container\">\n",
              "      <div>\n",
              "<style scoped>\n",
              "    .dataframe tbody tr th:only-of-type {\n",
              "        vertical-align: middle;\n",
              "    }\n",
              "\n",
              "    .dataframe tbody tr th {\n",
              "        vertical-align: top;\n",
              "    }\n",
              "\n",
              "    .dataframe thead th {\n",
              "        text-align: right;\n",
              "    }\n",
              "</style>\n",
              "<table border=\"1\" class=\"dataframe\">\n",
              "  <thead>\n",
              "    <tr style=\"text-align: right;\">\n",
              "      <th></th>\n",
              "      <th>symbol</th>\n",
              "      <th>prediction</th>\n",
              "    </tr>\n",
              "  </thead>\n",
              "  <tbody>\n",
              "    <tr>\n",
              "      <th>707</th>\n",
              "      <td>YTSLA</td>\n",
              "      <td>0.000000</td>\n",
              "    </tr>\n",
              "    <tr>\n",
              "      <th>601</th>\n",
              "      <td>SWRV</td>\n",
              "      <td>0.001393</td>\n",
              "    </tr>\n",
              "    <tr>\n",
              "      <th>173</th>\n",
              "      <td>DGD</td>\n",
              "      <td>0.002786</td>\n",
              "    </tr>\n",
              "    <tr>\n",
              "      <th>57</th>\n",
              "      <td>BASE</td>\n",
              "      <td>0.004178</td>\n",
              "    </tr>\n",
              "    <tr>\n",
              "      <th>224</th>\n",
              "      <td>EVX</td>\n",
              "      <td>0.005571</td>\n",
              "    </tr>\n",
              "    <tr>\n",
              "      <th>...</th>\n",
              "      <td>...</td>\n",
              "      <td>...</td>\n",
              "    </tr>\n",
              "    <tr>\n",
              "      <th>8</th>\n",
              "      <td>ABX</td>\n",
              "      <td>0.994429</td>\n",
              "    </tr>\n",
              "    <tr>\n",
              "      <th>701</th>\n",
              "      <td>YFFII</td>\n",
              "      <td>0.995822</td>\n",
              "    </tr>\n",
              "    <tr>\n",
              "      <th>611</th>\n",
              "      <td>TITAN</td>\n",
              "      <td>0.997214</td>\n",
              "    </tr>\n",
              "    <tr>\n",
              "      <th>659</th>\n",
              "      <td>VGX</td>\n",
              "      <td>0.998607</td>\n",
              "    </tr>\n",
              "    <tr>\n",
              "      <th>320</th>\n",
              "      <td>ITC</td>\n",
              "      <td>1.000000</td>\n",
              "    </tr>\n",
              "  </tbody>\n",
              "</table>\n",
              "<p>719 rows × 2 columns</p>\n",
              "</div>\n",
              "      <button class=\"colab-df-convert\" onclick=\"convertToInteractive('df-da6d7931-3c67-4e1d-89c4-aefb07533e57')\"\n",
              "              title=\"Convert this dataframe to an interactive table.\"\n",
              "              style=\"display:none;\">\n",
              "        \n",
              "  <svg xmlns=\"http://www.w3.org/2000/svg\" height=\"24px\"viewBox=\"0 0 24 24\"\n",
              "       width=\"24px\">\n",
              "    <path d=\"M0 0h24v24H0V0z\" fill=\"none\"/>\n",
              "    <path d=\"M18.56 5.44l.94 2.06.94-2.06 2.06-.94-2.06-.94-.94-2.06-.94 2.06-2.06.94zm-11 1L8.5 8.5l.94-2.06 2.06-.94-2.06-.94L8.5 2.5l-.94 2.06-2.06.94zm10 10l.94 2.06.94-2.06 2.06-.94-2.06-.94-.94-2.06-.94 2.06-2.06.94z\"/><path d=\"M17.41 7.96l-1.37-1.37c-.4-.4-.92-.59-1.43-.59-.52 0-1.04.2-1.43.59L10.3 9.45l-7.72 7.72c-.78.78-.78 2.05 0 2.83L4 21.41c.39.39.9.59 1.41.59.51 0 1.02-.2 1.41-.59l7.78-7.78 2.81-2.81c.8-.78.8-2.07 0-2.86zM5.41 20L4 18.59l7.72-7.72 1.47 1.35L5.41 20z\"/>\n",
              "  </svg>\n",
              "      </button>\n",
              "      \n",
              "  <style>\n",
              "    .colab-df-container {\n",
              "      display:flex;\n",
              "      flex-wrap:wrap;\n",
              "      gap: 12px;\n",
              "    }\n",
              "\n",
              "    .colab-df-convert {\n",
              "      background-color: #E8F0FE;\n",
              "      border: none;\n",
              "      border-radius: 50%;\n",
              "      cursor: pointer;\n",
              "      display: none;\n",
              "      fill: #1967D2;\n",
              "      height: 32px;\n",
              "      padding: 0 0 0 0;\n",
              "      width: 32px;\n",
              "    }\n",
              "\n",
              "    .colab-df-convert:hover {\n",
              "      background-color: #E2EBFA;\n",
              "      box-shadow: 0px 1px 2px rgba(60, 64, 67, 0.3), 0px 1px 3px 1px rgba(60, 64, 67, 0.15);\n",
              "      fill: #174EA6;\n",
              "    }\n",
              "\n",
              "    [theme=dark] .colab-df-convert {\n",
              "      background-color: #3B4455;\n",
              "      fill: #D2E3FC;\n",
              "    }\n",
              "\n",
              "    [theme=dark] .colab-df-convert:hover {\n",
              "      background-color: #434B5C;\n",
              "      box-shadow: 0px 1px 3px 1px rgba(0, 0, 0, 0.15);\n",
              "      filter: drop-shadow(0px 1px 2px rgba(0, 0, 0, 0.3));\n",
              "      fill: #FFFFFF;\n",
              "    }\n",
              "  </style>\n",
              "\n",
              "      <script>\n",
              "        const buttonEl =\n",
              "          document.querySelector('#df-da6d7931-3c67-4e1d-89c4-aefb07533e57 button.colab-df-convert');\n",
              "        buttonEl.style.display =\n",
              "          google.colab.kernel.accessAllowed ? 'block' : 'none';\n",
              "\n",
              "        async function convertToInteractive(key) {\n",
              "          const element = document.querySelector('#df-da6d7931-3c67-4e1d-89c4-aefb07533e57');\n",
              "          const dataTable =\n",
              "            await google.colab.kernel.invokeFunction('convertToInteractive',\n",
              "                                                     [key], {});\n",
              "          if (!dataTable) return;\n",
              "\n",
              "          const docLinkHtml = 'Like what you see? Visit the ' +\n",
              "            '<a target=\"_blank\" href=https://colab.research.google.com/notebooks/data_table.ipynb>data table notebook</a>'\n",
              "            + ' to learn more about interactive tables.';\n",
              "          element.innerHTML = '';\n",
              "          dataTable['output_type'] = 'display_data';\n",
              "          await google.colab.output.renderOutput(dataTable, element);\n",
              "          const docLink = document.createElement('div');\n",
              "          docLink.innerHTML = docLinkHtml;\n",
              "          element.appendChild(docLink);\n",
              "        }\n",
              "      </script>\n",
              "    </div>\n",
              "  </div>\n",
              "  "
            ]
          },
          "metadata": {},
          "execution_count": 22
        }
      ],
      "source": [
        "prediction = pd.DataFrame()\n",
        "prediction['symbol'] = list(pred_submission.symbol)\n",
        "prediction['prediction'] = y_validation_linear_reg\n",
        "\n",
        "# sort the prediction to check which symbol is weaker and stronger, ie. FOX is weakest; BTC is strongest\n",
        "prediction.sort_values('prediction')"
      ]
    },
    {
      "cell_type": "markdown",
      "metadata": {
        "id": "2mq_vcI18R3R"
      },
      "source": [
        "### Check is prediction dataframe in accordance for submission format (using the prediction from linear regression)"
      ]
    },
    {
      "cell_type": "code",
      "execution_count": null,
      "metadata": {
        "colab": {
          "base_uri": "https://localhost:8080/"
        },
        "id": "Nf0GPjqn8R3R",
        "outputId": "9fa34389-160c-42cd-a8e8-1a968ada52d9"
      },
      "outputs": [
        {
          "output_type": "stream",
          "name": "stdout",
          "text": [
            "symbol matched!\n",
            "column counts ok!\n"
          ]
        }
      ],
      "source": [
        "#check if y_latest is in accordance to shape for submission\n",
        "if set(prediction.symbol) == set(validation_dataset.symbol):\n",
        "    print('symbol matched!')\n",
        "else:\n",
        "    print('symbol unmatched, the symbol in prediction df must match the symbol in validation_dataset...')\n",
        "    \n",
        "if prediction.shape[1] == 2:\n",
        "    print('column counts ok!')\n",
        "else:\n",
        "    print('It should have 2 columns, first column with symbol, second with prediction...')\n"
      ]
    },
    {
      "cell_type": "markdown",
      "metadata": {
        "id": "0PhAfMnR8R3S"
      },
      "source": [
        "### Output prediction as a .csv file for submission!"
      ]
    },
    {
      "cell_type": "code",
      "execution_count": null,
      "metadata": {
        "id": "utRTWe0-8R3S"
      },
      "outputs": [],
      "source": [
        "#Output submission as .csv file\n",
        "#The prediction.csv is stored in content/prediction folder\n",
        "import os\n",
        "if not os.path.exists('/content/prediction'):\n",
        "    os.makedirs('/content/prediction')\n",
        "prediction.to_csv('/content/prediction/prediction.csv', index = False, header = None)"
      ]
    },
    {
      "cell_type": "markdown",
      "source": [
        "# **Submission Section**"
      ],
      "metadata": {
        "id": "aEv18jY34Kww"
      }
    },
    {
      "cell_type": "markdown",
      "metadata": {
        "collapsed": false,
        "id": "jKSoiqEW0Lg4"
      },
      "source": [
        "## **Setup**"
      ]
    },
    {
      "cell_type": "code",
      "source": [
        "!git clone https://github.com/rocketcapital-ai/competition_submission.git\n",
        "%cd /content/competition_submission"
      ],
      "metadata": {
        "id": "M7LbLhIz0Xh7",
        "outputId": "d4048e2d-a6bb-49ed-cd45-d61cb6d9231f",
        "colab": {
          "base_uri": "https://localhost:8080/"
        }
      },
      "execution_count": null,
      "outputs": [
        {
          "output_type": "stream",
          "name": "stdout",
          "text": [
            "Cloning into 'competition_submission'...\n",
            "remote: Enumerating objects: 23, done.\u001b[K\n",
            "remote: Counting objects: 100% (23/23), done.\u001b[K\n",
            "remote: Compressing objects: 100% (16/16), done.\u001b[K\n",
            "remote: Total 23 (delta 3), reused 19 (delta 3), pack-reused 0\u001b[K\n",
            "Unpacking objects: 100% (23/23), done.\n",
            "/content/competition_submission\n"
          ]
        }
      ]
    },
    {
      "cell_type": "code",
      "source": [
        "!pip install base58\n",
        "!pip install PyYAML\n",
        "!pip install requests\n",
        "!pip install web3\n",
        "!pip install pandas \n",
        "from IPython.display import clear_output\n",
        "clear_output(wait = False)"
      ],
      "metadata": {
        "id": "lEl2hoVI2V-J"
      },
      "execution_count": null,
      "outputs": []
    },
    {
      "cell_type": "code",
      "execution_count": null,
      "metadata": {
        "pycharm": {
          "name": "#%%\n"
        },
        "id": "VgUYwRkJ0Lg8"
      },
      "outputs": [],
      "source": [
        "from lib.submitter import *\n",
        "\n",
        "jwt = 'eyJhbGciOiJIUzI1NiIsInR5cCI6IkpXVCJ9.eyJ1c2VySW5mb3JtYXRpb24iOnsiaWQiOiIxMDIwZDY0OC1kNzQ5LTQ5YjItOTZmZS1hNWQ0NDY5ODRjNTQiLCJlbWFpbCI6ImJpYmhhc2hwLmRhc0BnbWFpbC5jb20iLCJlbWFpbF92ZXJpZmllZCI6dHJ1ZSwicGluX3BvbGljeSI6eyJyZWdpb25zIjpbeyJpZCI6IkZSQTEiLCJkZXNpcmVkUmVwbGljYXRpb25Db3VudCI6MX0seyJpZCI6Ik5ZQzEiLCJkZXNpcmVkUmVwbGljYXRpb25Db3VudCI6MX1dLCJ2ZXJzaW9uIjoxfSwibWZhX2VuYWJsZWQiOmZhbHNlLCJzdGF0dXMiOiJBQ1RJVkUifSwiYXV0aGVudGljYXRpb25UeXBlIjoic2NvcGVkS2V5Iiwic2NvcGVkS2V5S2V5IjoiYmM4NWI0ZDQ1N2FhYWZlNzBmNGIiLCJzY29wZWRLZXlTZWNyZXQiOiJlMmEyOGFlZmFlNTcyMWZkNzM1Mjg4NzE5OTIzYTBkZTQ4MWY5NzUxZWQyZmVhMTE0MGJmYzRlNzNjNzRhYzI2IiwiaWF0IjoxNjU1MTM2Nzc4fQ.xl2FxgrL04kQIa7cIn89a_iE0I9xphiNf6K5K2mor5o'      # User-specified field.\n",
        "address = '0xcF16365d53ed53055f39010830e3CcD5A7a8245E'  # User-specified field.\n",
        "pk = '32316dfe607ed4a240ac29a6dcad9db6f484f0fbdf7894c15511237e1e13db70'       # User-specified field.\n",
        "submitter = Submitter(jwt, address, pk)"
      ]
    },
    {
      "cell_type": "markdown",
      "metadata": {
        "id": "3XjTmExp0Lg_"
      },
      "source": [
        "## View wallet address information."
      ]
    },
    {
      "cell_type": "code",
      "execution_count": null,
      "metadata": {
        "pycharm": {
          "name": "#%%\n"
        },
        "id": "9BN9wZGW0LhB",
        "outputId": "311d6a2d-2287-46df-c5ee-c5a352e39913",
        "colab": {
          "base_uri": "https://localhost:8080/"
        }
      },
      "outputs": [
        {
          "output_type": "stream",
          "name": "stdout",
          "text": [
            "MATIC balance for 0xcF16365d53ed53055f39010830e3CcD5A7a8245E: 1.024154240957063615\n",
            "MUSA balance for 0xcF16365d53ed53055f39010830e3CcD5A7a8245E: 0.869313545300001154\n",
            "Current stake for 0xcF16365d53ed53055f39010830e3CcD5A7a8245E: 168.569365044100002658\n"
          ]
        }
      ],
      "source": [
        "print('MATIC balance for {}: {}'.format(submitter.address, submitter.get_matic_balance()))\n",
        "print('MUSA balance for {}: {}'.format(submitter.address, submitter.get_musa_balance()))\n",
        "print('Current stake for {}: {}'.format(submitter.address, submitter.get_stake()))"
      ]
    },
    {
      "cell_type": "markdown",
      "metadata": {
        "collapsed": false,
        "id": "5ohgOcZ60LhC"
      },
      "source": [
        "## **Retrieve Dataset and run models.**\n",
        "### Please follow the instructions and example found [here](https://github.com/rocketcapital-ai/competition_quickstart_dataloader).\n",
        "\n",
        "### When completed, please place final prediction csv file in the `file_to_submit` folder."
      ]
    },
    {
      "cell_type": "code",
      "source": [
        "!cp \"/content/prediction/prediction.csv\" \"/content/competition_submission/file_to_submit/\""
      ],
      "metadata": {
        "id": "7UVxH1w93Rdy"
      },
      "execution_count": null,
      "outputs": []
    },
    {
      "cell_type": "markdown",
      "metadata": {
        "collapsed": false,
        "id": "wQ894w1O0LhD"
      },
      "source": [
        "## **Set stake.** (optional)\n",
        "### Skip if no changes need to be made."
      ]
    },
    {
      "cell_type": "code",
      "execution_count": null,
      "metadata": {
        "pycharm": {
          "name": "#%%\n"
        },
        "id": "uJlwEyJW0LhE",
        "colab": {
          "base_uri": "https://localhost:8080/"
        },
        "outputId": "336bd7a9-129f-4997-e82b-a288a39055cc"
      },
      "outputs": [
        {
          "output_type": "stream",
          "name": "stdout",
          "text": [
            "Setting gas price to 65 gwei.\n",
            "Sending transaction 0xe3cf8d0d27ab1452e097706b3ceb1c3bb6f4ab91c181af5e21588934c3d82469\n",
            "Transaction sent. Tx ID: 0xe3cf8d0d27ab1452e097706b3ceb1c3bb6f4ab91c181af5e21588934c3d82469\n"
          ]
        }
      ],
      "source": [
        "# set_stake_amount = 125.00  # User-specified field.\n",
        "# transaction_success = submitter.set_stake(set_stake_amount)\n",
        "# assert transaction_success, 'Setting stake failed.'"
      ]
    },
    {
      "cell_type": "markdown",
      "metadata": {
        "collapsed": false,
        "pycharm": {
          "name": "#%% md\n"
        },
        "id": "G_iqtyFY0LhF"
      },
      "source": [
        "## **Submit predictions.**\n",
        "Note that the same `submit_prediction` method should be used for re-submitting predictions."
      ]
    },
    {
      "cell_type": "code",
      "execution_count": null,
      "metadata": {
        "pycharm": {
          "name": "#%%\n"
        },
        "id": "eMYyDAIL0LhF",
        "colab": {
          "base_uri": "https://localhost:8080/"
        },
        "outputId": "c21d2da7-5e12-4966-d004-ea217d484593"
      },
      "outputs": [
        {
          "output_type": "stream",
          "name": "stdout",
          "text": [
            "Encrypting file.\n",
            "Zipping encrypted file.\n",
            "Uploading and recording on blockchain.\n",
            "Setting gas price to 34 gwei.\n",
            "Sending transaction 0xdb3bd6826acf44288960f678ecf3e23fe948095d442eeb4c42f4fdef14e62b61\n",
            "Transaction sent. Tx ID: 0xdb3bd6826acf44288960f678ecf3e23fe948095d442eeb4c42f4fdef14e62b61\n"
          ]
        }
      ],
      "source": [
        "submission_file_name = 'prediction.csv'  # User-specified field.\n",
        "transaction_success = submitter.submit_prediction(submission_file_name)\n",
        "assert transaction_success, 'Submission failed.'"
      ]
    },
    {
      "cell_type": "markdown",
      "metadata": {
        "id": "41q5KfA70LhG"
      },
      "source": [
        "### **Retrieve and double-check predictions.** (optional)\n",
        "This section retrieves your submitted files, decrypts them, and compares them to the original file in `file_to_submit`.\n",
        "\n",
        "If the verification fails, please wait a few minutes and perform the verification again. If the problem persists, please re-submit your predictions."
      ]
    },
    {
      "cell_type": "code",
      "execution_count": null,
      "metadata": {
        "id": "NTANPvlH0LhH",
        "colab": {
          "base_uri": "https://localhost:8080/"
        },
        "outputId": "97433f61-84d6-4a5d-947c-b59580178aec"
      },
      "outputs": [
        {
          "output_type": "stream",
          "name": "stdout",
          "text": [
            "Retrieving file.\n",
            "File retrieved.\n",
            "File unzipped.\n",
            "File decrypted. Comparing files.\n",
            "Removing temp files.\n",
            "Temp files removed.\n",
            "Files are identical. Verification check passed.\n"
          ]
        }
      ],
      "source": [
        "verification_success = submitter.download_and_check(submission_file_name)\n",
        "assert verification_success, 'Submission verification failed.'\n",
        "print('Files are identical. Verification check passed.')"
      ]
    },
    {
      "cell_type": "code",
      "source": [
        ""
      ],
      "metadata": {
        "id": "quwbIwHeykQY"
      },
      "execution_count": null,
      "outputs": []
    }
  ],
  "metadata": {
    "colab": {
      "collapsed_sections": [],
      "machine_shape": "hm",
      "name": "Quickstart-Copy1.ipynb",
      "provenance": [],
      "include_colab_link": true
    },
    "kernelspec": {
      "display_name": "Python 3 (ipykernel)",
      "language": "python",
      "name": "python3"
    },
    "language_info": {
      "codemirror_mode": {
        "name": "ipython",
        "version": 3
      },
      "file_extension": ".py",
      "mimetype": "text/x-python",
      "name": "python",
      "nbconvert_exporter": "python",
      "pygments_lexer": "ipython3",
      "version": "3.8.10"
    },
    "widgets": {
      "application/vnd.jupyter.widget-state+json": {
        "8bc43e499f954384aefb3a2f7b48d306": {
          "model_module": "@jupyter-widgets/output",
          "model_name": "OutputModel",
          "model_module_version": "1.0.0",
          "state": {
            "_dom_classes": [],
            "_model_module": "@jupyter-widgets/output",
            "_model_module_version": "1.0.0",
            "_model_name": "OutputModel",
            "_view_count": null,
            "_view_module": "@jupyter-widgets/output",
            "_view_module_version": "1.0.0",
            "_view_name": "OutputView",
            "layout": "IPY_MODEL_02ac7698144942349a0d567205de281b",
            "msg_id": "",
            "outputs": [
              {
                "output_type": "display_data",
                "data": {
                  "text/plain": "✅  xgb_model            \u001b[38;2;15;15;16m━\u001b[0m\u001b[38;2;33;33;34m━\u001b[0m\u001b[38;2;55;55;58m━\u001b[0m\u001b[38;2;80;80;84m━\u001b[0m\u001b[38;2;105;105;110m━\u001b[0m\u001b[38;2;127;127;134m━\u001b[0m\u001b[38;2;145;145;152m━\u001b[0m\u001b[38;2;157;157;164m━\u001b[0m\u001b[38;2;161;161;169m━\u001b[0m\u001b[38;2;157;157;164m━\u001b[0m \u001b[38;2;155;155;159mPENDING\u001b[0m \u001b[39m[\u001b[0m\u001b[38;2;155;155;159m-:--:--\u001b[0m\u001b[39m]\u001b[0m                     \n    \u001b[4;38;2;161;161;169m↳ \u001b[0m\u001b]8;id=673378;https://app.layer.ai/bibhash/rci-competition/models/xgb_model?v=3.1\u001b\\\u001b[4;38;2;161;161;169mhttps://app.layer.ai/bibhash/rci-competition/models/xgb_model?v=3.1\u001b[0m\u001b]8;;\u001b\\ \n",
                  "text/html": "<pre style=\"white-space:pre;overflow-x:auto;line-height:normal;font-family:Menlo,'DejaVu Sans Mono',consolas,'Courier New',monospace\">✅  xgb_model            <span style=\"color: #0f0f10; text-decoration-color: #0f0f10\">━</span><span style=\"color: #212122; text-decoration-color: #212122\">━</span><span style=\"color: #37373a; text-decoration-color: #37373a\">━</span><span style=\"color: #505054; text-decoration-color: #505054\">━</span><span style=\"color: #69696e; text-decoration-color: #69696e\">━</span><span style=\"color: #7f7f86; text-decoration-color: #7f7f86\">━</span><span style=\"color: #919198; text-decoration-color: #919198\">━</span><span style=\"color: #9d9da4; text-decoration-color: #9d9da4\">━</span><span style=\"color: #a1a1a9; text-decoration-color: #a1a1a9\">━</span><span style=\"color: #9d9da4; text-decoration-color: #9d9da4\">━</span> <span style=\"color: #9b9b9f; text-decoration-color: #9b9b9f\">PENDING</span> <span style=\"color: #000000; text-decoration-color: #000000\">[</span><span style=\"color: #9b9b9f; text-decoration-color: #9b9b9f\">-:--:--</span><span style=\"color: #000000; text-decoration-color: #000000\">]</span>                     \n    <span style=\"color: #a1a1a9; text-decoration-color: #a1a1a9; text-decoration: underline\">↳ </span><a href=\"https://app.layer.ai/bibhash/rci-competition/models/xgb_model?v=3.1\" target=\"_blank\"><span style=\"color: #a1a1a9; text-decoration-color: #a1a1a9; text-decoration: underline\">https://app.layer.ai/bibhash/rci-competition/models/xgb_model?v=3.1</span></a> \n</pre>\n"
                },
                "metadata": {}
              }
            ]
          }
        },
        "02ac7698144942349a0d567205de281b": {
          "model_module": "@jupyter-widgets/base",
          "model_name": "LayoutModel",
          "model_module_version": "1.2.0",
          "state": {
            "_model_module": "@jupyter-widgets/base",
            "_model_module_version": "1.2.0",
            "_model_name": "LayoutModel",
            "_view_count": null,
            "_view_module": "@jupyter-widgets/base",
            "_view_module_version": "1.2.0",
            "_view_name": "LayoutView",
            "align_content": null,
            "align_items": null,
            "align_self": null,
            "border": null,
            "bottom": null,
            "display": null,
            "flex": null,
            "flex_flow": null,
            "grid_area": null,
            "grid_auto_columns": null,
            "grid_auto_flow": null,
            "grid_auto_rows": null,
            "grid_column": null,
            "grid_gap": null,
            "grid_row": null,
            "grid_template_areas": null,
            "grid_template_columns": null,
            "grid_template_rows": null,
            "height": null,
            "justify_content": null,
            "justify_items": null,
            "left": null,
            "margin": null,
            "max_height": null,
            "max_width": null,
            "min_height": null,
            "min_width": null,
            "object_fit": null,
            "object_position": null,
            "order": null,
            "overflow": null,
            "overflow_x": null,
            "overflow_y": null,
            "padding": null,
            "right": null,
            "top": null,
            "visibility": null,
            "width": null
          }
        },
        "f64dde4c82c341b2931ea648e9c0bc93": {
          "model_module": "@jupyter-widgets/controls",
          "model_name": "HBoxModel",
          "model_module_version": "1.5.0",
          "state": {
            "_dom_classes": [],
            "_model_module": "@jupyter-widgets/controls",
            "_model_module_version": "1.5.0",
            "_model_name": "HBoxModel",
            "_view_count": null,
            "_view_module": "@jupyter-widgets/controls",
            "_view_module_version": "1.5.0",
            "_view_name": "HBoxView",
            "box_style": "",
            "children": [
              "IPY_MODEL_af4eb78b527941449d0304125c894db9",
              "IPY_MODEL_67d1fed3973f48608de7d92b4fdea856",
              "IPY_MODEL_3b7c320a47634df2b8171ee620d5800a"
            ],
            "layout": "IPY_MODEL_8958aec5e0ce4b9586c97957e1e6c54f"
          }
        },
        "af4eb78b527941449d0304125c894db9": {
          "model_module": "@jupyter-widgets/controls",
          "model_name": "HTMLModel",
          "model_module_version": "1.5.0",
          "state": {
            "_dom_classes": [],
            "_model_module": "@jupyter-widgets/controls",
            "_model_module_version": "1.5.0",
            "_model_name": "HTMLModel",
            "_view_count": null,
            "_view_module": "@jupyter-widgets/controls",
            "_view_module_version": "1.5.0",
            "_view_name": "HTMLView",
            "description": "",
            "description_tooltip": null,
            "layout": "IPY_MODEL_76af87609a864066ac75f234b9cca284",
            "placeholder": "​",
            "style": "IPY_MODEL_5bc273d3243d47ef9bea7d35e988855d",
            "value": "100%"
          }
        },
        "67d1fed3973f48608de7d92b4fdea856": {
          "model_module": "@jupyter-widgets/controls",
          "model_name": "FloatProgressModel",
          "model_module_version": "1.5.0",
          "state": {
            "_dom_classes": [],
            "_model_module": "@jupyter-widgets/controls",
            "_model_module_version": "1.5.0",
            "_model_name": "FloatProgressModel",
            "_view_count": null,
            "_view_module": "@jupyter-widgets/controls",
            "_view_module_version": "1.5.0",
            "_view_name": "ProgressView",
            "bar_style": "success",
            "description": "",
            "description_tooltip": null,
            "layout": "IPY_MODEL_5fb4cffd5b274df4b314fa3aa34c43a9",
            "max": 968,
            "min": 0,
            "orientation": "horizontal",
            "style": "IPY_MODEL_a30777d8e26f4e33b8aaac44bcbb16a7",
            "value": 968
          }
        },
        "3b7c320a47634df2b8171ee620d5800a": {
          "model_module": "@jupyter-widgets/controls",
          "model_name": "HTMLModel",
          "model_module_version": "1.5.0",
          "state": {
            "_dom_classes": [],
            "_model_module": "@jupyter-widgets/controls",
            "_model_module_version": "1.5.0",
            "_model_name": "HTMLModel",
            "_view_count": null,
            "_view_module": "@jupyter-widgets/controls",
            "_view_module_version": "1.5.0",
            "_view_name": "HTMLView",
            "description": "",
            "description_tooltip": null,
            "layout": "IPY_MODEL_b410103791814b56b37c0900c0f02d9e",
            "placeholder": "​",
            "style": "IPY_MODEL_6900829c155f49488618b7b4a0297d30",
            "value": " 968/968 [01:03&lt;00:00, 16.89it/s]"
          }
        },
        "8958aec5e0ce4b9586c97957e1e6c54f": {
          "model_module": "@jupyter-widgets/base",
          "model_name": "LayoutModel",
          "model_module_version": "1.2.0",
          "state": {
            "_model_module": "@jupyter-widgets/base",
            "_model_module_version": "1.2.0",
            "_model_name": "LayoutModel",
            "_view_count": null,
            "_view_module": "@jupyter-widgets/base",
            "_view_module_version": "1.2.0",
            "_view_name": "LayoutView",
            "align_content": null,
            "align_items": null,
            "align_self": null,
            "border": null,
            "bottom": null,
            "display": null,
            "flex": null,
            "flex_flow": null,
            "grid_area": null,
            "grid_auto_columns": null,
            "grid_auto_flow": null,
            "grid_auto_rows": null,
            "grid_column": null,
            "grid_gap": null,
            "grid_row": null,
            "grid_template_areas": null,
            "grid_template_columns": null,
            "grid_template_rows": null,
            "height": null,
            "justify_content": null,
            "justify_items": null,
            "left": null,
            "margin": null,
            "max_height": null,
            "max_width": null,
            "min_height": null,
            "min_width": null,
            "object_fit": null,
            "object_position": null,
            "order": null,
            "overflow": null,
            "overflow_x": null,
            "overflow_y": null,
            "padding": null,
            "right": null,
            "top": null,
            "visibility": null,
            "width": null
          }
        },
        "76af87609a864066ac75f234b9cca284": {
          "model_module": "@jupyter-widgets/base",
          "model_name": "LayoutModel",
          "model_module_version": "1.2.0",
          "state": {
            "_model_module": "@jupyter-widgets/base",
            "_model_module_version": "1.2.0",
            "_model_name": "LayoutModel",
            "_view_count": null,
            "_view_module": "@jupyter-widgets/base",
            "_view_module_version": "1.2.0",
            "_view_name": "LayoutView",
            "align_content": null,
            "align_items": null,
            "align_self": null,
            "border": null,
            "bottom": null,
            "display": null,
            "flex": null,
            "flex_flow": null,
            "grid_area": null,
            "grid_auto_columns": null,
            "grid_auto_flow": null,
            "grid_auto_rows": null,
            "grid_column": null,
            "grid_gap": null,
            "grid_row": null,
            "grid_template_areas": null,
            "grid_template_columns": null,
            "grid_template_rows": null,
            "height": null,
            "justify_content": null,
            "justify_items": null,
            "left": null,
            "margin": null,
            "max_height": null,
            "max_width": null,
            "min_height": null,
            "min_width": null,
            "object_fit": null,
            "object_position": null,
            "order": null,
            "overflow": null,
            "overflow_x": null,
            "overflow_y": null,
            "padding": null,
            "right": null,
            "top": null,
            "visibility": null,
            "width": null
          }
        },
        "5bc273d3243d47ef9bea7d35e988855d": {
          "model_module": "@jupyter-widgets/controls",
          "model_name": "DescriptionStyleModel",
          "model_module_version": "1.5.0",
          "state": {
            "_model_module": "@jupyter-widgets/controls",
            "_model_module_version": "1.5.0",
            "_model_name": "DescriptionStyleModel",
            "_view_count": null,
            "_view_module": "@jupyter-widgets/base",
            "_view_module_version": "1.2.0",
            "_view_name": "StyleView",
            "description_width": ""
          }
        },
        "5fb4cffd5b274df4b314fa3aa34c43a9": {
          "model_module": "@jupyter-widgets/base",
          "model_name": "LayoutModel",
          "model_module_version": "1.2.0",
          "state": {
            "_model_module": "@jupyter-widgets/base",
            "_model_module_version": "1.2.0",
            "_model_name": "LayoutModel",
            "_view_count": null,
            "_view_module": "@jupyter-widgets/base",
            "_view_module_version": "1.2.0",
            "_view_name": "LayoutView",
            "align_content": null,
            "align_items": null,
            "align_self": null,
            "border": null,
            "bottom": null,
            "display": null,
            "flex": null,
            "flex_flow": null,
            "grid_area": null,
            "grid_auto_columns": null,
            "grid_auto_flow": null,
            "grid_auto_rows": null,
            "grid_column": null,
            "grid_gap": null,
            "grid_row": null,
            "grid_template_areas": null,
            "grid_template_columns": null,
            "grid_template_rows": null,
            "height": null,
            "justify_content": null,
            "justify_items": null,
            "left": null,
            "margin": null,
            "max_height": null,
            "max_width": null,
            "min_height": null,
            "min_width": null,
            "object_fit": null,
            "object_position": null,
            "order": null,
            "overflow": null,
            "overflow_x": null,
            "overflow_y": null,
            "padding": null,
            "right": null,
            "top": null,
            "visibility": null,
            "width": null
          }
        },
        "a30777d8e26f4e33b8aaac44bcbb16a7": {
          "model_module": "@jupyter-widgets/controls",
          "model_name": "ProgressStyleModel",
          "model_module_version": "1.5.0",
          "state": {
            "_model_module": "@jupyter-widgets/controls",
            "_model_module_version": "1.5.0",
            "_model_name": "ProgressStyleModel",
            "_view_count": null,
            "_view_module": "@jupyter-widgets/base",
            "_view_module_version": "1.2.0",
            "_view_name": "StyleView",
            "bar_color": null,
            "description_width": ""
          }
        },
        "b410103791814b56b37c0900c0f02d9e": {
          "model_module": "@jupyter-widgets/base",
          "model_name": "LayoutModel",
          "model_module_version": "1.2.0",
          "state": {
            "_model_module": "@jupyter-widgets/base",
            "_model_module_version": "1.2.0",
            "_model_name": "LayoutModel",
            "_view_count": null,
            "_view_module": "@jupyter-widgets/base",
            "_view_module_version": "1.2.0",
            "_view_name": "LayoutView",
            "align_content": null,
            "align_items": null,
            "align_self": null,
            "border": null,
            "bottom": null,
            "display": null,
            "flex": null,
            "flex_flow": null,
            "grid_area": null,
            "grid_auto_columns": null,
            "grid_auto_flow": null,
            "grid_auto_rows": null,
            "grid_column": null,
            "grid_gap": null,
            "grid_row": null,
            "grid_template_areas": null,
            "grid_template_columns": null,
            "grid_template_rows": null,
            "height": null,
            "justify_content": null,
            "justify_items": null,
            "left": null,
            "margin": null,
            "max_height": null,
            "max_width": null,
            "min_height": null,
            "min_width": null,
            "object_fit": null,
            "object_position": null,
            "order": null,
            "overflow": null,
            "overflow_x": null,
            "overflow_y": null,
            "padding": null,
            "right": null,
            "top": null,
            "visibility": null,
            "width": null
          }
        },
        "6900829c155f49488618b7b4a0297d30": {
          "model_module": "@jupyter-widgets/controls",
          "model_name": "DescriptionStyleModel",
          "model_module_version": "1.5.0",
          "state": {
            "_model_module": "@jupyter-widgets/controls",
            "_model_module_version": "1.5.0",
            "_model_name": "DescriptionStyleModel",
            "_view_count": null,
            "_view_module": "@jupyter-widgets/base",
            "_view_module_version": "1.2.0",
            "_view_name": "StyleView",
            "description_width": ""
          }
        }
      }
    },
    "gpuClass": "standard",
    "accelerator": "GPU"
  },
  "nbformat": 4,
  "nbformat_minor": 0
}