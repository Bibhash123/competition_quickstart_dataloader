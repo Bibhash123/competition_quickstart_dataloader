{
  "cells": [
    {
      "cell_type": "markdown",
      "metadata": {
        "id": "view-in-github",
        "colab_type": "text"
      },
      "source": [
        "<a href=\"https://colab.research.google.com/github/Bibhash123/competition_quickstart_dataloader/blob/main/Solution.ipynb\" target=\"_parent\"><img src=\"https://colab.research.google.com/assets/colab-badge.svg\" alt=\"Open In Colab\"/></a>"
      ]
    },
    {
      "cell_type": "markdown",
      "metadata": {
        "id": "ftqpYUgS8R3K"
      },
      "source": [
        "## This is a sample jupyter notebook to generate the prediction for competition submission"
      ]
    },
    {
      "cell_type": "markdown",
      "metadata": {
        "id": "NQLWgQD89hcA"
      },
      "source": [
        "### Download and import custom module from RCI repo to get latest dataset from IPFS"
      ]
    },
    {
      "cell_type": "code",
      "execution_count": null,
      "metadata": {
        "id": "BKdPUCb4hHWl"
      },
      "outputs": [],
      "source": [
        "# # download custom module from RCI github repo which enable us to download dataset directly from IPFS\n",
        "# !wget -O dataloader.py https://raw.githubusercontent.com/rocketcapital-ai/competition_quickstart_dataloader/main/dataloader.py\n",
        "\n",
        "# # import modules\n",
        "# import sys, zipfile\n",
        "# from google.colab import files\n",
        "\n",
        "# # append the directory of downloaded custom module to system path so we can import it\n",
        "# sys.path.append('/content/')\n",
        "\n",
        "# # install base58 module to decrpt the dataset\n",
        "# !pip install base58\n",
        "\n",
        "# # import the downloaded module\n",
        "# from dataloader import download_dataset\n",
        "\n",
        "# # download latest dataset from IPFS\n",
        "# filename = download_dataset()\n",
        "\n",
        "# # unzip the file\n",
        "# with zipfile.ZipFile(filename, 'r') as zip_ref:\n",
        "#     zip_ref.extractall()\n"
      ]
    },
    {
      "cell_type": "code",
      "source": [
        "!wget https://rocketcompetition.mypinata.cloud/ipfs/QmZvEiqvQ348rexHZea73heDBtugycCJCN2bMafGhCq6Bm\n",
        "!unzip -q QmZvEiqvQ348rexHZea73heDBtugycCJCN2bMafGhCq6Bm -d \"/content/\"\n",
        "!rm -r QmZvEiqvQ348rexHZea73heDBtugycCJCN2bMafGhCq6Bm"
      ],
      "metadata": {
        "colab": {
          "base_uri": "https://localhost:8080/"
        },
        "id": "2GmJgHsYyuu7",
        "outputId": "fe66d623-0ea8-4322-eaec-980673b1591e"
      },
      "execution_count": 1,
      "outputs": [
        {
          "output_type": "stream",
          "name": "stdout",
          "text": [
            "--2022-06-13 17:42:39--  https://rocketcompetition.mypinata.cloud/ipfs/QmZvEiqvQ348rexHZea73heDBtugycCJCN2bMafGhCq6Bm\n",
            "Resolving rocketcompetition.mypinata.cloud (rocketcompetition.mypinata.cloud)... 104.18.30.237, 104.18.31.237, 2606:4700::6812:1eed, ...\n",
            "Connecting to rocketcompetition.mypinata.cloud (rocketcompetition.mypinata.cloud)|104.18.30.237|:443... connected.\n",
            "HTTP request sent, awaiting response... 200 OK\n",
            "Length: 351664530 (335M) [application/zip]\n",
            "Saving to: ‘QmZvEiqvQ348rexHZea73heDBtugycCJCN2bMafGhCq6Bm’\n",
            "\n",
            "QmZvEiqvQ348rexHZea 100%[===================>] 335.37M  73.1MB/s    in 4.6s    \n",
            "\n",
            "2022-06-13 17:42:45 (72.3 MB/s) - ‘QmZvEiqvQ348rexHZea73heDBtugycCJCN2bMafGhCq6Bm’ saved [351664530/351664530]\n",
            "\n"
          ]
        }
      ]
    },
    {
      "cell_type": "markdown",
      "metadata": {
        "id": "bnhEMubk8R3L"
      },
      "source": [
        "### Loading train_dataset and validation_dataset"
      ]
    },
    {
      "cell_type": "code",
      "execution_count": 1,
      "metadata": {
        "id": "Sx1oARDq8R3L"
      },
      "outputs": [],
      "source": [
        "import pandas as pd\n",
        "import numpy as np\n",
        "import scipy as sp\n",
        "import warnings\n",
        "warnings.filterwarnings(action='ignore', category=UserWarning)\n",
        "\n",
        "train_dataset  = pd.read_csv('/content/dataset/train_dataset.csv', index_col = 'date')\n",
        "# validation_dataset  = pd.read_csv('/content/dataset/validation_dataset.csv', index_col = 'date')\n"
      ]
    },
    {
      "cell_type": "code",
      "source": [
        "train_dataset = train_dataset.reset_index(drop=False).sort_values(by=[\"symbol\",\"date\"])\n",
        "# validation_dataset = validation_dataset.reset_index(drop=False).sort_values(by=[\"symbol\",\"date\"])"
      ],
      "metadata": {
        "id": "C7J4gI1oKElb"
      },
      "execution_count": 2,
      "outputs": []
    },
    {
      "cell_type": "code",
      "execution_count": 3,
      "metadata": {
        "colab": {
          "base_uri": "https://localhost:8080/",
          "height": 386
        },
        "id": "9S5S-hgR8R3M",
        "outputId": "cf2b6e99-15ec-4276-dcce-a5445f82a670"
      },
      "outputs": [
        {
          "output_type": "execute_result",
          "data": {
            "text/plain": [
              "            date symbol  feature_1  feature_2  feature_3  feature_4  \\\n",
              "5286  2018-12-23  0xBTC   0.974026   0.987013   0.978355   0.991342   \n",
              "5376  2018-12-30  0xBTC   0.016878   0.033755   0.949367   0.936709   \n",
              "5647  2019-01-06  0xBTC   0.158996   0.016736   0.033473   0.928870   \n",
              "6009  2019-01-13  0xBTC   0.737500   0.279167   0.020833   0.054167   \n",
              "6132  2019-01-20  0xBTC   0.983607   0.987705   0.983607   0.430328   \n",
              "\n",
              "      feature_5  feature_6  feature_7  feature_8  ...  feature_2003  \\\n",
              "5286   0.982684   0.982684   0.982684   0.978355  ...      0.887446   \n",
              "5376   0.978903   0.907173   0.962025   0.953586  ...      0.936709   \n",
              "5647   0.868201   0.941423   0.740586   0.933054  ...      0.891213   \n",
              "6009   0.945833   0.908333   0.962500   0.870833  ...      0.645833   \n",
              "6132   0.971311   0.991803   0.987705   0.991803  ...      0.504098   \n",
              "\n",
              "      feature_2004  feature_2005  feature_2006  feature_2007  feature_2008  \\\n",
              "5286      0.857143      0.857143      0.857143      0.835498      0.839827   \n",
              "5376      0.953586      0.962025      0.932489      0.940928      0.945148   \n",
              "5647      0.874477      0.857741      0.912134      0.849372      0.807531   \n",
              "6009      0.600000      0.541667      0.691667      0.591667      0.504167   \n",
              "6132      0.454918      0.422131      0.553279      0.368852      0.331967   \n",
              "\n",
              "      feature_2009  feature_DC1    target  target_DC1  \n",
              "5286      0.839827     0.891775  0.095238   -0.211551  \n",
              "5376      0.915612     0.101266  0.046414   -0.192849  \n",
              "5647      0.878661     0.050209  0.284519   -0.263822  \n",
              "6009      0.670833     0.287500  0.391667    0.023985  \n",
              "6132      0.450820     0.397541  0.032787   -0.251842  \n",
              "\n",
              "[5 rows x 2014 columns]"
            ],
            "text/html": [
              "\n",
              "  <div id=\"df-0dac0fa4-512a-4903-be48-9793bd60a6c1\">\n",
              "    <div class=\"colab-df-container\">\n",
              "      <div>\n",
              "<style scoped>\n",
              "    .dataframe tbody tr th:only-of-type {\n",
              "        vertical-align: middle;\n",
              "    }\n",
              "\n",
              "    .dataframe tbody tr th {\n",
              "        vertical-align: top;\n",
              "    }\n",
              "\n",
              "    .dataframe thead th {\n",
              "        text-align: right;\n",
              "    }\n",
              "</style>\n",
              "<table border=\"1\" class=\"dataframe\">\n",
              "  <thead>\n",
              "    <tr style=\"text-align: right;\">\n",
              "      <th></th>\n",
              "      <th>date</th>\n",
              "      <th>symbol</th>\n",
              "      <th>feature_1</th>\n",
              "      <th>feature_2</th>\n",
              "      <th>feature_3</th>\n",
              "      <th>feature_4</th>\n",
              "      <th>feature_5</th>\n",
              "      <th>feature_6</th>\n",
              "      <th>feature_7</th>\n",
              "      <th>feature_8</th>\n",
              "      <th>...</th>\n",
              "      <th>feature_2003</th>\n",
              "      <th>feature_2004</th>\n",
              "      <th>feature_2005</th>\n",
              "      <th>feature_2006</th>\n",
              "      <th>feature_2007</th>\n",
              "      <th>feature_2008</th>\n",
              "      <th>feature_2009</th>\n",
              "      <th>feature_DC1</th>\n",
              "      <th>target</th>\n",
              "      <th>target_DC1</th>\n",
              "    </tr>\n",
              "  </thead>\n",
              "  <tbody>\n",
              "    <tr>\n",
              "      <th>5286</th>\n",
              "      <td>2018-12-23</td>\n",
              "      <td>0xBTC</td>\n",
              "      <td>0.974026</td>\n",
              "      <td>0.987013</td>\n",
              "      <td>0.978355</td>\n",
              "      <td>0.991342</td>\n",
              "      <td>0.982684</td>\n",
              "      <td>0.982684</td>\n",
              "      <td>0.982684</td>\n",
              "      <td>0.978355</td>\n",
              "      <td>...</td>\n",
              "      <td>0.887446</td>\n",
              "      <td>0.857143</td>\n",
              "      <td>0.857143</td>\n",
              "      <td>0.857143</td>\n",
              "      <td>0.835498</td>\n",
              "      <td>0.839827</td>\n",
              "      <td>0.839827</td>\n",
              "      <td>0.891775</td>\n",
              "      <td>0.095238</td>\n",
              "      <td>-0.211551</td>\n",
              "    </tr>\n",
              "    <tr>\n",
              "      <th>5376</th>\n",
              "      <td>2018-12-30</td>\n",
              "      <td>0xBTC</td>\n",
              "      <td>0.016878</td>\n",
              "      <td>0.033755</td>\n",
              "      <td>0.949367</td>\n",
              "      <td>0.936709</td>\n",
              "      <td>0.978903</td>\n",
              "      <td>0.907173</td>\n",
              "      <td>0.962025</td>\n",
              "      <td>0.953586</td>\n",
              "      <td>...</td>\n",
              "      <td>0.936709</td>\n",
              "      <td>0.953586</td>\n",
              "      <td>0.962025</td>\n",
              "      <td>0.932489</td>\n",
              "      <td>0.940928</td>\n",
              "      <td>0.945148</td>\n",
              "      <td>0.915612</td>\n",
              "      <td>0.101266</td>\n",
              "      <td>0.046414</td>\n",
              "      <td>-0.192849</td>\n",
              "    </tr>\n",
              "    <tr>\n",
              "      <th>5647</th>\n",
              "      <td>2019-01-06</td>\n",
              "      <td>0xBTC</td>\n",
              "      <td>0.158996</td>\n",
              "      <td>0.016736</td>\n",
              "      <td>0.033473</td>\n",
              "      <td>0.928870</td>\n",
              "      <td>0.868201</td>\n",
              "      <td>0.941423</td>\n",
              "      <td>0.740586</td>\n",
              "      <td>0.933054</td>\n",
              "      <td>...</td>\n",
              "      <td>0.891213</td>\n",
              "      <td>0.874477</td>\n",
              "      <td>0.857741</td>\n",
              "      <td>0.912134</td>\n",
              "      <td>0.849372</td>\n",
              "      <td>0.807531</td>\n",
              "      <td>0.878661</td>\n",
              "      <td>0.050209</td>\n",
              "      <td>0.284519</td>\n",
              "      <td>-0.263822</td>\n",
              "    </tr>\n",
              "    <tr>\n",
              "      <th>6009</th>\n",
              "      <td>2019-01-13</td>\n",
              "      <td>0xBTC</td>\n",
              "      <td>0.737500</td>\n",
              "      <td>0.279167</td>\n",
              "      <td>0.020833</td>\n",
              "      <td>0.054167</td>\n",
              "      <td>0.945833</td>\n",
              "      <td>0.908333</td>\n",
              "      <td>0.962500</td>\n",
              "      <td>0.870833</td>\n",
              "      <td>...</td>\n",
              "      <td>0.645833</td>\n",
              "      <td>0.600000</td>\n",
              "      <td>0.541667</td>\n",
              "      <td>0.691667</td>\n",
              "      <td>0.591667</td>\n",
              "      <td>0.504167</td>\n",
              "      <td>0.670833</td>\n",
              "      <td>0.287500</td>\n",
              "      <td>0.391667</td>\n",
              "      <td>0.023985</td>\n",
              "    </tr>\n",
              "    <tr>\n",
              "      <th>6132</th>\n",
              "      <td>2019-01-20</td>\n",
              "      <td>0xBTC</td>\n",
              "      <td>0.983607</td>\n",
              "      <td>0.987705</td>\n",
              "      <td>0.983607</td>\n",
              "      <td>0.430328</td>\n",
              "      <td>0.971311</td>\n",
              "      <td>0.991803</td>\n",
              "      <td>0.987705</td>\n",
              "      <td>0.991803</td>\n",
              "      <td>...</td>\n",
              "      <td>0.504098</td>\n",
              "      <td>0.454918</td>\n",
              "      <td>0.422131</td>\n",
              "      <td>0.553279</td>\n",
              "      <td>0.368852</td>\n",
              "      <td>0.331967</td>\n",
              "      <td>0.450820</td>\n",
              "      <td>0.397541</td>\n",
              "      <td>0.032787</td>\n",
              "      <td>-0.251842</td>\n",
              "    </tr>\n",
              "  </tbody>\n",
              "</table>\n",
              "<p>5 rows × 2014 columns</p>\n",
              "</div>\n",
              "      <button class=\"colab-df-convert\" onclick=\"convertToInteractive('df-0dac0fa4-512a-4903-be48-9793bd60a6c1')\"\n",
              "              title=\"Convert this dataframe to an interactive table.\"\n",
              "              style=\"display:none;\">\n",
              "        \n",
              "  <svg xmlns=\"http://www.w3.org/2000/svg\" height=\"24px\"viewBox=\"0 0 24 24\"\n",
              "       width=\"24px\">\n",
              "    <path d=\"M0 0h24v24H0V0z\" fill=\"none\"/>\n",
              "    <path d=\"M18.56 5.44l.94 2.06.94-2.06 2.06-.94-2.06-.94-.94-2.06-.94 2.06-2.06.94zm-11 1L8.5 8.5l.94-2.06 2.06-.94-2.06-.94L8.5 2.5l-.94 2.06-2.06.94zm10 10l.94 2.06.94-2.06 2.06-.94-2.06-.94-.94-2.06-.94 2.06-2.06.94z\"/><path d=\"M17.41 7.96l-1.37-1.37c-.4-.4-.92-.59-1.43-.59-.52 0-1.04.2-1.43.59L10.3 9.45l-7.72 7.72c-.78.78-.78 2.05 0 2.83L4 21.41c.39.39.9.59 1.41.59.51 0 1.02-.2 1.41-.59l7.78-7.78 2.81-2.81c.8-.78.8-2.07 0-2.86zM5.41 20L4 18.59l7.72-7.72 1.47 1.35L5.41 20z\"/>\n",
              "  </svg>\n",
              "      </button>\n",
              "      \n",
              "  <style>\n",
              "    .colab-df-container {\n",
              "      display:flex;\n",
              "      flex-wrap:wrap;\n",
              "      gap: 12px;\n",
              "    }\n",
              "\n",
              "    .colab-df-convert {\n",
              "      background-color: #E8F0FE;\n",
              "      border: none;\n",
              "      border-radius: 50%;\n",
              "      cursor: pointer;\n",
              "      display: none;\n",
              "      fill: #1967D2;\n",
              "      height: 32px;\n",
              "      padding: 0 0 0 0;\n",
              "      width: 32px;\n",
              "    }\n",
              "\n",
              "    .colab-df-convert:hover {\n",
              "      background-color: #E2EBFA;\n",
              "      box-shadow: 0px 1px 2px rgba(60, 64, 67, 0.3), 0px 1px 3px 1px rgba(60, 64, 67, 0.15);\n",
              "      fill: #174EA6;\n",
              "    }\n",
              "\n",
              "    [theme=dark] .colab-df-convert {\n",
              "      background-color: #3B4455;\n",
              "      fill: #D2E3FC;\n",
              "    }\n",
              "\n",
              "    [theme=dark] .colab-df-convert:hover {\n",
              "      background-color: #434B5C;\n",
              "      box-shadow: 0px 1px 3px 1px rgba(0, 0, 0, 0.15);\n",
              "      filter: drop-shadow(0px 1px 2px rgba(0, 0, 0, 0.3));\n",
              "      fill: #FFFFFF;\n",
              "    }\n",
              "  </style>\n",
              "\n",
              "      <script>\n",
              "        const buttonEl =\n",
              "          document.querySelector('#df-0dac0fa4-512a-4903-be48-9793bd60a6c1 button.colab-df-convert');\n",
              "        buttonEl.style.display =\n",
              "          google.colab.kernel.accessAllowed ? 'block' : 'none';\n",
              "\n",
              "        async function convertToInteractive(key) {\n",
              "          const element = document.querySelector('#df-0dac0fa4-512a-4903-be48-9793bd60a6c1');\n",
              "          const dataTable =\n",
              "            await google.colab.kernel.invokeFunction('convertToInteractive',\n",
              "                                                     [key], {});\n",
              "          if (!dataTable) return;\n",
              "\n",
              "          const docLinkHtml = 'Like what you see? Visit the ' +\n",
              "            '<a target=\"_blank\" href=https://colab.research.google.com/notebooks/data_table.ipynb>data table notebook</a>'\n",
              "            + ' to learn more about interactive tables.';\n",
              "          element.innerHTML = '';\n",
              "          dataTable['output_type'] = 'display_data';\n",
              "          await google.colab.output.renderOutput(dataTable, element);\n",
              "          const docLink = document.createElement('div');\n",
              "          docLink.innerHTML = docLinkHtml;\n",
              "          element.appendChild(docLink);\n",
              "        }\n",
              "      </script>\n",
              "    </div>\n",
              "  </div>\n",
              "  "
            ]
          },
          "metadata": {},
          "execution_count": 3
        }
      ],
      "source": [
        "# first column (symbol) is the ticker\n",
        "# 'target_DC1' is the log of return for delta between current close to previous close\n",
        "# 'target' is the y which is ranked by Era using 'target_DC1'\n",
        "# the rest of the columns are features to be used for ML\n",
        "train_dataset.head()"
      ]
    },
    {
      "cell_type": "code",
      "source": [
        "symbols = train_dataset.symbol.unique()\n",
        "def prepareData(dataframe):\n",
        "  dataset = {}\n",
        "  for sym in symbols:\n",
        "    data = []\n",
        "    values = dataframe[dataframe['symbol']==sym].values\n",
        "    if values.shape[0]<10:\n",
        "      values = np.concatenate([values, np.zeros((10-values.shape[0], values.shape[1]))], axis=0)\n",
        "    n = values.shape[0]\n",
        "    for i in range(10,n if n>10 else n+1,1):\n",
        "      temp = np.expand_dims(values[i-10:i],axis = 0)\n",
        "      data.append(temp)\n",
        "    dataset[sym] = np.stack(data, axis = 0)\n",
        "  return dataset\n",
        "\n",
        "dataset = prepareData(train_dataset)"
      ],
      "metadata": {
        "id": "ZGLm7_zTMl9U"
      },
      "execution_count": null,
      "outputs": []
    },
    {
      "cell_type": "code",
      "source": [
        "for key,value in dataset.items():\n",
        "  assert value.shape==10, \"Assertion Failed\""
      ],
      "metadata": {
        "id": "Typ3AKIsTN22"
      },
      "execution_count": null,
      "outputs": []
    },
    {
      "cell_type": "markdown",
      "metadata": {
        "id": "bfLrwf_h8R3N"
      },
      "source": [
        "### Create X and y from train_dataset"
      ]
    },
    {
      "cell_type": "code",
      "execution_count": 4,
      "metadata": {
        "id": "y-C_C8iW8R3N"
      },
      "outputs": [],
      "source": [
        "# X is all the columns except the 'symbol', 'target', 'target_DC1'\n",
        "X = train_dataset.iloc[:, 1:-2]\n",
        "\n",
        "# y is just the target\n",
        "y = train_dataset.target"
      ]
    },
    {
      "cell_type": "code",
      "execution_count": 5,
      "metadata": {
        "colab": {
          "base_uri": "https://localhost:8080/",
          "height": 692
        },
        "id": "hiZCK6dT8R3O",
        "outputId": "e3e8f845-b116-4a3b-edc8-838b495ab431"
      },
      "outputs": [
        {
          "output_type": "execute_result",
          "data": {
            "text/plain": [
              "            feature_1  feature_2  feature_3  feature_4  feature_5  feature_6  \\\n",
              "date                                                                           \n",
              "2018-04-29   0.000000   0.000000   0.965517   0.000000   0.000000   0.000000   \n",
              "2018-04-29   0.310345   0.310345   0.137931   0.275862   0.206897   0.517241   \n",
              "2018-04-29   0.241379   0.068966   0.310345   0.344828   0.103448   0.103448   \n",
              "2018-04-29   0.758621   0.965517   0.896552   0.965517   0.965517   0.965517   \n",
              "2018-04-29   0.620690   0.413793   0.275862   0.413793   0.517241   0.362069   \n",
              "...               ...        ...        ...        ...        ...        ...   \n",
              "2022-06-05   0.602609   0.083478   0.067826   0.080000   0.946957   0.005217   \n",
              "2022-06-05   0.602609   0.613913   0.722609   0.606957   0.630435   0.588696   \n",
              "2022-06-05   0.966087   0.149565   0.111304   0.977391   0.980870   0.055652   \n",
              "2022-06-05   0.602609   0.613913   0.722609   0.606957   0.630435   0.588696   \n",
              "2022-06-05   0.085217   0.414783   0.986087   0.961739   0.881739   0.813913   \n",
              "\n",
              "            feature_7  feature_8  feature_9  feature_10  ...  feature_2001  \\\n",
              "date                                                     ...                 \n",
              "2018-04-29   0.000000   0.000000   0.000000    0.000000  ...      0.793103   \n",
              "2018-04-29   0.344828   0.689655   0.551724    0.689655  ...      0.241379   \n",
              "2018-04-29   0.379310   0.206897   0.103448    0.310345  ...      0.344828   \n",
              "2018-04-29   0.068966   0.275862   0.862069    0.482759  ...      0.827586   \n",
              "2018-04-29   0.758621   0.586207   0.758621    0.551724  ...      0.034483   \n",
              "...               ...        ...        ...         ...  ...           ...   \n",
              "2022-06-05   0.107826   0.074783   0.806957    0.184348  ...      0.935652   \n",
              "2022-06-05   0.651304   0.719130   0.529565    0.466087  ...      0.810435   \n",
              "2022-06-05   0.020870   0.092174   0.142609    0.986957  ...      0.613913   \n",
              "2022-06-05   0.487826   0.719130   0.688696    0.402609  ...      0.881739   \n",
              "2022-06-05   0.933913   0.968696   0.949565    0.952174  ...      0.987826   \n",
              "\n",
              "            feature_2002  feature_2003  feature_2004  feature_2005  \\\n",
              "date                                                                 \n",
              "2018-04-29      0.862069      0.689655      0.655172      0.655172   \n",
              "2018-04-29      0.137931      0.206897      0.206897      0.379310   \n",
              "2018-04-29      0.517241      0.379310      0.344828      0.310345   \n",
              "2018-04-29      0.758621      0.896552      0.931034      0.896552   \n",
              "2018-04-29      0.068966      0.482759      0.275862      0.172414   \n",
              "...                  ...           ...           ...           ...   \n",
              "2022-06-05      0.907826      0.848696      0.893913      0.906087   \n",
              "2022-06-05      0.885217      0.987826      0.987826      0.980870   \n",
              "2022-06-05      0.619130      0.586087      0.626087      0.636522   \n",
              "2022-06-05      0.878261      0.900870      0.871304      0.857391   \n",
              "2022-06-05      0.989565      0.972174      0.977391      0.979130   \n",
              "\n",
              "            feature_2006  feature_2007  feature_2008  feature_2009  \\\n",
              "date                                                                 \n",
              "2018-04-29      0.724138      0.827586      0.827586      0.931034   \n",
              "2018-04-29      0.172414      0.241379      0.379310      0.241379   \n",
              "2018-04-29      0.482759      0.655172      0.448276      0.724138   \n",
              "2018-04-29      0.931034      0.896552      0.896552      0.827586   \n",
              "2018-04-29      0.551724      0.103448      0.103448      0.137931   \n",
              "...                  ...           ...           ...           ...   \n",
              "2022-06-05      0.862609      0.944348      0.947826      0.930435   \n",
              "2022-06-05      0.986087      0.772174      0.709565      0.850435   \n",
              "2022-06-05      0.620870      0.659130      0.655652      0.667826   \n",
              "2022-06-05      0.859130      0.883478      0.881739      0.880000   \n",
              "2022-06-05      0.979130      0.989565      0.991304      0.987826   \n",
              "\n",
              "            feature_DC1  \n",
              "date                     \n",
              "2018-04-29     0.448276  \n",
              "2018-04-29     0.793103  \n",
              "2018-04-29     0.724138  \n",
              "2018-04-29     0.827586  \n",
              "2018-04-29     0.965517  \n",
              "...                 ...  \n",
              "2022-06-05     0.511304  \n",
              "2022-06-05     0.064348  \n",
              "2022-06-05     0.575652  \n",
              "2022-06-05     0.052174  \n",
              "2022-06-05     0.389565  \n",
              "\n",
              "[79893 rows x 2010 columns]"
            ],
            "text/html": [
              "\n",
              "  <div id=\"df-1f11a06a-8ae3-47e2-aa6e-83795c711d55\">\n",
              "    <div class=\"colab-df-container\">\n",
              "      <div>\n",
              "<style scoped>\n",
              "    .dataframe tbody tr th:only-of-type {\n",
              "        vertical-align: middle;\n",
              "    }\n",
              "\n",
              "    .dataframe tbody tr th {\n",
              "        vertical-align: top;\n",
              "    }\n",
              "\n",
              "    .dataframe thead th {\n",
              "        text-align: right;\n",
              "    }\n",
              "</style>\n",
              "<table border=\"1\" class=\"dataframe\">\n",
              "  <thead>\n",
              "    <tr style=\"text-align: right;\">\n",
              "      <th></th>\n",
              "      <th>feature_1</th>\n",
              "      <th>feature_2</th>\n",
              "      <th>feature_3</th>\n",
              "      <th>feature_4</th>\n",
              "      <th>feature_5</th>\n",
              "      <th>feature_6</th>\n",
              "      <th>feature_7</th>\n",
              "      <th>feature_8</th>\n",
              "      <th>feature_9</th>\n",
              "      <th>feature_10</th>\n",
              "      <th>...</th>\n",
              "      <th>feature_2001</th>\n",
              "      <th>feature_2002</th>\n",
              "      <th>feature_2003</th>\n",
              "      <th>feature_2004</th>\n",
              "      <th>feature_2005</th>\n",
              "      <th>feature_2006</th>\n",
              "      <th>feature_2007</th>\n",
              "      <th>feature_2008</th>\n",
              "      <th>feature_2009</th>\n",
              "      <th>feature_DC1</th>\n",
              "    </tr>\n",
              "    <tr>\n",
              "      <th>date</th>\n",
              "      <th></th>\n",
              "      <th></th>\n",
              "      <th></th>\n",
              "      <th></th>\n",
              "      <th></th>\n",
              "      <th></th>\n",
              "      <th></th>\n",
              "      <th></th>\n",
              "      <th></th>\n",
              "      <th></th>\n",
              "      <th></th>\n",
              "      <th></th>\n",
              "      <th></th>\n",
              "      <th></th>\n",
              "      <th></th>\n",
              "      <th></th>\n",
              "      <th></th>\n",
              "      <th></th>\n",
              "      <th></th>\n",
              "      <th></th>\n",
              "      <th></th>\n",
              "    </tr>\n",
              "  </thead>\n",
              "  <tbody>\n",
              "    <tr>\n",
              "      <th>2018-04-29</th>\n",
              "      <td>0.000000</td>\n",
              "      <td>0.000000</td>\n",
              "      <td>0.965517</td>\n",
              "      <td>0.000000</td>\n",
              "      <td>0.000000</td>\n",
              "      <td>0.000000</td>\n",
              "      <td>0.000000</td>\n",
              "      <td>0.000000</td>\n",
              "      <td>0.000000</td>\n",
              "      <td>0.000000</td>\n",
              "      <td>...</td>\n",
              "      <td>0.793103</td>\n",
              "      <td>0.862069</td>\n",
              "      <td>0.689655</td>\n",
              "      <td>0.655172</td>\n",
              "      <td>0.655172</td>\n",
              "      <td>0.724138</td>\n",
              "      <td>0.827586</td>\n",
              "      <td>0.827586</td>\n",
              "      <td>0.931034</td>\n",
              "      <td>0.448276</td>\n",
              "    </tr>\n",
              "    <tr>\n",
              "      <th>2018-04-29</th>\n",
              "      <td>0.310345</td>\n",
              "      <td>0.310345</td>\n",
              "      <td>0.137931</td>\n",
              "      <td>0.275862</td>\n",
              "      <td>0.206897</td>\n",
              "      <td>0.517241</td>\n",
              "      <td>0.344828</td>\n",
              "      <td>0.689655</td>\n",
              "      <td>0.551724</td>\n",
              "      <td>0.689655</td>\n",
              "      <td>...</td>\n",
              "      <td>0.241379</td>\n",
              "      <td>0.137931</td>\n",
              "      <td>0.206897</td>\n",
              "      <td>0.206897</td>\n",
              "      <td>0.379310</td>\n",
              "      <td>0.172414</td>\n",
              "      <td>0.241379</td>\n",
              "      <td>0.379310</td>\n",
              "      <td>0.241379</td>\n",
              "      <td>0.793103</td>\n",
              "    </tr>\n",
              "    <tr>\n",
              "      <th>2018-04-29</th>\n",
              "      <td>0.241379</td>\n",
              "      <td>0.068966</td>\n",
              "      <td>0.310345</td>\n",
              "      <td>0.344828</td>\n",
              "      <td>0.103448</td>\n",
              "      <td>0.103448</td>\n",
              "      <td>0.379310</td>\n",
              "      <td>0.206897</td>\n",
              "      <td>0.103448</td>\n",
              "      <td>0.310345</td>\n",
              "      <td>...</td>\n",
              "      <td>0.344828</td>\n",
              "      <td>0.517241</td>\n",
              "      <td>0.379310</td>\n",
              "      <td>0.344828</td>\n",
              "      <td>0.310345</td>\n",
              "      <td>0.482759</td>\n",
              "      <td>0.655172</td>\n",
              "      <td>0.448276</td>\n",
              "      <td>0.724138</td>\n",
              "      <td>0.724138</td>\n",
              "    </tr>\n",
              "    <tr>\n",
              "      <th>2018-04-29</th>\n",
              "      <td>0.758621</td>\n",
              "      <td>0.965517</td>\n",
              "      <td>0.896552</td>\n",
              "      <td>0.965517</td>\n",
              "      <td>0.965517</td>\n",
              "      <td>0.965517</td>\n",
              "      <td>0.068966</td>\n",
              "      <td>0.275862</td>\n",
              "      <td>0.862069</td>\n",
              "      <td>0.482759</td>\n",
              "      <td>...</td>\n",
              "      <td>0.827586</td>\n",
              "      <td>0.758621</td>\n",
              "      <td>0.896552</td>\n",
              "      <td>0.931034</td>\n",
              "      <td>0.896552</td>\n",
              "      <td>0.931034</td>\n",
              "      <td>0.896552</td>\n",
              "      <td>0.896552</td>\n",
              "      <td>0.827586</td>\n",
              "      <td>0.827586</td>\n",
              "    </tr>\n",
              "    <tr>\n",
              "      <th>2018-04-29</th>\n",
              "      <td>0.620690</td>\n",
              "      <td>0.413793</td>\n",
              "      <td>0.275862</td>\n",
              "      <td>0.413793</td>\n",
              "      <td>0.517241</td>\n",
              "      <td>0.362069</td>\n",
              "      <td>0.758621</td>\n",
              "      <td>0.586207</td>\n",
              "      <td>0.758621</td>\n",
              "      <td>0.551724</td>\n",
              "      <td>...</td>\n",
              "      <td>0.034483</td>\n",
              "      <td>0.068966</td>\n",
              "      <td>0.482759</td>\n",
              "      <td>0.275862</td>\n",
              "      <td>0.172414</td>\n",
              "      <td>0.551724</td>\n",
              "      <td>0.103448</td>\n",
              "      <td>0.103448</td>\n",
              "      <td>0.137931</td>\n",
              "      <td>0.965517</td>\n",
              "    </tr>\n",
              "    <tr>\n",
              "      <th>...</th>\n",
              "      <td>...</td>\n",
              "      <td>...</td>\n",
              "      <td>...</td>\n",
              "      <td>...</td>\n",
              "      <td>...</td>\n",
              "      <td>...</td>\n",
              "      <td>...</td>\n",
              "      <td>...</td>\n",
              "      <td>...</td>\n",
              "      <td>...</td>\n",
              "      <td>...</td>\n",
              "      <td>...</td>\n",
              "      <td>...</td>\n",
              "      <td>...</td>\n",
              "      <td>...</td>\n",
              "      <td>...</td>\n",
              "      <td>...</td>\n",
              "      <td>...</td>\n",
              "      <td>...</td>\n",
              "      <td>...</td>\n",
              "      <td>...</td>\n",
              "    </tr>\n",
              "    <tr>\n",
              "      <th>2022-06-05</th>\n",
              "      <td>0.602609</td>\n",
              "      <td>0.083478</td>\n",
              "      <td>0.067826</td>\n",
              "      <td>0.080000</td>\n",
              "      <td>0.946957</td>\n",
              "      <td>0.005217</td>\n",
              "      <td>0.107826</td>\n",
              "      <td>0.074783</td>\n",
              "      <td>0.806957</td>\n",
              "      <td>0.184348</td>\n",
              "      <td>...</td>\n",
              "      <td>0.935652</td>\n",
              "      <td>0.907826</td>\n",
              "      <td>0.848696</td>\n",
              "      <td>0.893913</td>\n",
              "      <td>0.906087</td>\n",
              "      <td>0.862609</td>\n",
              "      <td>0.944348</td>\n",
              "      <td>0.947826</td>\n",
              "      <td>0.930435</td>\n",
              "      <td>0.511304</td>\n",
              "    </tr>\n",
              "    <tr>\n",
              "      <th>2022-06-05</th>\n",
              "      <td>0.602609</td>\n",
              "      <td>0.613913</td>\n",
              "      <td>0.722609</td>\n",
              "      <td>0.606957</td>\n",
              "      <td>0.630435</td>\n",
              "      <td>0.588696</td>\n",
              "      <td>0.651304</td>\n",
              "      <td>0.719130</td>\n",
              "      <td>0.529565</td>\n",
              "      <td>0.466087</td>\n",
              "      <td>...</td>\n",
              "      <td>0.810435</td>\n",
              "      <td>0.885217</td>\n",
              "      <td>0.987826</td>\n",
              "      <td>0.987826</td>\n",
              "      <td>0.980870</td>\n",
              "      <td>0.986087</td>\n",
              "      <td>0.772174</td>\n",
              "      <td>0.709565</td>\n",
              "      <td>0.850435</td>\n",
              "      <td>0.064348</td>\n",
              "    </tr>\n",
              "    <tr>\n",
              "      <th>2022-06-05</th>\n",
              "      <td>0.966087</td>\n",
              "      <td>0.149565</td>\n",
              "      <td>0.111304</td>\n",
              "      <td>0.977391</td>\n",
              "      <td>0.980870</td>\n",
              "      <td>0.055652</td>\n",
              "      <td>0.020870</td>\n",
              "      <td>0.092174</td>\n",
              "      <td>0.142609</td>\n",
              "      <td>0.986957</td>\n",
              "      <td>...</td>\n",
              "      <td>0.613913</td>\n",
              "      <td>0.619130</td>\n",
              "      <td>0.586087</td>\n",
              "      <td>0.626087</td>\n",
              "      <td>0.636522</td>\n",
              "      <td>0.620870</td>\n",
              "      <td>0.659130</td>\n",
              "      <td>0.655652</td>\n",
              "      <td>0.667826</td>\n",
              "      <td>0.575652</td>\n",
              "    </tr>\n",
              "    <tr>\n",
              "      <th>2022-06-05</th>\n",
              "      <td>0.602609</td>\n",
              "      <td>0.613913</td>\n",
              "      <td>0.722609</td>\n",
              "      <td>0.606957</td>\n",
              "      <td>0.630435</td>\n",
              "      <td>0.588696</td>\n",
              "      <td>0.487826</td>\n",
              "      <td>0.719130</td>\n",
              "      <td>0.688696</td>\n",
              "      <td>0.402609</td>\n",
              "      <td>...</td>\n",
              "      <td>0.881739</td>\n",
              "      <td>0.878261</td>\n",
              "      <td>0.900870</td>\n",
              "      <td>0.871304</td>\n",
              "      <td>0.857391</td>\n",
              "      <td>0.859130</td>\n",
              "      <td>0.883478</td>\n",
              "      <td>0.881739</td>\n",
              "      <td>0.880000</td>\n",
              "      <td>0.052174</td>\n",
              "    </tr>\n",
              "    <tr>\n",
              "      <th>2022-06-05</th>\n",
              "      <td>0.085217</td>\n",
              "      <td>0.414783</td>\n",
              "      <td>0.986087</td>\n",
              "      <td>0.961739</td>\n",
              "      <td>0.881739</td>\n",
              "      <td>0.813913</td>\n",
              "      <td>0.933913</td>\n",
              "      <td>0.968696</td>\n",
              "      <td>0.949565</td>\n",
              "      <td>0.952174</td>\n",
              "      <td>...</td>\n",
              "      <td>0.987826</td>\n",
              "      <td>0.989565</td>\n",
              "      <td>0.972174</td>\n",
              "      <td>0.977391</td>\n",
              "      <td>0.979130</td>\n",
              "      <td>0.979130</td>\n",
              "      <td>0.989565</td>\n",
              "      <td>0.991304</td>\n",
              "      <td>0.987826</td>\n",
              "      <td>0.389565</td>\n",
              "    </tr>\n",
              "  </tbody>\n",
              "</table>\n",
              "<p>79893 rows × 2010 columns</p>\n",
              "</div>\n",
              "      <button class=\"colab-df-convert\" onclick=\"convertToInteractive('df-1f11a06a-8ae3-47e2-aa6e-83795c711d55')\"\n",
              "              title=\"Convert this dataframe to an interactive table.\"\n",
              "              style=\"display:none;\">\n",
              "        \n",
              "  <svg xmlns=\"http://www.w3.org/2000/svg\" height=\"24px\"viewBox=\"0 0 24 24\"\n",
              "       width=\"24px\">\n",
              "    <path d=\"M0 0h24v24H0V0z\" fill=\"none\"/>\n",
              "    <path d=\"M18.56 5.44l.94 2.06.94-2.06 2.06-.94-2.06-.94-.94-2.06-.94 2.06-2.06.94zm-11 1L8.5 8.5l.94-2.06 2.06-.94-2.06-.94L8.5 2.5l-.94 2.06-2.06.94zm10 10l.94 2.06.94-2.06 2.06-.94-2.06-.94-.94-2.06-.94 2.06-2.06.94z\"/><path d=\"M17.41 7.96l-1.37-1.37c-.4-.4-.92-.59-1.43-.59-.52 0-1.04.2-1.43.59L10.3 9.45l-7.72 7.72c-.78.78-.78 2.05 0 2.83L4 21.41c.39.39.9.59 1.41.59.51 0 1.02-.2 1.41-.59l7.78-7.78 2.81-2.81c.8-.78.8-2.07 0-2.86zM5.41 20L4 18.59l7.72-7.72 1.47 1.35L5.41 20z\"/>\n",
              "  </svg>\n",
              "      </button>\n",
              "      \n",
              "  <style>\n",
              "    .colab-df-container {\n",
              "      display:flex;\n",
              "      flex-wrap:wrap;\n",
              "      gap: 12px;\n",
              "    }\n",
              "\n",
              "    .colab-df-convert {\n",
              "      background-color: #E8F0FE;\n",
              "      border: none;\n",
              "      border-radius: 50%;\n",
              "      cursor: pointer;\n",
              "      display: none;\n",
              "      fill: #1967D2;\n",
              "      height: 32px;\n",
              "      padding: 0 0 0 0;\n",
              "      width: 32px;\n",
              "    }\n",
              "\n",
              "    .colab-df-convert:hover {\n",
              "      background-color: #E2EBFA;\n",
              "      box-shadow: 0px 1px 2px rgba(60, 64, 67, 0.3), 0px 1px 3px 1px rgba(60, 64, 67, 0.15);\n",
              "      fill: #174EA6;\n",
              "    }\n",
              "\n",
              "    [theme=dark] .colab-df-convert {\n",
              "      background-color: #3B4455;\n",
              "      fill: #D2E3FC;\n",
              "    }\n",
              "\n",
              "    [theme=dark] .colab-df-convert:hover {\n",
              "      background-color: #434B5C;\n",
              "      box-shadow: 0px 1px 3px 1px rgba(0, 0, 0, 0.15);\n",
              "      filter: drop-shadow(0px 1px 2px rgba(0, 0, 0, 0.3));\n",
              "      fill: #FFFFFF;\n",
              "    }\n",
              "  </style>\n",
              "\n",
              "      <script>\n",
              "        const buttonEl =\n",
              "          document.querySelector('#df-1f11a06a-8ae3-47e2-aa6e-83795c711d55 button.colab-df-convert');\n",
              "        buttonEl.style.display =\n",
              "          google.colab.kernel.accessAllowed ? 'block' : 'none';\n",
              "\n",
              "        async function convertToInteractive(key) {\n",
              "          const element = document.querySelector('#df-1f11a06a-8ae3-47e2-aa6e-83795c711d55');\n",
              "          const dataTable =\n",
              "            await google.colab.kernel.invokeFunction('convertToInteractive',\n",
              "                                                     [key], {});\n",
              "          if (!dataTable) return;\n",
              "\n",
              "          const docLinkHtml = 'Like what you see? Visit the ' +\n",
              "            '<a target=\"_blank\" href=https://colab.research.google.com/notebooks/data_table.ipynb>data table notebook</a>'\n",
              "            + ' to learn more about interactive tables.';\n",
              "          element.innerHTML = '';\n",
              "          dataTable['output_type'] = 'display_data';\n",
              "          await google.colab.output.renderOutput(dataTable, element);\n",
              "          const docLink = document.createElement('div');\n",
              "          docLink.innerHTML = docLinkHtml;\n",
              "          element.appendChild(docLink);\n",
              "        }\n",
              "      </script>\n",
              "    </div>\n",
              "  </div>\n",
              "  "
            ]
          },
          "metadata": {},
          "execution_count": 5
        }
      ],
      "source": [
        "X"
      ]
    },
    {
      "cell_type": "code",
      "execution_count": 6,
      "metadata": {
        "colab": {
          "base_uri": "https://localhost:8080/"
        },
        "id": "n3AiHcqh8R3O",
        "outputId": "60bc7e87-2c1d-4fdc-8f5b-e71caaaae271"
      },
      "outputs": [
        {
          "output_type": "execute_result",
          "data": {
            "text/plain": [
              "date\n",
              "2018-04-29    0.758621\n",
              "2018-04-29    0.517241\n",
              "2018-04-29    0.413793\n",
              "2018-04-29    0.275862\n",
              "2018-04-29    0.724138\n",
              "                ...   \n",
              "2022-06-05    0.932174\n",
              "2022-06-05    0.951304\n",
              "2022-06-05    0.116522\n",
              "2022-06-05    0.088696\n",
              "2022-06-05    0.972174\n",
              "Name: target, Length: 79893, dtype: float64"
            ]
          },
          "metadata": {},
          "execution_count": 6
        }
      ],
      "source": [
        "y"
      ]
    },
    {
      "cell_type": "markdown",
      "metadata": {
        "id": "-hTrF-1x8R3P"
      },
      "source": [
        "### Each era representing a set of cryptocurrency assets for the time period, the number of assets within each Era is different"
      ]
    },
    {
      "cell_type": "code",
      "execution_count": null,
      "metadata": {
        "colab": {
          "base_uri": "https://localhost:8080/",
          "height": 334
        },
        "id": "38VXk0008R3P",
        "outputId": "a46000c2-a417-47d1-a7c6-235064907787"
      },
      "outputs": [
        {
          "output_type": "display_data",
          "data": {
            "text/plain": [
              "<Figure size 720x360 with 1 Axes>"
            ],
            "image/png": "[encoded data removed]"
          },
          "metadata": {
            "needs_background": "light"
          }
        }
      ],
      "source": [
        "X.groupby(X.index).count().iloc[:,0].plot(figsize = (10,5));"
      ]
    },
    {
      "cell_type": "markdown",
      "metadata": {
        "id": "CaqtnWY78R3P"
      },
      "source": [
        "### Split X, y into train and test by era"
      ]
    },
    {
      "cell_type": "code",
      "execution_count": 7,
      "metadata": {
        "colab": {
          "base_uri": "https://localhost:8080/"
        },
        "id": "FqhwxuL58R3P",
        "outputId": "15458e99-8a1e-454e-c8a2-76bc0d893ceb"
      },
      "outputs": [
        {
          "output_type": "stream",
          "name": "stdout",
          "text": [
            "total Era: 215\n",
            "train Era: 193\n",
            "test Era: 22\n"
          ]
        }
      ],
      "source": [
        "train = 0.9\n",
        "test = 0.1\n",
        "era = len(X.index.unique())\n",
        "train_era = int(era * train)\n",
        "test_era = era - train_era\n",
        "print('total Era: {}'.format(era))\n",
        "print('train Era: {}'.format(train_era))\n",
        "print('test Era: {}'.format(test_era))\n"
      ]
    },
    {
      "cell_type": "code",
      "execution_count": 8,
      "metadata": {
        "colab": {
          "base_uri": "https://localhost:8080/"
        },
        "id": "IFLlfFTn8R3Q",
        "outputId": "2437a6d8-00ea-4c8f-ee10-a009cf90fa1b"
      },
      "outputs": [
        {
          "output_type": "stream",
          "name": "stdout",
          "text": [
            "X_train shape: (67222, 2010)\n",
            "X_test shape: (12671, 2010)\n"
          ]
        }
      ],
      "source": [
        "#split train and test set according to the train_era and test_era\n",
        "X_train = X[X.index < X.index.unique()[train_era]]\n",
        "y_train = y[y.index < y.index.unique()[train_era]]\n",
        "X_test = X[X.index >= X.index.unique()[train_era]]\n",
        "y_test = y[y.index >= y.index.unique()[train_era]]\n",
        "print('X_train shape: {}'.format(X_train.shape))\n",
        "print('X_test shape: {}'.format(X_test.shape))\n"
      ]
    },
    {
      "cell_type": "markdown",
      "metadata": {
        "id": "VPmHvRvv8R3Q"
      },
      "source": [
        "### Use simple Linear Regression to train a model and check the Spearman correlation"
      ]
    },
    {
      "cell_type": "code",
      "execution_count": 9,
      "metadata": {
        "id": "QkGs7IpI8R3Q",
        "colab": {
          "base_uri": "https://localhost:8080/"
        },
        "outputId": "9a80dab9-b996-4db3-88f0-651b7ef41741"
      },
      "outputs": [
        {
          "output_type": "stream",
          "name": "stdout",
          "text": [
            "[0]\tvalidation_0-rmse:0.286194\tvalidation_1-rmse:0.288702\n",
            "Multiple eval metrics have been passed: 'validation_1-rmse' will be used for early stopping.\n",
            "\n",
            "Will train until validation_1-rmse hasn't improved in 10 rounds.\n",
            "Stopping. Best iteration:\n",
            "[18]\tvalidation_0-rmse:0.245851\tvalidation_1-rmse:0.286893\n",
            "\n"
          ]
        },
        {
          "output_type": "execute_result",
          "data": {
            "text/plain": [
              "XGBRegressor(max_depth=9, n_estimators=1000, objective='reg:squarederror',\n",
              "             reg_alpha=0.01, tree_method='gpu_hist')"
            ]
          },
          "metadata": {},
          "execution_count": 9
        }
      ],
      "source": [
        "from sklearn.linear_model import LinearRegression\n",
        "from xgboost import XGBRegressor\n",
        "\n",
        "params = {'objective' : \"reg:squarederror\", 'n_estimators' : 1000, 'tree_method' : \"gpu_hist\", 'max_depth':9, \"reg_alpha\":0.01}\n",
        "\n",
        "reg = XGBRegressor(**params)\n",
        "reg.fit(X_train, y_train, eval_metric = \"rmse\", eval_set=[(X_train,y_train),(X_test, y_test)], early_stopping_rounds = 10, verbose = 100)"
      ]
    },
    {
      "cell_type": "code",
      "execution_count": 27,
      "metadata": {
        "colab": {
          "base_uri": "https://localhost:8080/"
        },
        "id": "ETY9qjj58R3Q",
        "outputId": "430d087e-b706-4195-c9fc-debb25fa65dd"
      },
      "outputs": [
        {
          "output_type": "stream",
          "name": "stdout",
          "text": [
            "Train dataset Spearman correlation: mean = 0.7047 ; std = 0.0369 ; max = 0.8377 ; min = 0.5771\n",
            "Test dataset Spearman correlation: mean = 0.1037 ; std = 0.0628 ; max = 0.2461 ; min = -0.0039\n"
          ]
        }
      ],
      "source": [
        "# function to calculate Spearman correlation by era (mean, std, max, min)\n",
        "# we want to maximize but maintain stable correlation across era to maximize both challenge and competition reward\n",
        "def spearman_by_era(prediction, target):\n",
        "  df = pd.DataFrame(index=target.index,\n",
        "                    data = {'prediction': prediction,\n",
        "                            'target': target}\n",
        "                    )\n",
        "  \n",
        "  spearman_era_list = []\n",
        "  for era in df.index.unique():\n",
        "    era_df = df[df.index == era]\n",
        "    spearman_corr = sp.stats.spearmanr(era_df.prediction, era_df.target)[0]\n",
        "    spearman_era_list.append(spearman_corr)\n",
        "\n",
        "  mean = np.mean(spearman_era_list)\n",
        "  std = np.std(spearman_era_list)\n",
        "  max = np.max(spearman_era_list)\n",
        "  min = np.min(spearman_era_list)\n",
        "  return mean, std, max, min\n",
        "  \n",
        "y_pred_train = reg.predict(X_train)\n",
        "train_spearman = spearman_by_era(y_pred_train, y_train)\n",
        "print('Train dataset Spearman correlation: mean = {} ; std = {} ; max = {} ; min = {}'.format(round(train_spearman[0], 4), \n",
        "                                                                                            round(train_spearman[1], 4),\n",
        "                                                                                            round(train_spearman[2], 4),\n",
        "                                                                                            round(train_spearman[3], 4),\n",
        "                                                                                            ))\n",
        "\n",
        "y_pred_test = reg.predict(X_test)\n",
        "test_spearman = spearman_by_era(y_pred_test, y_test)\n",
        "print('Test dataset Spearman correlation: mean = {} ; std = {} ; max = {} ; min = {}'.format(round(test_spearman[0], 4),\n",
        "                                                                                            round(test_spearman[1], 4),\n",
        "                                                                                            round(test_spearman[2], 4),\n",
        "                                                                                            round(test_spearman[3], 4),\n",
        "                                                                                            ))\n"
      ]
    },
    {
      "cell_type": "code",
      "execution_count": 28,
      "metadata": {
        "colab": {
          "base_uri": "https://localhost:8080/"
        },
        "id": "wemVQ7xo8R3Q",
        "outputId": "51d2976e-494e-4ccb-f97f-958ee4eee094"
      },
      "outputs": [
        {
          "output_type": "execute_result",
          "data": {
            "text/plain": [
              "array([0.47534436, 0.5070021 , 0.35265437, 0.4615777 , 0.5145721 ],\n",
              "      dtype=float32)"
            ]
          },
          "metadata": {},
          "execution_count": 28
        }
      ],
      "source": [
        "# Use the trained Linear Regression model to make prediction on latest data\n",
        "\n",
        "X_validation = validation_dataset.iloc[:, 1:-2]\n",
        "y_validation_linear_reg = reg.predict(X_validation)\n",
        "\n",
        "y_validation_linear_reg[:5]"
      ]
    },
    {
      "cell_type": "markdown",
      "metadata": {
        "id": "wPdrXYI58R3R"
      },
      "source": [
        "### Let's use the prediction from linear regression to join with validation dataset symbol for submission"
      ]
    },
    {
      "cell_type": "code",
      "execution_count": 29,
      "metadata": {
        "colab": {
          "base_uri": "https://localhost:8080/",
          "height": 424
        },
        "id": "OKwa_RfT8R3R",
        "outputId": "b84d3e0b-dfe3-48e4-9712-d54fa27de08c"
      },
      "outputs": [
        {
          "output_type": "execute_result",
          "data": {
            "text/plain": [
              "    symbol  prediction\n",
              "127    IXT    0.231780\n",
              "677    DYP    0.267667\n",
              "549    FNB    0.296755\n",
              "291    PRQ    0.304200\n",
              "72     DMT    0.304408\n",
              "..     ...         ...\n",
              "443    S4F    0.630962\n",
              "78     MTH    0.632966\n",
              "57     RDN    0.650649\n",
              "588   PPAY    0.658112\n",
              "250   EVED    0.676282\n",
              "\n",
              "[704 rows x 2 columns]"
            ],
            "text/html": [
              "\n",
              "  <div id=\"df-4b614d14-bbc8-41b5-be19-246f4d9adb20\">\n",
              "    <div class=\"colab-df-container\">\n",
              "      <div>\n",
              "<style scoped>\n",
              "    .dataframe tbody tr th:only-of-type {\n",
              "        vertical-align: middle;\n",
              "    }\n",
              "\n",
              "    .dataframe tbody tr th {\n",
              "        vertical-align: top;\n",
              "    }\n",
              "\n",
              "    .dataframe thead th {\n",
              "        text-align: right;\n",
              "    }\n",
              "</style>\n",
              "<table border=\"1\" class=\"dataframe\">\n",
              "  <thead>\n",
              "    <tr style=\"text-align: right;\">\n",
              "      <th></th>\n",
              "      <th>symbol</th>\n",
              "      <th>prediction</th>\n",
              "    </tr>\n",
              "  </thead>\n",
              "  <tbody>\n",
              "    <tr>\n",
              "      <th>127</th>\n",
              "      <td>IXT</td>\n",
              "      <td>0.231780</td>\n",
              "    </tr>\n",
              "    <tr>\n",
              "      <th>677</th>\n",
              "      <td>DYP</td>\n",
              "      <td>0.267667</td>\n",
              "    </tr>\n",
              "    <tr>\n",
              "      <th>549</th>\n",
              "      <td>FNB</td>\n",
              "      <td>0.296755</td>\n",
              "    </tr>\n",
              "    <tr>\n",
              "      <th>291</th>\n",
              "      <td>PRQ</td>\n",
              "      <td>0.304200</td>\n",
              "    </tr>\n",
              "    <tr>\n",
              "      <th>72</th>\n",
              "      <td>DMT</td>\n",
              "      <td>0.304408</td>\n",
              "    </tr>\n",
              "    <tr>\n",
              "      <th>...</th>\n",
              "      <td>...</td>\n",
              "      <td>...</td>\n",
              "    </tr>\n",
              "    <tr>\n",
              "      <th>443</th>\n",
              "      <td>S4F</td>\n",
              "      <td>0.630962</td>\n",
              "    </tr>\n",
              "    <tr>\n",
              "      <th>78</th>\n",
              "      <td>MTH</td>\n",
              "      <td>0.632966</td>\n",
              "    </tr>\n",
              "    <tr>\n",
              "      <th>57</th>\n",
              "      <td>RDN</td>\n",
              "      <td>0.650649</td>\n",
              "    </tr>\n",
              "    <tr>\n",
              "      <th>588</th>\n",
              "      <td>PPAY</td>\n",
              "      <td>0.658112</td>\n",
              "    </tr>\n",
              "    <tr>\n",
              "      <th>250</th>\n",
              "      <td>EVED</td>\n",
              "      <td>0.676282</td>\n",
              "    </tr>\n",
              "  </tbody>\n",
              "</table>\n",
              "<p>704 rows × 2 columns</p>\n",
              "</div>\n",
              "      <button class=\"colab-df-convert\" onclick=\"convertToInteractive('df-4b614d14-bbc8-41b5-be19-246f4d9adb20')\"\n",
              "              title=\"Convert this dataframe to an interactive table.\"\n",
              "              style=\"display:none;\">\n",
              "        \n",
              "  <svg xmlns=\"http://www.w3.org/2000/svg\" height=\"24px\"viewBox=\"0 0 24 24\"\n",
              "       width=\"24px\">\n",
              "    <path d=\"M0 0h24v24H0V0z\" fill=\"none\"/>\n",
              "    <path d=\"M18.56 5.44l.94 2.06.94-2.06 2.06-.94-2.06-.94-.94-2.06-.94 2.06-2.06.94zm-11 1L8.5 8.5l.94-2.06 2.06-.94-2.06-.94L8.5 2.5l-.94 2.06-2.06.94zm10 10l.94 2.06.94-2.06 2.06-.94-2.06-.94-.94-2.06-.94 2.06-2.06.94z\"/><path d=\"M17.41 7.96l-1.37-1.37c-.4-.4-.92-.59-1.43-.59-.52 0-1.04.2-1.43.59L10.3 9.45l-7.72 7.72c-.78.78-.78 2.05 0 2.83L4 21.41c.39.39.9.59 1.41.59.51 0 1.02-.2 1.41-.59l7.78-7.78 2.81-2.81c.8-.78.8-2.07 0-2.86zM5.41 20L4 18.59l7.72-7.72 1.47 1.35L5.41 20z\"/>\n",
              "  </svg>\n",
              "      </button>\n",
              "      \n",
              "  <style>\n",
              "    .colab-df-container {\n",
              "      display:flex;\n",
              "      flex-wrap:wrap;\n",
              "      gap: 12px;\n",
              "    }\n",
              "\n",
              "    .colab-df-convert {\n",
              "      background-color: #E8F0FE;\n",
              "      border: none;\n",
              "      border-radius: 50%;\n",
              "      cursor: pointer;\n",
              "      display: none;\n",
              "      fill: #1967D2;\n",
              "      height: 32px;\n",
              "      padding: 0 0 0 0;\n",
              "      width: 32px;\n",
              "    }\n",
              "\n",
              "    .colab-df-convert:hover {\n",
              "      background-color: #E2EBFA;\n",
              "      box-shadow: 0px 1px 2px rgba(60, 64, 67, 0.3), 0px 1px 3px 1px rgba(60, 64, 67, 0.15);\n",
              "      fill: #174EA6;\n",
              "    }\n",
              "\n",
              "    [theme=dark] .colab-df-convert {\n",
              "      background-color: #3B4455;\n",
              "      fill: #D2E3FC;\n",
              "    }\n",
              "\n",
              "    [theme=dark] .colab-df-convert:hover {\n",
              "      background-color: #434B5C;\n",
              "      box-shadow: 0px 1px 3px 1px rgba(0, 0, 0, 0.15);\n",
              "      filter: drop-shadow(0px 1px 2px rgba(0, 0, 0, 0.3));\n",
              "      fill: #FFFFFF;\n",
              "    }\n",
              "  </style>\n",
              "\n",
              "      <script>\n",
              "        const buttonEl =\n",
              "          document.querySelector('#df-4b614d14-bbc8-41b5-be19-246f4d9adb20 button.colab-df-convert');\n",
              "        buttonEl.style.display =\n",
              "          google.colab.kernel.accessAllowed ? 'block' : 'none';\n",
              "\n",
              "        async function convertToInteractive(key) {\n",
              "          const element = document.querySelector('#df-4b614d14-bbc8-41b5-be19-246f4d9adb20');\n",
              "          const dataTable =\n",
              "            await google.colab.kernel.invokeFunction('convertToInteractive',\n",
              "                                                     [key], {});\n",
              "          if (!dataTable) return;\n",
              "\n",
              "          const docLinkHtml = 'Like what you see? Visit the ' +\n",
              "            '<a target=\"_blank\" href=https://colab.research.google.com/notebooks/data_table.ipynb>data table notebook</a>'\n",
              "            + ' to learn more about interactive tables.';\n",
              "          element.innerHTML = '';\n",
              "          dataTable['output_type'] = 'display_data';\n",
              "          await google.colab.output.renderOutput(dataTable, element);\n",
              "          const docLink = document.createElement('div');\n",
              "          docLink.innerHTML = docLinkHtml;\n",
              "          element.appendChild(docLink);\n",
              "        }\n",
              "      </script>\n",
              "    </div>\n",
              "  </div>\n",
              "  "
            ]
          },
          "metadata": {},
          "execution_count": 29
        }
      ],
      "source": [
        "prediction = pd.DataFrame()\n",
        "prediction['symbol'] = list(validation_dataset.symbol)\n",
        "prediction['prediction'] = y_validation_linear_reg\n",
        "\n",
        "# sort the prediction to check which symbol is weaker and stronger, ie. FOX is weakest; BTC is strongest\n",
        "prediction.sort_values('prediction')"
      ]
    },
    {
      "cell_type": "markdown",
      "metadata": {
        "id": "2mq_vcI18R3R"
      },
      "source": [
        "### Check is prediction dataframe in accordance for submission format (using the prediction from linear regression)"
      ]
    },
    {
      "cell_type": "code",
      "execution_count": 30,
      "metadata": {
        "colab": {
          "base_uri": "https://localhost:8080/"
        },
        "id": "Nf0GPjqn8R3R",
        "outputId": "98d7a0b8-cd4a-4995-82d3-1f41ccd0128d"
      },
      "outputs": [
        {
          "output_type": "stream",
          "name": "stdout",
          "text": [
            "symbol matched!\n",
            "column counts ok!\n"
          ]
        }
      ],
      "source": [
        "#check if y_latest is in accordance to shape for submission\n",
        "if set(prediction.symbol) == set(validation_dataset.symbol):\n",
        "    print('symbol matched!')\n",
        "else:\n",
        "    print('symbol unmatched, the symbol in prediction df must match the symbol in validation_dataset...')\n",
        "    \n",
        "if prediction.shape[1] == 2:\n",
        "    print('column counts ok!')\n",
        "else:\n",
        "    print('It should have 2 columns, first column with symbol, second with prediction...')\n"
      ]
    },
    {
      "cell_type": "markdown",
      "metadata": {
        "id": "0PhAfMnR8R3S"
      },
      "source": [
        "### Output prediction as a .csv file for submission!"
      ]
    },
    {
      "cell_type": "code",
      "execution_count": 31,
      "metadata": {
        "id": "utRTWe0-8R3S"
      },
      "outputs": [],
      "source": [
        "#Output submission as .csv file\n",
        "#The prediction.csv is stored in content/prediction folder\n",
        "import os\n",
        "if not os.path.exists('/content/prediction'):\n",
        "    os.makedirs('/content/prediction')\n",
        "prediction.to_csv('/content/prediction/prediction.csv', index = False, header = None)"
      ]
    },
    {
      "cell_type": "markdown",
      "source": [
        "# **Submission Section**"
      ],
      "metadata": {
        "id": "aEv18jY34Kww"
      }
    },
    {
      "cell_type": "markdown",
      "metadata": {
        "collapsed": false,
        "id": "jKSoiqEW0Lg4"
      },
      "source": [
        "## **Setup**"
      ]
    },
    {
      "cell_type": "code",
      "source": [
        "!git clone https://github.com/rocketcapital-ai/competition_submission.git\n",
        "%cd /content/competition_submission"
      ],
      "metadata": {
        "id": "M7LbLhIz0Xh7",
        "outputId": "a3a601e6-10ae-4bde-df4c-64fab117ca31",
        "colab": {
          "base_uri": "https://localhost:8080/"
        }
      },
      "execution_count": 32,
      "outputs": [
        {
          "output_type": "stream",
          "name": "stdout",
          "text": [
            "Cloning into 'competition_submission'...\n",
            "remote: Enumerating objects: 23, done.\u001b[K\n",
            "remote: Counting objects: 100% (23/23), done.\u001b[K\n",
            "remote: Compressing objects: 100% (16/16), done.\u001b[K\n",
            "remote: Total 23 (delta 3), reused 19 (delta 3), pack-reused 0\u001b[K\n",
            "Unpacking objects: 100% (23/23), done.\n",
            "/content/competition_submission\n"
          ]
        }
      ]
    },
    {
      "cell_type": "code",
      "source": [
        "!pip install base58\n",
        "!pip install PyYAML\n",
        "!pip install requests\n",
        "!pip install web3\n",
        "!pip install pandas \n",
        "from IPython.display import clear_output\n",
        "clear_output(wait = False)"
      ],
      "metadata": {
        "id": "lEl2hoVI2V-J"
      },
      "execution_count": 33,
      "outputs": []
    },
    {
      "cell_type": "code",
      "execution_count": 34,
      "metadata": {
        "pycharm": {
          "name": "#%%\n"
        },
        "id": "VgUYwRkJ0Lg8"
      },
      "outputs": [],
      "source": [
        "from lib.submitter import *\n",
        "\n",
        "jwt = 'eyJhbGciOiJIUzI1NiIsInR5cCI6IkpXVCJ9.eyJ1c2VySW5mb3JtYXRpb24iOnsiaWQiOiIxMDIwZDY0OC1kNzQ5LTQ5YjItOTZmZS1hNWQ0NDY5ODRjNTQiLCJlbWFpbCI6ImJpYmhhc2hwLmRhc0BnbWFpbC5jb20iLCJlbWFpbF92ZXJpZmllZCI6dHJ1ZSwicGluX3BvbGljeSI6eyJyZWdpb25zIjpbeyJpZCI6IkZSQTEiLCJkZXNpcmVkUmVwbGljYXRpb25Db3VudCI6MX0seyJpZCI6Ik5ZQzEiLCJkZXNpcmVkUmVwbGljYXRpb25Db3VudCI6MX1dLCJ2ZXJzaW9uIjoxfSwibWZhX2VuYWJsZWQiOmZhbHNlLCJzdGF0dXMiOiJBQ1RJVkUifSwiYXV0aGVudGljYXRpb25UeXBlIjoic2NvcGVkS2V5Iiwic2NvcGVkS2V5S2V5IjoiYmM4NWI0ZDQ1N2FhYWZlNzBmNGIiLCJzY29wZWRLZXlTZWNyZXQiOiJlMmEyOGFlZmFlNTcyMWZkNzM1Mjg4NzE5OTIzYTBkZTQ4MWY5NzUxZWQyZmVhMTE0MGJmYzRlNzNjNzRhYzI2IiwiaWF0IjoxNjU1MTM2Nzc4fQ.xl2FxgrL04kQIa7cIn89a_iE0I9xphiNf6K5K2mor5o'      # User-specified field.\n",
        "address = '0xcF16365d53ed53055f39010830e3CcD5A7a8245E'  # User-specified field.\n",
        "pk = '32316dfe607ed4a240ac29a6dcad9db6f484f0fbdf7894c15511237e1e13db70'       # User-specified field.\n",
        "submitter = Submitter(jwt, address, pk)"
      ]
    },
    {
      "cell_type": "markdown",
      "metadata": {
        "id": "3XjTmExp0Lg_"
      },
      "source": [
        "## View wallet address information."
      ]
    },
    {
      "cell_type": "code",
      "execution_count": 35,
      "metadata": {
        "pycharm": {
          "name": "#%%\n"
        },
        "id": "9BN9wZGW0LhB",
        "outputId": "332339e8-9829-4ef3-9d86-43cfd9d3a117",
        "colab": {
          "base_uri": "https://localhost:8080/"
        }
      },
      "outputs": [
        {
          "output_type": "stream",
          "name": "stdout",
          "text": [
            "MATIC balance for 0xcF16365d53ed53055f39010830e3CcD5A7a8245E: 1.050000000000000000\n",
            "MUSA balance for 0xcF16365d53ed53055f39010830e3CcD5A7a8245E: 100.000000000000000000\n",
            "Current stake for 0xcF16365d53ed53055f39010830e3CcD5A7a8245E: 0\n"
          ]
        }
      ],
      "source": [
        "print('MATIC balance for {}: {}'.format(submitter.address, submitter.get_matic_balance()))\n",
        "print('MUSA balance for {}: {}'.format(submitter.address, submitter.get_musa_balance()))\n",
        "print('Current stake for {}: {}'.format(submitter.address, submitter.get_stake()))"
      ]
    },
    {
      "cell_type": "markdown",
      "metadata": {
        "collapsed": false,
        "id": "5ohgOcZ60LhC"
      },
      "source": [
        "## **Retrieve Dataset and run models.**\n",
        "### Please follow the instructions and example found [here](https://github.com/rocketcapital-ai/competition_quickstart_dataloader).\n",
        "\n",
        "### When completed, please place final prediction csv file in the `file_to_submit` folder."
      ]
    },
    {
      "cell_type": "code",
      "source": [
        "!cp \"/content/prediction/prediction.csv\" \"/content/competition_submission/file_to_submit/\""
      ],
      "metadata": {
        "id": "7UVxH1w93Rdy"
      },
      "execution_count": 36,
      "outputs": []
    },
    {
      "cell_type": "markdown",
      "metadata": {
        "collapsed": false,
        "id": "wQ894w1O0LhD"
      },
      "source": [
        "## **Set stake.** (optional)\n",
        "### Skip if no changes need to be made."
      ]
    },
    {
      "cell_type": "code",
      "execution_count": 37,
      "metadata": {
        "pycharm": {
          "name": "#%%\n"
        },
        "id": "uJlwEyJW0LhE",
        "colab": {
          "base_uri": "https://localhost:8080/"
        },
        "outputId": "9b7585eb-343a-4df7-9d89-7d37a2dfa500"
      },
      "outputs": [
        {
          "output_type": "stream",
          "name": "stdout",
          "text": [
            "Setting gas price to 108 gwei.\n",
            "Sending transaction 0xde821ad79f52afc0299ff26596794dc2c0d875b34e883aeb54a885fb5cdae0ed\n",
            "Transaction sent. Tx ID: 0xde821ad79f52afc0299ff26596794dc2c0d875b34e883aeb54a885fb5cdae0ed\n"
          ]
        }
      ],
      "source": [
        "# set_stake_amount = 100.00  # User-specified field.\n",
        "# transaction_success = submitter.set_stake(set_stake_amount)\n",
        "# assert transaction_success, 'Setting stake failed.'"
      ]
    },
    {
      "cell_type": "markdown",
      "metadata": {
        "collapsed": false,
        "pycharm": {
          "name": "#%% md\n"
        },
        "id": "G_iqtyFY0LhF"
      },
      "source": [
        "## **Submit predictions.**\n",
        "Note that the same `submit_prediction` method should be used for re-submitting predictions."
      ]
    },
    {
      "cell_type": "code",
      "execution_count": 38,
      "metadata": {
        "pycharm": {
          "name": "#%%\n"
        },
        "id": "eMYyDAIL0LhF",
        "colab": {
          "base_uri": "https://localhost:8080/"
        },
        "outputId": "c059df65-4e44-4ed2-c201-5cd7ab85e5c3"
      },
      "outputs": [
        {
          "output_type": "stream",
          "name": "stdout",
          "text": [
            "Encrypting file.\n",
            "Zipping encrypted file.\n",
            "Uploading and recording on blockchain.\n",
            "Setting gas price to 131 gwei.\n",
            "Sending transaction 0x965b44ace1851954c237f47b384da0e52bc1772dc56261e37da0eea9fd8e1fcd\n",
            "Transaction sent. Tx ID: 0x965b44ace1851954c237f47b384da0e52bc1772dc56261e37da0eea9fd8e1fcd\n"
          ]
        }
      ],
      "source": [
        "submission_file_name = 'prediction.csv'  # User-specified field.\n",
        "transaction_success = submitter.submit_prediction(submission_file_name)\n",
        "assert transaction_success, 'Submission failed.'"
      ]
    },
    {
      "cell_type": "markdown",
      "metadata": {
        "id": "41q5KfA70LhG"
      },
      "source": [
        "### **Retrieve and double-check predictions.** (optional)\n",
        "This section retrieves your submitted files, decrypts them, and compares them to the original file in `file_to_submit`.\n",
        "\n",
        "If the verification fails, please wait a few minutes and perform the verification again. If the problem persists, please re-submit your predictions."
      ]
    },
    {
      "cell_type": "code",
      "execution_count": 39,
      "metadata": {
        "id": "NTANPvlH0LhH",
        "colab": {
          "base_uri": "https://localhost:8080/"
        },
        "outputId": "f92e6bfe-2a63-4341-982d-293a4db38d36"
      },
      "outputs": [
        {
          "output_type": "stream",
          "name": "stdout",
          "text": [
            "Retrieving file.\n",
            "File retrieved.\n",
            "File unzipped.\n",
            "File decrypted. Comparing files.\n",
            "Removing temp files.\n",
            "Temp files removed.\n",
            "Files are identical. Verification check passed.\n"
          ]
        }
      ],
      "source": [
        "verification_success = submitter.download_and_check(submission_file_name)\n",
        "assert verification_success, 'Submission verification failed.'\n",
        "print('Files are identical. Verification check passed.')"
      ]
    },
    {
      "cell_type": "code",
      "source": [
        ""
      ],
      "metadata": {
        "id": "IA7mAPxi-L9X"
      },
      "execution_count": null,
      "outputs": []
    }
  ],
  "metadata": {
    "accelerator": "GPU",
    "colab": {
      "collapsed_sections": [],
      "machine_shape": "hm",
      "name": "Quickstart-Copy1.ipynb",
      "provenance": [],
      "include_colab_link": true
    },
    "kernelspec": {
      "display_name": "Python 3 (ipykernel)",
      "language": "python",
      "name": "python3"
    },
    "language_info": {
      "codemirror_mode": {
        "name": "ipython",
        "version": 3
      },
      "file_extension": ".py",
      "mimetype": "text/x-python",
      "name": "python",
      "nbconvert_exporter": "python",
      "pygments_lexer": "ipython3",
      "version": "3.8.10"
    }
  },
  "nbformat": 4,
  "nbformat_minor": 0
}