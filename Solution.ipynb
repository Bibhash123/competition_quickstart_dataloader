{
  "cells": [
    {
      "cell_type": "markdown",
      "metadata": {
        "id": "view-in-github",
        "colab_type": "text"
      },
      "source": [
        "<a href=\"https://colab.research.google.com/github/Bibhash123/competition_quickstart_dataloader/blob/main/Solution.ipynb\" target=\"_parent\"><img src=\"https://colab.research.google.com/assets/colab-badge.svg\" alt=\"Open In Colab\"/></a>"
      ]
    },
    {
      "cell_type": "markdown",
      "metadata": {
        "id": "ftqpYUgS8R3K"
      },
      "source": [
        "## This is a sample jupyter notebook to generate the prediction for competition submission"
      ]
    },
    {
      "cell_type": "markdown",
      "metadata": {
        "id": "NQLWgQD89hcA"
      },
      "source": [
        "### Download and import custom module from RCI repo to get latest dataset from IPFS"
      ]
    },
    {
      "cell_type": "code",
      "execution_count": null,
      "metadata": {
        "id": "BKdPUCb4hHWl"
      },
      "outputs": [],
      "source": [
        "# # download custom module from RCI github repo which enable us to download dataset directly from IPFS\n",
        "# !wget -O dataloader.py https://raw.githubusercontent.com/rocketcapital-ai/competition_quickstart_dataloader/main/dataloader.py\n",
        "\n",
        "# # import modules\n",
        "# import sys, zipfile\n",
        "# from google.colab import files\n",
        "\n",
        "# # append the directory of downloaded custom module to system path so we can import it\n",
        "# sys.path.append('/content/')\n",
        "\n",
        "# # install base58 module to decrpt the dataset\n",
        "# !pip install base58\n",
        "\n",
        "# # import the downloaded module\n",
        "# from dataloader import download_dataset\n",
        "\n",
        "# # download latest dataset from IPFS\n",
        "# filename = download_dataset()\n",
        "\n",
        "# # unzip the file\n",
        "# with zipfile.ZipFile(filename, 'r') as zip_ref:\n",
        "#     zip_ref.extractall()\n"
      ]
    },
    {
      "cell_type": "code",
      "source": [
        "!wget https://rocketcompetition.mypinata.cloud/ipfs/QmfH9YeyUL9bKBQ4MaYE3VQd7Pykocu4av12AhUBucDwm5\n",
        "!unzip -q QmfH9YeyUL9bKBQ4MaYE3VQd7Pykocu4av12AhUBucDwm5 -d \"/content/\"\n",
        "!rm -r QmfH9YeyUL9bKBQ4MaYE3VQd7Pykocu4av12AhUBucDwm5"
      ],
      "metadata": {
        "colab": {
          "base_uri": "https://localhost:8080/"
        },
        "id": "2GmJgHsYyuu7",
        "outputId": "d4294fcf-988c-488f-db78-184e58b4fdbf"
      },
      "execution_count": 1,
      "outputs": [
        {
          "output_type": "stream",
          "name": "stdout",
          "text": [
            "--2022-06-20 07:04:27--  https://rocketcompetition.mypinata.cloud/ipfs/QmfH9YeyUL9bKBQ4MaYE3VQd7Pykocu4av12AhUBucDwm5\n",
            "Resolving rocketcompetition.mypinata.cloud (rocketcompetition.mypinata.cloud)... 104.18.30.237, 104.18.31.237, 2606:4700::6812:1eed, ...\n",
            "Connecting to rocketcompetition.mypinata.cloud (rocketcompetition.mypinata.cloud)|104.18.30.237|:443... connected.\n",
            "HTTP request sent, awaiting response... 200 OK\n",
            "Length: 354504089 (338M) [application/zip]\n",
            "Saving to: ‘QmfH9YeyUL9bKBQ4MaYE3VQd7Pykocu4av12AhUBucDwm5’\n",
            "\n",
            "QmfH9YeyUL9bKBQ4MaY 100%[===================>] 338.08M   154MB/s    in 2.2s    \n",
            "\n",
            "2022-06-20 07:04:30 (154 MB/s) - ‘QmfH9YeyUL9bKBQ4MaYE3VQd7Pykocu4av12AhUBucDwm5’ saved [354504089/354504089]\n",
            "\n"
          ]
        }
      ]
    },
    {
      "cell_type": "markdown",
      "metadata": {
        "id": "bnhEMubk8R3L"
      },
      "source": [
        "### Loading train_dataset and validation_dataset"
      ]
    },
    {
      "cell_type": "code",
      "source": [
        "from tqdm.notebook import tqdm\n",
        "import os"
      ],
      "metadata": {
        "id": "YgzM4cbIZoox"
      },
      "execution_count": 3,
      "outputs": []
    },
    {
      "cell_type": "code",
      "execution_count": 4,
      "metadata": {
        "id": "Sx1oARDq8R3L",
        "outputId": "a4048d4e-c390-4016-d006-6e1f7d654b16",
        "colab": {
          "base_uri": "https://localhost:8080/"
        }
      },
      "outputs": [
        {
          "output_type": "stream",
          "name": "stdout",
          "text": [
            "Shape of train set: (80538, 2013)\n",
            "Shape of test set: (669, 2013)\n"
          ]
        }
      ],
      "source": [
        "import pandas as pd\n",
        "import numpy as np\n",
        "import scipy as sp\n",
        "import warnings\n",
        "warnings.filterwarnings(action='ignore', category=UserWarning)\n",
        "\n",
        "train_dataset  = pd.read_csv('/content/dataset/train_dataset.csv', index_col = 'date')\n",
        "validation_dataset  = pd.read_csv('/content/dataset/validation_dataset.csv', index_col = 'date')\n",
        "print(\"Shape of train set:\",train_dataset.shape)\n",
        "print(\"Shape of test set:\",validation_dataset.shape)"
      ]
    },
    {
      "cell_type": "code",
      "source": [
        "train_dataset = train_dataset.reset_index(drop=False).sort_values(by=[\"symbol\",\"date\"])\n",
        "validation_dataset = validation_dataset.reset_index(drop=False).sort_values(by=[\"symbol\",\"date\"])"
      ],
      "metadata": {
        "id": "C7J4gI1oKElb"
      },
      "execution_count": 5,
      "outputs": []
    },
    {
      "cell_type": "code",
      "execution_count": 6,
      "metadata": {
        "colab": {
          "base_uri": "https://localhost:8080/",
          "height": 386
        },
        "id": "9S5S-hgR8R3M",
        "outputId": "68ec7026-2c26-4768-f6ae-b0a72bc326a2"
      },
      "outputs": [
        {
          "output_type": "execute_result",
          "data": {
            "text/plain": [
              "            date symbol  feature_1  feature_2  feature_3  feature_4  \\\n",
              "5122  2018-12-23  0xBTC   0.974026   0.987013   0.978355   0.991342   \n",
              "5437  2018-12-30  0xBTC   0.016878   0.033755   0.949367   0.936709   \n",
              "5737  2019-01-06  0xBTC   0.158996   0.016736   0.033473   0.928870   \n",
              "5912  2019-01-13  0xBTC   0.737500   0.279167   0.020833   0.054167   \n",
              "6161  2019-01-20  0xBTC   0.983607   0.987705   0.983607   0.430328   \n",
              "\n",
              "      feature_5  feature_6  feature_7  feature_8  ...  feature_2003  \\\n",
              "5122   0.982684   0.982684   0.982684   0.978355  ...      0.887446   \n",
              "5437   0.978903   0.907173   0.962025   0.953586  ...      0.936709   \n",
              "5737   0.868201   0.941423   0.740586   0.933054  ...      0.891213   \n",
              "5912   0.945833   0.908333   0.962500   0.870833  ...      0.645833   \n",
              "6161   0.971311   0.991803   0.987705   0.991803  ...      0.504098   \n",
              "\n",
              "      feature_2004  feature_2005  feature_2006  feature_2007  feature_2008  \\\n",
              "5122      0.857143      0.857143      0.857143      0.835498      0.839827   \n",
              "5437      0.953586      0.962025      0.932489      0.940928      0.945148   \n",
              "5737      0.874477      0.857741      0.912134      0.849372      0.807531   \n",
              "5912      0.600000      0.541667      0.691667      0.591667      0.504167   \n",
              "6161      0.454918      0.422131      0.553279      0.368852      0.331967   \n",
              "\n",
              "      feature_2009  feature_DC1    target  target_DC1  \n",
              "5122      0.839827     0.891775  0.095238   -0.211551  \n",
              "5437      0.915612     0.101266  0.046414   -0.192849  \n",
              "5737      0.878661     0.050209  0.284519   -0.263822  \n",
              "5912      0.670833     0.287500  0.391667    0.023985  \n",
              "6161      0.450820     0.397541  0.032787   -0.251842  \n",
              "\n",
              "[5 rows x 2014 columns]"
            ],
            "text/html": [
              "\n",
              "  <div id=\"df-1991e22e-2fbe-423f-80c2-7415d6ab7fcd\">\n",
              "    <div class=\"colab-df-container\">\n",
              "      <div>\n",
              "<style scoped>\n",
              "    .dataframe tbody tr th:only-of-type {\n",
              "        vertical-align: middle;\n",
              "    }\n",
              "\n",
              "    .dataframe tbody tr th {\n",
              "        vertical-align: top;\n",
              "    }\n",
              "\n",
              "    .dataframe thead th {\n",
              "        text-align: right;\n",
              "    }\n",
              "</style>\n",
              "<table border=\"1\" class=\"dataframe\">\n",
              "  <thead>\n",
              "    <tr style=\"text-align: right;\">\n",
              "      <th></th>\n",
              "      <th>date</th>\n",
              "      <th>symbol</th>\n",
              "      <th>feature_1</th>\n",
              "      <th>feature_2</th>\n",
              "      <th>feature_3</th>\n",
              "      <th>feature_4</th>\n",
              "      <th>feature_5</th>\n",
              "      <th>feature_6</th>\n",
              "      <th>feature_7</th>\n",
              "      <th>feature_8</th>\n",
              "      <th>...</th>\n",
              "      <th>feature_2003</th>\n",
              "      <th>feature_2004</th>\n",
              "      <th>feature_2005</th>\n",
              "      <th>feature_2006</th>\n",
              "      <th>feature_2007</th>\n",
              "      <th>feature_2008</th>\n",
              "      <th>feature_2009</th>\n",
              "      <th>feature_DC1</th>\n",
              "      <th>target</th>\n",
              "      <th>target_DC1</th>\n",
              "    </tr>\n",
              "  </thead>\n",
              "  <tbody>\n",
              "    <tr>\n",
              "      <th>5122</th>\n",
              "      <td>2018-12-23</td>\n",
              "      <td>0xBTC</td>\n",
              "      <td>0.974026</td>\n",
              "      <td>0.987013</td>\n",
              "      <td>0.978355</td>\n",
              "      <td>0.991342</td>\n",
              "      <td>0.982684</td>\n",
              "      <td>0.982684</td>\n",
              "      <td>0.982684</td>\n",
              "      <td>0.978355</td>\n",
              "      <td>...</td>\n",
              "      <td>0.887446</td>\n",
              "      <td>0.857143</td>\n",
              "      <td>0.857143</td>\n",
              "      <td>0.857143</td>\n",
              "      <td>0.835498</td>\n",
              "      <td>0.839827</td>\n",
              "      <td>0.839827</td>\n",
              "      <td>0.891775</td>\n",
              "      <td>0.095238</td>\n",
              "      <td>-0.211551</td>\n",
              "    </tr>\n",
              "    <tr>\n",
              "      <th>5437</th>\n",
              "      <td>2018-12-30</td>\n",
              "      <td>0xBTC</td>\n",
              "      <td>0.016878</td>\n",
              "      <td>0.033755</td>\n",
              "      <td>0.949367</td>\n",
              "      <td>0.936709</td>\n",
              "      <td>0.978903</td>\n",
              "      <td>0.907173</td>\n",
              "      <td>0.962025</td>\n",
              "      <td>0.953586</td>\n",
              "      <td>...</td>\n",
              "      <td>0.936709</td>\n",
              "      <td>0.953586</td>\n",
              "      <td>0.962025</td>\n",
              "      <td>0.932489</td>\n",
              "      <td>0.940928</td>\n",
              "      <td>0.945148</td>\n",
              "      <td>0.915612</td>\n",
              "      <td>0.101266</td>\n",
              "      <td>0.046414</td>\n",
              "      <td>-0.192849</td>\n",
              "    </tr>\n",
              "    <tr>\n",
              "      <th>5737</th>\n",
              "      <td>2019-01-06</td>\n",
              "      <td>0xBTC</td>\n",
              "      <td>0.158996</td>\n",
              "      <td>0.016736</td>\n",
              "      <td>0.033473</td>\n",
              "      <td>0.928870</td>\n",
              "      <td>0.868201</td>\n",
              "      <td>0.941423</td>\n",
              "      <td>0.740586</td>\n",
              "      <td>0.933054</td>\n",
              "      <td>...</td>\n",
              "      <td>0.891213</td>\n",
              "      <td>0.874477</td>\n",
              "      <td>0.857741</td>\n",
              "      <td>0.912134</td>\n",
              "      <td>0.849372</td>\n",
              "      <td>0.807531</td>\n",
              "      <td>0.878661</td>\n",
              "      <td>0.050209</td>\n",
              "      <td>0.284519</td>\n",
              "      <td>-0.263822</td>\n",
              "    </tr>\n",
              "    <tr>\n",
              "      <th>5912</th>\n",
              "      <td>2019-01-13</td>\n",
              "      <td>0xBTC</td>\n",
              "      <td>0.737500</td>\n",
              "      <td>0.279167</td>\n",
              "      <td>0.020833</td>\n",
              "      <td>0.054167</td>\n",
              "      <td>0.945833</td>\n",
              "      <td>0.908333</td>\n",
              "      <td>0.962500</td>\n",
              "      <td>0.870833</td>\n",
              "      <td>...</td>\n",
              "      <td>0.645833</td>\n",
              "      <td>0.600000</td>\n",
              "      <td>0.541667</td>\n",
              "      <td>0.691667</td>\n",
              "      <td>0.591667</td>\n",
              "      <td>0.504167</td>\n",
              "      <td>0.670833</td>\n",
              "      <td>0.287500</td>\n",
              "      <td>0.391667</td>\n",
              "      <td>0.023985</td>\n",
              "    </tr>\n",
              "    <tr>\n",
              "      <th>6161</th>\n",
              "      <td>2019-01-20</td>\n",
              "      <td>0xBTC</td>\n",
              "      <td>0.983607</td>\n",
              "      <td>0.987705</td>\n",
              "      <td>0.983607</td>\n",
              "      <td>0.430328</td>\n",
              "      <td>0.971311</td>\n",
              "      <td>0.991803</td>\n",
              "      <td>0.987705</td>\n",
              "      <td>0.991803</td>\n",
              "      <td>...</td>\n",
              "      <td>0.504098</td>\n",
              "      <td>0.454918</td>\n",
              "      <td>0.422131</td>\n",
              "      <td>0.553279</td>\n",
              "      <td>0.368852</td>\n",
              "      <td>0.331967</td>\n",
              "      <td>0.450820</td>\n",
              "      <td>0.397541</td>\n",
              "      <td>0.032787</td>\n",
              "      <td>-0.251842</td>\n",
              "    </tr>\n",
              "  </tbody>\n",
              "</table>\n",
              "<p>5 rows × 2014 columns</p>\n",
              "</div>\n",
              "      <button class=\"colab-df-convert\" onclick=\"convertToInteractive('df-1991e22e-2fbe-423f-80c2-7415d6ab7fcd')\"\n",
              "              title=\"Convert this dataframe to an interactive table.\"\n",
              "              style=\"display:none;\">\n",
              "        \n",
              "  <svg xmlns=\"http://www.w3.org/2000/svg\" height=\"24px\"viewBox=\"0 0 24 24\"\n",
              "       width=\"24px\">\n",
              "    <path d=\"M0 0h24v24H0V0z\" fill=\"none\"/>\n",
              "    <path d=\"M18.56 5.44l.94 2.06.94-2.06 2.06-.94-2.06-.94-.94-2.06-.94 2.06-2.06.94zm-11 1L8.5 8.5l.94-2.06 2.06-.94-2.06-.94L8.5 2.5l-.94 2.06-2.06.94zm10 10l.94 2.06.94-2.06 2.06-.94-2.06-.94-.94-2.06-.94 2.06-2.06.94z\"/><path d=\"M17.41 7.96l-1.37-1.37c-.4-.4-.92-.59-1.43-.59-.52 0-1.04.2-1.43.59L10.3 9.45l-7.72 7.72c-.78.78-.78 2.05 0 2.83L4 21.41c.39.39.9.59 1.41.59.51 0 1.02-.2 1.41-.59l7.78-7.78 2.81-2.81c.8-.78.8-2.07 0-2.86zM5.41 20L4 18.59l7.72-7.72 1.47 1.35L5.41 20z\"/>\n",
              "  </svg>\n",
              "      </button>\n",
              "      \n",
              "  <style>\n",
              "    .colab-df-container {\n",
              "      display:flex;\n",
              "      flex-wrap:wrap;\n",
              "      gap: 12px;\n",
              "    }\n",
              "\n",
              "    .colab-df-convert {\n",
              "      background-color: #E8F0FE;\n",
              "      border: none;\n",
              "      border-radius: 50%;\n",
              "      cursor: pointer;\n",
              "      display: none;\n",
              "      fill: #1967D2;\n",
              "      height: 32px;\n",
              "      padding: 0 0 0 0;\n",
              "      width: 32px;\n",
              "    }\n",
              "\n",
              "    .colab-df-convert:hover {\n",
              "      background-color: #E2EBFA;\n",
              "      box-shadow: 0px 1px 2px rgba(60, 64, 67, 0.3), 0px 1px 3px 1px rgba(60, 64, 67, 0.15);\n",
              "      fill: #174EA6;\n",
              "    }\n",
              "\n",
              "    [theme=dark] .colab-df-convert {\n",
              "      background-color: #3B4455;\n",
              "      fill: #D2E3FC;\n",
              "    }\n",
              "\n",
              "    [theme=dark] .colab-df-convert:hover {\n",
              "      background-color: #434B5C;\n",
              "      box-shadow: 0px 1px 3px 1px rgba(0, 0, 0, 0.15);\n",
              "      filter: drop-shadow(0px 1px 2px rgba(0, 0, 0, 0.3));\n",
              "      fill: #FFFFFF;\n",
              "    }\n",
              "  </style>\n",
              "\n",
              "      <script>\n",
              "        const buttonEl =\n",
              "          document.querySelector('#df-1991e22e-2fbe-423f-80c2-7415d6ab7fcd button.colab-df-convert');\n",
              "        buttonEl.style.display =\n",
              "          google.colab.kernel.accessAllowed ? 'block' : 'none';\n",
              "\n",
              "        async function convertToInteractive(key) {\n",
              "          const element = document.querySelector('#df-1991e22e-2fbe-423f-80c2-7415d6ab7fcd');\n",
              "          const dataTable =\n",
              "            await google.colab.kernel.invokeFunction('convertToInteractive',\n",
              "                                                     [key], {});\n",
              "          if (!dataTable) return;\n",
              "\n",
              "          const docLinkHtml = 'Like what you see? Visit the ' +\n",
              "            '<a target=\"_blank\" href=https://colab.research.google.com/notebooks/data_table.ipynb>data table notebook</a>'\n",
              "            + ' to learn more about interactive tables.';\n",
              "          element.innerHTML = '';\n",
              "          dataTable['output_type'] = 'display_data';\n",
              "          await google.colab.output.renderOutput(dataTable, element);\n",
              "          const docLink = document.createElement('div');\n",
              "          docLink.innerHTML = docLinkHtml;\n",
              "          element.appendChild(docLink);\n",
              "        }\n",
              "      </script>\n",
              "    </div>\n",
              "  </div>\n",
              "  "
            ]
          },
          "metadata": {},
          "execution_count": 6
        }
      ],
      "source": [
        "# first column (symbol) is the ticker\n",
        "# 'target_DC1' is the log of return for delta between current close to previous close\n",
        "# 'target' is the y which is ranked by Era using 'target_DC1'\n",
        "# the rest of the columns are features to be used for ML\n",
        "train_dataset.head()"
      ]
    },
    {
      "cell_type": "code",
      "source": [
        "def rank_data(series):\n",
        "    return (series.rank() - 1) / (len(series) - 1)"
      ],
      "metadata": {
        "id": "xoUpfyDZingj"
      },
      "execution_count": 7,
      "outputs": []
    },
    {
      "cell_type": "markdown",
      "source": [
        "## Create Records"
      ],
      "metadata": {
        "id": "Hc6-aV5UhDO6"
      }
    },
    {
      "cell_type": "code",
      "source": [
        "symbols = train_dataset.symbol.unique()\n",
        "def prepareData(dataframe, savedir, window = 10):\n",
        "  if not os.path.isdir(savedir):\n",
        "    os.mkdir(savedir)\n",
        "\n",
        "  records = []\n",
        "  for sym in tqdm(symbols, \"Preparing Train Data\"):\n",
        "    values = dataframe[dataframe['symbol']==sym].drop([\"target\",\t\"target_DC1\", \"date\", \"symbol\"], axis = 1).values\n",
        "    dates = dataframe[dataframe['symbol']==sym]['date'].values\n",
        "    targets = dataframe[dataframe['symbol']==sym]['target'].values\n",
        "    targets_dc1 = dataframe[dataframe['symbol']==sym]['target_DC1'].values\n",
        "    if values.shape[0]<window:\n",
        "      values = np.concatenate([np.zeros((window-values.shape[0], values.shape[1])), values], axis=0)\n",
        "      targets = np.concatenate([np.zeros((window-targets.shape[0],)), targets], axis=0)\n",
        "      targets_dc1 = np.concatenate([np.zeros((window-targets_dc1.shape[0],)), targets_dc1], axis=0)\n",
        "      dates = np.concatenate([np.zeros((window-dates.shape[0],)), dates], axis=0)\n",
        "\n",
        "    n = values.shape[0]\n",
        "    for i in range(window,n+1,1):\n",
        "      temp = values[i-window:i]\n",
        "      t = targets[i-1]\n",
        "      tdc1 = targets_dc1[i-1]\n",
        "      d = dates[i-1]\n",
        "      filename = os.path.join(savedir, f\"{sym}_file_{d}.npz\")\n",
        "      np.savez(filename, temp, t)\n",
        "      records.append([sym, d, filename, t, tdc1])\n",
        "\n",
        "  files = pd.DataFrame(np.stack(records, axis = 0), columns = [\"symbol\", \"date\", \"filename\", \"target\", \"target_DC1\"])\n",
        "  files = files.sort_values(by = ['date','symbol'])\n",
        "  return files\n",
        "\n",
        "def preparedValData(train_files, dataframe, savedir, window = 10):\n",
        "  if not os.path.isdir(savedir):\n",
        "    os.mkdir(savedir)\n",
        "\n",
        "  records = []\n",
        "  test_symbols = dataframe.symbol.unique()\n",
        "  assert len(test_symbols)<= dataframe.shape[0], f\"Length of dataframe greater than {len(test_symbols)}\"\n",
        "\n",
        "  for sym in tqdm(test_symbols, \"Preparing test data\"):\n",
        "    if sym not in symbols:\n",
        "      records.append([sym, np.nan, np.nan])\n",
        "      continue\n",
        "\n",
        "    rec = np.load(train_files[train_files[\"symbol\"] == sym].iloc[-1,-3])['arr_0']\n",
        "    assert rec.shape[-1]==2010, f\"Incorrect shape of record: {rec.shape}\"\n",
        "    new_rec = np.expand_dims(dataframe[dataframe['symbol']==sym].iloc[0,2:-2].values,axis=0)\n",
        "    new_rec = np.concatenate([rec[1:,:], new_rec],axis=0)\n",
        "\n",
        "    assert new_rec.shape==(10,2010), f\"Incorrect shape of new record {new_rec.shape}\"\n",
        "    d = dataframe[dataframe['symbol']==sym]['date'].values[0]\n",
        "    filename = os.path.join(savedir, f\"{sym}_file_{d}.npz\")\n",
        "    np.savez(filename, new_rec, axis = 0)\n",
        "    records.append([sym, d, filename])\n",
        "\n",
        "  files = pd.DataFrame(np.stack(records, axis = 0), columns = [\"symbol\", \"date\", \"filename\"])\n",
        "  files = files.sort_values(by = ['date','symbol'])\n",
        "  return files"
      ],
      "metadata": {
        "id": "ZGLm7_zTMl9U"
      },
      "execution_count": 8,
      "outputs": []
    },
    {
      "cell_type": "code",
      "source": [
        "train_files = prepareData(train_dataset, \"/content/data\")"
      ],
      "metadata": {
        "id": "GClnvANYczHL",
        "outputId": "81493dfd-a1a6-4524-c78e-7990bc981aa3",
        "colab": {
          "base_uri": "https://localhost:8080/",
          "height": 49,
          "referenced_widgets": [
            "f5f26ff52284465cb69cb2aef686f39f",
            "32db1530af5f48e9820455fe66c208e3",
            "7cff10e10e484a8988eb143610aa637c",
            "df4481a135ab4940b914c205785cd496",
            "b8daf88e55bb4b9c9843d1b4d6fce58c",
            "0fefc581b17c43c6bce95d59a19f3487",
            "169a842465524b5bbed83bc3e9b5e0ef",
            "4f78acf2b1af4092b27eb9b6e165217e",
            "2433cc5e1c864efd8d9f54c4f17a27f4",
            "c64ff81651314a2b9550a84c737bc712",
            "eb89023470e74f83a1b13255af101e47"
          ]
        }
      },
      "execution_count": 9,
      "outputs": [
        {
          "output_type": "display_data",
          "data": {
            "text/plain": [
              "Preparing Train Data:   0%|          | 0/962 [00:00<?, ?it/s]"
            ],
            "application/vnd.jupyter.widget-view+json": {
              "version_major": 2,
              "version_minor": 0,
              "model_id": "f5f26ff52284465cb69cb2aef686f39f"
            }
          },
          "metadata": {}
        }
      ]
    },
    {
      "cell_type": "code",
      "source": [
        "test_files = preparedValData(train_files, validation_dataset, \"/content/data\")"
      ],
      "metadata": {
        "id": "OOl_XrMYYOGw",
        "outputId": "be249d9c-e03a-468b-b80f-2e64a9de1e0c",
        "colab": {
          "base_uri": "https://localhost:8080/",
          "height": 49,
          "referenced_widgets": [
            "3ace7cb643a544a7838b5c9c3cc6f6ba",
            "bcb2704f49a549eca894cf4eafecf85f",
            "77e4e200518b4510bcc2a96b718354e8",
            "c48394ee99b64e5181fd8823dec132f5",
            "daba4db7124d42fcaab9bd7456bbe541",
            "e269406e17644461a79fde729c4065c1",
            "f07e4cf4a59e4bb2b6797076aa824694",
            "5391da59f36546a583a4c1a14bbdef2a",
            "3b9e0f2682834320a0a405a9f85fca9c",
            "862c6f0ef8b34e79ad4bd59d577edf04",
            "be21793b1fe14ff186814c1de260e77f"
          ]
        }
      },
      "execution_count": 10,
      "outputs": [
        {
          "output_type": "display_data",
          "data": {
            "text/plain": [
              "Preparing test data:   0%|          | 0/669 [00:00<?, ?it/s]"
            ],
            "application/vnd.jupyter.widget-view+json": {
              "version_major": 2,
              "version_minor": 0,
              "model_id": "3ace7cb643a544a7838b5c9c3cc6f6ba"
            }
          },
          "metadata": {}
        }
      ]
    },
    {
      "cell_type": "markdown",
      "source": [
        "## Data Loading"
      ],
      "metadata": {
        "id": "m_5VXKA1g-8j"
      }
    },
    {
      "cell_type": "code",
      "source": [
        "import tensorflow as tf\n",
        "import tensorflow.keras.layers as L\n",
        "import tensorflow.keras.backend as K\n",
        "\n",
        "BATCH_SIZE = 16"
      ],
      "metadata": {
        "id": "1n2ugUWq5bye"
      },
      "execution_count": 11,
      "outputs": []
    },
    {
      "cell_type": "code",
      "source": [
        "def build_generator(files, labelled = True):\n",
        "  def load_data():\n",
        "    for _,record in files.iterrows():\n",
        "      temp = np.load(record['filename'])\n",
        "      if labelled:\n",
        "        yield temp['arr_0'], record['target_DC1']\n",
        "      else:\n",
        "        yield temp['arr_0']\n",
        "  return load_data\n",
        "\n",
        "def getDataset(files, batch = True, repeat = True, labelled = True):\n",
        "  datagen = build_generator(files, labelled)\n",
        "  data = tf.data.Dataset.from_generator(datagen, output_signature = (tf.TensorSpec(shape=(10,2010), dtype=tf.float32),\n",
        "                                                              tf.TensorSpec(shape=(), dtype=tf.float32))\n",
        "                                )\n",
        "  data = data.batch(BATCH_SIZE) if batch else data\n",
        "  data = data.repeat() if repeat else data\n",
        "  return data"
      ],
      "metadata": {
        "id": "SX9536C2g9Zs"
      },
      "execution_count": 12,
      "outputs": []
    },
    {
      "cell_type": "markdown",
      "metadata": {
        "id": "bfLrwf_h8R3N"
      },
      "source": [
        "### Create X and y from train_dataset"
      ]
    },
    {
      "cell_type": "markdown",
      "metadata": {
        "id": "-hTrF-1x8R3P"
      },
      "source": [
        "### Each era representing a set of cryptocurrency assets for the time period, the number of assets within each Era is different"
      ]
    },
    {
      "cell_type": "code",
      "execution_count": 13,
      "metadata": {
        "colab": {
          "base_uri": "https://localhost:8080/",
          "height": 334
        },
        "id": "38VXk0008R3P",
        "outputId": "4514b3bc-84ab-4da4-81e4-a856d0355a9c"
      },
      "outputs": [
        {
          "output_type": "display_data",
          "data": {
            "text/plain": [
              "<Figure size 720x360 with 1 Axes>"
            ],
            "image/png": "[encoded data removed]"
          },
          "metadata": {
            "needs_background": "light"
          }
        }
      ],
      "source": [
        "train_dataset.groupby(train_dataset.date).count().iloc[:,1].plot(figsize = (10,5));"
      ]
    },
    {
      "cell_type": "markdown",
      "metadata": {
        "id": "CaqtnWY78R3P"
      },
      "source": [
        "### Split dataset into train and test by era"
      ]
    },
    {
      "cell_type": "code",
      "execution_count": 14,
      "metadata": {
        "colab": {
          "base_uri": "https://localhost:8080/"
        },
        "id": "FqhwxuL58R3P",
        "outputId": "0a623507-81e5-455a-ef03-fcd18cbdcd2e"
      },
      "outputs": [
        {
          "output_type": "stream",
          "name": "stdout",
          "text": [
            "total Era: 207\n",
            "train Era: 186\n",
            "validation Era: 21\n"
          ]
        }
      ],
      "source": [
        "train = 0.9\n",
        "test = 0.1\n",
        "era = len(train_files.date.unique())\n",
        "train_era = int(era * train)\n",
        "test_era = era - train_era\n",
        "print('total Era: {}'.format(era))\n",
        "print('train Era: {}'.format(train_era))\n",
        "print('validation Era: {}'.format(test_era))"
      ]
    },
    {
      "cell_type": "code",
      "execution_count": 15,
      "metadata": {
        "colab": {
          "base_uri": "https://localhost:8080/"
        },
        "id": "IFLlfFTn8R3Q",
        "outputId": "acafb230-4f9c-470d-b020-00cd4c3285bf"
      },
      "outputs": [
        {
          "output_type": "stream",
          "name": "stdout",
          "text": [
            "Train dataset shape: (61201, 5)\n",
            "Validation dataset shape: (11035, 5)\n"
          ]
        }
      ],
      "source": [
        "#split train and test set according to the train_era and test_era\n",
        "X_train = train_files.loc[train_files.date < train_files.date.unique()[train_era]]\n",
        "X_test = train_files.loc[train_files.date >= train_files.date.unique()[train_era]]\n",
        "print('Train dataset shape: {}'.format(X_train.shape))\n",
        "print('Validation dataset shape: {}'.format(X_test.shape))"
      ]
    },
    {
      "cell_type": "code",
      "source": [
        "train_data = getDataset(X_train, batch = True, repeat = True, labelled = True)\n",
        "val_data = getDataset(X_test, batch = True, repeat = False, labelled = True)"
      ],
      "metadata": {
        "id": "X-CHPoAgZSff"
      },
      "execution_count": 16,
      "outputs": []
    },
    {
      "cell_type": "markdown",
      "source": [
        "# LSTM model building"
      ],
      "metadata": {
        "id": "rgRTi9tOZ0LZ"
      }
    },
    {
      "cell_type": "code",
      "source": [
        "class AttentionHead(L.Layer):\n",
        "    def __init__(self, in_features, hidden_dim):\n",
        "        super(AttentionHead,self).__init__()\n",
        "        self.in_features = in_features\n",
        "        self.middle_features = hidden_dim\n",
        "        self.W = L.Dense(hidden_dim)\n",
        "        self.V = L.Dense(1)\n",
        "        self.out_features = hidden_dim\n",
        "    \n",
        "    def call(self, features):\n",
        "        att = tf.keras.activations.tanh(self.W(features))\n",
        "        score = self.V(att)\n",
        "        attention_weights = tf.keras.activations.softmax(score, axis=1)\n",
        "        context_vector = attention_weights * features\n",
        "        context_vector = K.sum(context_vector, axis=1)\n",
        "\n",
        "        return context_vector"
      ],
      "metadata": {
        "id": "e232mdXyidYc"
      },
      "execution_count": 17,
      "outputs": []
    },
    {
      "cell_type": "code",
      "source": [
        "def buildModel():\n",
        "  inp = L.Input(shape = (10, 2010))\n",
        "  h = L.LSTM(512, return_sequences = True)(inp)\n",
        "  h = AttentionHead(2010, 512)(h)\n",
        "  h = L.Dense(128, activation = \"relu\")(h)\n",
        "  h = L.Dense(16, activation = \"relu\")(h)\n",
        "  h = L.Dense(1, activation = \"linear\")(h)\n",
        "  model = tf.keras.Model(inputs = inp, outputs=  h)\n",
        "  model.compile(loss = \"mse\", optimizer = \"adam\")\n",
        "  return model\n",
        "\n",
        "model = buildModel()\n",
        "model.summary()"
      ],
      "metadata": {
        "id": "qpET5rlmZ2x3",
        "outputId": "c595de39-64b3-4794-9b34-67092d118b56",
        "colab": {
          "base_uri": "https://localhost:8080/"
        }
      },
      "execution_count": 18,
      "outputs": [
        {
          "output_type": "stream",
          "name": "stdout",
          "text": [
            "Model: \"model\"\n",
            "_________________________________________________________________\n",
            " Layer (type)                Output Shape              Param #   \n",
            "=================================================================\n",
            " input_1 (InputLayer)        [(None, 10, 2010)]        0         \n",
            "                                                                 \n",
            " lstm (LSTM)                 (None, 10, 512)           5167104   \n",
            "                                                                 \n",
            " attention_head (AttentionHe  (None, 512)              263169    \n",
            " ad)                                                             \n",
            "                                                                 \n",
            " dense_2 (Dense)             (None, 128)               65664     \n",
            "                                                                 \n",
            " dense_3 (Dense)             (None, 16)                2064      \n",
            "                                                                 \n",
            " dense_4 (Dense)             (None, 1)                 17        \n",
            "                                                                 \n",
            "=================================================================\n",
            "Total params: 5,498,018\n",
            "Trainable params: 5,498,018\n",
            "Non-trainable params: 0\n",
            "_________________________________________________________________\n"
          ]
        }
      ]
    },
    {
      "cell_type": "code",
      "source": [
        "ckpt = tf.keras.callbacks.ModelCheckpoint('model.hdf5', monitor = 'val_loss', mode = 'min', save_best_only = True, \n",
        "                                          save_weights_only = True)\n",
        "es = tf.keras.callbacks.EarlyStopping(patience = 5, monitor = 'val_loss', mode = 'min')\n",
        "\n",
        "model.fit(train_data,\n",
        "          epochs = 10,\n",
        "          steps_per_epoch = X_train.shape[0]//BATCH_SIZE,\n",
        "          validation_data = val_data,\n",
        "          callbacks = [ckpt, es]\n",
        "          )"
      ],
      "metadata": {
        "id": "fVK9no_VkcMe",
        "outputId": "cb3637f7-ad07-421a-8881-cdfa8d4c904d",
        "colab": {
          "base_uri": "https://localhost:8080/"
        }
      },
      "execution_count": 19,
      "outputs": [
        {
          "output_type": "stream",
          "name": "stdout",
          "text": [
            "Epoch 1/10\n",
            "3825/3825 [==============================] - 190s 48ms/step - loss: 0.0760 - val_loss: 0.0404\n",
            "Epoch 2/10\n",
            "3825/3825 [==============================] - 193s 50ms/step - loss: 0.0748 - val_loss: 0.1096\n",
            "Epoch 3/10\n",
            "3825/3825 [==============================] - 204s 53ms/step - loss: 0.0751 - val_loss: 0.0403\n",
            "Epoch 4/10\n",
            "3825/3825 [==============================] - 195s 51ms/step - loss: 0.0751 - val_loss: 0.0403\n",
            "Epoch 5/10\n",
            "3825/3825 [==============================] - 179s 47ms/step - loss: 0.0751 - val_loss: 0.0402\n",
            "Epoch 6/10\n",
            "3825/3825 [==============================] - 177s 46ms/step - loss: 0.0750 - val_loss: 0.0402\n",
            "Epoch 7/10\n",
            "3825/3825 [==============================] - 178s 47ms/step - loss: 0.0751 - val_loss: 0.0402\n",
            "Epoch 8/10\n",
            "3825/3825 [==============================] - 179s 47ms/step - loss: 0.0751 - val_loss: 0.0401\n",
            "Epoch 9/10\n",
            "3825/3825 [==============================] - 194s 51ms/step - loss: 0.0751 - val_loss: 0.0401\n",
            "Epoch 10/10\n",
            "3825/3825 [==============================] - 266s 70ms/step - loss: 0.0751 - val_loss: 0.0401\n"
          ]
        },
        {
          "output_type": "execute_result",
          "data": {
            "text/plain": [
              "<keras.callbacks.History at 0x7fdc78f942d0>"
            ]
          },
          "metadata": {},
          "execution_count": 19
        }
      ]
    },
    {
      "cell_type": "markdown",
      "metadata": {
        "id": "VPmHvRvv8R3Q"
      },
      "source": [
        "### Use simple XGBoost to train a model"
      ]
    },
    {
      "cell_type": "code",
      "source": [
        "def loadSet(files, source, labelled = True):\n",
        "  x,ydc,y = [],[],[]\n",
        "  for _,row in files.iterrows():\n",
        "    if pd.isnull(row['filename']):\n",
        "      row = source[(source['symbol']==row['symbol'])&(source['date']==row['date'])]\n",
        "      print(row.values.shape)\n",
        "      x.append(row.values[2:-2])\n",
        "    else:\n",
        "      x.append(np.load(row['filename'], allow_pickle = True)['arr_0'][-1])\n",
        "    if labelled:\n",
        "      ydc.append(row['target_DC1'])\n",
        "      y.append(row['target'])\n",
        "      \n",
        "  if labelled:    \n",
        "    return np.stack(x, axis = 0), np.stack(ydc, axis = 0), np.stack(y, axis = 0)  \n",
        "  else:\n",
        "    return np.stack(x, axis = 0)\n"
      ],
      "metadata": {
        "id": "jbCq5YrX8fir"
      },
      "execution_count": 28,
      "outputs": []
    },
    {
      "cell_type": "code",
      "source": [
        "test_data = loadSet(test_files, validation_dataset, labelled = False)"
      ],
      "metadata": {
        "id": "BCwb9mNhE7T4"
      },
      "execution_count": 35,
      "outputs": []
    },
    {
      "cell_type": "code",
      "source": [
        "X_train_plain, Y_train_plain, target_train_plain = loadSet(X_train, train_dataset)\n",
        "X_test_plain, Y_test_plain, target_test_plain = loadSet(X_test, train_dataset)"
      ],
      "metadata": {
        "id": "ZkQwyQDYE6UA"
      },
      "execution_count": null,
      "outputs": []
    },
    {
      "cell_type": "code",
      "execution_count": null,
      "metadata": {
        "id": "QkGs7IpI8R3Q",
        "colab": {
          "base_uri": "https://localhost:8080/"
        },
        "outputId": "9a80dab9-b996-4db3-88f0-651b7ef41741"
      },
      "outputs": [
        {
          "output_type": "stream",
          "name": "stdout",
          "text": [
            "[0]\tvalidation_0-rmse:0.286194\tvalidation_1-rmse:0.288702\n",
            "Multiple eval metrics have been passed: 'validation_1-rmse' will be used for early stopping.\n",
            "\n",
            "Will train until validation_1-rmse hasn't improved in 10 rounds.\n",
            "Stopping. Best iteration:\n",
            "[18]\tvalidation_0-rmse:0.245851\tvalidation_1-rmse:0.286893\n",
            "\n"
          ]
        },
        {
          "output_type": "execute_result",
          "data": {
            "text/plain": [
              "XGBRegressor(max_depth=9, n_estimators=1000, objective='reg:squarederror',\n",
              "             reg_alpha=0.01, tree_method='gpu_hist')"
            ]
          },
          "metadata": {},
          "execution_count": 9
        }
      ],
      "source": [
        "from xgboost import XGBRegressor\n",
        "\n",
        "params = {'objective' : \"reg:squarederror\", 'n_estimators' : 1000, 'tree_method' : \"gpu_hist\", 'max_depth':9, \"reg_alpha\":0.01}\n",
        "\n",
        "reg = XGBRegressor(**params)\n",
        "reg.fit(X_train_plain, Y_train_plain, eval_metric = \"rmse\",\n",
        "        eval_set=[(X_train,Y_train_plain),(X_test_plain, Y_test_plain)], \n",
        "        early_stopping_rounds = 10, verbose = 100)"
      ]
    },
    {
      "cell_type": "code",
      "source": [
        "def predictFunction(lstm,xgb,files, x_test):\n",
        "  test_ = getDataset(files, batch = True, repeat = False, labelled = False)\n",
        "  "
      ],
      "metadata": {
        "id": "Dgu9ZPeq-mNG"
      },
      "execution_count": null,
      "outputs": []
    },
    {
      "cell_type": "code",
      "execution_count": null,
      "metadata": {
        "colab": {
          "base_uri": "https://localhost:8080/"
        },
        "id": "ETY9qjj58R3Q",
        "outputId": "430d087e-b706-4195-c9fc-debb25fa65dd"
      },
      "outputs": [
        {
          "output_type": "stream",
          "name": "stdout",
          "text": [
            "Train dataset Spearman correlation: mean = 0.7047 ; std = 0.0369 ; max = 0.8377 ; min = 0.5771\n",
            "Test dataset Spearman correlation: mean = 0.1037 ; std = 0.0628 ; max = 0.2461 ; min = -0.0039\n"
          ]
        }
      ],
      "source": [
        "# function to calculate Spearman correlation by era (mean, std, max, min)\n",
        "# we want to maximize but maintain stable correlation across era to maximize both challenge and competition reward\n",
        "def spearman_by_era(prediction, target):\n",
        "  df = pd.DataFrame(index=target.index,\n",
        "                    data = {'prediction': prediction,\n",
        "                            'target': target}\n",
        "                    )\n",
        "  \n",
        "  spearman_era_list = []\n",
        "  for era in df.index.unique():\n",
        "    era_df = df[df.index == era]\n",
        "    spearman_corr = sp.stats.spearmanr(era_df.prediction, era_df.target)[0]\n",
        "    spearman_era_list.append(spearman_corr)\n",
        "\n",
        "  mean = np.mean(spearman_era_list)\n",
        "  std = np.std(spearman_era_list)\n",
        "  max = np.max(spearman_era_list)\n",
        "  min = np.min(spearman_era_list)\n",
        "  return mean, std, max, min\n",
        "  \n",
        "y_pred_train = reg.predict(X_train)\n",
        "train_spearman = spearman_by_era(y_pred_train, y_train)\n",
        "print('Train dataset Spearman correlation: mean = {} ; std = {} ; max = {} ; min = {}'.format(round(train_spearman[0], 4), \n",
        "                                                                                            round(train_spearman[1], 4),\n",
        "                                                                                            round(train_spearman[2], 4),\n",
        "                                                                                            round(train_spearman[3], 4),\n",
        "                                                                                            ))\n",
        "\n",
        "y_pred_test = reg.predict(X_test)\n",
        "test_spearman = spearman_by_era(y_pred_test, y_test)\n",
        "print('Test dataset Spearman correlation: mean = {} ; std = {} ; max = {} ; min = {}'.format(round(test_spearman[0], 4),\n",
        "                                                                                            round(test_spearman[1], 4),\n",
        "                                                                                            round(test_spearman[2], 4),\n",
        "                                                                                            round(test_spearman[3], 4),\n",
        "                                                                                            ))\n"
      ]
    },
    {
      "cell_type": "code",
      "execution_count": null,
      "metadata": {
        "colab": {
          "base_uri": "https://localhost:8080/"
        },
        "id": "wemVQ7xo8R3Q",
        "outputId": "51d2976e-494e-4ccb-f97f-958ee4eee094"
      },
      "outputs": [
        {
          "output_type": "execute_result",
          "data": {
            "text/plain": [
              "array([0.47534436, 0.5070021 , 0.35265437, 0.4615777 , 0.5145721 ],\n",
              "      dtype=float32)"
            ]
          },
          "metadata": {},
          "execution_count": 28
        }
      ],
      "source": [
        "# Use the trained Linear Regression model to make prediction on latest data\n",
        "\n",
        "X_validation = validation_dataset.iloc[:, 1:-2]\n",
        "y_validation_linear_reg = reg.predict(X_validation)\n",
        "\n",
        "y_validation_linear_reg[:5]"
      ]
    },
    {
      "cell_type": "markdown",
      "metadata": {
        "id": "wPdrXYI58R3R"
      },
      "source": [
        "### Let's use the prediction from linear regression to join with validation dataset symbol for submission"
      ]
    },
    {
      "cell_type": "code",
      "execution_count": null,
      "metadata": {
        "colab": {
          "base_uri": "https://localhost:8080/",
          "height": 424
        },
        "id": "OKwa_RfT8R3R",
        "outputId": "b84d3e0b-dfe3-48e4-9712-d54fa27de08c"
      },
      "outputs": [
        {
          "output_type": "execute_result",
          "data": {
            "text/plain": [
              "    symbol  prediction\n",
              "127    IXT    0.231780\n",
              "677    DYP    0.267667\n",
              "549    FNB    0.296755\n",
              "291    PRQ    0.304200\n",
              "72     DMT    0.304408\n",
              "..     ...         ...\n",
              "443    S4F    0.630962\n",
              "78     MTH    0.632966\n",
              "57     RDN    0.650649\n",
              "588   PPAY    0.658112\n",
              "250   EVED    0.676282\n",
              "\n",
              "[704 rows x 2 columns]"
            ],
            "text/html": [
              "\n",
              "  <div id=\"df-4b614d14-bbc8-41b5-be19-246f4d9adb20\">\n",
              "    <div class=\"colab-df-container\">\n",
              "      <div>\n",
              "<style scoped>\n",
              "    .dataframe tbody tr th:only-of-type {\n",
              "        vertical-align: middle;\n",
              "    }\n",
              "\n",
              "    .dataframe tbody tr th {\n",
              "        vertical-align: top;\n",
              "    }\n",
              "\n",
              "    .dataframe thead th {\n",
              "        text-align: right;\n",
              "    }\n",
              "</style>\n",
              "<table border=\"1\" class=\"dataframe\">\n",
              "  <thead>\n",
              "    <tr style=\"text-align: right;\">\n",
              "      <th></th>\n",
              "      <th>symbol</th>\n",
              "      <th>prediction</th>\n",
              "    </tr>\n",
              "  </thead>\n",
              "  <tbody>\n",
              "    <tr>\n",
              "      <th>127</th>\n",
              "      <td>IXT</td>\n",
              "      <td>0.231780</td>\n",
              "    </tr>\n",
              "    <tr>\n",
              "      <th>677</th>\n",
              "      <td>DYP</td>\n",
              "      <td>0.267667</td>\n",
              "    </tr>\n",
              "    <tr>\n",
              "      <th>549</th>\n",
              "      <td>FNB</td>\n",
              "      <td>0.296755</td>\n",
              "    </tr>\n",
              "    <tr>\n",
              "      <th>291</th>\n",
              "      <td>PRQ</td>\n",
              "      <td>0.304200</td>\n",
              "    </tr>\n",
              "    <tr>\n",
              "      <th>72</th>\n",
              "      <td>DMT</td>\n",
              "      <td>0.304408</td>\n",
              "    </tr>\n",
              "    <tr>\n",
              "      <th>...</th>\n",
              "      <td>...</td>\n",
              "      <td>...</td>\n",
              "    </tr>\n",
              "    <tr>\n",
              "      <th>443</th>\n",
              "      <td>S4F</td>\n",
              "      <td>0.630962</td>\n",
              "    </tr>\n",
              "    <tr>\n",
              "      <th>78</th>\n",
              "      <td>MTH</td>\n",
              "      <td>0.632966</td>\n",
              "    </tr>\n",
              "    <tr>\n",
              "      <th>57</th>\n",
              "      <td>RDN</td>\n",
              "      <td>0.650649</td>\n",
              "    </tr>\n",
              "    <tr>\n",
              "      <th>588</th>\n",
              "      <td>PPAY</td>\n",
              "      <td>0.658112</td>\n",
              "    </tr>\n",
              "    <tr>\n",
              "      <th>250</th>\n",
              "      <td>EVED</td>\n",
              "      <td>0.676282</td>\n",
              "    </tr>\n",
              "  </tbody>\n",
              "</table>\n",
              "<p>704 rows × 2 columns</p>\n",
              "</div>\n",
              "      <button class=\"colab-df-convert\" onclick=\"convertToInteractive('df-4b614d14-bbc8-41b5-be19-246f4d9adb20')\"\n",
              "              title=\"Convert this dataframe to an interactive table.\"\n",
              "              style=\"display:none;\">\n",
              "        \n",
              "  <svg xmlns=\"http://www.w3.org/2000/svg\" height=\"24px\"viewBox=\"0 0 24 24\"\n",
              "       width=\"24px\">\n",
              "    <path d=\"M0 0h24v24H0V0z\" fill=\"none\"/>\n",
              "    <path d=\"M18.56 5.44l.94 2.06.94-2.06 2.06-.94-2.06-.94-.94-2.06-.94 2.06-2.06.94zm-11 1L8.5 8.5l.94-2.06 2.06-.94-2.06-.94L8.5 2.5l-.94 2.06-2.06.94zm10 10l.94 2.06.94-2.06 2.06-.94-2.06-.94-.94-2.06-.94 2.06-2.06.94z\"/><path d=\"M17.41 7.96l-1.37-1.37c-.4-.4-.92-.59-1.43-.59-.52 0-1.04.2-1.43.59L10.3 9.45l-7.72 7.72c-.78.78-.78 2.05 0 2.83L4 21.41c.39.39.9.59 1.41.59.51 0 1.02-.2 1.41-.59l7.78-7.78 2.81-2.81c.8-.78.8-2.07 0-2.86zM5.41 20L4 18.59l7.72-7.72 1.47 1.35L5.41 20z\"/>\n",
              "  </svg>\n",
              "      </button>\n",
              "      \n",
              "  <style>\n",
              "    .colab-df-container {\n",
              "      display:flex;\n",
              "      flex-wrap:wrap;\n",
              "      gap: 12px;\n",
              "    }\n",
              "\n",
              "    .colab-df-convert {\n",
              "      background-color: #E8F0FE;\n",
              "      border: none;\n",
              "      border-radius: 50%;\n",
              "      cursor: pointer;\n",
              "      display: none;\n",
              "      fill: #1967D2;\n",
              "      height: 32px;\n",
              "      padding: 0 0 0 0;\n",
              "      width: 32px;\n",
              "    }\n",
              "\n",
              "    .colab-df-convert:hover {\n",
              "      background-color: #E2EBFA;\n",
              "      box-shadow: 0px 1px 2px rgba(60, 64, 67, 0.3), 0px 1px 3px 1px rgba(60, 64, 67, 0.15);\n",
              "      fill: #174EA6;\n",
              "    }\n",
              "\n",
              "    [theme=dark] .colab-df-convert {\n",
              "      background-color: #3B4455;\n",
              "      fill: #D2E3FC;\n",
              "    }\n",
              "\n",
              "    [theme=dark] .colab-df-convert:hover {\n",
              "      background-color: #434B5C;\n",
              "      box-shadow: 0px 1px 3px 1px rgba(0, 0, 0, 0.15);\n",
              "      filter: drop-shadow(0px 1px 2px rgba(0, 0, 0, 0.3));\n",
              "      fill: #FFFFFF;\n",
              "    }\n",
              "  </style>\n",
              "\n",
              "      <script>\n",
              "        const buttonEl =\n",
              "          document.querySelector('#df-4b614d14-bbc8-41b5-be19-246f4d9adb20 button.colab-df-convert');\n",
              "        buttonEl.style.display =\n",
              "          google.colab.kernel.accessAllowed ? 'block' : 'none';\n",
              "\n",
              "        async function convertToInteractive(key) {\n",
              "          const element = document.querySelector('#df-4b614d14-bbc8-41b5-be19-246f4d9adb20');\n",
              "          const dataTable =\n",
              "            await google.colab.kernel.invokeFunction('convertToInteractive',\n",
              "                                                     [key], {});\n",
              "          if (!dataTable) return;\n",
              "\n",
              "          const docLinkHtml = 'Like what you see? Visit the ' +\n",
              "            '<a target=\"_blank\" href=https://colab.research.google.com/notebooks/data_table.ipynb>data table notebook</a>'\n",
              "            + ' to learn more about interactive tables.';\n",
              "          element.innerHTML = '';\n",
              "          dataTable['output_type'] = 'display_data';\n",
              "          await google.colab.output.renderOutput(dataTable, element);\n",
              "          const docLink = document.createElement('div');\n",
              "          docLink.innerHTML = docLinkHtml;\n",
              "          element.appendChild(docLink);\n",
              "        }\n",
              "      </script>\n",
              "    </div>\n",
              "  </div>\n",
              "  "
            ]
          },
          "metadata": {},
          "execution_count": 29
        }
      ],
      "source": [
        "prediction = pd.DataFrame()\n",
        "prediction['symbol'] = list(validation_dataset.symbol)\n",
        "prediction['prediction'] = y_validation_linear_reg\n",
        "\n",
        "# sort the prediction to check which symbol is weaker and stronger, ie. FOX is weakest; BTC is strongest\n",
        "prediction.sort_values('prediction')"
      ]
    },
    {
      "cell_type": "markdown",
      "metadata": {
        "id": "2mq_vcI18R3R"
      },
      "source": [
        "### Check is prediction dataframe in accordance for submission format (using the prediction from linear regression)"
      ]
    },
    {
      "cell_type": "code",
      "execution_count": null,
      "metadata": {
        "colab": {
          "base_uri": "https://localhost:8080/"
        },
        "id": "Nf0GPjqn8R3R",
        "outputId": "98d7a0b8-cd4a-4995-82d3-1f41ccd0128d"
      },
      "outputs": [
        {
          "output_type": "stream",
          "name": "stdout",
          "text": [
            "symbol matched!\n",
            "column counts ok!\n"
          ]
        }
      ],
      "source": [
        "#check if y_latest is in accordance to shape for submission\n",
        "if set(prediction.symbol) == set(validation_dataset.symbol):\n",
        "    print('symbol matched!')\n",
        "else:\n",
        "    print('symbol unmatched, the symbol in prediction df must match the symbol in validation_dataset...')\n",
        "    \n",
        "if prediction.shape[1] == 2:\n",
        "    print('column counts ok!')\n",
        "else:\n",
        "    print('It should have 2 columns, first column with symbol, second with prediction...')\n"
      ]
    },
    {
      "cell_type": "markdown",
      "metadata": {
        "id": "0PhAfMnR8R3S"
      },
      "source": [
        "### Output prediction as a .csv file for submission!"
      ]
    },
    {
      "cell_type": "code",
      "execution_count": null,
      "metadata": {
        "id": "utRTWe0-8R3S"
      },
      "outputs": [],
      "source": [
        "#Output submission as .csv file\n",
        "#The prediction.csv is stored in content/prediction folder\n",
        "import os\n",
        "if not os.path.exists('/content/prediction'):\n",
        "    os.makedirs('/content/prediction')\n",
        "prediction.to_csv('/content/prediction/prediction.csv', index = False, header = None)"
      ]
    },
    {
      "cell_type": "markdown",
      "source": [
        "# **Submission Section**"
      ],
      "metadata": {
        "id": "aEv18jY34Kww"
      }
    },
    {
      "cell_type": "markdown",
      "metadata": {
        "collapsed": false,
        "id": "jKSoiqEW0Lg4"
      },
      "source": [
        "## **Setup**"
      ]
    },
    {
      "cell_type": "code",
      "source": [
        "!git clone https://github.com/rocketcapital-ai/competition_submission.git\n",
        "%cd /content/competition_submission"
      ],
      "metadata": {
        "id": "M7LbLhIz0Xh7",
        "outputId": "a3a601e6-10ae-4bde-df4c-64fab117ca31",
        "colab": {
          "base_uri": "https://localhost:8080/"
        }
      },
      "execution_count": null,
      "outputs": [
        {
          "output_type": "stream",
          "name": "stdout",
          "text": [
            "Cloning into 'competition_submission'...\n",
            "remote: Enumerating objects: 23, done.\u001b[K\n",
            "remote: Counting objects: 100% (23/23), done.\u001b[K\n",
            "remote: Compressing objects: 100% (16/16), done.\u001b[K\n",
            "remote: Total 23 (delta 3), reused 19 (delta 3), pack-reused 0\u001b[K\n",
            "Unpacking objects: 100% (23/23), done.\n",
            "/content/competition_submission\n"
          ]
        }
      ]
    },
    {
      "cell_type": "code",
      "source": [
        "!pip install base58\n",
        "!pip install PyYAML\n",
        "!pip install requests\n",
        "!pip install web3\n",
        "!pip install pandas \n",
        "from IPython.display import clear_output\n",
        "clear_output(wait = False)"
      ],
      "metadata": {
        "id": "lEl2hoVI2V-J"
      },
      "execution_count": null,
      "outputs": []
    },
    {
      "cell_type": "code",
      "execution_count": null,
      "metadata": {
        "pycharm": {
          "name": "#%%\n"
        },
        "id": "VgUYwRkJ0Lg8"
      },
      "outputs": [],
      "source": [
        "from lib.submitter import *\n",
        "\n",
        "jwt = 'eyJhbGciOiJIUzI1NiIsInR5cCI6IkpXVCJ9.eyJ1c2VySW5mb3JtYXRpb24iOnsiaWQiOiIxMDIwZDY0OC1kNzQ5LTQ5YjItOTZmZS1hNWQ0NDY5ODRjNTQiLCJlbWFpbCI6ImJpYmhhc2hwLmRhc0BnbWFpbC5jb20iLCJlbWFpbF92ZXJpZmllZCI6dHJ1ZSwicGluX3BvbGljeSI6eyJyZWdpb25zIjpbeyJpZCI6IkZSQTEiLCJkZXNpcmVkUmVwbGljYXRpb25Db3VudCI6MX0seyJpZCI6Ik5ZQzEiLCJkZXNpcmVkUmVwbGljYXRpb25Db3VudCI6MX1dLCJ2ZXJzaW9uIjoxfSwibWZhX2VuYWJsZWQiOmZhbHNlLCJzdGF0dXMiOiJBQ1RJVkUifSwiYXV0aGVudGljYXRpb25UeXBlIjoic2NvcGVkS2V5Iiwic2NvcGVkS2V5S2V5IjoiYmM4NWI0ZDQ1N2FhYWZlNzBmNGIiLCJzY29wZWRLZXlTZWNyZXQiOiJlMmEyOGFlZmFlNTcyMWZkNzM1Mjg4NzE5OTIzYTBkZTQ4MWY5NzUxZWQyZmVhMTE0MGJmYzRlNzNjNzRhYzI2IiwiaWF0IjoxNjU1MTM2Nzc4fQ.xl2FxgrL04kQIa7cIn89a_iE0I9xphiNf6K5K2mor5o'      # User-specified field.\n",
        "address = '0xcF16365d53ed53055f39010830e3CcD5A7a8245E'  # User-specified field.\n",
        "pk = '32316dfe607ed4a240ac29a6dcad9db6f484f0fbdf7894c15511237e1e13db70'       # User-specified field.\n",
        "submitter = Submitter(jwt, address, pk)"
      ]
    },
    {
      "cell_type": "markdown",
      "metadata": {
        "id": "3XjTmExp0Lg_"
      },
      "source": [
        "## View wallet address information."
      ]
    },
    {
      "cell_type": "code",
      "execution_count": null,
      "metadata": {
        "pycharm": {
          "name": "#%%\n"
        },
        "id": "9BN9wZGW0LhB",
        "outputId": "332339e8-9829-4ef3-9d86-43cfd9d3a117",
        "colab": {
          "base_uri": "https://localhost:8080/"
        }
      },
      "outputs": [
        {
          "output_type": "stream",
          "name": "stdout",
          "text": [
            "MATIC balance for 0xcF16365d53ed53055f39010830e3CcD5A7a8245E: 1.050000000000000000\n",
            "MUSA balance for 0xcF16365d53ed53055f39010830e3CcD5A7a8245E: 100.000000000000000000\n",
            "Current stake for 0xcF16365d53ed53055f39010830e3CcD5A7a8245E: 0\n"
          ]
        }
      ],
      "source": [
        "print('MATIC balance for {}: {}'.format(submitter.address, submitter.get_matic_balance()))\n",
        "print('MUSA balance for {}: {}'.format(submitter.address, submitter.get_musa_balance()))\n",
        "print('Current stake for {}: {}'.format(submitter.address, submitter.get_stake()))"
      ]
    },
    {
      "cell_type": "markdown",
      "metadata": {
        "collapsed": false,
        "id": "5ohgOcZ60LhC"
      },
      "source": [
        "## **Retrieve Dataset and run models.**\n",
        "### Please follow the instructions and example found [here](https://github.com/rocketcapital-ai/competition_quickstart_dataloader).\n",
        "\n",
        "### When completed, please place final prediction csv file in the `file_to_submit` folder."
      ]
    },
    {
      "cell_type": "code",
      "source": [
        "!cp \"/content/prediction/prediction.csv\" \"/content/competition_submission/file_to_submit/\""
      ],
      "metadata": {
        "id": "7UVxH1w93Rdy"
      },
      "execution_count": null,
      "outputs": []
    },
    {
      "cell_type": "markdown",
      "metadata": {
        "collapsed": false,
        "id": "wQ894w1O0LhD"
      },
      "source": [
        "## **Set stake.** (optional)\n",
        "### Skip if no changes need to be made."
      ]
    },
    {
      "cell_type": "code",
      "execution_count": null,
      "metadata": {
        "pycharm": {
          "name": "#%%\n"
        },
        "id": "uJlwEyJW0LhE",
        "colab": {
          "base_uri": "https://localhost:8080/"
        },
        "outputId": "9b7585eb-343a-4df7-9d89-7d37a2dfa500"
      },
      "outputs": [
        {
          "output_type": "stream",
          "name": "stdout",
          "text": [
            "Setting gas price to 108 gwei.\n",
            "Sending transaction 0xde821ad79f52afc0299ff26596794dc2c0d875b34e883aeb54a885fb5cdae0ed\n",
            "Transaction sent. Tx ID: 0xde821ad79f52afc0299ff26596794dc2c0d875b34e883aeb54a885fb5cdae0ed\n"
          ]
        }
      ],
      "source": [
        "# set_stake_amount = 100.00  # User-specified field.\n",
        "# transaction_success = submitter.set_stake(set_stake_amount)\n",
        "# assert transaction_success, 'Setting stake failed.'"
      ]
    },
    {
      "cell_type": "markdown",
      "metadata": {
        "collapsed": false,
        "pycharm": {
          "name": "#%% md\n"
        },
        "id": "G_iqtyFY0LhF"
      },
      "source": [
        "## **Submit predictions.**\n",
        "Note that the same `submit_prediction` method should be used for re-submitting predictions."
      ]
    },
    {
      "cell_type": "code",
      "execution_count": null,
      "metadata": {
        "pycharm": {
          "name": "#%%\n"
        },
        "id": "eMYyDAIL0LhF",
        "colab": {
          "base_uri": "https://localhost:8080/"
        },
        "outputId": "c059df65-4e44-4ed2-c201-5cd7ab85e5c3"
      },
      "outputs": [
        {
          "output_type": "stream",
          "name": "stdout",
          "text": [
            "Encrypting file.\n",
            "Zipping encrypted file.\n",
            "Uploading and recording on blockchain.\n",
            "Setting gas price to 131 gwei.\n",
            "Sending transaction 0x965b44ace1851954c237f47b384da0e52bc1772dc56261e37da0eea9fd8e1fcd\n",
            "Transaction sent. Tx ID: 0x965b44ace1851954c237f47b384da0e52bc1772dc56261e37da0eea9fd8e1fcd\n"
          ]
        }
      ],
      "source": [
        "submission_file_name = 'prediction.csv'  # User-specified field.\n",
        "transaction_success = submitter.submit_prediction(submission_file_name)\n",
        "assert transaction_success, 'Submission failed.'"
      ]
    },
    {
      "cell_type": "markdown",
      "metadata": {
        "id": "41q5KfA70LhG"
      },
      "source": [
        "### **Retrieve and double-check predictions.** (optional)\n",
        "This section retrieves your submitted files, decrypts them, and compares them to the original file in `file_to_submit`.\n",
        "\n",
        "If the verification fails, please wait a few minutes and perform the verification again. If the problem persists, please re-submit your predictions."
      ]
    },
    {
      "cell_type": "code",
      "execution_count": null,
      "metadata": {
        "id": "NTANPvlH0LhH",
        "colab": {
          "base_uri": "https://localhost:8080/"
        },
        "outputId": "f92e6bfe-2a63-4341-982d-293a4db38d36"
      },
      "outputs": [
        {
          "output_type": "stream",
          "name": "stdout",
          "text": [
            "Retrieving file.\n",
            "File retrieved.\n",
            "File unzipped.\n",
            "File decrypted. Comparing files.\n",
            "Removing temp files.\n",
            "Temp files removed.\n",
            "Files are identical. Verification check passed.\n"
          ]
        }
      ],
      "source": [
        "verification_success = submitter.download_and_check(submission_file_name)\n",
        "assert verification_success, 'Submission verification failed.'\n",
        "print('Files are identical. Verification check passed.')"
      ]
    },
    {
      "cell_type": "code",
      "source": [
        ""
      ],
      "metadata": {
        "id": "IA7mAPxi-L9X"
      },
      "execution_count": null,
      "outputs": []
    }
  ],
  "metadata": {
    "accelerator": "GPU",
    "colab": {
      "collapsed_sections": [],
      "machine_shape": "hm",
      "name": "Quickstart-Copy1.ipynb",
      "provenance": [],
      "include_colab_link": true
    },
    "kernelspec": {
      "display_name": "Python 3 (ipykernel)",
      "language": "python",
      "name": "python3"
    },
    "language_info": {
      "codemirror_mode": {
        "name": "ipython",
        "version": 3
      },
      "file_extension": ".py",
      "mimetype": "text/x-python",
      "name": "python",
      "nbconvert_exporter": "python",
      "pygments_lexer": "ipython3",
      "version": "3.8.10"
    },
    "widgets": {
      "application/vnd.jupyter.widget-state+json": {
        "f5f26ff52284465cb69cb2aef686f39f": {
          "model_module": "@jupyter-widgets/controls",
          "model_name": "HBoxModel",
          "model_module_version": "1.5.0",
          "state": {
            "_dom_classes": [],
            "_model_module": "@jupyter-widgets/controls",
            "_model_module_version": "1.5.0",
            "_model_name": "HBoxModel",
            "_view_count": null,
            "_view_module": "@jupyter-widgets/controls",
            "_view_module_version": "1.5.0",
            "_view_name": "HBoxView",
            "box_style": "",
            "children": [
              "IPY_MODEL_32db1530af5f48e9820455fe66c208e3",
              "IPY_MODEL_7cff10e10e484a8988eb143610aa637c",
              "IPY_MODEL_df4481a135ab4940b914c205785cd496"
            ],
            "layout": "IPY_MODEL_b8daf88e55bb4b9c9843d1b4d6fce58c"
          }
        },
        "32db1530af5f48e9820455fe66c208e3": {
          "model_module": "@jupyter-widgets/controls",
          "model_name": "HTMLModel",
          "model_module_version": "1.5.0",
          "state": {
            "_dom_classes": [],
            "_model_module": "@jupyter-widgets/controls",
            "_model_module_version": "1.5.0",
            "_model_name": "HTMLModel",
            "_view_count": null,
            "_view_module": "@jupyter-widgets/controls",
            "_view_module_version": "1.5.0",
            "_view_name": "HTMLView",
            "description": "",
            "description_tooltip": null,
            "layout": "IPY_MODEL_0fefc581b17c43c6bce95d59a19f3487",
            "placeholder": "​",
            "style": "IPY_MODEL_169a842465524b5bbed83bc3e9b5e0ef",
            "value": "Preparing Train Data: 100%"
          }
        },
        "7cff10e10e484a8988eb143610aa637c": {
          "model_module": "@jupyter-widgets/controls",
          "model_name": "FloatProgressModel",
          "model_module_version": "1.5.0",
          "state": {
            "_dom_classes": [],
            "_model_module": "@jupyter-widgets/controls",
            "_model_module_version": "1.5.0",
            "_model_name": "FloatProgressModel",
            "_view_count": null,
            "_view_module": "@jupyter-widgets/controls",
            "_view_module_version": "1.5.0",
            "_view_name": "ProgressView",
            "bar_style": "success",
            "description": "",
            "description_tooltip": null,
            "layout": "IPY_MODEL_4f78acf2b1af4092b27eb9b6e165217e",
            "max": 962,
            "min": 0,
            "orientation": "horizontal",
            "style": "IPY_MODEL_2433cc5e1c864efd8d9f54c4f17a27f4",
            "value": 962
          }
        },
        "df4481a135ab4940b914c205785cd496": {
          "model_module": "@jupyter-widgets/controls",
          "model_name": "HTMLModel",
          "model_module_version": "1.5.0",
          "state": {
            "_dom_classes": [],
            "_model_module": "@jupyter-widgets/controls",
            "_model_module_version": "1.5.0",
            "_model_name": "HTMLModel",
            "_view_count": null,
            "_view_module": "@jupyter-widgets/controls",
            "_view_module_version": "1.5.0",
            "_view_name": "HTMLView",
            "description": "",
            "description_tooltip": null,
            "layout": "IPY_MODEL_c64ff81651314a2b9550a84c737bc712",
            "placeholder": "​",
            "style": "IPY_MODEL_eb89023470e74f83a1b13255af101e47",
            "value": " 962/962 [01:20&lt;00:00, 11.67it/s]"
          }
        },
        "b8daf88e55bb4b9c9843d1b4d6fce58c": {
          "model_module": "@jupyter-widgets/base",
          "model_name": "LayoutModel",
          "model_module_version": "1.2.0",
          "state": {
            "_model_module": "@jupyter-widgets/base",
            "_model_module_version": "1.2.0",
            "_model_name": "LayoutModel",
            "_view_count": null,
            "_view_module": "@jupyter-widgets/base",
            "_view_module_version": "1.2.0",
            "_view_name": "LayoutView",
            "align_content": null,
            "align_items": null,
            "align_self": null,
            "border": null,
            "bottom": null,
            "display": null,
            "flex": null,
            "flex_flow": null,
            "grid_area": null,
            "grid_auto_columns": null,
            "grid_auto_flow": null,
            "grid_auto_rows": null,
            "grid_column": null,
            "grid_gap": null,
            "grid_row": null,
            "grid_template_areas": null,
            "grid_template_columns": null,
            "grid_template_rows": null,
            "height": null,
            "justify_content": null,
            "justify_items": null,
            "left": null,
            "margin": null,
            "max_height": null,
            "max_width": null,
            "min_height": null,
            "min_width": null,
            "object_fit": null,
            "object_position": null,
            "order": null,
            "overflow": null,
            "overflow_x": null,
            "overflow_y": null,
            "padding": null,
            "right": null,
            "top": null,
            "visibility": null,
            "width": null
          }
        },
        "0fefc581b17c43c6bce95d59a19f3487": {
          "model_module": "@jupyter-widgets/base",
          "model_name": "LayoutModel",
          "model_module_version": "1.2.0",
          "state": {
            "_model_module": "@jupyter-widgets/base",
            "_model_module_version": "1.2.0",
            "_model_name": "LayoutModel",
            "_view_count": null,
            "_view_module": "@jupyter-widgets/base",
            "_view_module_version": "1.2.0",
            "_view_name": "LayoutView",
            "align_content": null,
            "align_items": null,
            "align_self": null,
            "border": null,
            "bottom": null,
            "display": null,
            "flex": null,
            "flex_flow": null,
            "grid_area": null,
            "grid_auto_columns": null,
            "grid_auto_flow": null,
            "grid_auto_rows": null,
            "grid_column": null,
            "grid_gap": null,
            "grid_row": null,
            "grid_template_areas": null,
            "grid_template_columns": null,
            "grid_template_rows": null,
            "height": null,
            "justify_content": null,
            "justify_items": null,
            "left": null,
            "margin": null,
            "max_height": null,
            "max_width": null,
            "min_height": null,
            "min_width": null,
            "object_fit": null,
            "object_position": null,
            "order": null,
            "overflow": null,
            "overflow_x": null,
            "overflow_y": null,
            "padding": null,
            "right": null,
            "top": null,
            "visibility": null,
            "width": null
          }
        },
        "169a842465524b5bbed83bc3e9b5e0ef": {
          "model_module": "@jupyter-widgets/controls",
          "model_name": "DescriptionStyleModel",
          "model_module_version": "1.5.0",
          "state": {
            "_model_module": "@jupyter-widgets/controls",
            "_model_module_version": "1.5.0",
            "_model_name": "DescriptionStyleModel",
            "_view_count": null,
            "_view_module": "@jupyter-widgets/base",
            "_view_module_version": "1.2.0",
            "_view_name": "StyleView",
            "description_width": ""
          }
        },
        "4f78acf2b1af4092b27eb9b6e165217e": {
          "model_module": "@jupyter-widgets/base",
          "model_name": "LayoutModel",
          "model_module_version": "1.2.0",
          "state": {
            "_model_module": "@jupyter-widgets/base",
            "_model_module_version": "1.2.0",
            "_model_name": "LayoutModel",
            "_view_count": null,
            "_view_module": "@jupyter-widgets/base",
            "_view_module_version": "1.2.0",
            "_view_name": "LayoutView",
            "align_content": null,
            "align_items": null,
            "align_self": null,
            "border": null,
            "bottom": null,
            "display": null,
            "flex": null,
            "flex_flow": null,
            "grid_area": null,
            "grid_auto_columns": null,
            "grid_auto_flow": null,
            "grid_auto_rows": null,
            "grid_column": null,
            "grid_gap": null,
            "grid_row": null,
            "grid_template_areas": null,
            "grid_template_columns": null,
            "grid_template_rows": null,
            "height": null,
            "justify_content": null,
            "justify_items": null,
            "left": null,
            "margin": null,
            "max_height": null,
            "max_width": null,
            "min_height": null,
            "min_width": null,
            "object_fit": null,
            "object_position": null,
            "order": null,
            "overflow": null,
            "overflow_x": null,
            "overflow_y": null,
            "padding": null,
            "right": null,
            "top": null,
            "visibility": null,
            "width": null
          }
        },
        "2433cc5e1c864efd8d9f54c4f17a27f4": {
          "model_module": "@jupyter-widgets/controls",
          "model_name": "ProgressStyleModel",
          "model_module_version": "1.5.0",
          "state": {
            "_model_module": "@jupyter-widgets/controls",
            "_model_module_version": "1.5.0",
            "_model_name": "ProgressStyleModel",
            "_view_count": null,
            "_view_module": "@jupyter-widgets/base",
            "_view_module_version": "1.2.0",
            "_view_name": "StyleView",
            "bar_color": null,
            "description_width": ""
          }
        },
        "c64ff81651314a2b9550a84c737bc712": {
          "model_module": "@jupyter-widgets/base",
          "model_name": "LayoutModel",
          "model_module_version": "1.2.0",
          "state": {
            "_model_module": "@jupyter-widgets/base",
            "_model_module_version": "1.2.0",
            "_model_name": "LayoutModel",
            "_view_count": null,
            "_view_module": "@jupyter-widgets/base",
            "_view_module_version": "1.2.0",
            "_view_name": "LayoutView",
            "align_content": null,
            "align_items": null,
            "align_self": null,
            "border": null,
            "bottom": null,
            "display": null,
            "flex": null,
            "flex_flow": null,
            "grid_area": null,
            "grid_auto_columns": null,
            "grid_auto_flow": null,
            "grid_auto_rows": null,
            "grid_column": null,
            "grid_gap": null,
            "grid_row": null,
            "grid_template_areas": null,
            "grid_template_columns": null,
            "grid_template_rows": null,
            "height": null,
            "justify_content": null,
            "justify_items": null,
            "left": null,
            "margin": null,
            "max_height": null,
            "max_width": null,
            "min_height": null,
            "min_width": null,
            "object_fit": null,
            "object_position": null,
            "order": null,
            "overflow": null,
            "overflow_x": null,
            "overflow_y": null,
            "padding": null,
            "right": null,
            "top": null,
            "visibility": null,
            "width": null
          }
        },
        "eb89023470e74f83a1b13255af101e47": {
          "model_module": "@jupyter-widgets/controls",
          "model_name": "DescriptionStyleModel",
          "model_module_version": "1.5.0",
          "state": {
            "_model_module": "@jupyter-widgets/controls",
            "_model_module_version": "1.5.0",
            "_model_name": "DescriptionStyleModel",
            "_view_count": null,
            "_view_module": "@jupyter-widgets/base",
            "_view_module_version": "1.2.0",
            "_view_name": "StyleView",
            "description_width": ""
          }
        },
        "3ace7cb643a544a7838b5c9c3cc6f6ba": {
          "model_module": "@jupyter-widgets/controls",
          "model_name": "HBoxModel",
          "model_module_version": "1.5.0",
          "state": {
            "_dom_classes": [],
            "_model_module": "@jupyter-widgets/controls",
            "_model_module_version": "1.5.0",
            "_model_name": "HBoxModel",
            "_view_count": null,
            "_view_module": "@jupyter-widgets/controls",
            "_view_module_version": "1.5.0",
            "_view_name": "HBoxView",
            "box_style": "",
            "children": [
              "IPY_MODEL_bcb2704f49a549eca894cf4eafecf85f",
              "IPY_MODEL_77e4e200518b4510bcc2a96b718354e8",
              "IPY_MODEL_c48394ee99b64e5181fd8823dec132f5"
            ],
            "layout": "IPY_MODEL_daba4db7124d42fcaab9bd7456bbe541"
          }
        },
        "bcb2704f49a549eca894cf4eafecf85f": {
          "model_module": "@jupyter-widgets/controls",
          "model_name": "HTMLModel",
          "model_module_version": "1.5.0",
          "state": {
            "_dom_classes": [],
            "_model_module": "@jupyter-widgets/controls",
            "_model_module_version": "1.5.0",
            "_model_name": "HTMLModel",
            "_view_count": null,
            "_view_module": "@jupyter-widgets/controls",
            "_view_module_version": "1.5.0",
            "_view_name": "HTMLView",
            "description": "",
            "description_tooltip": null,
            "layout": "IPY_MODEL_e269406e17644461a79fde729c4065c1",
            "placeholder": "​",
            "style": "IPY_MODEL_f07e4cf4a59e4bb2b6797076aa824694",
            "value": "Preparing test data: 100%"
          }
        },
        "77e4e200518b4510bcc2a96b718354e8": {
          "model_module": "@jupyter-widgets/controls",
          "model_name": "FloatProgressModel",
          "model_module_version": "1.5.0",
          "state": {
            "_dom_classes": [],
            "_model_module": "@jupyter-widgets/controls",
            "_model_module_version": "1.5.0",
            "_model_name": "FloatProgressModel",
            "_view_count": null,
            "_view_module": "@jupyter-widgets/controls",
            "_view_module_version": "1.5.0",
            "_view_name": "ProgressView",
            "bar_style": "success",
            "description": "",
            "description_tooltip": null,
            "layout": "IPY_MODEL_5391da59f36546a583a4c1a14bbdef2a",
            "max": 669,
            "min": 0,
            "orientation": "horizontal",
            "style": "IPY_MODEL_3b9e0f2682834320a0a405a9f85fca9c",
            "value": 669
          }
        },
        "c48394ee99b64e5181fd8823dec132f5": {
          "model_module": "@jupyter-widgets/controls",
          "model_name": "HTMLModel",
          "model_module_version": "1.5.0",
          "state": {
            "_dom_classes": [],
            "_model_module": "@jupyter-widgets/controls",
            "_model_module_version": "1.5.0",
            "_model_name": "HTMLModel",
            "_view_count": null,
            "_view_module": "@jupyter-widgets/controls",
            "_view_module_version": "1.5.0",
            "_view_name": "HTMLView",
            "description": "",
            "description_tooltip": null,
            "layout": "IPY_MODEL_862c6f0ef8b34e79ad4bd59d577edf04",
            "placeholder": "​",
            "style": "IPY_MODEL_be21793b1fe14ff186814c1de260e77f",
            "value": " 669/669 [00:12&lt;00:00, 65.54it/s]"
          }
        },
        "daba4db7124d42fcaab9bd7456bbe541": {
          "model_module": "@jupyter-widgets/base",
          "model_name": "LayoutModel",
          "model_module_version": "1.2.0",
          "state": {
            "_model_module": "@jupyter-widgets/base",
            "_model_module_version": "1.2.0",
            "_model_name": "LayoutModel",
            "_view_count": null,
            "_view_module": "@jupyter-widgets/base",
            "_view_module_version": "1.2.0",
            "_view_name": "LayoutView",
            "align_content": null,
            "align_items": null,
            "align_self": null,
            "border": null,
            "bottom": null,
            "display": null,
            "flex": null,
            "flex_flow": null,
            "grid_area": null,
            "grid_auto_columns": null,
            "grid_auto_flow": null,
            "grid_auto_rows": null,
            "grid_column": null,
            "grid_gap": null,
            "grid_row": null,
            "grid_template_areas": null,
            "grid_template_columns": null,
            "grid_template_rows": null,
            "height": null,
            "justify_content": null,
            "justify_items": null,
            "left": null,
            "margin": null,
            "max_height": null,
            "max_width": null,
            "min_height": null,
            "min_width": null,
            "object_fit": null,
            "object_position": null,
            "order": null,
            "overflow": null,
            "overflow_x": null,
            "overflow_y": null,
            "padding": null,
            "right": null,
            "top": null,
            "visibility": null,
            "width": null
          }
        },
        "e269406e17644461a79fde729c4065c1": {
          "model_module": "@jupyter-widgets/base",
          "model_name": "LayoutModel",
          "model_module_version": "1.2.0",
          "state": {
            "_model_module": "@jupyter-widgets/base",
            "_model_module_version": "1.2.0",
            "_model_name": "LayoutModel",
            "_view_count": null,
            "_view_module": "@jupyter-widgets/base",
            "_view_module_version": "1.2.0",
            "_view_name": "LayoutView",
            "align_content": null,
            "align_items": null,
            "align_self": null,
            "border": null,
            "bottom": null,
            "display": null,
            "flex": null,
            "flex_flow": null,
            "grid_area": null,
            "grid_auto_columns": null,
            "grid_auto_flow": null,
            "grid_auto_rows": null,
            "grid_column": null,
            "grid_gap": null,
            "grid_row": null,
            "grid_template_areas": null,
            "grid_template_columns": null,
            "grid_template_rows": null,
            "height": null,
            "justify_content": null,
            "justify_items": null,
            "left": null,
            "margin": null,
            "max_height": null,
            "max_width": null,
            "min_height": null,
            "min_width": null,
            "object_fit": null,
            "object_position": null,
            "order": null,
            "overflow": null,
            "overflow_x": null,
            "overflow_y": null,
            "padding": null,
            "right": null,
            "top": null,
            "visibility": null,
            "width": null
          }
        },
        "f07e4cf4a59e4bb2b6797076aa824694": {
          "model_module": "@jupyter-widgets/controls",
          "model_name": "DescriptionStyleModel",
          "model_module_version": "1.5.0",
          "state": {
            "_model_module": "@jupyter-widgets/controls",
            "_model_module_version": "1.5.0",
            "_model_name": "DescriptionStyleModel",
            "_view_count": null,
            "_view_module": "@jupyter-widgets/base",
            "_view_module_version": "1.2.0",
            "_view_name": "StyleView",
            "description_width": ""
          }
        },
        "5391da59f36546a583a4c1a14bbdef2a": {
          "model_module": "@jupyter-widgets/base",
          "model_name": "LayoutModel",
          "model_module_version": "1.2.0",
          "state": {
            "_model_module": "@jupyter-widgets/base",
            "_model_module_version": "1.2.0",
            "_model_name": "LayoutModel",
            "_view_count": null,
            "_view_module": "@jupyter-widgets/base",
            "_view_module_version": "1.2.0",
            "_view_name": "LayoutView",
            "align_content": null,
            "align_items": null,
            "align_self": null,
            "border": null,
            "bottom": null,
            "display": null,
            "flex": null,
            "flex_flow": null,
            "grid_area": null,
            "grid_auto_columns": null,
            "grid_auto_flow": null,
            "grid_auto_rows": null,
            "grid_column": null,
            "grid_gap": null,
            "grid_row": null,
            "grid_template_areas": null,
            "grid_template_columns": null,
            "grid_template_rows": null,
            "height": null,
            "justify_content": null,
            "justify_items": null,
            "left": null,
            "margin": null,
            "max_height": null,
            "max_width": null,
            "min_height": null,
            "min_width": null,
            "object_fit": null,
            "object_position": null,
            "order": null,
            "overflow": null,
            "overflow_x": null,
            "overflow_y": null,
            "padding": null,
            "right": null,
            "top": null,
            "visibility": null,
            "width": null
          }
        },
        "3b9e0f2682834320a0a405a9f85fca9c": {
          "model_module": "@jupyter-widgets/controls",
          "model_name": "ProgressStyleModel",
          "model_module_version": "1.5.0",
          "state": {
            "_model_module": "@jupyter-widgets/controls",
            "_model_module_version": "1.5.0",
            "_model_name": "ProgressStyleModel",
            "_view_count": null,
            "_view_module": "@jupyter-widgets/base",
            "_view_module_version": "1.2.0",
            "_view_name": "StyleView",
            "bar_color": null,
            "description_width": ""
          }
        },
        "862c6f0ef8b34e79ad4bd59d577edf04": {
          "model_module": "@jupyter-widgets/base",
          "model_name": "LayoutModel",
          "model_module_version": "1.2.0",
          "state": {
            "_model_module": "@jupyter-widgets/base",
            "_model_module_version": "1.2.0",
            "_model_name": "LayoutModel",
            "_view_count": null,
            "_view_module": "@jupyter-widgets/base",
            "_view_module_version": "1.2.0",
            "_view_name": "LayoutView",
            "align_content": null,
            "align_items": null,
            "align_self": null,
            "border": null,
            "bottom": null,
            "display": null,
            "flex": null,
            "flex_flow": null,
            "grid_area": null,
            "grid_auto_columns": null,
            "grid_auto_flow": null,
            "grid_auto_rows": null,
            "grid_column": null,
            "grid_gap": null,
            "grid_row": null,
            "grid_template_areas": null,
            "grid_template_columns": null,
            "grid_template_rows": null,
            "height": null,
            "justify_content": null,
            "justify_items": null,
            "left": null,
            "margin": null,
            "max_height": null,
            "max_width": null,
            "min_height": null,
            "min_width": null,
            "object_fit": null,
            "object_position": null,
            "order": null,
            "overflow": null,
            "overflow_x": null,
            "overflow_y": null,
            "padding": null,
            "right": null,
            "top": null,
            "visibility": null,
            "width": null
          }
        },
        "be21793b1fe14ff186814c1de260e77f": {
          "model_module": "@jupyter-widgets/controls",
          "model_name": "DescriptionStyleModel",
          "model_module_version": "1.5.0",
          "state": {
            "_model_module": "@jupyter-widgets/controls",
            "_model_module_version": "1.5.0",
            "_model_name": "DescriptionStyleModel",
            "_view_count": null,
            "_view_module": "@jupyter-widgets/base",
            "_view_module_version": "1.2.0",
            "_view_name": "StyleView",
            "description_width": ""
          }
        }
      }
    }
  },
  "nbformat": 4,
  "nbformat_minor": 0
}