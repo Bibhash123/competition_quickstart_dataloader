{
  "cells": [
    {
      "cell_type": "markdown",
      "metadata": {
        "id": "view-in-github",
        "colab_type": "text"
      },
      "source": [
        "<a href=\"https://colab.research.google.com/github/Bibhash123/competition_quickstart_dataloader/blob/main/gbm-models-lgb.ipynb\" target=\"_parent\"><img src=\"https://colab.research.google.com/assets/colab-badge.svg\" alt=\"Open In Colab\"/></a>"
      ]
    },
    {
      "cell_type": "code",
      "execution_count": null,
      "metadata": {
        "id": "ee31a3ed-68f1-460d-90f4-7dbe89185702"
      },
      "outputs": [],
      "source": [
        "from IPython.display import clear_output\n",
        "!pip install -U layer\n",
        "clear_output(wait = False)"
      ]
    },
    {
      "cell_type": "code",
      "execution_count": null,
      "metadata": {
        "id": "63859387-1f1a-4973-a250-dd36e6ac8d90"
      },
      "outputs": [],
      "source": [
        "import layer\n",
        "from layer.decorators import dataset,model, pip_requirements, resources\n",
        "layer.login()"
      ]
    },
    {
      "cell_type": "code",
      "execution_count": null,
      "metadata": {
        "colab": {
          "base_uri": "https://localhost:8080/"
        },
        "id": "4fa445e3-9cab-4ecb-b608-569cb0b4a13d",
        "outputId": "ff3f541f-9a74-47c0-cb6f-9bc5d2faade4"
      },
      "outputs": [
        {
          "output_type": "execute_result",
          "data": {
            "text/plain": [
              "Your Layer project is here: https://app.layer.ai/bibhash/rci-competition"
            ]
          },
          "metadata": {},
          "execution_count": 2
        }
      ],
      "source": [
        "layer.init(\"rci-competition\")"
      ]
    },
    {
      "cell_type": "markdown",
      "source": [
        "## Imports"
      ],
      "metadata": {
        "id": "200S2nD2NhrH"
      }
    },
    {
      "cell_type": "code",
      "source": [
        "import os\n",
        "import gc\n",
        "from tqdm.notebook import tqdm\n",
        "from sklearn.metrics import mean_squared_error, mean_absolute_error\n",
        "import matplotlib.pyplot\n",
        "import seaborn as sns\n",
        "import pandas as pd\n",
        "import numpy as np\n",
        "import scipy as sp\n",
        "import warnings\n",
        "from lightgbm import LGBMRegressor\n",
        "\n",
        "warnings.filterwarnings(action='ignore', category=UserWarning)"
      ],
      "metadata": {
        "id": "YgzM4cbIZoox"
      },
      "execution_count": 1,
      "outputs": []
    },
    {
      "cell_type": "code",
      "source": [
        "def rank_data(series):\n",
        "    return (series.rank() - 1) / (len(series) - 1)"
      ],
      "metadata": {
        "id": "xoUpfyDZingj"
      },
      "execution_count": 2,
      "outputs": []
    },
    {
      "cell_type": "markdown",
      "source": [
        "# **Data Preparation**"
      ],
      "metadata": {
        "id": "PkRtP1W7NBMe"
      }
    },
    {
      "cell_type": "code",
      "source": [
        "import os\n",
        "import numpy as np\n",
        "import pandas as pd\n",
        "from tqdm.notebook import tqdm\n",
        "import matplotlib.pyplot as plt\n",
        "import seaborn as sns"
      ],
      "metadata": {
        "id": "ZdjJY--dEck1"
      },
      "execution_count": 3,
      "outputs": []
    },
    {
      "cell_type": "code",
      "source": [
        "!wget https://rocketcompetition.mypinata.cloud/ipfs/Qmc5eTuSvaz4Af1pAwTj69W4WmhXHDM4SS3YZKsEx4nv3G\n",
        "!unzip -q Qmc5eTuSvaz4Af1pAwTj69W4WmhXHDM4SS3YZKsEx4nv3G -d \"/content/\"\n",
        "!rm -r Qmc5eTuSvaz4Af1pAwTj69W4WmhXHDM4SS3YZKsEx4nv3G"
      ],
      "metadata": {
        "colab": {
          "base_uri": "https://localhost:8080/"
        },
        "id": "2GmJgHsYyuu7",
        "outputId": "e069f6e4-b204-4add-d3f5-fbf7cd24aad9"
      },
      "execution_count": 4,
      "outputs": [
        {
          "output_type": "stream",
          "name": "stdout",
          "text": [
            "--2022-08-10 15:54:02--  https://rocketcompetition.mypinata.cloud/ipfs/Qmc5eTuSvaz4Af1pAwTj69W4WmhXHDM4SS3YZKsEx4nv3G\n",
            "Resolving rocketcompetition.mypinata.cloud (rocketcompetition.mypinata.cloud)... 104.18.30.237, 104.18.31.237, 2606:4700::6812:1eed, ...\n",
            "Connecting to rocketcompetition.mypinata.cloud (rocketcompetition.mypinata.cloud)|104.18.30.237|:443... connected.\n",
            "HTTP request sent, awaiting response... 200 OK\n",
            "Length: 378472291 (361M) [application/zip]\n",
            "Saving to: ‘Qmc5eTuSvaz4Af1pAwTj69W4WmhXHDM4SS3YZKsEx4nv3G’\n",
            "\n",
            "Qmc5eTuSvaz4Af1pAwT 100%[===================>] 360.94M  16.1MB/s    in 29s     \n",
            "\n",
            "2022-08-10 15:54:36 (12.6 MB/s) - ‘Qmc5eTuSvaz4Af1pAwTj69W4WmhXHDM4SS3YZKsEx4nv3G’ saved [378472291/378472291]\n",
            "\n"
          ]
        }
      ]
    },
    {
      "cell_type": "markdown",
      "metadata": {
        "id": "bnhEMubk8R3L"
      },
      "source": [
        "### Loading train_dataset and validation_dataset"
      ]
    },
    {
      "cell_type": "code",
      "source": [
        "train_dataset  = pd.read_csv('/content/dataset/train_dataset.csv', index_col = 'date')\n",
        "validation_dataset  = pd.read_csv('/content/dataset/validation_dataset.csv', index_col = 'date')\n",
        "print(\"Shape of train set:\",train_dataset.shape)\n",
        "print(\"Shape of test set:\",validation_dataset.shape)"
      ],
      "metadata": {
        "id": "rsFeEBtLhqXe",
        "outputId": "7d1ae8bc-aa15-4892-c635-0c9b3afa058c",
        "colab": {
          "base_uri": "https://localhost:8080/"
        }
      },
      "execution_count": 5,
      "outputs": [
        {
          "output_type": "stream",
          "name": "stdout",
          "text": [
            "Shape of train set: (85378, 2013)\n",
            "Shape of test set: (724, 2013)\n"
          ]
        }
      ]
    },
    {
      "cell_type": "code",
      "source": [
        "train_dataset = train_dataset.sort_values(by=[\"symbol\",\"date\"]).reset_index(drop=False)\n",
        "validation_dataset = validation_dataset.sort_values(by=[\"symbol\",\"date\"]).reset_index(drop=False)"
      ],
      "metadata": {
        "id": "C7J4gI1oKElb"
      },
      "execution_count": 6,
      "outputs": []
    },
    {
      "cell_type": "code",
      "source": [
        "df = train_dataset.groupby(\"symbol\")['date'].count().to_frame().reset_index()\n",
        "sns.displot(df['date'],bins = 100)"
      ],
      "metadata": {
        "id": "r8_ERZybER7t",
        "outputId": "7ac2a389-71de-4540-de65-8a0fbefd4bfc",
        "colab": {
          "base_uri": "https://localhost:8080/",
          "height": 386
        }
      },
      "execution_count": 7,
      "outputs": [
        {
          "output_type": "execute_result",
          "data": {
            "text/plain": [
              "<seaborn.axisgrid.FacetGrid at 0x7f8fc8035e10>"
            ]
          },
          "metadata": {},
          "execution_count": 7
        },
        {
          "output_type": "display_data",
          "data": {
            "text/plain": [
              "<Figure size 360x360 with 1 Axes>"
            ],
            "image/png": "[encoded data removed]"
          },
          "metadata": {
            "needs_background": "light"
          }
        }
      ]
    },
    {
      "cell_type": "code",
      "execution_count": 8,
      "metadata": {
        "colab": {
          "base_uri": "https://localhost:8080/",
          "height": 386
        },
        "id": "9S5S-hgR8R3M",
        "outputId": "d4715ef9-6257-4620-f9e0-9870d1c55b76"
      },
      "outputs": [
        {
          "output_type": "execute_result",
          "data": {
            "text/plain": [
              "         date symbol  feature_1  feature_2  feature_3  feature_4  feature_5  \\\n",
              "0  2018-12-23  0xBTC   0.974026   0.987013   0.978355   0.991342   0.982684   \n",
              "1  2018-12-30  0xBTC   0.016878   0.033755   0.949367   0.936709   0.978903   \n",
              "2  2019-01-06  0xBTC   0.158996   0.016736   0.033473   0.928870   0.868201   \n",
              "3  2019-01-13  0xBTC   0.737500   0.279167   0.020833   0.054167   0.945833   \n",
              "4  2019-01-20  0xBTC   0.983607   0.987705   0.983607   0.430328   0.971311   \n",
              "\n",
              "   feature_6  feature_7  feature_8  ...  feature_2003  feature_2004  \\\n",
              "0   0.982684   0.982684   0.978355  ...      0.887446      0.857143   \n",
              "1   0.907173   0.962025   0.953586  ...      0.936709      0.953586   \n",
              "2   0.941423   0.740586   0.933054  ...      0.891213      0.874477   \n",
              "3   0.908333   0.962500   0.870833  ...      0.645833      0.600000   \n",
              "4   0.991803   0.987705   0.991803  ...      0.504098      0.454918   \n",
              "\n",
              "   feature_2005  feature_2006  feature_2007  feature_2008  feature_2009  \\\n",
              "0      0.857143      0.857143      0.835498      0.839827      0.839827   \n",
              "1      0.962025      0.932489      0.940928      0.945148      0.915612   \n",
              "2      0.857741      0.912134      0.849372      0.807531      0.878661   \n",
              "3      0.541667      0.691667      0.591667      0.504167      0.670833   \n",
              "4      0.422131      0.553279      0.368852      0.331967      0.450820   \n",
              "\n",
              "   feature_DC1    target  target_DC1  \n",
              "0     0.891775  0.095238   -0.211551  \n",
              "1     0.101266  0.046414   -0.192849  \n",
              "2     0.050209  0.284519   -0.263822  \n",
              "3     0.287500  0.391667    0.023985  \n",
              "4     0.397541  0.032787   -0.251842  \n",
              "\n",
              "[5 rows x 2014 columns]"
            ],
            "text/html": [
              "\n",
              "  <div id=\"df-d648d425-fb14-44f8-9aa3-b14f3b50965c\">\n",
              "    <div class=\"colab-df-container\">\n",
              "      <div>\n",
              "<style scoped>\n",
              "    .dataframe tbody tr th:only-of-type {\n",
              "        vertical-align: middle;\n",
              "    }\n",
              "\n",
              "    .dataframe tbody tr th {\n",
              "        vertical-align: top;\n",
              "    }\n",
              "\n",
              "    .dataframe thead th {\n",
              "        text-align: right;\n",
              "    }\n",
              "</style>\n",
              "<table border=\"1\" class=\"dataframe\">\n",
              "  <thead>\n",
              "    <tr style=\"text-align: right;\">\n",
              "      <th></th>\n",
              "      <th>date</th>\n",
              "      <th>symbol</th>\n",
              "      <th>feature_1</th>\n",
              "      <th>feature_2</th>\n",
              "      <th>feature_3</th>\n",
              "      <th>feature_4</th>\n",
              "      <th>feature_5</th>\n",
              "      <th>feature_6</th>\n",
              "      <th>feature_7</th>\n",
              "      <th>feature_8</th>\n",
              "      <th>...</th>\n",
              "      <th>feature_2003</th>\n",
              "      <th>feature_2004</th>\n",
              "      <th>feature_2005</th>\n",
              "      <th>feature_2006</th>\n",
              "      <th>feature_2007</th>\n",
              "      <th>feature_2008</th>\n",
              "      <th>feature_2009</th>\n",
              "      <th>feature_DC1</th>\n",
              "      <th>target</th>\n",
              "      <th>target_DC1</th>\n",
              "    </tr>\n",
              "  </thead>\n",
              "  <tbody>\n",
              "    <tr>\n",
              "      <th>0</th>\n",
              "      <td>2018-12-23</td>\n",
              "      <td>0xBTC</td>\n",
              "      <td>0.974026</td>\n",
              "      <td>0.987013</td>\n",
              "      <td>0.978355</td>\n",
              "      <td>0.991342</td>\n",
              "      <td>0.982684</td>\n",
              "      <td>0.982684</td>\n",
              "      <td>0.982684</td>\n",
              "      <td>0.978355</td>\n",
              "      <td>...</td>\n",
              "      <td>0.887446</td>\n",
              "      <td>0.857143</td>\n",
              "      <td>0.857143</td>\n",
              "      <td>0.857143</td>\n",
              "      <td>0.835498</td>\n",
              "      <td>0.839827</td>\n",
              "      <td>0.839827</td>\n",
              "      <td>0.891775</td>\n",
              "      <td>0.095238</td>\n",
              "      <td>-0.211551</td>\n",
              "    </tr>\n",
              "    <tr>\n",
              "      <th>1</th>\n",
              "      <td>2018-12-30</td>\n",
              "      <td>0xBTC</td>\n",
              "      <td>0.016878</td>\n",
              "      <td>0.033755</td>\n",
              "      <td>0.949367</td>\n",
              "      <td>0.936709</td>\n",
              "      <td>0.978903</td>\n",
              "      <td>0.907173</td>\n",
              "      <td>0.962025</td>\n",
              "      <td>0.953586</td>\n",
              "      <td>...</td>\n",
              "      <td>0.936709</td>\n",
              "      <td>0.953586</td>\n",
              "      <td>0.962025</td>\n",
              "      <td>0.932489</td>\n",
              "      <td>0.940928</td>\n",
              "      <td>0.945148</td>\n",
              "      <td>0.915612</td>\n",
              "      <td>0.101266</td>\n",
              "      <td>0.046414</td>\n",
              "      <td>-0.192849</td>\n",
              "    </tr>\n",
              "    <tr>\n",
              "      <th>2</th>\n",
              "      <td>2019-01-06</td>\n",
              "      <td>0xBTC</td>\n",
              "      <td>0.158996</td>\n",
              "      <td>0.016736</td>\n",
              "      <td>0.033473</td>\n",
              "      <td>0.928870</td>\n",
              "      <td>0.868201</td>\n",
              "      <td>0.941423</td>\n",
              "      <td>0.740586</td>\n",
              "      <td>0.933054</td>\n",
              "      <td>...</td>\n",
              "      <td>0.891213</td>\n",
              "      <td>0.874477</td>\n",
              "      <td>0.857741</td>\n",
              "      <td>0.912134</td>\n",
              "      <td>0.849372</td>\n",
              "      <td>0.807531</td>\n",
              "      <td>0.878661</td>\n",
              "      <td>0.050209</td>\n",
              "      <td>0.284519</td>\n",
              "      <td>-0.263822</td>\n",
              "    </tr>\n",
              "    <tr>\n",
              "      <th>3</th>\n",
              "      <td>2019-01-13</td>\n",
              "      <td>0xBTC</td>\n",
              "      <td>0.737500</td>\n",
              "      <td>0.279167</td>\n",
              "      <td>0.020833</td>\n",
              "      <td>0.054167</td>\n",
              "      <td>0.945833</td>\n",
              "      <td>0.908333</td>\n",
              "      <td>0.962500</td>\n",
              "      <td>0.870833</td>\n",
              "      <td>...</td>\n",
              "      <td>0.645833</td>\n",
              "      <td>0.600000</td>\n",
              "      <td>0.541667</td>\n",
              "      <td>0.691667</td>\n",
              "      <td>0.591667</td>\n",
              "      <td>0.504167</td>\n",
              "      <td>0.670833</td>\n",
              "      <td>0.287500</td>\n",
              "      <td>0.391667</td>\n",
              "      <td>0.023985</td>\n",
              "    </tr>\n",
              "    <tr>\n",
              "      <th>4</th>\n",
              "      <td>2019-01-20</td>\n",
              "      <td>0xBTC</td>\n",
              "      <td>0.983607</td>\n",
              "      <td>0.987705</td>\n",
              "      <td>0.983607</td>\n",
              "      <td>0.430328</td>\n",
              "      <td>0.971311</td>\n",
              "      <td>0.991803</td>\n",
              "      <td>0.987705</td>\n",
              "      <td>0.991803</td>\n",
              "      <td>...</td>\n",
              "      <td>0.504098</td>\n",
              "      <td>0.454918</td>\n",
              "      <td>0.422131</td>\n",
              "      <td>0.553279</td>\n",
              "      <td>0.368852</td>\n",
              "      <td>0.331967</td>\n",
              "      <td>0.450820</td>\n",
              "      <td>0.397541</td>\n",
              "      <td>0.032787</td>\n",
              "      <td>-0.251842</td>\n",
              "    </tr>\n",
              "  </tbody>\n",
              "</table>\n",
              "<p>5 rows × 2014 columns</p>\n",
              "</div>\n",
              "      <button class=\"colab-df-convert\" onclick=\"convertToInteractive('df-d648d425-fb14-44f8-9aa3-b14f3b50965c')\"\n",
              "              title=\"Convert this dataframe to an interactive table.\"\n",
              "              style=\"display:none;\">\n",
              "        \n",
              "  <svg xmlns=\"http://www.w3.org/2000/svg\" height=\"24px\"viewBox=\"0 0 24 24\"\n",
              "       width=\"24px\">\n",
              "    <path d=\"M0 0h24v24H0V0z\" fill=\"none\"/>\n",
              "    <path d=\"M18.56 5.44l.94 2.06.94-2.06 2.06-.94-2.06-.94-.94-2.06-.94 2.06-2.06.94zm-11 1L8.5 8.5l.94-2.06 2.06-.94-2.06-.94L8.5 2.5l-.94 2.06-2.06.94zm10 10l.94 2.06.94-2.06 2.06-.94-2.06-.94-.94-2.06-.94 2.06-2.06.94z\"/><path d=\"M17.41 7.96l-1.37-1.37c-.4-.4-.92-.59-1.43-.59-.52 0-1.04.2-1.43.59L10.3 9.45l-7.72 7.72c-.78.78-.78 2.05 0 2.83L4 21.41c.39.39.9.59 1.41.59.51 0 1.02-.2 1.41-.59l7.78-7.78 2.81-2.81c.8-.78.8-2.07 0-2.86zM5.41 20L4 18.59l7.72-7.72 1.47 1.35L5.41 20z\"/>\n",
              "  </svg>\n",
              "      </button>\n",
              "      \n",
              "  <style>\n",
              "    .colab-df-container {\n",
              "      display:flex;\n",
              "      flex-wrap:wrap;\n",
              "      gap: 12px;\n",
              "    }\n",
              "\n",
              "    .colab-df-convert {\n",
              "      background-color: #E8F0FE;\n",
              "      border: none;\n",
              "      border-radius: 50%;\n",
              "      cursor: pointer;\n",
              "      display: none;\n",
              "      fill: #1967D2;\n",
              "      height: 32px;\n",
              "      padding: 0 0 0 0;\n",
              "      width: 32px;\n",
              "    }\n",
              "\n",
              "    .colab-df-convert:hover {\n",
              "      background-color: #E2EBFA;\n",
              "      box-shadow: 0px 1px 2px rgba(60, 64, 67, 0.3), 0px 1px 3px 1px rgba(60, 64, 67, 0.15);\n",
              "      fill: #174EA6;\n",
              "    }\n",
              "\n",
              "    [theme=dark] .colab-df-convert {\n",
              "      background-color: #3B4455;\n",
              "      fill: #D2E3FC;\n",
              "    }\n",
              "\n",
              "    [theme=dark] .colab-df-convert:hover {\n",
              "      background-color: #434B5C;\n",
              "      box-shadow: 0px 1px 3px 1px rgba(0, 0, 0, 0.15);\n",
              "      filter: drop-shadow(0px 1px 2px rgba(0, 0, 0, 0.3));\n",
              "      fill: #FFFFFF;\n",
              "    }\n",
              "  </style>\n",
              "\n",
              "      <script>\n",
              "        const buttonEl =\n",
              "          document.querySelector('#df-d648d425-fb14-44f8-9aa3-b14f3b50965c button.colab-df-convert');\n",
              "        buttonEl.style.display =\n",
              "          google.colab.kernel.accessAllowed ? 'block' : 'none';\n",
              "\n",
              "        async function convertToInteractive(key) {\n",
              "          const element = document.querySelector('#df-d648d425-fb14-44f8-9aa3-b14f3b50965c');\n",
              "          const dataTable =\n",
              "            await google.colab.kernel.invokeFunction('convertToInteractive',\n",
              "                                                     [key], {});\n",
              "          if (!dataTable) return;\n",
              "\n",
              "          const docLinkHtml = 'Like what you see? Visit the ' +\n",
              "            '<a target=\"_blank\" href=https://colab.research.google.com/notebooks/data_table.ipynb>data table notebook</a>'\n",
              "            + ' to learn more about interactive tables.';\n",
              "          element.innerHTML = '';\n",
              "          dataTable['output_type'] = 'display_data';\n",
              "          await google.colab.output.renderOutput(dataTable, element);\n",
              "          const docLink = document.createElement('div');\n",
              "          docLink.innerHTML = docLinkHtml;\n",
              "          element.appendChild(docLink);\n",
              "        }\n",
              "      </script>\n",
              "    </div>\n",
              "  </div>\n",
              "  "
            ]
          },
          "metadata": {},
          "execution_count": 8
        }
      ],
      "source": [
        "# first column (symbol) is the ticker\n",
        "# 'target_DC1' is the log of return for delta between current close to previous close\n",
        "# 'target' is the y which is ranked by Era using 'target_DC1'\n",
        "# the rest of the columns are features to be used for ML\n",
        "train_dataset.head()"
      ]
    },
    {
      "cell_type": "code",
      "source": [
        "info = train_dataset.describe().transpose().reset_index()"
      ],
      "metadata": {
        "id": "JIIo-J6qnX-P"
      },
      "execution_count": 9,
      "outputs": []
    },
    {
      "cell_type": "code",
      "source": [
        "plt.plot(train_dataset[train_dataset['symbol']=='0xBTC']['date'], np.exp(train_dataset[train_dataset['symbol']=='0xBTC']['target_DC1']))"
      ],
      "metadata": {
        "id": "lkWnUt1bXoJQ",
        "outputId": "b8a46415-936f-4303-d8c9-3620afa67fa1",
        "colab": {
          "base_uri": "https://localhost:8080/",
          "height": 282
        }
      },
      "execution_count": 10,
      "outputs": [
        {
          "output_type": "execute_result",
          "data": {
            "text/plain": [
              "[<matplotlib.lines.Line2D at 0x7f8fc71b5710>]"
            ]
          },
          "metadata": {},
          "execution_count": 10
        },
        {
          "output_type": "display_data",
          "data": {
            "text/plain": [
              "<Figure size 432x288 with 1 Axes>"
            ],
            "image/png": "[encoded data removed]"
          },
          "metadata": {
            "needs_background": "light"
          }
        }
      ]
    },
    {
      "cell_type": "code",
      "source": [
        "plt.plot(train_dataset[train_dataset['symbol']=='0xBTC']['date'], np.exp(train_dataset[train_dataset['symbol']=='0xBTC']['feature_DC1']))"
      ],
      "metadata": {
        "id": "9CAuvDncVOB7",
        "outputId": "8ef26f9f-549e-4fdf-8f1e-169d8e03c6d8",
        "colab": {
          "base_uri": "https://localhost:8080/",
          "height": 282
        }
      },
      "execution_count": 11,
      "outputs": [
        {
          "output_type": "execute_result",
          "data": {
            "text/plain": [
              "[<matplotlib.lines.Line2D at 0x7f8fc75ffa50>]"
            ]
          },
          "metadata": {},
          "execution_count": 11
        },
        {
          "output_type": "display_data",
          "data": {
            "text/plain": [
              "<Figure size 432x288 with 1 Axes>"
            ],
            "image/png": "[encoded data removed]"
          },
          "metadata": {
            "needs_background": "light"
          }
        }
      ]
    },
    {
      "cell_type": "code",
      "source": [
        "symbols = train_dataset.symbol.unique()\n",
        "trainsize = train_dataset.shape[0]\n",
        "\n",
        "train_dataset = pd.concat([train_dataset, validation_dataset], axis = 0)\n",
        "train_dataset['dc1_lag1'] = -1\n",
        "train_dataset['dc1_lag1_rolling'] = -1\n",
        "train_dataset['dc1_lag2'] = -1\n",
        "train_dataset['target_lag1'] = -1\n",
        "train_dataset['target_lag2'] = -1\n",
        "\n",
        "for sym in tqdm(symbols):\n",
        "  train_dataset.loc[train_dataset['symbol']==sym,'dc1_lag1'] = train_dataset[train_dataset['symbol']==sym]['target_DC1'].shift(1)\n",
        "  train_dataset.loc[train_dataset['symbol']==sym,'target_lag1'] = train_dataset[train_dataset['symbol']==sym]['target'].shift(1)\n",
        "  train_dataset.loc[train_dataset['symbol']==sym,'dc1_lag2'] = train_dataset[train_dataset['symbol']==sym]['target_DC1'].shift(2)\n",
        "  train_dataset.loc[train_dataset['symbol']==sym,'target_lag2'] = train_dataset[train_dataset['symbol']==sym]['target'].shift(2)\n",
        "  train_dataset.loc[train_dataset['symbol']==sym,'dc1_lag1_rolling'] = train_dataset.loc[train_dataset['symbol']==sym,'dc1_lag1'].rolling(window=3).sum()\n",
        "\n",
        "train_dataset['dc1_lag1_exp'] = np.exp(train_dataset['dc1_lag1'])\n",
        "train_dataset.fillna(-1,inplace = True)\n",
        "train_dataset['month'] = pd.to_datetime(train_dataset['date']).apply(lambda x: x.month)\n",
        "train_dataset['year'] = pd.to_datetime(train_dataset['date']).apply(lambda x: x.year)\n",
        "train_dataset['day'] = pd.to_datetime(train_dataset['date']).apply(lambda x: x.day)\n",
        "\n",
        "\n",
        "\n",
        "validation_dataset = train_dataset.iloc[trainsize:]\n",
        "train_dataset = train_dataset.iloc[:trainsize]"
      ],
      "metadata": {
        "id": "yXTR6esMjujL",
        "outputId": "3b97b775-653f-4123-dbec-0fe0244c0f58",
        "colab": {
          "base_uri": "https://localhost:8080/",
          "height": 49,
          "referenced_widgets": [
            "d32d71bec6cb4b519dc7214e4fc56f4b",
            "663165549a8d42078df05d8db7d2d14a",
            "33f21f2560184e879dfef6c51a0967ff",
            "d917dd28f7c341689a0237b8035e0ec4",
            "dee033151e484035a5e443327b8b67eb",
            "305076158c9345b7a36ae7005db59a0b",
            "9d5730bb90144bbab5e14609d2fd5598",
            "8a889b11363e43948d9d1c6fa9f0745a",
            "39dc132206514e9cb66d83a8156d9cd8",
            "84cf0ddba98248c1bf4ad6edc94998f8",
            "8fc65a6953f4438482c220308c665901"
          ]
        }
      },
      "execution_count": 12,
      "outputs": [
        {
          "output_type": "display_data",
          "data": {
            "text/plain": [
              "  0%|          | 0/979 [00:00<?, ?it/s]"
            ],
            "application/vnd.jupyter.widget-view+json": {
              "version_major": 2,
              "version_minor": 0,
              "model_id": "d32d71bec6cb4b519dc7214e4fc56f4b"
            }
          },
          "metadata": {}
        }
      ]
    },
    {
      "cell_type": "markdown",
      "metadata": {
        "id": "bfLrwf_h8R3N"
      },
      "source": [
        "### Create X and y from train_dataset"
      ]
    },
    {
      "cell_type": "markdown",
      "metadata": {
        "id": "-hTrF-1x8R3P"
      },
      "source": [
        "### Each era representing a set of cryptocurrency assets for the time period, the number of assets within each Era is different"
      ]
    },
    {
      "cell_type": "code",
      "execution_count": 13,
      "metadata": {
        "colab": {
          "base_uri": "https://localhost:8080/",
          "height": 334
        },
        "id": "38VXk0008R3P",
        "outputId": "4a838a79-b281-4fce-be1e-891f56e792b0"
      },
      "outputs": [
        {
          "output_type": "display_data",
          "data": {
            "text/plain": [
              "<Figure size 720x360 with 1 Axes>"
            ],
            "image/png": "[encoded data removed]"
          },
          "metadata": {
            "needs_background": "light"
          }
        }
      ],
      "source": [
        "train_dataset.groupby(train_dataset.date).count().iloc[:,1].plot(figsize = (10,5));"
      ]
    },
    {
      "cell_type": "markdown",
      "metadata": {
        "id": "CaqtnWY78R3P"
      },
      "source": [
        "### Split dataset into train and test by era"
      ]
    },
    {
      "cell_type": "code",
      "execution_count": 14,
      "metadata": {
        "colab": {
          "base_uri": "https://localhost:8080/"
        },
        "id": "FqhwxuL58R3P",
        "outputId": "a1a7d66d-fec3-4bf8-a3fb-db25bed2a0cd"
      },
      "outputs": [
        {
          "output_type": "stream",
          "name": "stdout",
          "text": [
            "total Era: 223\n",
            "train Era: 200\n",
            "validation Era: 23\n"
          ]
        }
      ],
      "source": [
        "# Run Once\n",
        "train = 0.9\n",
        "test = 0.1\n",
        "dates = sorted(train_dataset.date.unique())\n",
        "era = len(dates)\n",
        "train_era = int(era * train)\n",
        "test_era = era - train_era\n",
        "print('total Era: {}'.format(era))\n",
        "print('train Era: {}'.format(train_era))\n",
        "print('validation Era: {}'.format(test_era))"
      ]
    },
    {
      "cell_type": "code",
      "execution_count": 15,
      "metadata": {
        "colab": {
          "base_uri": "https://localhost:8080/"
        },
        "id": "IFLlfFTn8R3Q",
        "outputId": "df147e24-4ce3-4004-f602-46207f7142b0"
      },
      "outputs": [
        {
          "output_type": "stream",
          "name": "stdout",
          "text": [
            "Train dataset shape: (71064, 2023)\n",
            "Validation dataset shape: (14314, 2023)\n"
          ]
        }
      ],
      "source": [
        "#split train and test set according to the train_era and test_era\n",
        "# Run Once\n",
        "train_set = train_dataset.loc[train_dataset.date < dates[train_era]]\n",
        "val_set = train_dataset.loc[train_dataset.date >= dates[train_era]]\n",
        "print('Train dataset shape: {}'.format(train_set.shape))\n",
        "print('Validation dataset shape: {}'.format(val_set.shape))"
      ]
    },
    {
      "cell_type": "code",
      "source": [
        "train_set.to_csv(\"train_set.csv\",index = False)\n",
        "val_set.to_csv(\"val_set.csv\",index = False)\n",
        "validation_dataset.to_csv(\"test_set.csv\",index = False)"
      ],
      "metadata": {
        "id": "sZ8c979plYWn"
      },
      "execution_count": 16,
      "outputs": []
    },
    {
      "cell_type": "code",
      "source": [
        "os.kill(os.getpid(), 9)"
      ],
      "metadata": {
        "id": "-EN-Z6Pwl8Tb"
      },
      "execution_count": null,
      "outputs": []
    },
    {
      "cell_type": "code",
      "source": [
        "train_set = pd.read_csv(\"train_set.csv\")\n",
        "val_set = pd.read_csv(\"val_set.csv\")\n",
        "validation_dataset= pd.read_csv(\"test_set.csv\")"
      ],
      "metadata": {
        "id": "NUk6RiHlljzV"
      },
      "execution_count": 4,
      "outputs": []
    },
    {
      "cell_type": "code",
      "source": [
        "train_set.head()"
      ],
      "metadata": {
        "id": "AB_wHOkh3NEL",
        "outputId": "6b0f53f5-a00d-4300-9a7b-0dd76be4a3c4",
        "colab": {
          "base_uri": "https://localhost:8080/",
          "height": 386
        }
      },
      "execution_count": 5,
      "outputs": [
        {
          "output_type": "execute_result",
          "data": {
            "text/plain": [
              "         date symbol  feature_1  feature_2  feature_3  feature_4  feature_5  \\\n",
              "0  2018-12-23  0xBTC   0.974026   0.987013   0.978355   0.991342   0.982684   \n",
              "1  2018-12-30  0xBTC   0.016878   0.033755   0.949367   0.936709   0.978903   \n",
              "2  2019-01-06  0xBTC   0.158996   0.016736   0.033473   0.928870   0.868201   \n",
              "3  2019-01-13  0xBTC   0.737500   0.279167   0.020833   0.054167   0.945833   \n",
              "4  2019-01-20  0xBTC   0.983607   0.987705   0.983607   0.430328   0.971311   \n",
              "\n",
              "   feature_6  feature_7  feature_8  ...  target_DC1  dc1_lag1  \\\n",
              "0   0.982684   0.982684   0.978355  ...   -0.211551 -1.000000   \n",
              "1   0.907173   0.962025   0.953586  ...   -0.192849 -0.211551   \n",
              "2   0.941423   0.740586   0.933054  ...   -0.263822 -0.192849   \n",
              "3   0.908333   0.962500   0.870833  ...    0.023985 -0.263822   \n",
              "4   0.991803   0.987705   0.991803  ...   -0.251842  0.023985   \n",
              "\n",
              "   dc1_lag1_rolling  dc1_lag2  target_lag1  target_lag2  dc1_lag1_exp  month  \\\n",
              "0         -1.000000 -1.000000    -1.000000    -1.000000     -1.000000     12   \n",
              "1         -1.000000 -1.000000     0.095238    -1.000000      0.809328     12   \n",
              "2         -1.000000 -0.211551     0.046414     0.095238      0.824607      1   \n",
              "3         -0.668222 -0.192849     0.284519     0.046414      0.768110      1   \n",
              "4         -0.432686 -0.263822     0.391667     0.284519      1.024275      1   \n",
              "\n",
              "   year  day  \n",
              "0  2018   23  \n",
              "1  2018   30  \n",
              "2  2019    6  \n",
              "3  2019   13  \n",
              "4  2019   20  \n",
              "\n",
              "[5 rows x 2023 columns]"
            ],
            "text/html": [
              "\n",
              "  <div id=\"df-3c5e6287-6294-4c3a-bc6c-b17de1732836\">\n",
              "    <div class=\"colab-df-container\">\n",
              "      <div>\n",
              "<style scoped>\n",
              "    .dataframe tbody tr th:only-of-type {\n",
              "        vertical-align: middle;\n",
              "    }\n",
              "\n",
              "    .dataframe tbody tr th {\n",
              "        vertical-align: top;\n",
              "    }\n",
              "\n",
              "    .dataframe thead th {\n",
              "        text-align: right;\n",
              "    }\n",
              "</style>\n",
              "<table border=\"1\" class=\"dataframe\">\n",
              "  <thead>\n",
              "    <tr style=\"text-align: right;\">\n",
              "      <th></th>\n",
              "      <th>date</th>\n",
              "      <th>symbol</th>\n",
              "      <th>feature_1</th>\n",
              "      <th>feature_2</th>\n",
              "      <th>feature_3</th>\n",
              "      <th>feature_4</th>\n",
              "      <th>feature_5</th>\n",
              "      <th>feature_6</th>\n",
              "      <th>feature_7</th>\n",
              "      <th>feature_8</th>\n",
              "      <th>...</th>\n",
              "      <th>target_DC1</th>\n",
              "      <th>dc1_lag1</th>\n",
              "      <th>dc1_lag1_rolling</th>\n",
              "      <th>dc1_lag2</th>\n",
              "      <th>target_lag1</th>\n",
              "      <th>target_lag2</th>\n",
              "      <th>dc1_lag1_exp</th>\n",
              "      <th>month</th>\n",
              "      <th>year</th>\n",
              "      <th>day</th>\n",
              "    </tr>\n",
              "  </thead>\n",
              "  <tbody>\n",
              "    <tr>\n",
              "      <th>0</th>\n",
              "      <td>2018-12-23</td>\n",
              "      <td>0xBTC</td>\n",
              "      <td>0.974026</td>\n",
              "      <td>0.987013</td>\n",
              "      <td>0.978355</td>\n",
              "      <td>0.991342</td>\n",
              "      <td>0.982684</td>\n",
              "      <td>0.982684</td>\n",
              "      <td>0.982684</td>\n",
              "      <td>0.978355</td>\n",
              "      <td>...</td>\n",
              "      <td>-0.211551</td>\n",
              "      <td>-1.000000</td>\n",
              "      <td>-1.000000</td>\n",
              "      <td>-1.000000</td>\n",
              "      <td>-1.000000</td>\n",
              "      <td>-1.000000</td>\n",
              "      <td>-1.000000</td>\n",
              "      <td>12</td>\n",
              "      <td>2018</td>\n",
              "      <td>23</td>\n",
              "    </tr>\n",
              "    <tr>\n",
              "      <th>1</th>\n",
              "      <td>2018-12-30</td>\n",
              "      <td>0xBTC</td>\n",
              "      <td>0.016878</td>\n",
              "      <td>0.033755</td>\n",
              "      <td>0.949367</td>\n",
              "      <td>0.936709</td>\n",
              "      <td>0.978903</td>\n",
              "      <td>0.907173</td>\n",
              "      <td>0.962025</td>\n",
              "      <td>0.953586</td>\n",
              "      <td>...</td>\n",
              "      <td>-0.192849</td>\n",
              "      <td>-0.211551</td>\n",
              "      <td>-1.000000</td>\n",
              "      <td>-1.000000</td>\n",
              "      <td>0.095238</td>\n",
              "      <td>-1.000000</td>\n",
              "      <td>0.809328</td>\n",
              "      <td>12</td>\n",
              "      <td>2018</td>\n",
              "      <td>30</td>\n",
              "    </tr>\n",
              "    <tr>\n",
              "      <th>2</th>\n",
              "      <td>2019-01-06</td>\n",
              "      <td>0xBTC</td>\n",
              "      <td>0.158996</td>\n",
              "      <td>0.016736</td>\n",
              "      <td>0.033473</td>\n",
              "      <td>0.928870</td>\n",
              "      <td>0.868201</td>\n",
              "      <td>0.941423</td>\n",
              "      <td>0.740586</td>\n",
              "      <td>0.933054</td>\n",
              "      <td>...</td>\n",
              "      <td>-0.263822</td>\n",
              "      <td>-0.192849</td>\n",
              "      <td>-1.000000</td>\n",
              "      <td>-0.211551</td>\n",
              "      <td>0.046414</td>\n",
              "      <td>0.095238</td>\n",
              "      <td>0.824607</td>\n",
              "      <td>1</td>\n",
              "      <td>2019</td>\n",
              "      <td>6</td>\n",
              "    </tr>\n",
              "    <tr>\n",
              "      <th>3</th>\n",
              "      <td>2019-01-13</td>\n",
              "      <td>0xBTC</td>\n",
              "      <td>0.737500</td>\n",
              "      <td>0.279167</td>\n",
              "      <td>0.020833</td>\n",
              "      <td>0.054167</td>\n",
              "      <td>0.945833</td>\n",
              "      <td>0.908333</td>\n",
              "      <td>0.962500</td>\n",
              "      <td>0.870833</td>\n",
              "      <td>...</td>\n",
              "      <td>0.023985</td>\n",
              "      <td>-0.263822</td>\n",
              "      <td>-0.668222</td>\n",
              "      <td>-0.192849</td>\n",
              "      <td>0.284519</td>\n",
              "      <td>0.046414</td>\n",
              "      <td>0.768110</td>\n",
              "      <td>1</td>\n",
              "      <td>2019</td>\n",
              "      <td>13</td>\n",
              "    </tr>\n",
              "    <tr>\n",
              "      <th>4</th>\n",
              "      <td>2019-01-20</td>\n",
              "      <td>0xBTC</td>\n",
              "      <td>0.983607</td>\n",
              "      <td>0.987705</td>\n",
              "      <td>0.983607</td>\n",
              "      <td>0.430328</td>\n",
              "      <td>0.971311</td>\n",
              "      <td>0.991803</td>\n",
              "      <td>0.987705</td>\n",
              "      <td>0.991803</td>\n",
              "      <td>...</td>\n",
              "      <td>-0.251842</td>\n",
              "      <td>0.023985</td>\n",
              "      <td>-0.432686</td>\n",
              "      <td>-0.263822</td>\n",
              "      <td>0.391667</td>\n",
              "      <td>0.284519</td>\n",
              "      <td>1.024275</td>\n",
              "      <td>1</td>\n",
              "      <td>2019</td>\n",
              "      <td>20</td>\n",
              "    </tr>\n",
              "  </tbody>\n",
              "</table>\n",
              "<p>5 rows × 2023 columns</p>\n",
              "</div>\n",
              "      <button class=\"colab-df-convert\" onclick=\"convertToInteractive('df-3c5e6287-6294-4c3a-bc6c-b17de1732836')\"\n",
              "              title=\"Convert this dataframe to an interactive table.\"\n",
              "              style=\"display:none;\">\n",
              "        \n",
              "  <svg xmlns=\"http://www.w3.org/2000/svg\" height=\"24px\"viewBox=\"0 0 24 24\"\n",
              "       width=\"24px\">\n",
              "    <path d=\"M0 0h24v24H0V0z\" fill=\"none\"/>\n",
              "    <path d=\"M18.56 5.44l.94 2.06.94-2.06 2.06-.94-2.06-.94-.94-2.06-.94 2.06-2.06.94zm-11 1L8.5 8.5l.94-2.06 2.06-.94-2.06-.94L8.5 2.5l-.94 2.06-2.06.94zm10 10l.94 2.06.94-2.06 2.06-.94-2.06-.94-.94-2.06-.94 2.06-2.06.94z\"/><path d=\"M17.41 7.96l-1.37-1.37c-.4-.4-.92-.59-1.43-.59-.52 0-1.04.2-1.43.59L10.3 9.45l-7.72 7.72c-.78.78-.78 2.05 0 2.83L4 21.41c.39.39.9.59 1.41.59.51 0 1.02-.2 1.41-.59l7.78-7.78 2.81-2.81c.8-.78.8-2.07 0-2.86zM5.41 20L4 18.59l7.72-7.72 1.47 1.35L5.41 20z\"/>\n",
              "  </svg>\n",
              "      </button>\n",
              "      \n",
              "  <style>\n",
              "    .colab-df-container {\n",
              "      display:flex;\n",
              "      flex-wrap:wrap;\n",
              "      gap: 12px;\n",
              "    }\n",
              "\n",
              "    .colab-df-convert {\n",
              "      background-color: #E8F0FE;\n",
              "      border: none;\n",
              "      border-radius: 50%;\n",
              "      cursor: pointer;\n",
              "      display: none;\n",
              "      fill: #1967D2;\n",
              "      height: 32px;\n",
              "      padding: 0 0 0 0;\n",
              "      width: 32px;\n",
              "    }\n",
              "\n",
              "    .colab-df-convert:hover {\n",
              "      background-color: #E2EBFA;\n",
              "      box-shadow: 0px 1px 2px rgba(60, 64, 67, 0.3), 0px 1px 3px 1px rgba(60, 64, 67, 0.15);\n",
              "      fill: #174EA6;\n",
              "    }\n",
              "\n",
              "    [theme=dark] .colab-df-convert {\n",
              "      background-color: #3B4455;\n",
              "      fill: #D2E3FC;\n",
              "    }\n",
              "\n",
              "    [theme=dark] .colab-df-convert:hover {\n",
              "      background-color: #434B5C;\n",
              "      box-shadow: 0px 1px 3px 1px rgba(0, 0, 0, 0.15);\n",
              "      filter: drop-shadow(0px 1px 2px rgba(0, 0, 0, 0.3));\n",
              "      fill: #FFFFFF;\n",
              "    }\n",
              "  </style>\n",
              "\n",
              "      <script>\n",
              "        const buttonEl =\n",
              "          document.querySelector('#df-3c5e6287-6294-4c3a-bc6c-b17de1732836 button.colab-df-convert');\n",
              "        buttonEl.style.display =\n",
              "          google.colab.kernel.accessAllowed ? 'block' : 'none';\n",
              "\n",
              "        async function convertToInteractive(key) {\n",
              "          const element = document.querySelector('#df-3c5e6287-6294-4c3a-bc6c-b17de1732836');\n",
              "          const dataTable =\n",
              "            await google.colab.kernel.invokeFunction('convertToInteractive',\n",
              "                                                     [key], {});\n",
              "          if (!dataTable) return;\n",
              "\n",
              "          const docLinkHtml = 'Like what you see? Visit the ' +\n",
              "            '<a target=\"_blank\" href=https://colab.research.google.com/notebooks/data_table.ipynb>data table notebook</a>'\n",
              "            + ' to learn more about interactive tables.';\n",
              "          element.innerHTML = '';\n",
              "          dataTable['output_type'] = 'display_data';\n",
              "          await google.colab.output.renderOutput(dataTable, element);\n",
              "          const docLink = document.createElement('div');\n",
              "          docLink.innerHTML = docLinkHtml;\n",
              "          element.appendChild(docLink);\n",
              "        }\n",
              "      </script>\n",
              "    </div>\n",
              "  </div>\n",
              "  "
            ]
          },
          "metadata": {},
          "execution_count": 5
        }
      ]
    },
    {
      "cell_type": "code",
      "source": [
        "with_target = True"
      ],
      "metadata": {
        "id": "_HTX98zuX8TF"
      },
      "execution_count": 6,
      "outputs": []
    },
    {
      "cell_type": "code",
      "source": [
        "from xgboost import XGBRegressor\n",
        "\n",
        "params = {'objective' : \"reg:squarederror\", \n",
        "          'n_estimators' : 1000, \n",
        "          'tree_method' : \"gpu_hist\", \n",
        "          'learning_rate': 0.03,                                                                                                                                                                                                                                                                                                                                                                                                                                                                    \n",
        "          'reg_alpha':0.1,\n",
        "          'reg_lambda':0.01,\n",
        "          'subsample': 0.8,\n",
        "          'colsample_bytree':0.8,\n",
        "          'colsample_bylevel':0.8,\n",
        "          'max_depth':9, \n",
        "          \"reg_alpha\":0.01\n",
        "}\n",
        "\n",
        "def fitXGB(with_target = with_target):\n",
        "  X_train = train_set.drop(['date','symbol','target','target_DC1'], axis = 1)\n",
        "  X_val = val_set.drop(['date','symbol','target','target_DC1'], axis = 1)\n",
        "\n",
        "  if with_target:\n",
        "    Y_train = train_set['target']\n",
        "    Y_val = val_set['target']\n",
        "  else:\n",
        "    Y_train = train_set['target_DC1']\n",
        "    Y_val = val_set['target_DC1']\n",
        "  \n",
        "  reg = XGBRegressor(**params)\n",
        "  reg.fit(X_train,Y_train, eval_metric = \"rmse\",\n",
        "          eval_set=[(X_train,Y_train),(X_val,Y_val)], \n",
        "          early_stopping_rounds = 10)\n",
        "  return reg\n",
        "\n",
        "xgb = fitXGB()"
      ],
      "metadata": {
        "id": "ZFAWYHx_SZd2",
        "outputId": "f6f32a25-8aa7-4b5e-8c39-081112e58e55",
        "colab": {
          "base_uri": "https://localhost:8080/"
        }
      },
      "execution_count": 7,
      "outputs": [
        {
          "output_type": "stream",
          "name": "stdout",
          "text": [
            "[0]\tvalidation_0-rmse:0.288556\tvalidation_1-rmse:0.289022\n",
            "Multiple eval metrics have been passed: 'validation_1-rmse' will be used for early stopping.\n",
            "\n",
            "Will train until validation_1-rmse hasn't improved in 10 rounds.\n",
            "[1]\tvalidation_0-rmse:0.287658\tvalidation_1-rmse:0.288897\n",
            "[2]\tvalidation_0-rmse:0.286804\tvalidation_1-rmse:0.288727\n",
            "[3]\tvalidation_0-rmse:0.28588\tvalidation_1-rmse:0.288624\n",
            "[4]\tvalidation_0-rmse:0.285016\tvalidation_1-rmse:0.288506\n",
            "[5]\tvalidation_0-rmse:0.284196\tvalidation_1-rmse:0.288408\n",
            "[6]\tvalidation_0-rmse:0.283341\tvalidation_1-rmse:0.28832\n",
            "[7]\tvalidation_0-rmse:0.282499\tvalidation_1-rmse:0.288216\n",
            "[8]\tvalidation_0-rmse:0.281665\tvalidation_1-rmse:0.288103\n",
            "[9]\tvalidation_0-rmse:0.28087\tvalidation_1-rmse:0.288046\n",
            "[10]\tvalidation_0-rmse:0.280115\tvalidation_1-rmse:0.287928\n",
            "[11]\tvalidation_0-rmse:0.279462\tvalidation_1-rmse:0.28789\n",
            "[12]\tvalidation_0-rmse:0.278746\tvalidation_1-rmse:0.287816\n",
            "[13]\tvalidation_0-rmse:0.27799\tvalidation_1-rmse:0.287718\n",
            "[14]\tvalidation_0-rmse:0.277219\tvalidation_1-rmse:0.287691\n",
            "[15]\tvalidation_0-rmse:0.276534\tvalidation_1-rmse:0.287676\n",
            "[16]\tvalidation_0-rmse:0.275854\tvalidation_1-rmse:0.287603\n",
            "[17]\tvalidation_0-rmse:0.275146\tvalidation_1-rmse:0.287525\n",
            "[18]\tvalidation_0-rmse:0.274445\tvalidation_1-rmse:0.287428\n",
            "[19]\tvalidation_0-rmse:0.273785\tvalidation_1-rmse:0.287396\n",
            "[20]\tvalidation_0-rmse:0.273098\tvalidation_1-rmse:0.287364\n",
            "[21]\tvalidation_0-rmse:0.272443\tvalidation_1-rmse:0.287342\n",
            "[22]\tvalidation_0-rmse:0.271744\tvalidation_1-rmse:0.287275\n",
            "[23]\tvalidation_0-rmse:0.271046\tvalidation_1-rmse:0.287287\n",
            "[24]\tvalidation_0-rmse:0.270371\tvalidation_1-rmse:0.28721\n",
            "[25]\tvalidation_0-rmse:0.269721\tvalidation_1-rmse:0.287203\n",
            "[26]\tvalidation_0-rmse:0.269097\tvalidation_1-rmse:0.287183\n",
            "[27]\tvalidation_0-rmse:0.268493\tvalidation_1-rmse:0.287137\n",
            "[28]\tvalidation_0-rmse:0.267891\tvalidation_1-rmse:0.287149\n",
            "[29]\tvalidation_0-rmse:0.267311\tvalidation_1-rmse:0.287167\n",
            "[30]\tvalidation_0-rmse:0.266652\tvalidation_1-rmse:0.287168\n",
            "[31]\tvalidation_0-rmse:0.266123\tvalidation_1-rmse:0.28713\n",
            "[32]\tvalidation_0-rmse:0.265481\tvalidation_1-rmse:0.287107\n",
            "[33]\tvalidation_0-rmse:0.264931\tvalidation_1-rmse:0.287097\n",
            "[34]\tvalidation_0-rmse:0.264336\tvalidation_1-rmse:0.287058\n",
            "[35]\tvalidation_0-rmse:0.263723\tvalidation_1-rmse:0.287054\n",
            "[36]\tvalidation_0-rmse:0.26319\tvalidation_1-rmse:0.287035\n",
            "[37]\tvalidation_0-rmse:0.262634\tvalidation_1-rmse:0.286995\n",
            "[38]\tvalidation_0-rmse:0.262028\tvalidation_1-rmse:0.286936\n",
            "[39]\tvalidation_0-rmse:0.261433\tvalidation_1-rmse:0.286916\n",
            "[40]\tvalidation_0-rmse:0.260824\tvalidation_1-rmse:0.28696\n",
            "[41]\tvalidation_0-rmse:0.260275\tvalidation_1-rmse:0.286935\n",
            "[42]\tvalidation_0-rmse:0.25966\tvalidation_1-rmse:0.286904\n",
            "[43]\tvalidation_0-rmse:0.259067\tvalidation_1-rmse:0.286899\n",
            "[44]\tvalidation_0-rmse:0.258535\tvalidation_1-rmse:0.286885\n",
            "[45]\tvalidation_0-rmse:0.257953\tvalidation_1-rmse:0.286873\n",
            "[46]\tvalidation_0-rmse:0.257424\tvalidation_1-rmse:0.28687\n",
            "[47]\tvalidation_0-rmse:0.256843\tvalidation_1-rmse:0.286899\n",
            "[48]\tvalidation_0-rmse:0.256304\tvalidation_1-rmse:0.286872\n",
            "[49]\tvalidation_0-rmse:0.255778\tvalidation_1-rmse:0.286861\n",
            "[50]\tvalidation_0-rmse:0.255281\tvalidation_1-rmse:0.286802\n",
            "[51]\tvalidation_0-rmse:0.254786\tvalidation_1-rmse:0.286808\n",
            "[52]\tvalidation_0-rmse:0.254329\tvalidation_1-rmse:0.286822\n",
            "[53]\tvalidation_0-rmse:0.253805\tvalidation_1-rmse:0.286792\n",
            "[54]\tvalidation_0-rmse:0.253228\tvalidation_1-rmse:0.286755\n",
            "[55]\tvalidation_0-rmse:0.252745\tvalidation_1-rmse:0.28673\n",
            "[56]\tvalidation_0-rmse:0.252267\tvalidation_1-rmse:0.286752\n",
            "[57]\tvalidation_0-rmse:0.251775\tvalidation_1-rmse:0.286733\n",
            "[58]\tvalidation_0-rmse:0.25123\tvalidation_1-rmse:0.28673\n",
            "[59]\tvalidation_0-rmse:0.250715\tvalidation_1-rmse:0.286737\n",
            "[60]\tvalidation_0-rmse:0.250139\tvalidation_1-rmse:0.286728\n",
            "[61]\tvalidation_0-rmse:0.249638\tvalidation_1-rmse:0.286738\n",
            "[62]\tvalidation_0-rmse:0.249097\tvalidation_1-rmse:0.286748\n",
            "[63]\tvalidation_0-rmse:0.248478\tvalidation_1-rmse:0.286736\n",
            "[64]\tvalidation_0-rmse:0.247916\tvalidation_1-rmse:0.286725\n",
            "[65]\tvalidation_0-rmse:0.247493\tvalidation_1-rmse:0.286764\n",
            "[66]\tvalidation_0-rmse:0.246942\tvalidation_1-rmse:0.286787\n",
            "[67]\tvalidation_0-rmse:0.246507\tvalidation_1-rmse:0.286775\n",
            "[68]\tvalidation_0-rmse:0.246009\tvalidation_1-rmse:0.286776\n",
            "[69]\tvalidation_0-rmse:0.245507\tvalidation_1-rmse:0.286813\n",
            "[70]\tvalidation_0-rmse:0.245014\tvalidation_1-rmse:0.286848\n",
            "[71]\tvalidation_0-rmse:0.244522\tvalidation_1-rmse:0.28683\n",
            "[72]\tvalidation_0-rmse:0.243964\tvalidation_1-rmse:0.286863\n",
            "[73]\tvalidation_0-rmse:0.24347\tvalidation_1-rmse:0.286857\n",
            "[74]\tvalidation_0-rmse:0.242941\tvalidation_1-rmse:0.286872\n",
            "Stopping. Best iteration:\n",
            "[64]\tvalidation_0-rmse:0.247916\tvalidation_1-rmse:0.286725\n",
            "\n"
          ]
        }
      ]
    },
    {
      "cell_type": "code",
      "source": [
        "evals = xgb.evals_result()\n",
        "evaluation_plot = plt.figure()\n",
        "plt.grid()\n",
        "plt.plot(evals['validation_0']['rmse'],c='blue',label = 'train')\n",
        "plt.plot(evals['validation_1']['rmse'],c='orange',label = 'valid')\n",
        "plt.legend()"
      ],
      "metadata": {
        "id": "MMlLATdcShev",
        "outputId": "29794213-4d94-436b-f18e-baf0a2e65032",
        "colab": {
          "base_uri": "https://localhost:8080/",
          "height": 282
        }
      },
      "execution_count": 8,
      "outputs": [
        {
          "output_type": "execute_result",
          "data": {
            "text/plain": [
              "<matplotlib.legend.Legend at 0x7f39a4572750>"
            ]
          },
          "metadata": {},
          "execution_count": 8
        },
        {
          "output_type": "display_data",
          "data": {
            "text/plain": [
              "<Figure size 432x288 with 1 Axes>"
            ],
            "image/png": "[encoded data removed]"
          },
          "metadata": {
            "needs_background": "light"
          }
        }
      ]
    },
    {
      "cell_type": "code",
      "execution_count": 9,
      "metadata": {
        "id": "QkGs7IpI8R3Q",
        "outputId": "7c1fe440-d179-441d-a68d-9dd0a4e4473d",
        "colab": {
          "base_uri": "https://localhost:8080/"
        }
      },
      "outputs": [
        {
          "output_type": "stream",
          "name": "stdout",
          "text": [
            "[1]\ttrain's rmse: 0.289214\ttrain's l2: 0.0836445\tvalid's rmse: 0.289014\tvalid's l2: 0.0835291\n",
            "Training until validation scores don't improve for 10 rounds.\n",
            "[2]\ttrain's rmse: 0.288934\ttrain's l2: 0.083483\tvalid's rmse: 0.288912\tvalid's l2: 0.0834701\n",
            "[3]\ttrain's rmse: 0.288665\ttrain's l2: 0.0833276\tvalid's rmse: 0.288835\tvalid's l2: 0.0834255\n",
            "[4]\ttrain's rmse: 0.288408\ttrain's l2: 0.0831793\tvalid's rmse: 0.288741\tvalid's l2: 0.0833712\n",
            "[5]\ttrain's rmse: 0.288154\ttrain's l2: 0.0830326\tvalid's rmse: 0.288658\tvalid's l2: 0.0833237\n",
            "[6]\ttrain's rmse: 0.287915\ttrain's l2: 0.0828949\tvalid's rmse: 0.28856\tvalid's l2: 0.083267\n",
            "[7]\ttrain's rmse: 0.287691\ttrain's l2: 0.0827664\tvalid's rmse: 0.288467\tvalid's l2: 0.083213\n",
            "[8]\ttrain's rmse: 0.287472\ttrain's l2: 0.08264\tvalid's rmse: 0.288395\tvalid's l2: 0.0831719\n",
            "[9]\ttrain's rmse: 0.287251\ttrain's l2: 0.082513\tvalid's rmse: 0.288332\tvalid's l2: 0.0831355\n",
            "[10]\ttrain's rmse: 0.287039\ttrain's l2: 0.0823914\tvalid's rmse: 0.288262\tvalid's l2: 0.0830951\n",
            "[11]\ttrain's rmse: 0.286832\ttrain's l2: 0.0822725\tvalid's rmse: 0.288224\tvalid's l2: 0.0830731\n",
            "[12]\ttrain's rmse: 0.286639\ttrain's l2: 0.0821618\tvalid's rmse: 0.288138\tvalid's l2: 0.0830234\n",
            "[13]\ttrain's rmse: 0.28644\ttrain's l2: 0.0820481\tvalid's rmse: 0.288114\tvalid's l2: 0.0830099\n",
            "[14]\ttrain's rmse: 0.286242\ttrain's l2: 0.0819346\tvalid's rmse: 0.288072\tvalid's l2: 0.0829856\n",
            "[15]\ttrain's rmse: 0.286065\ttrain's l2: 0.0818334\tvalid's rmse: 0.288011\tvalid's l2: 0.0829505\n",
            "[16]\ttrain's rmse: 0.285883\ttrain's l2: 0.081729\tvalid's rmse: 0.287994\tvalid's l2: 0.0829404\n",
            "[17]\ttrain's rmse: 0.285709\ttrain's l2: 0.0816299\tvalid's rmse: 0.287964\tvalid's l2: 0.0829231\n",
            "[18]\ttrain's rmse: 0.28554\ttrain's l2: 0.0815331\tvalid's rmse: 0.287931\tvalid's l2: 0.0829044\n",
            "[19]\ttrain's rmse: 0.285368\ttrain's l2: 0.0814347\tvalid's rmse: 0.287884\tvalid's l2: 0.0828773\n",
            "[20]\ttrain's rmse: 0.285198\ttrain's l2: 0.0813379\tvalid's rmse: 0.287836\tvalid's l2: 0.0828496\n",
            "[21]\ttrain's rmse: 0.285035\ttrain's l2: 0.0812452\tvalid's rmse: 0.287815\tvalid's l2: 0.0828374\n",
            "[22]\ttrain's rmse: 0.284888\ttrain's l2: 0.0811613\tvalid's rmse: 0.287768\tvalid's l2: 0.0828107\n",
            "[23]\ttrain's rmse: 0.284727\ttrain's l2: 0.0810692\tvalid's rmse: 0.287739\tvalid's l2: 0.0827939\n",
            "[24]\ttrain's rmse: 0.284566\ttrain's l2: 0.0809781\tvalid's rmse: 0.287679\tvalid's l2: 0.0827592\n",
            "[25]\ttrain's rmse: 0.284414\ttrain's l2: 0.0808914\tvalid's rmse: 0.287654\tvalid's l2: 0.0827449\n",
            "[26]\ttrain's rmse: 0.284264\ttrain's l2: 0.0808061\tvalid's rmse: 0.287623\tvalid's l2: 0.0827272\n",
            "[27]\ttrain's rmse: 0.284115\ttrain's l2: 0.0807211\tvalid's rmse: 0.287603\tvalid's l2: 0.0827153\n",
            "[28]\ttrain's rmse: 0.283976\ttrain's l2: 0.0806423\tvalid's rmse: 0.287552\tvalid's l2: 0.0826863\n",
            "[29]\ttrain's rmse: 0.283832\ttrain's l2: 0.0805604\tvalid's rmse: 0.287531\tvalid's l2: 0.082674\n",
            "[30]\ttrain's rmse: 0.283691\ttrain's l2: 0.0804803\tvalid's rmse: 0.287508\tvalid's l2: 0.0826607\n",
            "[31]\ttrain's rmse: 0.283553\ttrain's l2: 0.080402\tvalid's rmse: 0.287506\tvalid's l2: 0.0826597\n",
            "[32]\ttrain's rmse: 0.283417\ttrain's l2: 0.0803253\tvalid's rmse: 0.287494\tvalid's l2: 0.0826529\n",
            "[33]\ttrain's rmse: 0.283293\ttrain's l2: 0.0802548\tvalid's rmse: 0.287473\tvalid's l2: 0.0826408\n",
            "[34]\ttrain's rmse: 0.283159\ttrain's l2: 0.0801792\tvalid's rmse: 0.287471\tvalid's l2: 0.0826396\n",
            "[35]\ttrain's rmse: 0.283025\ttrain's l2: 0.0801034\tvalid's rmse: 0.28744\tvalid's l2: 0.0826219\n",
            "[36]\ttrain's rmse: 0.282886\ttrain's l2: 0.0800245\tvalid's rmse: 0.287426\tvalid's l2: 0.0826138\n",
            "[37]\ttrain's rmse: 0.282763\ttrain's l2: 0.0799551\tvalid's rmse: 0.287404\tvalid's l2: 0.082601\n",
            "[38]\ttrain's rmse: 0.282638\ttrain's l2: 0.0798842\tvalid's rmse: 0.287403\tvalid's l2: 0.0826006\n",
            "[39]\ttrain's rmse: 0.282515\ttrain's l2: 0.0798145\tvalid's rmse: 0.287397\tvalid's l2: 0.0825969\n",
            "[40]\ttrain's rmse: 0.282398\ttrain's l2: 0.0797485\tvalid's rmse: 0.28737\tvalid's l2: 0.0825813\n",
            "[41]\ttrain's rmse: 0.282278\ttrain's l2: 0.0796811\tvalid's rmse: 0.287343\tvalid's l2: 0.0825662\n",
            "[42]\ttrain's rmse: 0.282158\ttrain's l2: 0.0796129\tvalid's rmse: 0.287345\tvalid's l2: 0.0825673\n",
            "[43]\ttrain's rmse: 0.28204\ttrain's l2: 0.0795464\tvalid's rmse: 0.287319\tvalid's l2: 0.0825519\n",
            "[44]\ttrain's rmse: 0.281927\ttrain's l2: 0.0794827\tvalid's rmse: 0.287314\tvalid's l2: 0.0825494\n",
            "[45]\ttrain's rmse: 0.281807\ttrain's l2: 0.079415\tvalid's rmse: 0.28731\tvalid's l2: 0.0825469\n",
            "[46]\ttrain's rmse: 0.281696\ttrain's l2: 0.0793525\tvalid's rmse: 0.287313\tvalid's l2: 0.0825487\n",
            "[47]\ttrain's rmse: 0.281578\ttrain's l2: 0.0792863\tvalid's rmse: 0.287289\tvalid's l2: 0.0825349\n",
            "[48]\ttrain's rmse: 0.281454\ttrain's l2: 0.0792164\tvalid's rmse: 0.287301\tvalid's l2: 0.0825421\n",
            "[49]\ttrain's rmse: 0.281344\ttrain's l2: 0.0791546\tvalid's rmse: 0.287283\tvalid's l2: 0.0825318\n",
            "[50]\ttrain's rmse: 0.281235\ttrain's l2: 0.0790931\tvalid's rmse: 0.28727\tvalid's l2: 0.0825239\n",
            "[51]\ttrain's rmse: 0.281129\ttrain's l2: 0.0790335\tvalid's rmse: 0.287256\tvalid's l2: 0.0825157\n",
            "[52]\ttrain's rmse: 0.281021\ttrain's l2: 0.0789726\tvalid's rmse: 0.287256\tvalid's l2: 0.0825157\n",
            "[53]\ttrain's rmse: 0.280919\ttrain's l2: 0.0789157\tvalid's rmse: 0.287244\tvalid's l2: 0.0825094\n",
            "[54]\ttrain's rmse: 0.28081\ttrain's l2: 0.0788544\tvalid's rmse: 0.287239\tvalid's l2: 0.0825061\n",
            "[55]\ttrain's rmse: 0.280707\ttrain's l2: 0.0787965\tvalid's rmse: 0.287236\tvalid's l2: 0.0825046\n",
            "[56]\ttrain's rmse: 0.280607\ttrain's l2: 0.07874\tvalid's rmse: 0.28724\tvalid's l2: 0.082507\n",
            "[57]\ttrain's rmse: 0.280508\ttrain's l2: 0.078685\tvalid's rmse: 0.287226\tvalid's l2: 0.0824986\n",
            "[58]\ttrain's rmse: 0.280407\ttrain's l2: 0.0786282\tvalid's rmse: 0.287209\tvalid's l2: 0.082489\n",
            "[59]\ttrain's rmse: 0.2803\ttrain's l2: 0.078568\tvalid's rmse: 0.287203\tvalid's l2: 0.0824855\n",
            "[60]\ttrain's rmse: 0.280194\ttrain's l2: 0.0785088\tvalid's rmse: 0.28721\tvalid's l2: 0.0824893\n",
            "[61]\ttrain's rmse: 0.28008\ttrain's l2: 0.0784447\tvalid's rmse: 0.28721\tvalid's l2: 0.0824894\n",
            "[62]\ttrain's rmse: 0.279981\ttrain's l2: 0.0783895\tvalid's rmse: 0.287213\tvalid's l2: 0.0824912\n",
            "[63]\ttrain's rmse: 0.279872\ttrain's l2: 0.0783285\tvalid's rmse: 0.287189\tvalid's l2: 0.0824776\n",
            "[64]\ttrain's rmse: 0.279779\ttrain's l2: 0.0782764\tvalid's rmse: 0.287195\tvalid's l2: 0.082481\n",
            "[65]\ttrain's rmse: 0.279688\ttrain's l2: 0.0782254\tvalid's rmse: 0.287183\tvalid's l2: 0.082474\n",
            "[66]\ttrain's rmse: 0.279589\ttrain's l2: 0.07817\tvalid's rmse: 0.287186\tvalid's l2: 0.0824758\n",
            "[67]\ttrain's rmse: 0.279491\ttrain's l2: 0.0781151\tvalid's rmse: 0.287172\tvalid's l2: 0.0824676\n",
            "[68]\ttrain's rmse: 0.279396\ttrain's l2: 0.0780622\tvalid's rmse: 0.287162\tvalid's l2: 0.0824619\n",
            "[69]\ttrain's rmse: 0.279297\ttrain's l2: 0.078007\tvalid's rmse: 0.287157\tvalid's l2: 0.082459\n",
            "[70]\ttrain's rmse: 0.279209\ttrain's l2: 0.0779579\tvalid's rmse: 0.287139\tvalid's l2: 0.082449\n",
            "[71]\ttrain's rmse: 0.279112\ttrain's l2: 0.0779037\tvalid's rmse: 0.287136\tvalid's l2: 0.0824469\n",
            "[72]\ttrain's rmse: 0.279021\ttrain's l2: 0.0778529\tvalid's rmse: 0.287122\tvalid's l2: 0.082439\n",
            "[73]\ttrain's rmse: 0.278939\ttrain's l2: 0.0778069\tvalid's rmse: 0.287109\tvalid's l2: 0.0824318\n",
            "[74]\ttrain's rmse: 0.278851\ttrain's l2: 0.0777581\tvalid's rmse: 0.287107\tvalid's l2: 0.0824307\n",
            "[75]\ttrain's rmse: 0.278761\ttrain's l2: 0.0777078\tvalid's rmse: 0.287083\tvalid's l2: 0.0824166\n",
            "[76]\ttrain's rmse: 0.27867\ttrain's l2: 0.0776567\tvalid's rmse: 0.287077\tvalid's l2: 0.0824134\n",
            "[77]\ttrain's rmse: 0.27858\ttrain's l2: 0.0776068\tvalid's rmse: 0.287077\tvalid's l2: 0.0824132\n",
            "[78]\ttrain's rmse: 0.278485\ttrain's l2: 0.0775537\tvalid's rmse: 0.287074\tvalid's l2: 0.0824118\n",
            "[79]\ttrain's rmse: 0.278399\ttrain's l2: 0.0775058\tvalid's rmse: 0.287053\tvalid's l2: 0.0823995\n",
            "[80]\ttrain's rmse: 0.278315\ttrain's l2: 0.0774594\tvalid's rmse: 0.287045\tvalid's l2: 0.082395\n",
            "[81]\ttrain's rmse: 0.278215\ttrain's l2: 0.0774034\tvalid's rmse: 0.287037\tvalid's l2: 0.08239\n",
            "[82]\ttrain's rmse: 0.278132\ttrain's l2: 0.0773576\tvalid's rmse: 0.287035\tvalid's l2: 0.0823892\n",
            "[83]\ttrain's rmse: 0.278041\ttrain's l2: 0.0773068\tvalid's rmse: 0.287039\tvalid's l2: 0.0823915\n",
            "[84]\ttrain's rmse: 0.277957\ttrain's l2: 0.0772603\tvalid's rmse: 0.287049\tvalid's l2: 0.0823971\n",
            "[85]\ttrain's rmse: 0.277872\ttrain's l2: 0.0772126\tvalid's rmse: 0.287048\tvalid's l2: 0.0823965\n",
            "[86]\ttrain's rmse: 0.277781\ttrain's l2: 0.0771623\tvalid's rmse: 0.287047\tvalid's l2: 0.082396\n",
            "[87]\ttrain's rmse: 0.277698\ttrain's l2: 0.0771164\tvalid's rmse: 0.287049\tvalid's l2: 0.0823969\n",
            "[88]\ttrain's rmse: 0.277606\ttrain's l2: 0.077065\tvalid's rmse: 0.287033\tvalid's l2: 0.0823881\n",
            "[89]\ttrain's rmse: 0.277532\ttrain's l2: 0.0770242\tvalid's rmse: 0.287032\tvalid's l2: 0.0823873\n",
            "[90]\ttrain's rmse: 0.277444\ttrain's l2: 0.0769751\tvalid's rmse: 0.287031\tvalid's l2: 0.0823869\n",
            "[91]\ttrain's rmse: 0.27736\ttrain's l2: 0.0769288\tvalid's rmse: 0.287046\tvalid's l2: 0.0823951\n",
            "[92]\ttrain's rmse: 0.277266\ttrain's l2: 0.0768766\tvalid's rmse: 0.28704\tvalid's l2: 0.0823918\n",
            "[93]\ttrain's rmse: 0.277185\ttrain's l2: 0.0768316\tvalid's rmse: 0.28704\tvalid's l2: 0.0823921\n",
            "[94]\ttrain's rmse: 0.277089\ttrain's l2: 0.0767783\tvalid's rmse: 0.287021\tvalid's l2: 0.0823809\n",
            "[95]\ttrain's rmse: 0.277009\ttrain's l2: 0.0767339\tvalid's rmse: 0.287023\tvalid's l2: 0.0823824\n",
            "[96]\ttrain's rmse: 0.276929\ttrain's l2: 0.0766899\tvalid's rmse: 0.287018\tvalid's l2: 0.0823795\n",
            "[97]\ttrain's rmse: 0.276849\ttrain's l2: 0.0766451\tvalid's rmse: 0.287008\tvalid's l2: 0.0823735\n",
            "[98]\ttrain's rmse: 0.276762\ttrain's l2: 0.0765971\tvalid's rmse: 0.287024\tvalid's l2: 0.0823828\n",
            "[99]\ttrain's rmse: 0.276684\ttrain's l2: 0.0765541\tvalid's rmse: 0.287027\tvalid's l2: 0.0823848\n",
            "[100]\ttrain's rmse: 0.276592\ttrain's l2: 0.076503\tvalid's rmse: 0.287023\tvalid's l2: 0.082382\n",
            "[101]\ttrain's rmse: 0.276514\ttrain's l2: 0.0764601\tvalid's rmse: 0.287007\tvalid's l2: 0.0823732\n",
            "[102]\ttrain's rmse: 0.276427\ttrain's l2: 0.0764121\tvalid's rmse: 0.287004\tvalid's l2: 0.082371\n",
            "[103]\ttrain's rmse: 0.276353\ttrain's l2: 0.0763709\tvalid's rmse: 0.286998\tvalid's l2: 0.0823681\n",
            "[104]\ttrain's rmse: 0.27627\ttrain's l2: 0.0763253\tvalid's rmse: 0.286998\tvalid's l2: 0.0823676\n",
            "[105]\ttrain's rmse: 0.27619\ttrain's l2: 0.0762809\tvalid's rmse: 0.286991\tvalid's l2: 0.082364\n",
            "[106]\ttrain's rmse: 0.276105\ttrain's l2: 0.0762338\tvalid's rmse: 0.286983\tvalid's l2: 0.0823591\n",
            "[107]\ttrain's rmse: 0.276017\ttrain's l2: 0.0761856\tvalid's rmse: 0.286976\tvalid's l2: 0.0823554\n",
            "[108]\ttrain's rmse: 0.275943\ttrain's l2: 0.0761445\tvalid's rmse: 0.286993\tvalid's l2: 0.0823653\n",
            "[109]\ttrain's rmse: 0.275861\ttrain's l2: 0.0760995\tvalid's rmse: 0.286974\tvalid's l2: 0.0823543\n",
            "[110]\ttrain's rmse: 0.275782\ttrain's l2: 0.0760558\tvalid's rmse: 0.286982\tvalid's l2: 0.0823589\n",
            "[111]\ttrain's rmse: 0.275704\ttrain's l2: 0.0760128\tvalid's rmse: 0.286984\tvalid's l2: 0.0823599\n",
            "[112]\ttrain's rmse: 0.275628\ttrain's l2: 0.0759705\tvalid's rmse: 0.286987\tvalid's l2: 0.0823614\n",
            "[113]\ttrain's rmse: 0.275559\ttrain's l2: 0.0759328\tvalid's rmse: 0.286971\tvalid's l2: 0.0823526\n",
            "[114]\ttrain's rmse: 0.275477\ttrain's l2: 0.0758878\tvalid's rmse: 0.286971\tvalid's l2: 0.0823522\n",
            "[115]\ttrain's rmse: 0.275389\ttrain's l2: 0.0758393\tvalid's rmse: 0.286973\tvalid's l2: 0.0823533\n",
            "[116]\ttrain's rmse: 0.275311\ttrain's l2: 0.0757961\tvalid's rmse: 0.286987\tvalid's l2: 0.0823616\n",
            "[117]\ttrain's rmse: 0.275229\ttrain's l2: 0.0757507\tvalid's rmse: 0.286984\tvalid's l2: 0.0823598\n",
            "[118]\ttrain's rmse: 0.275141\ttrain's l2: 0.0757027\tvalid's rmse: 0.286983\tvalid's l2: 0.0823591\n",
            "[119]\ttrain's rmse: 0.275074\ttrain's l2: 0.0756654\tvalid's rmse: 0.286977\tvalid's l2: 0.0823558\n",
            "[120]\ttrain's rmse: 0.274999\ttrain's l2: 0.0756243\tvalid's rmse: 0.286978\tvalid's l2: 0.0823567\n",
            "[121]\ttrain's rmse: 0.27493\ttrain's l2: 0.0755865\tvalid's rmse: 0.286963\tvalid's l2: 0.0823477\n",
            "[122]\ttrain's rmse: 0.274847\ttrain's l2: 0.0755409\tvalid's rmse: 0.286961\tvalid's l2: 0.0823464\n",
            "[123]\ttrain's rmse: 0.274769\ttrain's l2: 0.0754979\tvalid's rmse: 0.286961\tvalid's l2: 0.0823465\n",
            "[124]\ttrain's rmse: 0.274692\ttrain's l2: 0.0754557\tvalid's rmse: 0.286958\tvalid's l2: 0.0823448\n",
            "[125]\ttrain's rmse: 0.274611\ttrain's l2: 0.075411\tvalid's rmse: 0.286941\tvalid's l2: 0.082335\n",
            "[126]\ttrain's rmse: 0.274536\ttrain's l2: 0.0753702\tvalid's rmse: 0.286935\tvalid's l2: 0.0823314\n",
            "[127]\ttrain's rmse: 0.274467\ttrain's l2: 0.0753323\tvalid's rmse: 0.286925\tvalid's l2: 0.0823261\n",
            "[128]\ttrain's rmse: 0.274389\ttrain's l2: 0.0752892\tvalid's rmse: 0.286926\tvalid's l2: 0.0823268\n",
            "[129]\ttrain's rmse: 0.274319\ttrain's l2: 0.075251\tvalid's rmse: 0.286929\tvalid's l2: 0.0823284\n",
            "[130]\ttrain's rmse: 0.274249\ttrain's l2: 0.0752123\tvalid's rmse: 0.286928\tvalid's l2: 0.0823275\n",
            "[131]\ttrain's rmse: 0.274177\ttrain's l2: 0.075173\tvalid's rmse: 0.286939\tvalid's l2: 0.0823338\n",
            "[132]\ttrain's rmse: 0.274106\ttrain's l2: 0.0751342\tvalid's rmse: 0.286927\tvalid's l2: 0.0823271\n",
            "[133]\ttrain's rmse: 0.274029\ttrain's l2: 0.0750918\tvalid's rmse: 0.286935\tvalid's l2: 0.0823315\n",
            "[134]\ttrain's rmse: 0.273952\ttrain's l2: 0.0750498\tvalid's rmse: 0.286924\tvalid's l2: 0.0823256\n",
            "[135]\ttrain's rmse: 0.27388\ttrain's l2: 0.0750102\tvalid's rmse: 0.286928\tvalid's l2: 0.0823278\n",
            "[136]\ttrain's rmse: 0.273808\ttrain's l2: 0.0749706\tvalid's rmse: 0.286929\tvalid's l2: 0.0823281\n",
            "[137]\ttrain's rmse: 0.273738\ttrain's l2: 0.0749325\tvalid's rmse: 0.286927\tvalid's l2: 0.082327\n",
            "[138]\ttrain's rmse: 0.273663\ttrain's l2: 0.0748914\tvalid's rmse: 0.286929\tvalid's l2: 0.0823282\n",
            "[139]\ttrain's rmse: 0.27358\ttrain's l2: 0.0748459\tvalid's rmse: 0.286897\tvalid's l2: 0.0823099\n",
            "[140]\ttrain's rmse: 0.273501\ttrain's l2: 0.0748029\tvalid's rmse: 0.286893\tvalid's l2: 0.0823077\n",
            "[141]\ttrain's rmse: 0.273427\ttrain's l2: 0.0747622\tvalid's rmse: 0.286901\tvalid's l2: 0.0823122\n",
            "[142]\ttrain's rmse: 0.27335\ttrain's l2: 0.0747202\tvalid's rmse: 0.286895\tvalid's l2: 0.0823086\n",
            "[143]\ttrain's rmse: 0.273275\ttrain's l2: 0.0746792\tvalid's rmse: 0.286886\tvalid's l2: 0.0823033\n",
            "[144]\ttrain's rmse: 0.273206\ttrain's l2: 0.0746414\tvalid's rmse: 0.286884\tvalid's l2: 0.0823022\n",
            "[145]\ttrain's rmse: 0.273135\ttrain's l2: 0.0746026\tvalid's rmse: 0.286879\tvalid's l2: 0.0822996\n",
            "[146]\ttrain's rmse: 0.273066\ttrain's l2: 0.0745652\tvalid's rmse: 0.286878\tvalid's l2: 0.082299\n",
            "[147]\ttrain's rmse: 0.272988\ttrain's l2: 0.0745224\tvalid's rmse: 0.286878\tvalid's l2: 0.0822992\n",
            "[148]\ttrain's rmse: 0.272909\ttrain's l2: 0.0744791\tvalid's rmse: 0.286876\tvalid's l2: 0.0822977\n",
            "[149]\ttrain's rmse: 0.27284\ttrain's l2: 0.0744416\tvalid's rmse: 0.28689\tvalid's l2: 0.082306\n",
            "[150]\ttrain's rmse: 0.272774\ttrain's l2: 0.0744059\tvalid's rmse: 0.28689\tvalid's l2: 0.0823059\n",
            "[151]\ttrain's rmse: 0.27271\ttrain's l2: 0.0743707\tvalid's rmse: 0.286883\tvalid's l2: 0.082302\n",
            "[152]\ttrain's rmse: 0.27264\ttrain's l2: 0.0743328\tvalid's rmse: 0.28689\tvalid's l2: 0.0823061\n",
            "[153]\ttrain's rmse: 0.272562\ttrain's l2: 0.0742901\tvalid's rmse: 0.286892\tvalid's l2: 0.0823072\n",
            "[154]\ttrain's rmse: 0.272478\ttrain's l2: 0.0742443\tvalid's rmse: 0.286884\tvalid's l2: 0.0823024\n",
            "[155]\ttrain's rmse: 0.272401\ttrain's l2: 0.0742022\tvalid's rmse: 0.286881\tvalid's l2: 0.0823009\n",
            "[156]\ttrain's rmse: 0.272328\ttrain's l2: 0.0741624\tvalid's rmse: 0.286882\tvalid's l2: 0.0823013\n",
            "[157]\ttrain's rmse: 0.272258\ttrain's l2: 0.0741247\tvalid's rmse: 0.286876\tvalid's l2: 0.0822981\n",
            "[158]\ttrain's rmse: 0.272194\ttrain's l2: 0.0740893\tvalid's rmse: 0.286872\tvalid's l2: 0.0822958\n",
            "[159]\ttrain's rmse: 0.272127\ttrain's l2: 0.0740529\tvalid's rmse: 0.28688\tvalid's l2: 0.0823002\n",
            "[160]\ttrain's rmse: 0.27205\ttrain's l2: 0.0740111\tvalid's rmse: 0.286875\tvalid's l2: 0.0822972\n",
            "[161]\ttrain's rmse: 0.27198\ttrain's l2: 0.0739731\tvalid's rmse: 0.286884\tvalid's l2: 0.0823024\n",
            "[162]\ttrain's rmse: 0.271914\ttrain's l2: 0.0739374\tvalid's rmse: 0.286879\tvalid's l2: 0.0822996\n",
            "[163]\ttrain's rmse: 0.271855\ttrain's l2: 0.0739052\tvalid's rmse: 0.28688\tvalid's l2: 0.0823\n",
            "[164]\ttrain's rmse: 0.271787\ttrain's l2: 0.0738681\tvalid's rmse: 0.286878\tvalid's l2: 0.0822992\n",
            "[165]\ttrain's rmse: 0.271719\ttrain's l2: 0.0738311\tvalid's rmse: 0.286883\tvalid's l2: 0.0823017\n",
            "[166]\ttrain's rmse: 0.271635\ttrain's l2: 0.0737856\tvalid's rmse: 0.286891\tvalid's l2: 0.0823063\n",
            "[167]\ttrain's rmse: 0.271568\ttrain's l2: 0.0737494\tvalid's rmse: 0.286872\tvalid's l2: 0.0822957\n",
            "[168]\ttrain's rmse: 0.271499\ttrain's l2: 0.0737116\tvalid's rmse: 0.286863\tvalid's l2: 0.0822904\n",
            "[169]\ttrain's rmse: 0.271436\ttrain's l2: 0.0736776\tvalid's rmse: 0.286863\tvalid's l2: 0.0822906\n",
            "[170]\ttrain's rmse: 0.271364\ttrain's l2: 0.0736384\tvalid's rmse: 0.286862\tvalid's l2: 0.0822899\n",
            "[171]\ttrain's rmse: 0.271297\ttrain's l2: 0.0736019\tvalid's rmse: 0.28687\tvalid's l2: 0.0822944\n",
            "[172]\ttrain's rmse: 0.271223\ttrain's l2: 0.0735618\tvalid's rmse: 0.286872\tvalid's l2: 0.0822955\n",
            "[173]\ttrain's rmse: 0.271163\ttrain's l2: 0.0735292\tvalid's rmse: 0.286864\tvalid's l2: 0.0822907\n",
            "[174]\ttrain's rmse: 0.271096\ttrain's l2: 0.0734928\tvalid's rmse: 0.286867\tvalid's l2: 0.0822926\n",
            "[175]\ttrain's rmse: 0.271024\ttrain's l2: 0.0734541\tvalid's rmse: 0.286874\tvalid's l2: 0.0822968\n",
            "[176]\ttrain's rmse: 0.270955\ttrain's l2: 0.0734164\tvalid's rmse: 0.286856\tvalid's l2: 0.0822866\n",
            "[177]\ttrain's rmse: 0.27088\ttrain's l2: 0.0733761\tvalid's rmse: 0.286852\tvalid's l2: 0.0822843\n",
            "[178]\ttrain's rmse: 0.270802\ttrain's l2: 0.0733338\tvalid's rmse: 0.28685\tvalid's l2: 0.0822828\n",
            "[179]\ttrain's rmse: 0.270728\ttrain's l2: 0.0732936\tvalid's rmse: 0.286861\tvalid's l2: 0.0822892\n",
            "[180]\ttrain's rmse: 0.270649\ttrain's l2: 0.0732507\tvalid's rmse: 0.286842\tvalid's l2: 0.0822783\n",
            "[181]\ttrain's rmse: 0.270584\ttrain's l2: 0.0732158\tvalid's rmse: 0.28684\tvalid's l2: 0.0822769\n",
            "[182]\ttrain's rmse: 0.270514\ttrain's l2: 0.0731778\tvalid's rmse: 0.286837\tvalid's l2: 0.0822752\n",
            "[183]\ttrain's rmse: 0.270453\ttrain's l2: 0.0731447\tvalid's rmse: 0.286832\tvalid's l2: 0.0822726\n",
            "[184]\ttrain's rmse: 0.270387\ttrain's l2: 0.0731091\tvalid's rmse: 0.28684\tvalid's l2: 0.0822772\n",
            "[185]\ttrain's rmse: 0.270317\ttrain's l2: 0.0730715\tvalid's rmse: 0.28685\tvalid's l2: 0.0822828\n",
            "[186]\ttrain's rmse: 0.270249\ttrain's l2: 0.0730348\tvalid's rmse: 0.286855\tvalid's l2: 0.0822856\n",
            "[187]\ttrain's rmse: 0.270196\ttrain's l2: 0.0730056\tvalid's rmse: 0.286855\tvalid's l2: 0.0822856\n",
            "[188]\ttrain's rmse: 0.270123\ttrain's l2: 0.0729665\tvalid's rmse: 0.286849\tvalid's l2: 0.0822826\n",
            "[189]\ttrain's rmse: 0.270063\ttrain's l2: 0.0729341\tvalid's rmse: 0.28684\tvalid's l2: 0.0822774\n",
            "[190]\ttrain's rmse: 0.270002\ttrain's l2: 0.0729012\tvalid's rmse: 0.286836\tvalid's l2: 0.0822749\n",
            "[191]\ttrain's rmse: 0.269943\ttrain's l2: 0.0728693\tvalid's rmse: 0.286831\tvalid's l2: 0.0822721\n",
            "[192]\ttrain's rmse: 0.269872\ttrain's l2: 0.072831\tvalid's rmse: 0.286828\tvalid's l2: 0.0822704\n",
            "[193]\ttrain's rmse: 0.269814\ttrain's l2: 0.0727996\tvalid's rmse: 0.286824\tvalid's l2: 0.0822681\n",
            "[194]\ttrain's rmse: 0.269737\ttrain's l2: 0.0727583\tvalid's rmse: 0.286816\tvalid's l2: 0.0822634\n",
            "[195]\ttrain's rmse: 0.269672\ttrain's l2: 0.0727229\tvalid's rmse: 0.28681\tvalid's l2: 0.08226\n",
            "[196]\ttrain's rmse: 0.269605\ttrain's l2: 0.0726868\tvalid's rmse: 0.286817\tvalid's l2: 0.0822638\n",
            "[197]\ttrain's rmse: 0.269532\ttrain's l2: 0.0726478\tvalid's rmse: 0.286818\tvalid's l2: 0.0822648\n",
            "[198]\ttrain's rmse: 0.269463\ttrain's l2: 0.0726102\tvalid's rmse: 0.286826\tvalid's l2: 0.0822691\n",
            "[199]\ttrain's rmse: 0.269397\ttrain's l2: 0.0725746\tvalid's rmse: 0.286824\tvalid's l2: 0.082268\n",
            "[200]\ttrain's rmse: 0.269331\ttrain's l2: 0.0725394\tvalid's rmse: 0.286824\tvalid's l2: 0.0822682\n",
            "[201]\ttrain's rmse: 0.269271\ttrain's l2: 0.0725071\tvalid's rmse: 0.286824\tvalid's l2: 0.0822682\n",
            "[202]\ttrain's rmse: 0.269195\ttrain's l2: 0.0724662\tvalid's rmse: 0.286819\tvalid's l2: 0.0822649\n",
            "[203]\ttrain's rmse: 0.269124\ttrain's l2: 0.0724278\tvalid's rmse: 0.286816\tvalid's l2: 0.0822636\n",
            "[204]\ttrain's rmse: 0.269059\ttrain's l2: 0.072393\tvalid's rmse: 0.286827\tvalid's l2: 0.08227\n",
            "[205]\ttrain's rmse: 0.268986\ttrain's l2: 0.0723533\tvalid's rmse: 0.286837\tvalid's l2: 0.0822754\n",
            "Early stopping, best iteration is:\n",
            "[195]\ttrain's rmse: 0.269672\ttrain's l2: 0.0727229\tvalid's rmse: 0.28681\tvalid's l2: 0.08226\n"
          ]
        }
      ],
      "source": [
        "import lightgbm as lgb\n",
        "\n",
        "params = {'boosting_type': 'gbdt',\n",
        "          'n_estimators':1000,\n",
        "          'objective': 'regression',\n",
        "          'learning_rate': 0.03,                                                                                                                                                                                                                                                                                                                                                                                                                                                                    \n",
        "          'reg_alpha':0.1,\n",
        "          'reg_lambda':0.01,\n",
        "          'max_depth':9,\n",
        "          'subsample': 0.8,\n",
        "          'colsample_bytree':0.8,\n",
        "          'colsample_bylevel':0.8\n",
        "          }\n",
        "evals = {}\n",
        "\n",
        "def fitLGB(with_target = with_target):\n",
        "  X_train = train_set.drop(['date','symbol','target','target_DC1'], axis = 1)\n",
        "  X_val = val_set.drop(['date','symbol','target','target_DC1'], axis = 1)\n",
        "  cats = ['month','year','day']\n",
        "  feature_name = X_train.columns.to_list()\n",
        "\n",
        "  if with_target:\n",
        "    Y_train = train_set['target']\n",
        "    Y_val = val_set['target']\n",
        "  else:\n",
        "    Y_train = train_set['target_DC1']\n",
        "    Y_val = val_set['target_DC1']\n",
        "  \n",
        "  reg = LGBMRegressor(**params)\n",
        "  reg.fit(X_train,Y_train,\n",
        "          eval_metric = \"rmse\",\n",
        "          feature_name = feature_name ,\n",
        "          categorical_feature = cats,\n",
        "          early_stopping_rounds = 10,\n",
        "          callbacks = [lgb.record_evaluation(evals)],\n",
        "          eval_set=[(X_train,Y_train), (X_val,Y_val)],\n",
        "          eval_names=['train','valid'])\n",
        "  return reg\n",
        "\n",
        "lgb = fitLGB()"
      ]
    },
    {
      "cell_type": "code",
      "source": [
        "evaluation_plot = plt.figure()\n",
        "plt.grid()\n",
        "plt.plot(evals['train']['rmse'],c='blue',label = 'train')\n",
        "plt.plot(evals['valid']['rmse'],c='orange',label = 'valid')\n",
        "plt.legend()"
      ],
      "metadata": {
        "id": "fciBoilGZlXT",
        "outputId": "d70dfdad-2283-4222-a2ef-0e2620f95186",
        "colab": {
          "base_uri": "https://localhost:8080/",
          "height": 284
        }
      },
      "execution_count": 10,
      "outputs": [
        {
          "output_type": "execute_result",
          "data": {
            "text/plain": [
              "<matplotlib.legend.Legend at 0x7f39b47fa310>"
            ]
          },
          "metadata": {},
          "execution_count": 10
        },
        {
          "output_type": "display_data",
          "data": {
            "text/plain": [
              "<Figure size 432x288 with 1 Axes>"
            ],
            "image/png": "[encoded data removed]"
          },
          "metadata": {
            "needs_background": "light"
          }
        }
      ]
    },
    {
      "cell_type": "code",
      "source": [
        "def predictFunction(xgb, lgb, dataset, with_target = with_target):\n",
        "  files = dataset.copy()\n",
        "  xgb_pred = xgb.predict(files.drop(['date','symbol','target','target_DC1'], axis = 1))\n",
        "  lgb_pred = lgb.predict(files.drop(['date','symbol','target','target_DC1'], axis = 1))\n",
        "\n",
        "  if with_target:\n",
        "    files.loc[:,'predicted_target'] = (xgb_pred.reshape((-1,1))+lgb_pred.reshape((-1,1)))/2\n",
        "  else:\n",
        "    files.loc[:,'predicted_DC1'] = (xgb_pred.reshape((-1,1))+lgb_pred.reshape((-1,1)))/2\n",
        "    files.loc[:,'predicted_target'] = -1\n",
        "    for date in files.date.unique():\n",
        "      files.loc[files['date']==date,'predicted_target'] = rank_data(files[files['date']==date]['predicted_DC1'])\n",
        "      \n",
        "  return files[['symbol','date','predicted_target']]"
      ],
      "metadata": {
        "id": "Dgu9ZPeq-mNG"
      },
      "execution_count": 11,
      "outputs": []
    },
    {
      "cell_type": "code",
      "execution_count": 12,
      "metadata": {
        "id": "ETY9qjj58R3Q"
      },
      "outputs": [],
      "source": [
        "# function to calculate Spearman correlation by era (mean, std, max, min)\n",
        "# we want to maximize but maintain stable correlation across era to maximize both challenge and competition reward\n",
        "def spearman_by_era(prediction,target, dates):\n",
        "  df = pd.DataFrame(index=dates,\n",
        "                    data = {'prediction': prediction,\n",
        "                            'target': target}\n",
        "                    )\n",
        "  spearman_era_list = []\n",
        "  for era in df.index.unique():\n",
        "    era_df = df[df.index == era]\n",
        "    spearman_corr = sp.stats.spearmanr(era_df.prediction, era_df.target)[0]\n",
        "    spearman_era_list.append(spearman_corr)\n",
        "\n",
        "  mean = np.mean(spearman_era_list)\n",
        "  std = np.std(spearman_era_list)\n",
        "  max = np.max(spearman_era_list)\n",
        "  min = np.min(spearman_era_list)\n",
        "  return mean, std, max, min\n",
        "  "
      ]
    },
    {
      "cell_type": "code",
      "source": [
        "pred_train = predictFunction(xgb,lgb, train_set)\n",
        "train_spearman = spearman_by_era(pred_train['predicted_target'].values, train_set['target'].values,\n",
        "                                pred_train['date'].values)\n",
        "\n",
        "print('Train dataset Spearman correlation: mean = {} ; std = {} ; max = {} ; min = {}'.format(round(train_spearman[0], 4), \n",
        "                                                                                            round(train_spearman[1], 4),\n",
        "                                                                                            round(train_spearman[2], 4),\n",
        "                                                                                            round(train_spearman[3], 4),\n",
        "                                                                                            ))\n"
      ],
      "metadata": {
        "id": "uSYGCko-7-Nd",
        "outputId": "9b2fcaee-3546-4d0d-e50c-f444815b5811",
        "colab": {
          "base_uri": "https://localhost:8080/"
        }
      },
      "execution_count": 13,
      "outputs": [
        {
          "output_type": "stream",
          "name": "stdout",
          "text": [
            "Train dataset Spearman correlation: mean = 0.642 ; std = 0.0488 ; max = 0.7695 ; min = 0.5062\n"
          ]
        }
      ]
    },
    {
      "cell_type": "code",
      "source": [
        "pred_val = predictFunction(xgb, lgb, val_set)\n",
        "test_spearman = spearman_by_era(pred_val['predicted_target'].values, val_set['target'].values,\n",
        "                                pred_val['date'].values)\n",
        "\n",
        "print('Test dataset Spearman correlation: mean = {} ; std = {} ; max = {} ; min = {}'.format(round(test_spearman[0], 4),\n",
        "                                                                                            round(test_spearman[1], 4),\n",
        "                                                                                            round(test_spearman[2], 4),\n",
        "                                                                                            round(test_spearman[3], 4),\n",
        "                                                                                            ))"
      ],
      "metadata": {
        "id": "hGDlyG6j7nj6",
        "outputId": "87a88f8b-1175-44de-f634-40779799faba",
        "colab": {
          "base_uri": "https://localhost:8080/"
        }
      },
      "execution_count": 14,
      "outputs": [
        {
          "output_type": "stream",
          "name": "stdout",
          "text": [
            "Test dataset Spearman correlation: mean = 0.1154 ; std = 0.0734 ; max = 0.2778 ; min = 0.0017\n"
          ]
        }
      ]
    },
    {
      "cell_type": "code",
      "source": [
        "mse = mean_squared_error(pred_val['predicted_target'],val_set['target'])\n",
        "mae = mean_absolute_error(pred_val['predicted_target'],val_set['target'])\n",
        "rmse = mean_squared_error(pred_val['predicted_target'],val_set['target'], squared = False)"
      ],
      "metadata": {
        "id": "a1j0ZoXcYOUU"
      },
      "execution_count": null,
      "outputs": []
    },
    {
      "cell_type": "code",
      "source": [
        "error = train_set[['symbol','date','target','target_DC1']].copy()\n",
        "error['predicted'] = predictFunction(xgb, lgb, train_set)['predicted_target']\n",
        "error['error'] = (error['target']-error['predicted'])**2\n",
        "error"
      ],
      "metadata": {
        "id": "hYL9_3ScwQ7q",
        "outputId": "3b40e025-d6c2-4447-8a0a-7b01d25b7bfa",
        "colab": {
          "base_uri": "https://localhost:8080/",
          "height": 424
        }
      },
      "execution_count": null,
      "outputs": [
        {
          "output_type": "execute_result",
          "data": {
            "text/plain": [
              "      symbol        date    target  target_DC1  predicted     error\n",
              "0      0xBTC  2018-12-23  0.095238   -0.211551   0.456898  0.130798\n",
              "1      0xBTC  2018-12-30  0.046414   -0.192849   0.472241  0.181329\n",
              "2      0xBTC  2019-01-06  0.284519   -0.263822   0.468668  0.033911\n",
              "3      0xBTC  2019-01-13  0.391667    0.023985   0.500698  0.011888\n",
              "4      0xBTC  2019-01-20  0.032787   -0.251842   0.509609  0.227360\n",
              "...      ...         ...       ...         ...        ...       ...\n",
              "70183    ZYN  2021-12-26  0.727134    0.001455   0.490734  0.055885\n",
              "70184    ZYN  2022-01-02  0.984894    0.447752   0.526780  0.209869\n",
              "70185    ZYN  2022-01-23  0.884615    0.143837   0.480401  0.163389\n",
              "70186    ZYN  2022-01-30  0.983232    0.591620   0.496266  0.237136\n",
              "70187    ZYN  2022-02-06  0.045365   -0.254563   0.363924  0.101480\n",
              "\n",
              "[70188 rows x 6 columns]"
            ],
            "text/html": [
              "\n",
              "  <div id=\"df-539183a7-4114-4ce0-83f5-4977f8f2cf3f\">\n",
              "    <div class=\"colab-df-container\">\n",
              "      <div>\n",
              "<style scoped>\n",
              "    .dataframe tbody tr th:only-of-type {\n",
              "        vertical-align: middle;\n",
              "    }\n",
              "\n",
              "    .dataframe tbody tr th {\n",
              "        vertical-align: top;\n",
              "    }\n",
              "\n",
              "    .dataframe thead th {\n",
              "        text-align: right;\n",
              "    }\n",
              "</style>\n",
              "<table border=\"1\" class=\"dataframe\">\n",
              "  <thead>\n",
              "    <tr style=\"text-align: right;\">\n",
              "      <th></th>\n",
              "      <th>symbol</th>\n",
              "      <th>date</th>\n",
              "      <th>target</th>\n",
              "      <th>target_DC1</th>\n",
              "      <th>predicted</th>\n",
              "      <th>error</th>\n",
              "    </tr>\n",
              "  </thead>\n",
              "  <tbody>\n",
              "    <tr>\n",
              "      <th>0</th>\n",
              "      <td>0xBTC</td>\n",
              "      <td>2018-12-23</td>\n",
              "      <td>0.095238</td>\n",
              "      <td>-0.211551</td>\n",
              "      <td>0.456898</td>\n",
              "      <td>0.130798</td>\n",
              "    </tr>\n",
              "    <tr>\n",
              "      <th>1</th>\n",
              "      <td>0xBTC</td>\n",
              "      <td>2018-12-30</td>\n",
              "      <td>0.046414</td>\n",
              "      <td>-0.192849</td>\n",
              "      <td>0.472241</td>\n",
              "      <td>0.181329</td>\n",
              "    </tr>\n",
              "    <tr>\n",
              "      <th>2</th>\n",
              "      <td>0xBTC</td>\n",
              "      <td>2019-01-06</td>\n",
              "      <td>0.284519</td>\n",
              "      <td>-0.263822</td>\n",
              "      <td>0.468668</td>\n",
              "      <td>0.033911</td>\n",
              "    </tr>\n",
              "    <tr>\n",
              "      <th>3</th>\n",
              "      <td>0xBTC</td>\n",
              "      <td>2019-01-13</td>\n",
              "      <td>0.391667</td>\n",
              "      <td>0.023985</td>\n",
              "      <td>0.500698</td>\n",
              "      <td>0.011888</td>\n",
              "    </tr>\n",
              "    <tr>\n",
              "      <th>4</th>\n",
              "      <td>0xBTC</td>\n",
              "      <td>2019-01-20</td>\n",
              "      <td>0.032787</td>\n",
              "      <td>-0.251842</td>\n",
              "      <td>0.509609</td>\n",
              "      <td>0.227360</td>\n",
              "    </tr>\n",
              "    <tr>\n",
              "      <th>...</th>\n",
              "      <td>...</td>\n",
              "      <td>...</td>\n",
              "      <td>...</td>\n",
              "      <td>...</td>\n",
              "      <td>...</td>\n",
              "      <td>...</td>\n",
              "    </tr>\n",
              "    <tr>\n",
              "      <th>70183</th>\n",
              "      <td>ZYN</td>\n",
              "      <td>2021-12-26</td>\n",
              "      <td>0.727134</td>\n",
              "      <td>0.001455</td>\n",
              "      <td>0.490734</td>\n",
              "      <td>0.055885</td>\n",
              "    </tr>\n",
              "    <tr>\n",
              "      <th>70184</th>\n",
              "      <td>ZYN</td>\n",
              "      <td>2022-01-02</td>\n",
              "      <td>0.984894</td>\n",
              "      <td>0.447752</td>\n",
              "      <td>0.526780</td>\n",
              "      <td>0.209869</td>\n",
              "    </tr>\n",
              "    <tr>\n",
              "      <th>70185</th>\n",
              "      <td>ZYN</td>\n",
              "      <td>2022-01-23</td>\n",
              "      <td>0.884615</td>\n",
              "      <td>0.143837</td>\n",
              "      <td>0.480401</td>\n",
              "      <td>0.163389</td>\n",
              "    </tr>\n",
              "    <tr>\n",
              "      <th>70186</th>\n",
              "      <td>ZYN</td>\n",
              "      <td>2022-01-30</td>\n",
              "      <td>0.983232</td>\n",
              "      <td>0.591620</td>\n",
              "      <td>0.496266</td>\n",
              "      <td>0.237136</td>\n",
              "    </tr>\n",
              "    <tr>\n",
              "      <th>70187</th>\n",
              "      <td>ZYN</td>\n",
              "      <td>2022-02-06</td>\n",
              "      <td>0.045365</td>\n",
              "      <td>-0.254563</td>\n",
              "      <td>0.363924</td>\n",
              "      <td>0.101480</td>\n",
              "    </tr>\n",
              "  </tbody>\n",
              "</table>\n",
              "<p>70188 rows × 6 columns</p>\n",
              "</div>\n",
              "      <button class=\"colab-df-convert\" onclick=\"convertToInteractive('df-539183a7-4114-4ce0-83f5-4977f8f2cf3f')\"\n",
              "              title=\"Convert this dataframe to an interactive table.\"\n",
              "              style=\"display:none;\">\n",
              "        \n",
              "  <svg xmlns=\"http://www.w3.org/2000/svg\" height=\"24px\"viewBox=\"0 0 24 24\"\n",
              "       width=\"24px\">\n",
              "    <path d=\"M0 0h24v24H0V0z\" fill=\"none\"/>\n",
              "    <path d=\"M18.56 5.44l.94 2.06.94-2.06 2.06-.94-2.06-.94-.94-2.06-.94 2.06-2.06.94zm-11 1L8.5 8.5l.94-2.06 2.06-.94-2.06-.94L8.5 2.5l-.94 2.06-2.06.94zm10 10l.94 2.06.94-2.06 2.06-.94-2.06-.94-.94-2.06-.94 2.06-2.06.94z\"/><path d=\"M17.41 7.96l-1.37-1.37c-.4-.4-.92-.59-1.43-.59-.52 0-1.04.2-1.43.59L10.3 9.45l-7.72 7.72c-.78.78-.78 2.05 0 2.83L4 21.41c.39.39.9.59 1.41.59.51 0 1.02-.2 1.41-.59l7.78-7.78 2.81-2.81c.8-.78.8-2.07 0-2.86zM5.41 20L4 18.59l7.72-7.72 1.47 1.35L5.41 20z\"/>\n",
              "  </svg>\n",
              "      </button>\n",
              "      \n",
              "  <style>\n",
              "    .colab-df-container {\n",
              "      display:flex;\n",
              "      flex-wrap:wrap;\n",
              "      gap: 12px;\n",
              "    }\n",
              "\n",
              "    .colab-df-convert {\n",
              "      background-color: #E8F0FE;\n",
              "      border: none;\n",
              "      border-radius: 50%;\n",
              "      cursor: pointer;\n",
              "      display: none;\n",
              "      fill: #1967D2;\n",
              "      height: 32px;\n",
              "      padding: 0 0 0 0;\n",
              "      width: 32px;\n",
              "    }\n",
              "\n",
              "    .colab-df-convert:hover {\n",
              "      background-color: #E2EBFA;\n",
              "      box-shadow: 0px 1px 2px rgba(60, 64, 67, 0.3), 0px 1px 3px 1px rgba(60, 64, 67, 0.15);\n",
              "      fill: #174EA6;\n",
              "    }\n",
              "\n",
              "    [theme=dark] .colab-df-convert {\n",
              "      background-color: #3B4455;\n",
              "      fill: #D2E3FC;\n",
              "    }\n",
              "\n",
              "    [theme=dark] .colab-df-convert:hover {\n",
              "      background-color: #434B5C;\n",
              "      box-shadow: 0px 1px 3px 1px rgba(0, 0, 0, 0.15);\n",
              "      filter: drop-shadow(0px 1px 2px rgba(0, 0, 0, 0.3));\n",
              "      fill: #FFFFFF;\n",
              "    }\n",
              "  </style>\n",
              "\n",
              "      <script>\n",
              "        const buttonEl =\n",
              "          document.querySelector('#df-539183a7-4114-4ce0-83f5-4977f8f2cf3f button.colab-df-convert');\n",
              "        buttonEl.style.display =\n",
              "          google.colab.kernel.accessAllowed ? 'block' : 'none';\n",
              "\n",
              "        async function convertToInteractive(key) {\n",
              "          const element = document.querySelector('#df-539183a7-4114-4ce0-83f5-4977f8f2cf3f');\n",
              "          const dataTable =\n",
              "            await google.colab.kernel.invokeFunction('convertToInteractive',\n",
              "                                                     [key], {});\n",
              "          if (!dataTable) return;\n",
              "\n",
              "          const docLinkHtml = 'Like what you see? Visit the ' +\n",
              "            '<a target=\"_blank\" href=https://colab.research.google.com/notebooks/data_table.ipynb>data table notebook</a>'\n",
              "            + ' to learn more about interactive tables.';\n",
              "          element.innerHTML = '';\n",
              "          dataTable['output_type'] = 'display_data';\n",
              "          await google.colab.output.renderOutput(dataTable, element);\n",
              "          const docLink = document.createElement('div');\n",
              "          docLink.innerHTML = docLinkHtml;\n",
              "          element.appendChild(docLink);\n",
              "        }\n",
              "      </script>\n",
              "    </div>\n",
              "  </div>\n",
              "  "
            ]
          },
          "metadata": {},
          "execution_count": 18
        }
      ]
    },
    {
      "cell_type": "code",
      "source": [
        "plt.plot(error[error['symbol']=='0xBTC'].date, error[error['symbol']=='0xBTC'].target)\n",
        "plt.plot(error[error['symbol']=='0xBTC'].date, error[error['symbol']=='0xBTC'].predicted, color='orange')"
      ],
      "metadata": {
        "id": "o4R7OxHAc-yn",
        "outputId": "65854dfb-5064-45ab-8633-6782c6ae88dd",
        "colab": {
          "base_uri": "https://localhost:8080/",
          "height": 282
        }
      },
      "execution_count": null,
      "outputs": [
        {
          "output_type": "execute_result",
          "data": {
            "text/plain": [
              "[<matplotlib.lines.Line2D at 0x7f0699109ad0>]"
            ]
          },
          "metadata": {},
          "execution_count": 19
        },
        {
          "output_type": "display_data",
          "data": {
            "text/plain": [
              "<Figure size 432x288 with 1 Axes>"
            ],
            "image/png": "[encoded data removed]"
          },
          "metadata": {
            "needs_background": "light"
          }
        }
      ]
    },
    {
      "cell_type": "code",
      "source": [
        "error[error['error']==np.max(error['error'])]"
      ],
      "metadata": {
        "id": "o9uPYBFswgJT",
        "outputId": "0d8b185b-556e-4395-d5e6-a04b632a49ea",
        "colab": {
          "base_uri": "https://localhost:8080/",
          "height": 81
        }
      },
      "execution_count": null,
      "outputs": [
        {
          "output_type": "execute_result",
          "data": {
            "text/plain": [
              "     symbol        date    target  target_DC1  predicted     error\n",
              "3676    ARN  2021-08-22  0.003802    -1.09234   0.591908  0.345868"
            ],
            "text/html": [
              "\n",
              "  <div id=\"df-97a34e68-a9f5-475e-8bd5-ff6665051a01\">\n",
              "    <div class=\"colab-df-container\">\n",
              "      <div>\n",
              "<style scoped>\n",
              "    .dataframe tbody tr th:only-of-type {\n",
              "        vertical-align: middle;\n",
              "    }\n",
              "\n",
              "    .dataframe tbody tr th {\n",
              "        vertical-align: top;\n",
              "    }\n",
              "\n",
              "    .dataframe thead th {\n",
              "        text-align: right;\n",
              "    }\n",
              "</style>\n",
              "<table border=\"1\" class=\"dataframe\">\n",
              "  <thead>\n",
              "    <tr style=\"text-align: right;\">\n",
              "      <th></th>\n",
              "      <th>symbol</th>\n",
              "      <th>date</th>\n",
              "      <th>target</th>\n",
              "      <th>target_DC1</th>\n",
              "      <th>predicted</th>\n",
              "      <th>error</th>\n",
              "    </tr>\n",
              "  </thead>\n",
              "  <tbody>\n",
              "    <tr>\n",
              "      <th>3676</th>\n",
              "      <td>ARN</td>\n",
              "      <td>2021-08-22</td>\n",
              "      <td>0.003802</td>\n",
              "      <td>-1.09234</td>\n",
              "      <td>0.591908</td>\n",
              "      <td>0.345868</td>\n",
              "    </tr>\n",
              "  </tbody>\n",
              "</table>\n",
              "</div>\n",
              "      <button class=\"colab-df-convert\" onclick=\"convertToInteractive('df-97a34e68-a9f5-475e-8bd5-ff6665051a01')\"\n",
              "              title=\"Convert this dataframe to an interactive table.\"\n",
              "              style=\"display:none;\">\n",
              "        \n",
              "  <svg xmlns=\"http://www.w3.org/2000/svg\" height=\"24px\"viewBox=\"0 0 24 24\"\n",
              "       width=\"24px\">\n",
              "    <path d=\"M0 0h24v24H0V0z\" fill=\"none\"/>\n",
              "    <path d=\"M18.56 5.44l.94 2.06.94-2.06 2.06-.94-2.06-.94-.94-2.06-.94 2.06-2.06.94zm-11 1L8.5 8.5l.94-2.06 2.06-.94-2.06-.94L8.5 2.5l-.94 2.06-2.06.94zm10 10l.94 2.06.94-2.06 2.06-.94-2.06-.94-.94-2.06-.94 2.06-2.06.94z\"/><path d=\"M17.41 7.96l-1.37-1.37c-.4-.4-.92-.59-1.43-.59-.52 0-1.04.2-1.43.59L10.3 9.45l-7.72 7.72c-.78.78-.78 2.05 0 2.83L4 21.41c.39.39.9.59 1.41.59.51 0 1.02-.2 1.41-.59l7.78-7.78 2.81-2.81c.8-.78.8-2.07 0-2.86zM5.41 20L4 18.59l7.72-7.72 1.47 1.35L5.41 20z\"/>\n",
              "  </svg>\n",
              "      </button>\n",
              "      \n",
              "  <style>\n",
              "    .colab-df-container {\n",
              "      display:flex;\n",
              "      flex-wrap:wrap;\n",
              "      gap: 12px;\n",
              "    }\n",
              "\n",
              "    .colab-df-convert {\n",
              "      background-color: #E8F0FE;\n",
              "      border: none;\n",
              "      border-radius: 50%;\n",
              "      cursor: pointer;\n",
              "      display: none;\n",
              "      fill: #1967D2;\n",
              "      height: 32px;\n",
              "      padding: 0 0 0 0;\n",
              "      width: 32px;\n",
              "    }\n",
              "\n",
              "    .colab-df-convert:hover {\n",
              "      background-color: #E2EBFA;\n",
              "      box-shadow: 0px 1px 2px rgba(60, 64, 67, 0.3), 0px 1px 3px 1px rgba(60, 64, 67, 0.15);\n",
              "      fill: #174EA6;\n",
              "    }\n",
              "\n",
              "    [theme=dark] .colab-df-convert {\n",
              "      background-color: #3B4455;\n",
              "      fill: #D2E3FC;\n",
              "    }\n",
              "\n",
              "    [theme=dark] .colab-df-convert:hover {\n",
              "      background-color: #434B5C;\n",
              "      box-shadow: 0px 1px 3px 1px rgba(0, 0, 0, 0.15);\n",
              "      filter: drop-shadow(0px 1px 2px rgba(0, 0, 0, 0.3));\n",
              "      fill: #FFFFFF;\n",
              "    }\n",
              "  </style>\n",
              "\n",
              "      <script>\n",
              "        const buttonEl =\n",
              "          document.querySelector('#df-97a34e68-a9f5-475e-8bd5-ff6665051a01 button.colab-df-convert');\n",
              "        buttonEl.style.display =\n",
              "          google.colab.kernel.accessAllowed ? 'block' : 'none';\n",
              "\n",
              "        async function convertToInteractive(key) {\n",
              "          const element = document.querySelector('#df-97a34e68-a9f5-475e-8bd5-ff6665051a01');\n",
              "          const dataTable =\n",
              "            await google.colab.kernel.invokeFunction('convertToInteractive',\n",
              "                                                     [key], {});\n",
              "          if (!dataTable) return;\n",
              "\n",
              "          const docLinkHtml = 'Like what you see? Visit the ' +\n",
              "            '<a target=\"_blank\" href=https://colab.research.google.com/notebooks/data_table.ipynb>data table notebook</a>'\n",
              "            + ' to learn more about interactive tables.';\n",
              "          element.innerHTML = '';\n",
              "          dataTable['output_type'] = 'display_data';\n",
              "          await google.colab.output.renderOutput(dataTable, element);\n",
              "          const docLink = document.createElement('div');\n",
              "          docLink.innerHTML = docLinkHtml;\n",
              "          element.appendChild(docLink);\n",
              "        }\n",
              "      </script>\n",
              "    </div>\n",
              "  </div>\n",
              "  "
            ]
          },
          "metadata": {},
          "execution_count": 20
        }
      ]
    },
    {
      "cell_type": "code",
      "source": [
        "error[error['error']==np.min(error['error'])]"
      ],
      "metadata": {
        "id": "e9k2nyK_DFwG",
        "outputId": "c1dfc3ab-a3bc-410b-9bae-564fa0f11f77",
        "colab": {
          "base_uri": "https://localhost:8080/",
          "height": 81
        }
      },
      "execution_count": null,
      "outputs": [
        {
          "output_type": "execute_result",
          "data": {
            "text/plain": [
              "      symbol        date  target  target_DC1  predicted         error\n",
              "69310     ZB  2019-12-01     0.5    0.002244   0.499999  1.642762e-12"
            ],
            "text/html": [
              "\n",
              "  <div id=\"df-c286526a-bee1-41b9-ab3a-9d9352926198\">\n",
              "    <div class=\"colab-df-container\">\n",
              "      <div>\n",
              "<style scoped>\n",
              "    .dataframe tbody tr th:only-of-type {\n",
              "        vertical-align: middle;\n",
              "    }\n",
              "\n",
              "    .dataframe tbody tr th {\n",
              "        vertical-align: top;\n",
              "    }\n",
              "\n",
              "    .dataframe thead th {\n",
              "        text-align: right;\n",
              "    }\n",
              "</style>\n",
              "<table border=\"1\" class=\"dataframe\">\n",
              "  <thead>\n",
              "    <tr style=\"text-align: right;\">\n",
              "      <th></th>\n",
              "      <th>symbol</th>\n",
              "      <th>date</th>\n",
              "      <th>target</th>\n",
              "      <th>target_DC1</th>\n",
              "      <th>predicted</th>\n",
              "      <th>error</th>\n",
              "    </tr>\n",
              "  </thead>\n",
              "  <tbody>\n",
              "    <tr>\n",
              "      <th>69310</th>\n",
              "      <td>ZB</td>\n",
              "      <td>2019-12-01</td>\n",
              "      <td>0.5</td>\n",
              "      <td>0.002244</td>\n",
              "      <td>0.499999</td>\n",
              "      <td>1.642762e-12</td>\n",
              "    </tr>\n",
              "  </tbody>\n",
              "</table>\n",
              "</div>\n",
              "      <button class=\"colab-df-convert\" onclick=\"convertToInteractive('df-c286526a-bee1-41b9-ab3a-9d9352926198')\"\n",
              "              title=\"Convert this dataframe to an interactive table.\"\n",
              "              style=\"display:none;\">\n",
              "        \n",
              "  <svg xmlns=\"http://www.w3.org/2000/svg\" height=\"24px\"viewBox=\"0 0 24 24\"\n",
              "       width=\"24px\">\n",
              "    <path d=\"M0 0h24v24H0V0z\" fill=\"none\"/>\n",
              "    <path d=\"M18.56 5.44l.94 2.06.94-2.06 2.06-.94-2.06-.94-.94-2.06-.94 2.06-2.06.94zm-11 1L8.5 8.5l.94-2.06 2.06-.94-2.06-.94L8.5 2.5l-.94 2.06-2.06.94zm10 10l.94 2.06.94-2.06 2.06-.94-2.06-.94-.94-2.06-.94 2.06-2.06.94z\"/><path d=\"M17.41 7.96l-1.37-1.37c-.4-.4-.92-.59-1.43-.59-.52 0-1.04.2-1.43.59L10.3 9.45l-7.72 7.72c-.78.78-.78 2.05 0 2.83L4 21.41c.39.39.9.59 1.41.59.51 0 1.02-.2 1.41-.59l7.78-7.78 2.81-2.81c.8-.78.8-2.07 0-2.86zM5.41 20L4 18.59l7.72-7.72 1.47 1.35L5.41 20z\"/>\n",
              "  </svg>\n",
              "      </button>\n",
              "      \n",
              "  <style>\n",
              "    .colab-df-container {\n",
              "      display:flex;\n",
              "      flex-wrap:wrap;\n",
              "      gap: 12px;\n",
              "    }\n",
              "\n",
              "    .colab-df-convert {\n",
              "      background-color: #E8F0FE;\n",
              "      border: none;\n",
              "      border-radius: 50%;\n",
              "      cursor: pointer;\n",
              "      display: none;\n",
              "      fill: #1967D2;\n",
              "      height: 32px;\n",
              "      padding: 0 0 0 0;\n",
              "      width: 32px;\n",
              "    }\n",
              "\n",
              "    .colab-df-convert:hover {\n",
              "      background-color: #E2EBFA;\n",
              "      box-shadow: 0px 1px 2px rgba(60, 64, 67, 0.3), 0px 1px 3px 1px rgba(60, 64, 67, 0.15);\n",
              "      fill: #174EA6;\n",
              "    }\n",
              "\n",
              "    [theme=dark] .colab-df-convert {\n",
              "      background-color: #3B4455;\n",
              "      fill: #D2E3FC;\n",
              "    }\n",
              "\n",
              "    [theme=dark] .colab-df-convert:hover {\n",
              "      background-color: #434B5C;\n",
              "      box-shadow: 0px 1px 3px 1px rgba(0, 0, 0, 0.15);\n",
              "      filter: drop-shadow(0px 1px 2px rgba(0, 0, 0, 0.3));\n",
              "      fill: #FFFFFF;\n",
              "    }\n",
              "  </style>\n",
              "\n",
              "      <script>\n",
              "        const buttonEl =\n",
              "          document.querySelector('#df-c286526a-bee1-41b9-ab3a-9d9352926198 button.colab-df-convert');\n",
              "        buttonEl.style.display =\n",
              "          google.colab.kernel.accessAllowed ? 'block' : 'none';\n",
              "\n",
              "        async function convertToInteractive(key) {\n",
              "          const element = document.querySelector('#df-c286526a-bee1-41b9-ab3a-9d9352926198');\n",
              "          const dataTable =\n",
              "            await google.colab.kernel.invokeFunction('convertToInteractive',\n",
              "                                                     [key], {});\n",
              "          if (!dataTable) return;\n",
              "\n",
              "          const docLinkHtml = 'Like what you see? Visit the ' +\n",
              "            '<a target=\"_blank\" href=https://colab.research.google.com/notebooks/data_table.ipynb>data table notebook</a>'\n",
              "            + ' to learn more about interactive tables.';\n",
              "          element.innerHTML = '';\n",
              "          dataTable['output_type'] = 'display_data';\n",
              "          await google.colab.output.renderOutput(dataTable, element);\n",
              "          const docLink = document.createElement('div');\n",
              "          docLink.innerHTML = docLinkHtml;\n",
              "          element.appendChild(docLink);\n",
              "        }\n",
              "      </script>\n",
              "    </div>\n",
              "  </div>\n",
              "  "
            ]
          },
          "metadata": {},
          "execution_count": 21
        }
      ]
    },
    {
      "cell_type": "code",
      "source": [
        "error[[\"target\",\"target_DC1\",\"error\"]].corr()"
      ],
      "metadata": {
        "id": "7q6NpCeQDIsd",
        "outputId": "79bfd2f6-1736-4654-f262-702ac9f87dc6",
        "colab": {
          "base_uri": "https://localhost:8080/",
          "height": 143
        }
      },
      "execution_count": null,
      "outputs": [
        {
          "output_type": "execute_result",
          "data": {
            "text/plain": [
              "              target  target_DC1     error\n",
              "target      1.000000    0.672984  0.046621\n",
              "target_DC1  0.672984    1.000000  0.120293\n",
              "error       0.046621    0.120293  1.000000"
            ],
            "text/html": [
              "\n",
              "  <div id=\"df-2c0c160a-9353-46ee-bf64-8747df177500\">\n",
              "    <div class=\"colab-df-container\">\n",
              "      <div>\n",
              "<style scoped>\n",
              "    .dataframe tbody tr th:only-of-type {\n",
              "        vertical-align: middle;\n",
              "    }\n",
              "\n",
              "    .dataframe tbody tr th {\n",
              "        vertical-align: top;\n",
              "    }\n",
              "\n",
              "    .dataframe thead th {\n",
              "        text-align: right;\n",
              "    }\n",
              "</style>\n",
              "<table border=\"1\" class=\"dataframe\">\n",
              "  <thead>\n",
              "    <tr style=\"text-align: right;\">\n",
              "      <th></th>\n",
              "      <th>target</th>\n",
              "      <th>target_DC1</th>\n",
              "      <th>error</th>\n",
              "    </tr>\n",
              "  </thead>\n",
              "  <tbody>\n",
              "    <tr>\n",
              "      <th>target</th>\n",
              "      <td>1.000000</td>\n",
              "      <td>0.672984</td>\n",
              "      <td>0.046621</td>\n",
              "    </tr>\n",
              "    <tr>\n",
              "      <th>target_DC1</th>\n",
              "      <td>0.672984</td>\n",
              "      <td>1.000000</td>\n",
              "      <td>0.120293</td>\n",
              "    </tr>\n",
              "    <tr>\n",
              "      <th>error</th>\n",
              "      <td>0.046621</td>\n",
              "      <td>0.120293</td>\n",
              "      <td>1.000000</td>\n",
              "    </tr>\n",
              "  </tbody>\n",
              "</table>\n",
              "</div>\n",
              "      <button class=\"colab-df-convert\" onclick=\"convertToInteractive('df-2c0c160a-9353-46ee-bf64-8747df177500')\"\n",
              "              title=\"Convert this dataframe to an interactive table.\"\n",
              "              style=\"display:none;\">\n",
              "        \n",
              "  <svg xmlns=\"http://www.w3.org/2000/svg\" height=\"24px\"viewBox=\"0 0 24 24\"\n",
              "       width=\"24px\">\n",
              "    <path d=\"M0 0h24v24H0V0z\" fill=\"none\"/>\n",
              "    <path d=\"M18.56 5.44l.94 2.06.94-2.06 2.06-.94-2.06-.94-.94-2.06-.94 2.06-2.06.94zm-11 1L8.5 8.5l.94-2.06 2.06-.94-2.06-.94L8.5 2.5l-.94 2.06-2.06.94zm10 10l.94 2.06.94-2.06 2.06-.94-2.06-.94-.94-2.06-.94 2.06-2.06.94z\"/><path d=\"M17.41 7.96l-1.37-1.37c-.4-.4-.92-.59-1.43-.59-.52 0-1.04.2-1.43.59L10.3 9.45l-7.72 7.72c-.78.78-.78 2.05 0 2.83L4 21.41c.39.39.9.59 1.41.59.51 0 1.02-.2 1.41-.59l7.78-7.78 2.81-2.81c.8-.78.8-2.07 0-2.86zM5.41 20L4 18.59l7.72-7.72 1.47 1.35L5.41 20z\"/>\n",
              "  </svg>\n",
              "      </button>\n",
              "      \n",
              "  <style>\n",
              "    .colab-df-container {\n",
              "      display:flex;\n",
              "      flex-wrap:wrap;\n",
              "      gap: 12px;\n",
              "    }\n",
              "\n",
              "    .colab-df-convert {\n",
              "      background-color: #E8F0FE;\n",
              "      border: none;\n",
              "      border-radius: 50%;\n",
              "      cursor: pointer;\n",
              "      display: none;\n",
              "      fill: #1967D2;\n",
              "      height: 32px;\n",
              "      padding: 0 0 0 0;\n",
              "      width: 32px;\n",
              "    }\n",
              "\n",
              "    .colab-df-convert:hover {\n",
              "      background-color: #E2EBFA;\n",
              "      box-shadow: 0px 1px 2px rgba(60, 64, 67, 0.3), 0px 1px 3px 1px rgba(60, 64, 67, 0.15);\n",
              "      fill: #174EA6;\n",
              "    }\n",
              "\n",
              "    [theme=dark] .colab-df-convert {\n",
              "      background-color: #3B4455;\n",
              "      fill: #D2E3FC;\n",
              "    }\n",
              "\n",
              "    [theme=dark] .colab-df-convert:hover {\n",
              "      background-color: #434B5C;\n",
              "      box-shadow: 0px 1px 3px 1px rgba(0, 0, 0, 0.15);\n",
              "      filter: drop-shadow(0px 1px 2px rgba(0, 0, 0, 0.3));\n",
              "      fill: #FFFFFF;\n",
              "    }\n",
              "  </style>\n",
              "\n",
              "      <script>\n",
              "        const buttonEl =\n",
              "          document.querySelector('#df-2c0c160a-9353-46ee-bf64-8747df177500 button.colab-df-convert');\n",
              "        buttonEl.style.display =\n",
              "          google.colab.kernel.accessAllowed ? 'block' : 'none';\n",
              "\n",
              "        async function convertToInteractive(key) {\n",
              "          const element = document.querySelector('#df-2c0c160a-9353-46ee-bf64-8747df177500');\n",
              "          const dataTable =\n",
              "            await google.colab.kernel.invokeFunction('convertToInteractive',\n",
              "                                                     [key], {});\n",
              "          if (!dataTable) return;\n",
              "\n",
              "          const docLinkHtml = 'Like what you see? Visit the ' +\n",
              "            '<a target=\"_blank\" href=https://colab.research.google.com/notebooks/data_table.ipynb>data table notebook</a>'\n",
              "            + ' to learn more about interactive tables.';\n",
              "          element.innerHTML = '';\n",
              "          dataTable['output_type'] = 'display_data';\n",
              "          await google.colab.output.renderOutput(dataTable, element);\n",
              "          const docLink = document.createElement('div');\n",
              "          docLink.innerHTML = docLinkHtml;\n",
              "          element.appendChild(docLink);\n",
              "        }\n",
              "      </script>\n",
              "    </div>\n",
              "  </div>\n",
              "  "
            ]
          },
          "metadata": {},
          "execution_count": 22
        }
      ]
    },
    {
      "cell_type": "code",
      "source": [
        "error_plot = plt.figure()\n",
        "sns.scatterplot(x = \"target_DC1\", y = \"error\", data = error)"
      ],
      "metadata": {
        "id": "88VlU_cmDNOZ",
        "outputId": "94ff47c4-143e-4a6f-c2c9-e070b42cecb2",
        "colab": {
          "base_uri": "https://localhost:8080/",
          "height": 297
        }
      },
      "execution_count": null,
      "outputs": [
        {
          "output_type": "execute_result",
          "data": {
            "text/plain": [
              "<matplotlib.axes._subplots.AxesSubplot at 0x7f06991285d0>"
            ]
          },
          "metadata": {},
          "execution_count": 23
        },
        {
          "output_type": "display_data",
          "data": {
            "text/plain": [
              "<Figure size 432x288 with 1 Axes>"
            ],
            "image/png": "[encoded data removed]"
          },
          "metadata": {
            "needs_background": "light"
          }
        }
      ]
    },
    {
      "cell_type": "code",
      "source": [
        "@model(\"lgb_model\")\n",
        "def train_function():  \n",
        "    importance = lgb.feature_importances_\n",
        "    importances_rfc_df = pd.DataFrame(importance, index=train_set.drop(['date','symbol','target','target_DC1'], axis = 1).columns, columns=['Importance'])\n",
        "    importances_rfc_df = importances_rfc_df.sort_values(by='Importance', ascending=False)\n",
        "    importances_rfc_df = importances_rfc_df[importances_rfc_df['Importance'] > 0]\n",
        "    print(\"[INFO] Number of important features:\",importances_rfc_df.shape[0])\n",
        "    importances_rfc_df = importances_rfc_df.head(15)\n",
        "\n",
        "    plt.figure(figsize=(8,8))\n",
        "    plt.xticks(rotation=60, fontsize = 20)\n",
        "    sns.barplot(y=importances_rfc_df.index, x=importances_rfc_df['Importance'])\n",
        "    \n",
        "    \n",
        "    layer.log(params)\n",
        "    layer.log({'With Target':with_target})\n",
        "    layer.log({'Mean Absolute Error':mae})\n",
        "    layer.log({'Mean Squarred Error': mse})\n",
        "    layer.log({'Root Mean Squared Error': rmse})\n",
        "    layer.log({\"Train mean pearson\":round(train_spearman[0], 4)})\n",
        "    layer.log({\"Train std pearson\":round(train_spearman[1], 4)})\n",
        "    layer.log({\"Validation mean pearson\":round(test_spearman[0], 4)})\n",
        "    layer.log({\"Validation std pearson\":round(test_spearman[1], 4)})\n",
        "    layer.log({\"Feature importance\": plt.gcf()})\n",
        "    layer.log({\"Training metrics\": evaluation_plot})\n",
        "    layer.log({\"Error Plot\":error_plot})\n",
        "    plt.show()\n",
        "    return lgb\n",
        "\n",
        "_ = train_function()"
      ],
      "metadata": {
        "id": "6940MUi1U7Ac",
        "outputId": "f0df3fa5-9080-4947-dd1f-f9c1958613f3",
        "colab": {
          "base_uri": "https://localhost:8080/",
          "height": 583,
          "referenced_widgets": [
            "4a6d1fa6c2a7449cbe4f84ebd2300425",
            "9f8df3505d4540c1bf95b2e19c7039c5"
          ]
        }
      },
      "execution_count": null,
      "outputs": [
        {
          "output_type": "display_data",
          "data": {
            "text/plain": [
              "Output()"
            ],
            "application/vnd.jupyter.widget-view+json": {
              "version_major": 2,
              "version_minor": 0,
              "model_id": "4a6d1fa6c2a7449cbe4f84ebd2300425"
            }
          },
          "metadata": {}
        },
        {
          "output_type": "display_data",
          "data": {
            "text/plain": [
              "[INFO] Number of important features: 773\n"
            ],
            "text/html": [
              "<pre style=\"white-space:pre;overflow-x:auto;line-height:normal;font-family:Menlo,'DejaVu Sans Mono',consolas,'Courier New',monospace\">[INFO] Number of important features: 773\n",
              "</pre>\n"
            ]
          },
          "metadata": {}
        },
        {
          "output_type": "display_data",
          "data": {
            "text/plain": [
              "<Figure size 576x576 with 1 Axes>"
            ],
            "image/png": "[encoded data removed]"
          },
          "metadata": {
            "needs_background": "light"
          }
        },
        {
          "output_type": "display_data",
          "data": {
            "text/plain": [
              ""
            ],
            "text/html": [
              "<pre style=\"white-space:pre;overflow-x:auto;line-height:normal;font-family:Menlo,'DejaVu Sans Mono',consolas,'Courier New',monospace\"></pre>\n"
            ]
          },
          "metadata": {}
        },
        {
          "output_type": "display_data",
          "data": {
            "text/plain": [
              "\n"
            ],
            "text/html": [
              "<pre style=\"white-space:pre;overflow-x:auto;line-height:normal;font-family:Menlo,'DejaVu Sans Mono',consolas,'Courier New',monospace\">\n",
              "</pre>\n"
            ]
          },
          "metadata": {}
        }
      ]
    },
    {
      "cell_type": "code",
      "source": [
        "pred_submission = predictFunction(xgb, lgb, validation_dataset)\n",
        "pred_submission"
      ],
      "metadata": {
        "id": "z3vXir9lkkrD",
        "colab": {
          "base_uri": "https://localhost:8080/",
          "height": 424
        },
        "outputId": "488c677f-ede2-402c-d85e-0d5dcf25f4a7"
      },
      "execution_count": null,
      "outputs": [
        {
          "output_type": "execute_result",
          "data": {
            "text/plain": [
              "    symbol        date  predicted_target\n",
              "0    0xBTC  2022-07-24          0.500108\n",
              "1     1ECO  2022-07-24          0.481130\n",
              "2    1INCH  2022-07-24          0.534637\n",
              "3      1WO  2022-07-24          0.474368\n",
              "4      AAB  2022-07-24          0.519762\n",
              "..     ...         ...               ...\n",
              "708   ZORA  2022-07-24          0.478308\n",
              "709    ZRX  2022-07-24          0.534138\n",
              "710    ZSC  2022-07-24          0.422418\n",
              "711    ZYN  2022-07-24          0.537175\n",
              "712  eRSDL  2022-07-24          0.492449\n",
              "\n",
              "[713 rows x 3 columns]"
            ],
            "text/html": [
              "\n",
              "  <div id=\"df-1ea1c840-bf56-40c6-a09e-7b13ac3ff76e\">\n",
              "    <div class=\"colab-df-container\">\n",
              "      <div>\n",
              "<style scoped>\n",
              "    .dataframe tbody tr th:only-of-type {\n",
              "        vertical-align: middle;\n",
              "    }\n",
              "\n",
              "    .dataframe tbody tr th {\n",
              "        vertical-align: top;\n",
              "    }\n",
              "\n",
              "    .dataframe thead th {\n",
              "        text-align: right;\n",
              "    }\n",
              "</style>\n",
              "<table border=\"1\" class=\"dataframe\">\n",
              "  <thead>\n",
              "    <tr style=\"text-align: right;\">\n",
              "      <th></th>\n",
              "      <th>symbol</th>\n",
              "      <th>date</th>\n",
              "      <th>predicted_target</th>\n",
              "    </tr>\n",
              "  </thead>\n",
              "  <tbody>\n",
              "    <tr>\n",
              "      <th>0</th>\n",
              "      <td>0xBTC</td>\n",
              "      <td>2022-07-24</td>\n",
              "      <td>0.500108</td>\n",
              "    </tr>\n",
              "    <tr>\n",
              "      <th>1</th>\n",
              "      <td>1ECO</td>\n",
              "      <td>2022-07-24</td>\n",
              "      <td>0.481130</td>\n",
              "    </tr>\n",
              "    <tr>\n",
              "      <th>2</th>\n",
              "      <td>1INCH</td>\n",
              "      <td>2022-07-24</td>\n",
              "      <td>0.534637</td>\n",
              "    </tr>\n",
              "    <tr>\n",
              "      <th>3</th>\n",
              "      <td>1WO</td>\n",
              "      <td>2022-07-24</td>\n",
              "      <td>0.474368</td>\n",
              "    </tr>\n",
              "    <tr>\n",
              "      <th>4</th>\n",
              "      <td>AAB</td>\n",
              "      <td>2022-07-24</td>\n",
              "      <td>0.519762</td>\n",
              "    </tr>\n",
              "    <tr>\n",
              "      <th>...</th>\n",
              "      <td>...</td>\n",
              "      <td>...</td>\n",
              "      <td>...</td>\n",
              "    </tr>\n",
              "    <tr>\n",
              "      <th>708</th>\n",
              "      <td>ZORA</td>\n",
              "      <td>2022-07-24</td>\n",
              "      <td>0.478308</td>\n",
              "    </tr>\n",
              "    <tr>\n",
              "      <th>709</th>\n",
              "      <td>ZRX</td>\n",
              "      <td>2022-07-24</td>\n",
              "      <td>0.534138</td>\n",
              "    </tr>\n",
              "    <tr>\n",
              "      <th>710</th>\n",
              "      <td>ZSC</td>\n",
              "      <td>2022-07-24</td>\n",
              "      <td>0.422418</td>\n",
              "    </tr>\n",
              "    <tr>\n",
              "      <th>711</th>\n",
              "      <td>ZYN</td>\n",
              "      <td>2022-07-24</td>\n",
              "      <td>0.537175</td>\n",
              "    </tr>\n",
              "    <tr>\n",
              "      <th>712</th>\n",
              "      <td>eRSDL</td>\n",
              "      <td>2022-07-24</td>\n",
              "      <td>0.492449</td>\n",
              "    </tr>\n",
              "  </tbody>\n",
              "</table>\n",
              "<p>713 rows × 3 columns</p>\n",
              "</div>\n",
              "      <button class=\"colab-df-convert\" onclick=\"convertToInteractive('df-1ea1c840-bf56-40c6-a09e-7b13ac3ff76e')\"\n",
              "              title=\"Convert this dataframe to an interactive table.\"\n",
              "              style=\"display:none;\">\n",
              "        \n",
              "  <svg xmlns=\"http://www.w3.org/2000/svg\" height=\"24px\"viewBox=\"0 0 24 24\"\n",
              "       width=\"24px\">\n",
              "    <path d=\"M0 0h24v24H0V0z\" fill=\"none\"/>\n",
              "    <path d=\"M18.56 5.44l.94 2.06.94-2.06 2.06-.94-2.06-.94-.94-2.06-.94 2.06-2.06.94zm-11 1L8.5 8.5l.94-2.06 2.06-.94-2.06-.94L8.5 2.5l-.94 2.06-2.06.94zm10 10l.94 2.06.94-2.06 2.06-.94-2.06-.94-.94-2.06-.94 2.06-2.06.94z\"/><path d=\"M17.41 7.96l-1.37-1.37c-.4-.4-.92-.59-1.43-.59-.52 0-1.04.2-1.43.59L10.3 9.45l-7.72 7.72c-.78.78-.78 2.05 0 2.83L4 21.41c.39.39.9.59 1.41.59.51 0 1.02-.2 1.41-.59l7.78-7.78 2.81-2.81c.8-.78.8-2.07 0-2.86zM5.41 20L4 18.59l7.72-7.72 1.47 1.35L5.41 20z\"/>\n",
              "  </svg>\n",
              "      </button>\n",
              "      \n",
              "  <style>\n",
              "    .colab-df-container {\n",
              "      display:flex;\n",
              "      flex-wrap:wrap;\n",
              "      gap: 12px;\n",
              "    }\n",
              "\n",
              "    .colab-df-convert {\n",
              "      background-color: #E8F0FE;\n",
              "      border: none;\n",
              "      border-radius: 50%;\n",
              "      cursor: pointer;\n",
              "      display: none;\n",
              "      fill: #1967D2;\n",
              "      height: 32px;\n",
              "      padding: 0 0 0 0;\n",
              "      width: 32px;\n",
              "    }\n",
              "\n",
              "    .colab-df-convert:hover {\n",
              "      background-color: #E2EBFA;\n",
              "      box-shadow: 0px 1px 2px rgba(60, 64, 67, 0.3), 0px 1px 3px 1px rgba(60, 64, 67, 0.15);\n",
              "      fill: #174EA6;\n",
              "    }\n",
              "\n",
              "    [theme=dark] .colab-df-convert {\n",
              "      background-color: #3B4455;\n",
              "      fill: #D2E3FC;\n",
              "    }\n",
              "\n",
              "    [theme=dark] .colab-df-convert:hover {\n",
              "      background-color: #434B5C;\n",
              "      box-shadow: 0px 1px 3px 1px rgba(0, 0, 0, 0.15);\n",
              "      filter: drop-shadow(0px 1px 2px rgba(0, 0, 0, 0.3));\n",
              "      fill: #FFFFFF;\n",
              "    }\n",
              "  </style>\n",
              "\n",
              "      <script>\n",
              "        const buttonEl =\n",
              "          document.querySelector('#df-1ea1c840-bf56-40c6-a09e-7b13ac3ff76e button.colab-df-convert');\n",
              "        buttonEl.style.display =\n",
              "          google.colab.kernel.accessAllowed ? 'block' : 'none';\n",
              "\n",
              "        async function convertToInteractive(key) {\n",
              "          const element = document.querySelector('#df-1ea1c840-bf56-40c6-a09e-7b13ac3ff76e');\n",
              "          const dataTable =\n",
              "            await google.colab.kernel.invokeFunction('convertToInteractive',\n",
              "                                                     [key], {});\n",
              "          if (!dataTable) return;\n",
              "\n",
              "          const docLinkHtml = 'Like what you see? Visit the ' +\n",
              "            '<a target=\"_blank\" href=https://colab.research.google.com/notebooks/data_table.ipynb>data table notebook</a>'\n",
              "            + ' to learn more about interactive tables.';\n",
              "          element.innerHTML = '';\n",
              "          dataTable['output_type'] = 'display_data';\n",
              "          await google.colab.output.renderOutput(dataTable, element);\n",
              "          const docLink = document.createElement('div');\n",
              "          docLink.innerHTML = docLinkHtml;\n",
              "          element.appendChild(docLink);\n",
              "        }\n",
              "      </script>\n",
              "    </div>\n",
              "  </div>\n",
              "  "
            ]
          },
          "metadata": {},
          "execution_count": 25
        }
      ]
    },
    {
      "cell_type": "code",
      "execution_count": null,
      "metadata": {
        "id": "wemVQ7xo8R3Q",
        "outputId": "35f86e98-7c51-4354-b2f8-412aa6d8292c",
        "colab": {
          "base_uri": "https://localhost:8080/"
        }
      },
      "outputs": [
        {
          "output_type": "execute_result",
          "data": {
            "text/plain": [
              "array([0.50010775, 0.48112997, 0.53463727, 0.47436773, 0.51976175])"
            ]
          },
          "metadata": {},
          "execution_count": 26
        }
      ],
      "source": [
        "# Use the trained Linear Regression model to make prediction on latest data\n",
        "# X_validation = validation_dataset.iloc[:, 1:-2]\n",
        "# y_validation_linear_reg = reg.predict(X_validation)\n",
        "y_validation_linear_reg = pred_submission['predicted_target'].values\n",
        "y_validation_linear_reg[:5]"
      ]
    },
    {
      "cell_type": "markdown",
      "metadata": {
        "id": "wPdrXYI58R3R"
      },
      "source": [
        "### Let's use the prediction from linear regression to join with validation dataset symbol for submission"
      ]
    },
    {
      "cell_type": "code",
      "execution_count": null,
      "metadata": {
        "id": "OKwa_RfT8R3R",
        "outputId": "7236d0f4-b44c-493f-d869-95844d6954aa",
        "colab": {
          "base_uri": "https://localhost:8080/",
          "height": 424
        }
      },
      "outputs": [
        {
          "output_type": "execute_result",
          "data": {
            "text/plain": [
              "    symbol  prediction\n",
              "176    DMT    0.321689\n",
              "215   EVED    0.325862\n",
              "73     BOB    0.339576\n",
              "613    TOP    0.340101\n",
              "478    PPT    0.346978\n",
              "..     ...         ...\n",
              "343   LEVL    0.581946\n",
              "77     BOR    0.596818\n",
              "707    ZLW    0.600594\n",
              "334     L2    0.625717\n",
              "694  YFFII    0.634255\n",
              "\n",
              "[713 rows x 2 columns]"
            ],
            "text/html": [
              "\n",
              "  <div id=\"df-2068e737-fdc1-4ae2-8cf2-b3b08c0fc6d4\">\n",
              "    <div class=\"colab-df-container\">\n",
              "      <div>\n",
              "<style scoped>\n",
              "    .dataframe tbody tr th:only-of-type {\n",
              "        vertical-align: middle;\n",
              "    }\n",
              "\n",
              "    .dataframe tbody tr th {\n",
              "        vertical-align: top;\n",
              "    }\n",
              "\n",
              "    .dataframe thead th {\n",
              "        text-align: right;\n",
              "    }\n",
              "</style>\n",
              "<table border=\"1\" class=\"dataframe\">\n",
              "  <thead>\n",
              "    <tr style=\"text-align: right;\">\n",
              "      <th></th>\n",
              "      <th>symbol</th>\n",
              "      <th>prediction</th>\n",
              "    </tr>\n",
              "  </thead>\n",
              "  <tbody>\n",
              "    <tr>\n",
              "      <th>176</th>\n",
              "      <td>DMT</td>\n",
              "      <td>0.321689</td>\n",
              "    </tr>\n",
              "    <tr>\n",
              "      <th>215</th>\n",
              "      <td>EVED</td>\n",
              "      <td>0.325862</td>\n",
              "    </tr>\n",
              "    <tr>\n",
              "      <th>73</th>\n",
              "      <td>BOB</td>\n",
              "      <td>0.339576</td>\n",
              "    </tr>\n",
              "    <tr>\n",
              "      <th>613</th>\n",
              "      <td>TOP</td>\n",
              "      <td>0.340101</td>\n",
              "    </tr>\n",
              "    <tr>\n",
              "      <th>478</th>\n",
              "      <td>PPT</td>\n",
              "      <td>0.346978</td>\n",
              "    </tr>\n",
              "    <tr>\n",
              "      <th>...</th>\n",
              "      <td>...</td>\n",
              "      <td>...</td>\n",
              "    </tr>\n",
              "    <tr>\n",
              "      <th>343</th>\n",
              "      <td>LEVL</td>\n",
              "      <td>0.581946</td>\n",
              "    </tr>\n",
              "    <tr>\n",
              "      <th>77</th>\n",
              "      <td>BOR</td>\n",
              "      <td>0.596818</td>\n",
              "    </tr>\n",
              "    <tr>\n",
              "      <th>707</th>\n",
              "      <td>ZLW</td>\n",
              "      <td>0.600594</td>\n",
              "    </tr>\n",
              "    <tr>\n",
              "      <th>334</th>\n",
              "      <td>L2</td>\n",
              "      <td>0.625717</td>\n",
              "    </tr>\n",
              "    <tr>\n",
              "      <th>694</th>\n",
              "      <td>YFFII</td>\n",
              "      <td>0.634255</td>\n",
              "    </tr>\n",
              "  </tbody>\n",
              "</table>\n",
              "<p>713 rows × 2 columns</p>\n",
              "</div>\n",
              "      <button class=\"colab-df-convert\" onclick=\"convertToInteractive('df-2068e737-fdc1-4ae2-8cf2-b3b08c0fc6d4')\"\n",
              "              title=\"Convert this dataframe to an interactive table.\"\n",
              "              style=\"display:none;\">\n",
              "        \n",
              "  <svg xmlns=\"http://www.w3.org/2000/svg\" height=\"24px\"viewBox=\"0 0 24 24\"\n",
              "       width=\"24px\">\n",
              "    <path d=\"M0 0h24v24H0V0z\" fill=\"none\"/>\n",
              "    <path d=\"M18.56 5.44l.94 2.06.94-2.06 2.06-.94-2.06-.94-.94-2.06-.94 2.06-2.06.94zm-11 1L8.5 8.5l.94-2.06 2.06-.94-2.06-.94L8.5 2.5l-.94 2.06-2.06.94zm10 10l.94 2.06.94-2.06 2.06-.94-2.06-.94-.94-2.06-.94 2.06-2.06.94z\"/><path d=\"M17.41 7.96l-1.37-1.37c-.4-.4-.92-.59-1.43-.59-.52 0-1.04.2-1.43.59L10.3 9.45l-7.72 7.72c-.78.78-.78 2.05 0 2.83L4 21.41c.39.39.9.59 1.41.59.51 0 1.02-.2 1.41-.59l7.78-7.78 2.81-2.81c.8-.78.8-2.07 0-2.86zM5.41 20L4 18.59l7.72-7.72 1.47 1.35L5.41 20z\"/>\n",
              "  </svg>\n",
              "      </button>\n",
              "      \n",
              "  <style>\n",
              "    .colab-df-container {\n",
              "      display:flex;\n",
              "      flex-wrap:wrap;\n",
              "      gap: 12px;\n",
              "    }\n",
              "\n",
              "    .colab-df-convert {\n",
              "      background-color: #E8F0FE;\n",
              "      border: none;\n",
              "      border-radius: 50%;\n",
              "      cursor: pointer;\n",
              "      display: none;\n",
              "      fill: #1967D2;\n",
              "      height: 32px;\n",
              "      padding: 0 0 0 0;\n",
              "      width: 32px;\n",
              "    }\n",
              "\n",
              "    .colab-df-convert:hover {\n",
              "      background-color: #E2EBFA;\n",
              "      box-shadow: 0px 1px 2px rgba(60, 64, 67, 0.3), 0px 1px 3px 1px rgba(60, 64, 67, 0.15);\n",
              "      fill: #174EA6;\n",
              "    }\n",
              "\n",
              "    [theme=dark] .colab-df-convert {\n",
              "      background-color: #3B4455;\n",
              "      fill: #D2E3FC;\n",
              "    }\n",
              "\n",
              "    [theme=dark] .colab-df-convert:hover {\n",
              "      background-color: #434B5C;\n",
              "      box-shadow: 0px 1px 3px 1px rgba(0, 0, 0, 0.15);\n",
              "      filter: drop-shadow(0px 1px 2px rgba(0, 0, 0, 0.3));\n",
              "      fill: #FFFFFF;\n",
              "    }\n",
              "  </style>\n",
              "\n",
              "      <script>\n",
              "        const buttonEl =\n",
              "          document.querySelector('#df-2068e737-fdc1-4ae2-8cf2-b3b08c0fc6d4 button.colab-df-convert');\n",
              "        buttonEl.style.display =\n",
              "          google.colab.kernel.accessAllowed ? 'block' : 'none';\n",
              "\n",
              "        async function convertToInteractive(key) {\n",
              "          const element = document.querySelector('#df-2068e737-fdc1-4ae2-8cf2-b3b08c0fc6d4');\n",
              "          const dataTable =\n",
              "            await google.colab.kernel.invokeFunction('convertToInteractive',\n",
              "                                                     [key], {});\n",
              "          if (!dataTable) return;\n",
              "\n",
              "          const docLinkHtml = 'Like what you see? Visit the ' +\n",
              "            '<a target=\"_blank\" href=https://colab.research.google.com/notebooks/data_table.ipynb>data table notebook</a>'\n",
              "            + ' to learn more about interactive tables.';\n",
              "          element.innerHTML = '';\n",
              "          dataTable['output_type'] = 'display_data';\n",
              "          await google.colab.output.renderOutput(dataTable, element);\n",
              "          const docLink = document.createElement('div');\n",
              "          docLink.innerHTML = docLinkHtml;\n",
              "          element.appendChild(docLink);\n",
              "        }\n",
              "      </script>\n",
              "    </div>\n",
              "  </div>\n",
              "  "
            ]
          },
          "metadata": {},
          "execution_count": 27
        }
      ],
      "source": [
        "prediction = pd.DataFrame()\n",
        "prediction['symbol'] = list(pred_submission.symbol)\n",
        "prediction['prediction'] = y_validation_linear_reg\n",
        "\n",
        "# sort the prediction to check which symbol is weaker and stronger, ie. FOX is weakest; BTC is strongest\n",
        "prediction.sort_values('prediction')"
      ]
    },
    {
      "cell_type": "markdown",
      "metadata": {
        "id": "2mq_vcI18R3R"
      },
      "source": [
        "### Check is prediction dataframe in accordance for submission format (using the prediction from linear regression)"
      ]
    },
    {
      "cell_type": "code",
      "execution_count": null,
      "metadata": {
        "colab": {
          "base_uri": "https://localhost:8080/"
        },
        "id": "Nf0GPjqn8R3R",
        "outputId": "71cfe4b6-1402-4f23-8d6a-e587ec3b9adc"
      },
      "outputs": [
        {
          "output_type": "stream",
          "name": "stdout",
          "text": [
            "symbol matched!\n",
            "column counts ok!\n"
          ]
        }
      ],
      "source": [
        "#check if y_latest is in accordance to shape for submission\n",
        "if set(prediction.symbol) == set(validation_dataset.symbol):\n",
        "    print('symbol matched!')\n",
        "else:\n",
        "    print('symbol unmatched, the symbol in prediction df must match the symbol in validation_dataset...')\n",
        "    \n",
        "if prediction.shape[1] == 2:\n",
        "    print('column counts ok!')\n",
        "else:\n",
        "    print('It should have 2 columns, first column with symbol, second with prediction...')\n"
      ]
    },
    {
      "cell_type": "markdown",
      "metadata": {
        "id": "0PhAfMnR8R3S"
      },
      "source": [
        "### Output prediction as a .csv file for submission!"
      ]
    },
    {
      "cell_type": "code",
      "execution_count": null,
      "metadata": {
        "id": "utRTWe0-8R3S"
      },
      "outputs": [],
      "source": [
        "#Output submission as .csv file\n",
        "#The prediction.csv is stored in content/prediction folder\n",
        "import os\n",
        "if not os.path.exists('/content/prediction'):\n",
        "    os.makedirs('/content/prediction')\n",
        "prediction.to_csv('/content/prediction/prediction.csv', index = False, header = None)"
      ]
    },
    {
      "cell_type": "markdown",
      "source": [
        "# **Submission Section**"
      ],
      "metadata": {
        "id": "aEv18jY34Kww"
      }
    },
    {
      "cell_type": "markdown",
      "metadata": {
        "collapsed": false,
        "id": "jKSoiqEW0Lg4"
      },
      "source": [
        "## **Setup**"
      ]
    },
    {
      "cell_type": "code",
      "source": [
        "!git clone https://github.com/rocketcapital-ai/competition_submission.git\n",
        "%cd /content/competition_submission"
      ],
      "metadata": {
        "id": "M7LbLhIz0Xh7",
        "outputId": "105e3703-f664-4432-8acf-5ebf9cafb800",
        "colab": {
          "base_uri": "https://localhost:8080/"
        }
      },
      "execution_count": null,
      "outputs": [
        {
          "output_type": "stream",
          "name": "stdout",
          "text": [
            "Cloning into 'competition_submission'...\n",
            "remote: Enumerating objects: 23, done.\u001b[K\n",
            "remote: Counting objects: 100% (23/23), done.\u001b[K\n",
            "remote: Compressing objects: 100% (16/16), done.\u001b[K\n",
            "remote: Total 23 (delta 3), reused 19 (delta 3), pack-reused 0\u001b[K\n",
            "Unpacking objects: 100% (23/23), done.\n",
            "/content/competition_submission\n"
          ]
        }
      ]
    },
    {
      "cell_type": "code",
      "source": [
        "!pip install base58\n",
        "!pip install PyYAML\n",
        "!pip install requests\n",
        "!pip install web3==5.29.2\n",
        "!pip install pandas \n",
        "from IPython.display import clear_output\n",
        "clear_output(wait = False)"
      ],
      "metadata": {
        "id": "lEl2hoVI2V-J"
      },
      "execution_count": null,
      "outputs": []
    },
    {
      "cell_type": "code",
      "execution_count": null,
      "metadata": {
        "pycharm": {
          "name": "#%%\n"
        },
        "id": "VgUYwRkJ0Lg8"
      },
      "outputs": [],
      "source": [
        "from lib.submitter import *\n",
        "\n",
        "jwt = 'eyJhbGciOiJIUzI1NiIsInR5cCI6IkpXVCJ9.eyJ1c2VySW5mb3JtYXRpb24iOnsiaWQiOiIxMDIwZDY0OC1kNzQ5LTQ5YjItOTZmZS1hNWQ0NDY5ODRjNTQiLCJlbWFpbCI6ImJpYmhhc2hwLmRhc0BnbWFpbC5jb20iLCJlbWFpbF92ZXJpZmllZCI6dHJ1ZSwicGluX3BvbGljeSI6eyJyZWdpb25zIjpbeyJpZCI6IkZSQTEiLCJkZXNpcmVkUmVwbGljYXRpb25Db3VudCI6MX0seyJpZCI6Ik5ZQzEiLCJkZXNpcmVkUmVwbGljYXRpb25Db3VudCI6MX1dLCJ2ZXJzaW9uIjoxfSwibWZhX2VuYWJsZWQiOmZhbHNlLCJzdGF0dXMiOiJBQ1RJVkUifSwiYXV0aGVudGljYXRpb25UeXBlIjoic2NvcGVkS2V5Iiwic2NvcGVkS2V5S2V5IjoiYmM4NWI0ZDQ1N2FhYWZlNzBmNGIiLCJzY29wZWRLZXlTZWNyZXQiOiJlMmEyOGFlZmFlNTcyMWZkNzM1Mjg4NzE5OTIzYTBkZTQ4MWY5NzUxZWQyZmVhMTE0MGJmYzRlNzNjNzRhYzI2IiwiaWF0IjoxNjU1MTM2Nzc4fQ.xl2FxgrL04kQIa7cIn89a_iE0I9xphiNf6K5K2mor5o'      # User-specified field.\n",
        "address = '0xcF16365d53ed53055f39010830e3CcD5A7a8245E'  # User-specified field.\n",
        "pk = '32316dfe607ed4a240ac29a6dcad9db6f484f0fbdf7894c15511237e1e13db70'       # User-specified field.\n",
        "submitter = Submitter(jwt, address, pk)"
      ]
    },
    {
      "cell_type": "markdown",
      "metadata": {
        "id": "3XjTmExp0Lg_"
      },
      "source": [
        "## View wallet address information."
      ]
    },
    {
      "cell_type": "code",
      "execution_count": null,
      "metadata": {
        "pycharm": {
          "name": "#%%\n"
        },
        "id": "9BN9wZGW0LhB",
        "outputId": "5921c0f0-913a-483e-884b-c2e2fd38bd3c",
        "colab": {
          "base_uri": "https://localhost:8080/"
        }
      },
      "outputs": [
        {
          "output_type": "stream",
          "name": "stdout",
          "text": [
            "MATIC balance for 0xcF16365d53ed53055f39010830e3CcD5A7a8245E: 0.985348923177361965\n",
            "MUSA balance for 0xcF16365d53ed53055f39010830e3CcD5A7a8245E: 0.869313545300001154\n",
            "Current stake for 0xcF16365d53ed53055f39010830e3CcD5A7a8245E: 249.381633229200001085\n"
          ]
        }
      ],
      "source": [
        "print('MATIC balance for {}: {}'.format(submitter.address, submitter.get_matic_balance()))\n",
        "print('MUSA balance for {}: {}'.format(submitter.address, submitter.get_musa_balance()))\n",
        "print('Current stake for {}: {}'.format(submitter.address, submitter.get_stake()))"
      ]
    },
    {
      "cell_type": "markdown",
      "metadata": {
        "collapsed": false,
        "id": "5ohgOcZ60LhC"
      },
      "source": [
        "## **Retrieve Dataset and run models.**\n",
        "### Please follow the instructions and example found [here](https://github.com/rocketcapital-ai/competition_quickstart_dataloader).\n",
        "\n",
        "### When completed, please place final prediction csv file in the `file_to_submit` folder."
      ]
    },
    {
      "cell_type": "code",
      "source": [
        "!cp \"/content/prediction/prediction.csv\" \"/content/competition_submission/file_to_submit/\""
      ],
      "metadata": {
        "id": "7UVxH1w93Rdy"
      },
      "execution_count": null,
      "outputs": []
    },
    {
      "cell_type": "markdown",
      "metadata": {
        "collapsed": false,
        "id": "wQ894w1O0LhD"
      },
      "source": [
        "## **Set stake.** (optional)\n",
        "### Skip if no changes need to be made."
      ]
    },
    {
      "cell_type": "code",
      "execution_count": null,
      "metadata": {
        "pycharm": {
          "name": "#%%\n"
        },
        "id": "uJlwEyJW0LhE",
        "colab": {
          "base_uri": "https://localhost:8080/"
        },
        "outputId": "336bd7a9-129f-4997-e82b-a288a39055cc"
      },
      "outputs": [
        {
          "output_type": "stream",
          "name": "stdout",
          "text": [
            "Setting gas price to 65 gwei.\n",
            "Sending transaction 0xe3cf8d0d27ab1452e097706b3ceb1c3bb6f4ab91c181af5e21588934c3d82469\n",
            "Transaction sent. Tx ID: 0xe3cf8d0d27ab1452e097706b3ceb1c3bb6f4ab91c181af5e21588934c3d82469\n"
          ]
        }
      ],
      "source": [
        "# set_stake_amount = 125.00  # User-specified field.\n",
        "# transaction_success = submitter.set_stake(set_stake_amount)\n",
        "# assert transaction_success, 'Setting stake failed.'"
      ]
    },
    {
      "cell_type": "markdown",
      "metadata": {
        "collapsed": false,
        "pycharm": {
          "name": "#%% md\n"
        },
        "id": "G_iqtyFY0LhF"
      },
      "source": [
        "## **Submit predictions.**\n",
        "Note that the same `submit_prediction` method should be used for re-submitting predictions."
      ]
    },
    {
      "cell_type": "code",
      "execution_count": null,
      "metadata": {
        "pycharm": {
          "name": "#%%\n"
        },
        "id": "eMYyDAIL0LhF",
        "colab": {
          "base_uri": "https://localhost:8080/"
        },
        "outputId": "ce363e0d-b4a1-4465-e26f-37a4667964f7"
      },
      "outputs": [
        {
          "output_type": "stream",
          "name": "stdout",
          "text": [
            "Encrypting file.\n",
            "Zipping encrypted file.\n",
            "Uploading and recording on blockchain.\n",
            "Setting gas price to 58 gwei.\n",
            "Sending transaction 0x3967e833545ef96b64960f5999f328ed4b22e233460c689f38c23bc72730db29\n",
            "Transaction sent. Tx ID: 0x3967e833545ef96b64960f5999f328ed4b22e233460c689f38c23bc72730db29\n"
          ]
        }
      ],
      "source": [
        "submission_file_name = 'prediction.csv'  # User-specified field.\n",
        "transaction_success = submitter.submit_prediction(submission_file_name)\n",
        "assert transaction_success, 'Submission failed.'"
      ]
    },
    {
      "cell_type": "markdown",
      "metadata": {
        "id": "41q5KfA70LhG"
      },
      "source": [
        "### **Retrieve and double-check predictions.** (optional)\n",
        "This section retrieves your submitted files, decrypts them, and compares them to the original file in `file_to_submit`.\n",
        "\n",
        "If the verification fails, please wait a few minutes and perform the verification again. If the problem persists, please re-submit your predictions."
      ]
    },
    {
      "cell_type": "code",
      "execution_count": null,
      "metadata": {
        "id": "NTANPvlH0LhH",
        "colab": {
          "base_uri": "https://localhost:8080/"
        },
        "outputId": "eea6e853-c948-45cb-d576-f691ef586692"
      },
      "outputs": [
        {
          "output_type": "stream",
          "name": "stdout",
          "text": [
            "Retrieving file.\n",
            "File retrieved.\n",
            "File unzipped.\n",
            "File decrypted. Comparing files.\n",
            "Removing temp files.\n",
            "Temp files removed.\n",
            "Files are identical. Verification check passed.\n"
          ]
        }
      ],
      "source": [
        "verification_success = submitter.download_and_check(submission_file_name)\n",
        "assert verification_success, 'Submission verification failed.'\n",
        "print('Files are identical. Verification check passed.')"
      ]
    },
    {
      "cell_type": "code",
      "source": [
        ""
      ],
      "metadata": {
        "id": "quwbIwHeykQY"
      },
      "execution_count": null,
      "outputs": []
    }
  ],
  "metadata": {
    "colab": {
      "collapsed_sections": [],
      "machine_shape": "hm",
      "name": "Quickstart-Copy1.ipynb",
      "provenance": [],
      "include_colab_link": true
    },
    "kernelspec": {
      "display_name": "Python 3 (ipykernel)",
      "language": "python",
      "name": "python3"
    },
    "language_info": {
      "codemirror_mode": {
        "name": "ipython",
        "version": 3
      },
      "file_extension": ".py",
      "mimetype": "text/x-python",
      "name": "python",
      "nbconvert_exporter": "python",
      "pygments_lexer": "ipython3",
      "version": "3.8.10"
    },
    "widgets": {
      "application/vnd.jupyter.widget-state+json": {
        "4a6d1fa6c2a7449cbe4f84ebd2300425": {
          "model_module": "@jupyter-widgets/output",
          "model_name": "OutputModel",
          "model_module_version": "1.0.0",
          "state": {
            "_dom_classes": [],
            "_model_module": "@jupyter-widgets/output",
            "_model_module_version": "1.0.0",
            "_model_name": "OutputModel",
            "_view_count": null,
            "_view_module": "@jupyter-widgets/output",
            "_view_module_version": "1.0.0",
            "_view_name": "OutputView",
            "layout": "IPY_MODEL_9f8df3505d4540c1bf95b2e19c7039c5",
            "msg_id": "",
            "outputs": [
              {
                "output_type": "display_data",
                "data": {
                  "text/plain": "✅  lgb_model            \u001b[38;2;21;127;61m━━━━━━━━━━\u001b[0m \u001b[38;2;21;127;61mDONE\u001b[0m \u001b[39m[\u001b[0m\u001b[38;2;155;155;159m0:00:21\u001b[0m\u001b[39m]\u001b[0m                        \n    \u001b[4;38;2;161;161;169m↳ \u001b[0m\u001b]8;id=382226;https://app.layer.ai/bibhash/rci-competition/models/lgb_model?v=2.2\u001b\\\u001b[4;38;2;161;161;169mhttps://app.layer.ai/bibhash/rci-competition/models/lgb_model?v=2.2\u001b[0m\u001b]8;;\u001b\\ \n",
                  "text/html": "<pre style=\"white-space:pre;overflow-x:auto;line-height:normal;font-family:Menlo,'DejaVu Sans Mono',consolas,'Courier New',monospace\">✅  lgb_model            <span style=\"color: #157f3d; text-decoration-color: #157f3d\">━━━━━━━━━━</span> <span style=\"color: #157f3d; text-decoration-color: #157f3d\">DONE</span> <span style=\"color: #000000; text-decoration-color: #000000\">[</span><span style=\"color: #9b9b9f; text-decoration-color: #9b9b9f\">0:00:21</span><span style=\"color: #000000; text-decoration-color: #000000\">]</span>                        \n    <span style=\"color: #a1a1a9; text-decoration-color: #a1a1a9; text-decoration: underline\">↳ </span><a href=\"https://app.layer.ai/bibhash/rci-competition/models/lgb_model?v=2.2\" target=\"_blank\"><span style=\"color: #a1a1a9; text-decoration-color: #a1a1a9; text-decoration: underline\">https://app.layer.ai/bibhash/rci-competition/models/lgb_model?v=2.2</span></a> \n</pre>\n"
                },
                "metadata": {}
              }
            ]
          }
        },
        "9f8df3505d4540c1bf95b2e19c7039c5": {
          "model_module": "@jupyter-widgets/base",
          "model_name": "LayoutModel",
          "model_module_version": "1.2.0",
          "state": {
            "_model_module": "@jupyter-widgets/base",
            "_model_module_version": "1.2.0",
            "_model_name": "LayoutModel",
            "_view_count": null,
            "_view_module": "@jupyter-widgets/base",
            "_view_module_version": "1.2.0",
            "_view_name": "LayoutView",
            "align_content": null,
            "align_items": null,
            "align_self": null,
            "border": null,
            "bottom": null,
            "display": null,
            "flex": null,
            "flex_flow": null,
            "grid_area": null,
            "grid_auto_columns": null,
            "grid_auto_flow": null,
            "grid_auto_rows": null,
            "grid_column": null,
            "grid_gap": null,
            "grid_row": null,
            "grid_template_areas": null,
            "grid_template_columns": null,
            "grid_template_rows": null,
            "height": null,
            "justify_content": null,
            "justify_items": null,
            "left": null,
            "margin": null,
            "max_height": null,
            "max_width": null,
            "min_height": null,
            "min_width": null,
            "object_fit": null,
            "object_position": null,
            "order": null,
            "overflow": null,
            "overflow_x": null,
            "overflow_y": null,
            "padding": null,
            "right": null,
            "top": null,
            "visibility": null,
            "width": null
          }
        },
        "d32d71bec6cb4b519dc7214e4fc56f4b": {
          "model_module": "@jupyter-widgets/controls",
          "model_name": "HBoxModel",
          "model_module_version": "1.5.0",
          "state": {
            "_dom_classes": [],
            "_model_module": "@jupyter-widgets/controls",
            "_model_module_version": "1.5.0",
            "_model_name": "HBoxModel",
            "_view_count": null,
            "_view_module": "@jupyter-widgets/controls",
            "_view_module_version": "1.5.0",
            "_view_name": "HBoxView",
            "box_style": "",
            "children": [
              "IPY_MODEL_663165549a8d42078df05d8db7d2d14a",
              "IPY_MODEL_33f21f2560184e879dfef6c51a0967ff",
              "IPY_MODEL_d917dd28f7c341689a0237b8035e0ec4"
            ],
            "layout": "IPY_MODEL_dee033151e484035a5e443327b8b67eb"
          }
        },
        "663165549a8d42078df05d8db7d2d14a": {
          "model_module": "@jupyter-widgets/controls",
          "model_name": "HTMLModel",
          "model_module_version": "1.5.0",
          "state": {
            "_dom_classes": [],
            "_model_module": "@jupyter-widgets/controls",
            "_model_module_version": "1.5.0",
            "_model_name": "HTMLModel",
            "_view_count": null,
            "_view_module": "@jupyter-widgets/controls",
            "_view_module_version": "1.5.0",
            "_view_name": "HTMLView",
            "description": "",
            "description_tooltip": null,
            "layout": "IPY_MODEL_305076158c9345b7a36ae7005db59a0b",
            "placeholder": "​",
            "style": "IPY_MODEL_9d5730bb90144bbab5e14609d2fd5598",
            "value": "100%"
          }
        },
        "33f21f2560184e879dfef6c51a0967ff": {
          "model_module": "@jupyter-widgets/controls",
          "model_name": "FloatProgressModel",
          "model_module_version": "1.5.0",
          "state": {
            "_dom_classes": [],
            "_model_module": "@jupyter-widgets/controls",
            "_model_module_version": "1.5.0",
            "_model_name": "FloatProgressModel",
            "_view_count": null,
            "_view_module": "@jupyter-widgets/controls",
            "_view_module_version": "1.5.0",
            "_view_name": "ProgressView",
            "bar_style": "success",
            "description": "",
            "description_tooltip": null,
            "layout": "IPY_MODEL_8a889b11363e43948d9d1c6fa9f0745a",
            "max": 979,
            "min": 0,
            "orientation": "horizontal",
            "style": "IPY_MODEL_39dc132206514e9cb66d83a8156d9cd8",
            "value": 979
          }
        },
        "d917dd28f7c341689a0237b8035e0ec4": {
          "model_module": "@jupyter-widgets/controls",
          "model_name": "HTMLModel",
          "model_module_version": "1.5.0",
          "state": {
            "_dom_classes": [],
            "_model_module": "@jupyter-widgets/controls",
            "_model_module_version": "1.5.0",
            "_model_name": "HTMLModel",
            "_view_count": null,
            "_view_module": "@jupyter-widgets/controls",
            "_view_module_version": "1.5.0",
            "_view_name": "HTMLView",
            "description": "",
            "description_tooltip": null,
            "layout": "IPY_MODEL_84cf0ddba98248c1bf4ad6edc94998f8",
            "placeholder": "​",
            "style": "IPY_MODEL_8fc65a6953f4438482c220308c665901",
            "value": " 979/979 [01:10&lt;00:00,  8.11it/s]"
          }
        },
        "dee033151e484035a5e443327b8b67eb": {
          "model_module": "@jupyter-widgets/base",
          "model_name": "LayoutModel",
          "model_module_version": "1.2.0",
          "state": {
            "_model_module": "@jupyter-widgets/base",
            "_model_module_version": "1.2.0",
            "_model_name": "LayoutModel",
            "_view_count": null,
            "_view_module": "@jupyter-widgets/base",
            "_view_module_version": "1.2.0",
            "_view_name": "LayoutView",
            "align_content": null,
            "align_items": null,
            "align_self": null,
            "border": null,
            "bottom": null,
            "display": null,
            "flex": null,
            "flex_flow": null,
            "grid_area": null,
            "grid_auto_columns": null,
            "grid_auto_flow": null,
            "grid_auto_rows": null,
            "grid_column": null,
            "grid_gap": null,
            "grid_row": null,
            "grid_template_areas": null,
            "grid_template_columns": null,
            "grid_template_rows": null,
            "height": null,
            "justify_content": null,
            "justify_items": null,
            "left": null,
            "margin": null,
            "max_height": null,
            "max_width": null,
            "min_height": null,
            "min_width": null,
            "object_fit": null,
            "object_position": null,
            "order": null,
            "overflow": null,
            "overflow_x": null,
            "overflow_y": null,
            "padding": null,
            "right": null,
            "top": null,
            "visibility": null,
            "width": null
          }
        },
        "305076158c9345b7a36ae7005db59a0b": {
          "model_module": "@jupyter-widgets/base",
          "model_name": "LayoutModel",
          "model_module_version": "1.2.0",
          "state": {
            "_model_module": "@jupyter-widgets/base",
            "_model_module_version": "1.2.0",
            "_model_name": "LayoutModel",
            "_view_count": null,
            "_view_module": "@jupyter-widgets/base",
            "_view_module_version": "1.2.0",
            "_view_name": "LayoutView",
            "align_content": null,
            "align_items": null,
            "align_self": null,
            "border": null,
            "bottom": null,
            "display": null,
            "flex": null,
            "flex_flow": null,
            "grid_area": null,
            "grid_auto_columns": null,
            "grid_auto_flow": null,
            "grid_auto_rows": null,
            "grid_column": null,
            "grid_gap": null,
            "grid_row": null,
            "grid_template_areas": null,
            "grid_template_columns": null,
            "grid_template_rows": null,
            "height": null,
            "justify_content": null,
            "justify_items": null,
            "left": null,
            "margin": null,
            "max_height": null,
            "max_width": null,
            "min_height": null,
            "min_width": null,
            "object_fit": null,
            "object_position": null,
            "order": null,
            "overflow": null,
            "overflow_x": null,
            "overflow_y": null,
            "padding": null,
            "right": null,
            "top": null,
            "visibility": null,
            "width": null
          }
        },
        "9d5730bb90144bbab5e14609d2fd5598": {
          "model_module": "@jupyter-widgets/controls",
          "model_name": "DescriptionStyleModel",
          "model_module_version": "1.5.0",
          "state": {
            "_model_module": "@jupyter-widgets/controls",
            "_model_module_version": "1.5.0",
            "_model_name": "DescriptionStyleModel",
            "_view_count": null,
            "_view_module": "@jupyter-widgets/base",
            "_view_module_version": "1.2.0",
            "_view_name": "StyleView",
            "description_width": ""
          }
        },
        "8a889b11363e43948d9d1c6fa9f0745a": {
          "model_module": "@jupyter-widgets/base",
          "model_name": "LayoutModel",
          "model_module_version": "1.2.0",
          "state": {
            "_model_module": "@jupyter-widgets/base",
            "_model_module_version": "1.2.0",
            "_model_name": "LayoutModel",
            "_view_count": null,
            "_view_module": "@jupyter-widgets/base",
            "_view_module_version": "1.2.0",
            "_view_name": "LayoutView",
            "align_content": null,
            "align_items": null,
            "align_self": null,
            "border": null,
            "bottom": null,
            "display": null,
            "flex": null,
            "flex_flow": null,
            "grid_area": null,
            "grid_auto_columns": null,
            "grid_auto_flow": null,
            "grid_auto_rows": null,
            "grid_column": null,
            "grid_gap": null,
            "grid_row": null,
            "grid_template_areas": null,
            "grid_template_columns": null,
            "grid_template_rows": null,
            "height": null,
            "justify_content": null,
            "justify_items": null,
            "left": null,
            "margin": null,
            "max_height": null,
            "max_width": null,
            "min_height": null,
            "min_width": null,
            "object_fit": null,
            "object_position": null,
            "order": null,
            "overflow": null,
            "overflow_x": null,
            "overflow_y": null,
            "padding": null,
            "right": null,
            "top": null,
            "visibility": null,
            "width": null
          }
        },
        "39dc132206514e9cb66d83a8156d9cd8": {
          "model_module": "@jupyter-widgets/controls",
          "model_name": "ProgressStyleModel",
          "model_module_version": "1.5.0",
          "state": {
            "_model_module": "@jupyter-widgets/controls",
            "_model_module_version": "1.5.0",
            "_model_name": "ProgressStyleModel",
            "_view_count": null,
            "_view_module": "@jupyter-widgets/base",
            "_view_module_version": "1.2.0",
            "_view_name": "StyleView",
            "bar_color": null,
            "description_width": ""
          }
        },
        "84cf0ddba98248c1bf4ad6edc94998f8": {
          "model_module": "@jupyter-widgets/base",
          "model_name": "LayoutModel",
          "model_module_version": "1.2.0",
          "state": {
            "_model_module": "@jupyter-widgets/base",
            "_model_module_version": "1.2.0",
            "_model_name": "LayoutModel",
            "_view_count": null,
            "_view_module": "@jupyter-widgets/base",
            "_view_module_version": "1.2.0",
            "_view_name": "LayoutView",
            "align_content": null,
            "align_items": null,
            "align_self": null,
            "border": null,
            "bottom": null,
            "display": null,
            "flex": null,
            "flex_flow": null,
            "grid_area": null,
            "grid_auto_columns": null,
            "grid_auto_flow": null,
            "grid_auto_rows": null,
            "grid_column": null,
            "grid_gap": null,
            "grid_row": null,
            "grid_template_areas": null,
            "grid_template_columns": null,
            "grid_template_rows": null,
            "height": null,
            "justify_content": null,
            "justify_items": null,
            "left": null,
            "margin": null,
            "max_height": null,
            "max_width": null,
            "min_height": null,
            "min_width": null,
            "object_fit": null,
            "object_position": null,
            "order": null,
            "overflow": null,
            "overflow_x": null,
            "overflow_y": null,
            "padding": null,
            "right": null,
            "top": null,
            "visibility": null,
            "width": null
          }
        },
        "8fc65a6953f4438482c220308c665901": {
          "model_module": "@jupyter-widgets/controls",
          "model_name": "DescriptionStyleModel",
          "model_module_version": "1.5.0",
          "state": {
            "_model_module": "@jupyter-widgets/controls",
            "_model_module_version": "1.5.0",
            "_model_name": "DescriptionStyleModel",
            "_view_count": null,
            "_view_module": "@jupyter-widgets/base",
            "_view_module_version": "1.2.0",
            "_view_name": "StyleView",
            "description_width": ""
          }
        }
      }
    },
    "gpuClass": "standard",
    "accelerator": "GPU"
  },
  "nbformat": 4,
  "nbformat_minor": 0
}