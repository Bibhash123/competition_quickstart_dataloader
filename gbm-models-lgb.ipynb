{
  "cells": [
    {
      "cell_type": "markdown",
      "metadata": {
        "id": "view-in-github",
        "colab_type": "text"
      },
      "source": [
        "<a href=\"https://colab.research.google.com/github/Bibhash123/competition_quickstart_dataloader/blob/main/gbm-models-lgb.ipynb\" target=\"_parent\"><img src=\"https://colab.research.google.com/assets/colab-badge.svg\" alt=\"Open In Colab\"/></a>"
      ]
    },
    {
      "cell_type": "code",
      "execution_count": 1,
      "metadata": {
        "id": "ee31a3ed-68f1-460d-90f4-7dbe89185702"
      },
      "outputs": [],
      "source": [
        "from IPython.display import clear_output\n",
        "!pip install -U layer\n",
        "clear_output(wait = False)"
      ]
    },
    {
      "cell_type": "code",
      "execution_count": 2,
      "metadata": {
        "id": "63859387-1f1a-4973-a250-dd36e6ac8d90",
        "outputId": "ccc0a22a-143e-4cfd-83ba-0233e87eff5e",
        "colab": {
          "base_uri": "https://localhost:8080/"
        }
      },
      "outputs": [
        {
          "output_type": "stream",
          "name": "stdout",
          "text": [
            "Please open the following link in your web browser. Once logged in, copy the code and paste it here.\n",
            "https://app.layer.ai/oauth/authorize?response_type=code&code_challenge=X9nIhYVB5zjVjlQz_7TparZwmuuygFkKqT4q4HjH5T4&code_challenge_method=S256&client_id=0STDdcnpK48P8A429EAAn93WNuLmViLR&redirect_uri=https://app.layer.ai/oauth/code&scope=offline_access&audience=https://app.layer.ai\n",
            "Code: pfzTQW9vr2eO3PkCSa05kjLGyymsYcb2BAtWqkiVtcEmA\n",
            "Successfully logged into https://app.layer.ai\n"
          ]
        }
      ],
      "source": [
        "import layer\n",
        "from layer.decorators import dataset,model, pip_requirements, resources\n",
        "layer.login()"
      ]
    },
    {
      "cell_type": "code",
      "execution_count": 3,
      "metadata": {
        "colab": {
          "base_uri": "https://localhost:8080/"
        },
        "id": "4fa445e3-9cab-4ecb-b608-569cb0b4a13d",
        "outputId": "f442d4d3-f92e-43b3-87c1-df4d90554acb"
      },
      "outputs": [
        {
          "output_type": "execute_result",
          "data": {
            "text/plain": [
              "Your Layer project is here: https://app.layer.ai/bibhash/rci-competition"
            ]
          },
          "metadata": {},
          "execution_count": 3
        }
      ],
      "source": [
        "layer.init(\"rci-competition\")"
      ]
    },
    {
      "cell_type": "markdown",
      "source": [
        "## Imports"
      ],
      "metadata": {
        "id": "200S2nD2NhrH"
      }
    },
    {
      "cell_type": "code",
      "source": [
        "import os\n",
        "import gc\n",
        "from tqdm.notebook import tqdm\n",
        "from sklearn.metrics import mean_squared_error, mean_absolute_error\n",
        "import matplotlib.pyplot\n",
        "import seaborn as sns\n",
        "import pandas as pd\n",
        "import numpy as np\n",
        "import scipy as sp\n",
        "import warnings\n",
        "from lightgbm import LGBMRegressor\n",
        "\n",
        "warnings.filterwarnings(action='ignore', category=UserWarning)"
      ],
      "metadata": {
        "id": "YgzM4cbIZoox"
      },
      "execution_count": 1,
      "outputs": []
    },
    {
      "cell_type": "code",
      "source": [
        "def rank_data(series):\n",
        "    return (series.rank() - 1) / (len(series) - 1)"
      ],
      "metadata": {
        "id": "xoUpfyDZingj"
      },
      "execution_count": 2,
      "outputs": []
    },
    {
      "cell_type": "markdown",
      "source": [
        "# **Data Preparation**"
      ],
      "metadata": {
        "id": "PkRtP1W7NBMe"
      }
    },
    {
      "cell_type": "code",
      "source": [
        "import os\n",
        "import numpy as np\n",
        "import pandas as pd\n",
        "from tqdm.notebook import tqdm\n",
        "import matplotlib.pyplot as plt\n",
        "import seaborn as sns"
      ],
      "metadata": {
        "id": "ZdjJY--dEck1"
      },
      "execution_count": 3,
      "outputs": []
    },
    {
      "cell_type": "code",
      "source": [
        "!wget https://rocketcompetition.mypinata.cloud/ipfs/QmbVhN84RZYuZ33JMrua8ngtnKcgVsbgM89rU6MTnhDuQa\n",
        "!unzip -q QmbVhN84RZYuZ33JMrua8ngtnKcgVsbgM89rU6MTnhDuQa -d \"/content/\"\n",
        "!rm -r QmbVhN84RZYuZ33JMrua8ngtnKcgVsbgM89rU6MTnhDuQa"
      ],
      "metadata": {
        "colab": {
          "base_uri": "https://localhost:8080/"
        },
        "id": "2GmJgHsYyuu7",
        "outputId": "002dd08d-833e-401b-f00c-bcf9c7d252e3"
      },
      "execution_count": 6,
      "outputs": [
        {
          "output_type": "stream",
          "name": "stdout",
          "text": [
            "--2022-08-15 16:06:56--  https://rocketcompetition.mypinata.cloud/ipfs/QmbVhN84RZYuZ33JMrua8ngtnKcgVsbgM89rU6MTnhDuQa\n",
            "Resolving rocketcompetition.mypinata.cloud (rocketcompetition.mypinata.cloud)... 104.18.31.237, 104.18.30.237, 2606:4700::6812:1fed, ...\n",
            "Connecting to rocketcompetition.mypinata.cloud (rocketcompetition.mypinata.cloud)|104.18.31.237|:443... connected.\n",
            "HTTP request sent, awaiting response... 200 OK\n",
            "Length: 381604047 (364M) [application/zip]\n",
            "Saving to: ‘QmbVhN84RZYuZ33JMrua8ngtnKcgVsbgM89rU6MTnhDuQa’\n",
            "\n",
            "QmbVhN84RZYuZ33JMru 100%[===================>] 363.93M  10.9MB/s    in 32s     \n",
            "\n",
            "2022-08-15 16:07:31 (11.3 MB/s) - ‘QmbVhN84RZYuZ33JMrua8ngtnKcgVsbgM89rU6MTnhDuQa’ saved [381604047/381604047]\n",
            "\n"
          ]
        }
      ]
    },
    {
      "cell_type": "markdown",
      "metadata": {
        "id": "bnhEMubk8R3L"
      },
      "source": [
        "### Loading train_dataset and validation_dataset"
      ]
    },
    {
      "cell_type": "code",
      "source": [
        "train_dataset  = pd.read_csv('/content/dataset/train_dataset.csv', index_col = 'date')\n",
        "validation_dataset  = pd.read_csv('/content/dataset/validation_dataset.csv', index_col = 'date')\n",
        "print(\"Shape of train set:\",train_dataset.shape)\n",
        "print(\"Shape of test set:\",validation_dataset.shape)"
      ],
      "metadata": {
        "id": "rsFeEBtLhqXe",
        "outputId": "c99b49f2-56c5-45c9-9c89-8c18b4934a54",
        "colab": {
          "base_uri": "https://localhost:8080/"
        }
      },
      "execution_count": 7,
      "outputs": [
        {
          "output_type": "stream",
          "name": "stdout",
          "text": [
            "Shape of train set: (86085, 2013)\n",
            "Shape of test set: (716, 2013)\n"
          ]
        }
      ]
    },
    {
      "cell_type": "code",
      "source": [
        "train_dataset = train_dataset.sort_values(by=[\"symbol\",\"date\"]).reset_index(drop=False)\n",
        "validation_dataset = validation_dataset.sort_values(by=[\"symbol\",\"date\"]).reset_index(drop=False)"
      ],
      "metadata": {
        "id": "C7J4gI1oKElb"
      },
      "execution_count": 8,
      "outputs": []
    },
    {
      "cell_type": "code",
      "source": [
        "df = train_dataset.groupby(\"symbol\")['date'].count().to_frame().reset_index()\n",
        "sns.displot(df['date'],bins = 100)"
      ],
      "metadata": {
        "id": "r8_ERZybER7t",
        "outputId": "e208dd29-3bb0-483b-8755-fa5e82f8f3b1",
        "colab": {
          "base_uri": "https://localhost:8080/",
          "height": 386
        }
      },
      "execution_count": 9,
      "outputs": [
        {
          "output_type": "execute_result",
          "data": {
            "text/plain": [
              "<seaborn.axisgrid.FacetGrid at 0x7f75c77e7210>"
            ]
          },
          "metadata": {},
          "execution_count": 9
        },
        {
          "output_type": "display_data",
          "data": {
            "text/plain": [
              "<Figure size 360x360 with 1 Axes>"
            ],
            "image/png": "[encoded data removed]"
          },
          "metadata": {
            "needs_background": "light"
          }
        }
      ]
    },
    {
      "cell_type": "code",
      "execution_count": 10,
      "metadata": {
        "colab": {
          "base_uri": "https://localhost:8080/",
          "height": 386
        },
        "id": "9S5S-hgR8R3M",
        "outputId": "123f8ba9-acf5-4c48-eb72-080ef1a1c39c"
      },
      "outputs": [
        {
          "output_type": "execute_result",
          "data": {
            "text/plain": [
              "         date symbol  feature_1  feature_2  feature_3  feature_4  feature_5  \\\n",
              "0  2018-12-23  0xBTC   0.974026   0.987013   0.978355   0.991342   0.982684   \n",
              "1  2018-12-30  0xBTC   0.016878   0.033755   0.949367   0.936709   0.978903   \n",
              "2  2019-01-06  0xBTC   0.158996   0.016736   0.033473   0.928870   0.868201   \n",
              "3  2019-01-13  0xBTC   0.737500   0.279167   0.020833   0.054167   0.945833   \n",
              "4  2019-01-20  0xBTC   0.983607   0.987705   0.983607   0.430328   0.971311   \n",
              "\n",
              "   feature_6  feature_7  feature_8  ...  feature_2003  feature_2004  \\\n",
              "0   0.982684   0.982684   0.978355  ...      0.887446      0.857143   \n",
              "1   0.907173   0.962025   0.953586  ...      0.936709      0.953586   \n",
              "2   0.941423   0.740586   0.933054  ...      0.891213      0.874477   \n",
              "3   0.908333   0.962500   0.870833  ...      0.645833      0.600000   \n",
              "4   0.991803   0.987705   0.991803  ...      0.504098      0.454918   \n",
              "\n",
              "   feature_2005  feature_2006  feature_2007  feature_2008  feature_2009  \\\n",
              "0      0.857143      0.857143      0.835498      0.839827      0.839827   \n",
              "1      0.962025      0.932489      0.940928      0.945148      0.915612   \n",
              "2      0.857741      0.912134      0.849372      0.807531      0.878661   \n",
              "3      0.541667      0.691667      0.591667      0.504167      0.670833   \n",
              "4      0.422131      0.553279      0.368852      0.331967      0.450820   \n",
              "\n",
              "   feature_DC1    target  target_DC1  \n",
              "0     0.891775  0.095238   -0.211551  \n",
              "1     0.101266  0.046414   -0.192849  \n",
              "2     0.050209  0.284519   -0.263822  \n",
              "3     0.287500  0.391667    0.023985  \n",
              "4     0.397541  0.032787   -0.251842  \n",
              "\n",
              "[5 rows x 2014 columns]"
            ],
            "text/html": [
              "\n",
              "  <div id=\"df-d0616813-4a00-4320-a59d-cc75292cdf11\">\n",
              "    <div class=\"colab-df-container\">\n",
              "      <div>\n",
              "<style scoped>\n",
              "    .dataframe tbody tr th:only-of-type {\n",
              "        vertical-align: middle;\n",
              "    }\n",
              "\n",
              "    .dataframe tbody tr th {\n",
              "        vertical-align: top;\n",
              "    }\n",
              "\n",
              "    .dataframe thead th {\n",
              "        text-align: right;\n",
              "    }\n",
              "</style>\n",
              "<table border=\"1\" class=\"dataframe\">\n",
              "  <thead>\n",
              "    <tr style=\"text-align: right;\">\n",
              "      <th></th>\n",
              "      <th>date</th>\n",
              "      <th>symbol</th>\n",
              "      <th>feature_1</th>\n",
              "      <th>feature_2</th>\n",
              "      <th>feature_3</th>\n",
              "      <th>feature_4</th>\n",
              "      <th>feature_5</th>\n",
              "      <th>feature_6</th>\n",
              "      <th>feature_7</th>\n",
              "      <th>feature_8</th>\n",
              "      <th>...</th>\n",
              "      <th>feature_2003</th>\n",
              "      <th>feature_2004</th>\n",
              "      <th>feature_2005</th>\n",
              "      <th>feature_2006</th>\n",
              "      <th>feature_2007</th>\n",
              "      <th>feature_2008</th>\n",
              "      <th>feature_2009</th>\n",
              "      <th>feature_DC1</th>\n",
              "      <th>target</th>\n",
              "      <th>target_DC1</th>\n",
              "    </tr>\n",
              "  </thead>\n",
              "  <tbody>\n",
              "    <tr>\n",
              "      <th>0</th>\n",
              "      <td>2018-12-23</td>\n",
              "      <td>0xBTC</td>\n",
              "      <td>0.974026</td>\n",
              "      <td>0.987013</td>\n",
              "      <td>0.978355</td>\n",
              "      <td>0.991342</td>\n",
              "      <td>0.982684</td>\n",
              "      <td>0.982684</td>\n",
              "      <td>0.982684</td>\n",
              "      <td>0.978355</td>\n",
              "      <td>...</td>\n",
              "      <td>0.887446</td>\n",
              "      <td>0.857143</td>\n",
              "      <td>0.857143</td>\n",
              "      <td>0.857143</td>\n",
              "      <td>0.835498</td>\n",
              "      <td>0.839827</td>\n",
              "      <td>0.839827</td>\n",
              "      <td>0.891775</td>\n",
              "      <td>0.095238</td>\n",
              "      <td>-0.211551</td>\n",
              "    </tr>\n",
              "    <tr>\n",
              "      <th>1</th>\n",
              "      <td>2018-12-30</td>\n",
              "      <td>0xBTC</td>\n",
              "      <td>0.016878</td>\n",
              "      <td>0.033755</td>\n",
              "      <td>0.949367</td>\n",
              "      <td>0.936709</td>\n",
              "      <td>0.978903</td>\n",
              "      <td>0.907173</td>\n",
              "      <td>0.962025</td>\n",
              "      <td>0.953586</td>\n",
              "      <td>...</td>\n",
              "      <td>0.936709</td>\n",
              "      <td>0.953586</td>\n",
              "      <td>0.962025</td>\n",
              "      <td>0.932489</td>\n",
              "      <td>0.940928</td>\n",
              "      <td>0.945148</td>\n",
              "      <td>0.915612</td>\n",
              "      <td>0.101266</td>\n",
              "      <td>0.046414</td>\n",
              "      <td>-0.192849</td>\n",
              "    </tr>\n",
              "    <tr>\n",
              "      <th>2</th>\n",
              "      <td>2019-01-06</td>\n",
              "      <td>0xBTC</td>\n",
              "      <td>0.158996</td>\n",
              "      <td>0.016736</td>\n",
              "      <td>0.033473</td>\n",
              "      <td>0.928870</td>\n",
              "      <td>0.868201</td>\n",
              "      <td>0.941423</td>\n",
              "      <td>0.740586</td>\n",
              "      <td>0.933054</td>\n",
              "      <td>...</td>\n",
              "      <td>0.891213</td>\n",
              "      <td>0.874477</td>\n",
              "      <td>0.857741</td>\n",
              "      <td>0.912134</td>\n",
              "      <td>0.849372</td>\n",
              "      <td>0.807531</td>\n",
              "      <td>0.878661</td>\n",
              "      <td>0.050209</td>\n",
              "      <td>0.284519</td>\n",
              "      <td>-0.263822</td>\n",
              "    </tr>\n",
              "    <tr>\n",
              "      <th>3</th>\n",
              "      <td>2019-01-13</td>\n",
              "      <td>0xBTC</td>\n",
              "      <td>0.737500</td>\n",
              "      <td>0.279167</td>\n",
              "      <td>0.020833</td>\n",
              "      <td>0.054167</td>\n",
              "      <td>0.945833</td>\n",
              "      <td>0.908333</td>\n",
              "      <td>0.962500</td>\n",
              "      <td>0.870833</td>\n",
              "      <td>...</td>\n",
              "      <td>0.645833</td>\n",
              "      <td>0.600000</td>\n",
              "      <td>0.541667</td>\n",
              "      <td>0.691667</td>\n",
              "      <td>0.591667</td>\n",
              "      <td>0.504167</td>\n",
              "      <td>0.670833</td>\n",
              "      <td>0.287500</td>\n",
              "      <td>0.391667</td>\n",
              "      <td>0.023985</td>\n",
              "    </tr>\n",
              "    <tr>\n",
              "      <th>4</th>\n",
              "      <td>2019-01-20</td>\n",
              "      <td>0xBTC</td>\n",
              "      <td>0.983607</td>\n",
              "      <td>0.987705</td>\n",
              "      <td>0.983607</td>\n",
              "      <td>0.430328</td>\n",
              "      <td>0.971311</td>\n",
              "      <td>0.991803</td>\n",
              "      <td>0.987705</td>\n",
              "      <td>0.991803</td>\n",
              "      <td>...</td>\n",
              "      <td>0.504098</td>\n",
              "      <td>0.454918</td>\n",
              "      <td>0.422131</td>\n",
              "      <td>0.553279</td>\n",
              "      <td>0.368852</td>\n",
              "      <td>0.331967</td>\n",
              "      <td>0.450820</td>\n",
              "      <td>0.397541</td>\n",
              "      <td>0.032787</td>\n",
              "      <td>-0.251842</td>\n",
              "    </tr>\n",
              "  </tbody>\n",
              "</table>\n",
              "<p>5 rows × 2014 columns</p>\n",
              "</div>\n",
              "      <button class=\"colab-df-convert\" onclick=\"convertToInteractive('df-d0616813-4a00-4320-a59d-cc75292cdf11')\"\n",
              "              title=\"Convert this dataframe to an interactive table.\"\n",
              "              style=\"display:none;\">\n",
              "        \n",
              "  <svg xmlns=\"http://www.w3.org/2000/svg\" height=\"24px\"viewBox=\"0 0 24 24\"\n",
              "       width=\"24px\">\n",
              "    <path d=\"M0 0h24v24H0V0z\" fill=\"none\"/>\n",
              "    <path d=\"M18.56 5.44l.94 2.06.94-2.06 2.06-.94-2.06-.94-.94-2.06-.94 2.06-2.06.94zm-11 1L8.5 8.5l.94-2.06 2.06-.94-2.06-.94L8.5 2.5l-.94 2.06-2.06.94zm10 10l.94 2.06.94-2.06 2.06-.94-2.06-.94-.94-2.06-.94 2.06-2.06.94z\"/><path d=\"M17.41 7.96l-1.37-1.37c-.4-.4-.92-.59-1.43-.59-.52 0-1.04.2-1.43.59L10.3 9.45l-7.72 7.72c-.78.78-.78 2.05 0 2.83L4 21.41c.39.39.9.59 1.41.59.51 0 1.02-.2 1.41-.59l7.78-7.78 2.81-2.81c.8-.78.8-2.07 0-2.86zM5.41 20L4 18.59l7.72-7.72 1.47 1.35L5.41 20z\"/>\n",
              "  </svg>\n",
              "      </button>\n",
              "      \n",
              "  <style>\n",
              "    .colab-df-container {\n",
              "      display:flex;\n",
              "      flex-wrap:wrap;\n",
              "      gap: 12px;\n",
              "    }\n",
              "\n",
              "    .colab-df-convert {\n",
              "      background-color: #E8F0FE;\n",
              "      border: none;\n",
              "      border-radius: 50%;\n",
              "      cursor: pointer;\n",
              "      display: none;\n",
              "      fill: #1967D2;\n",
              "      height: 32px;\n",
              "      padding: 0 0 0 0;\n",
              "      width: 32px;\n",
              "    }\n",
              "\n",
              "    .colab-df-convert:hover {\n",
              "      background-color: #E2EBFA;\n",
              "      box-shadow: 0px 1px 2px rgba(60, 64, 67, 0.3), 0px 1px 3px 1px rgba(60, 64, 67, 0.15);\n",
              "      fill: #174EA6;\n",
              "    }\n",
              "\n",
              "    [theme=dark] .colab-df-convert {\n",
              "      background-color: #3B4455;\n",
              "      fill: #D2E3FC;\n",
              "    }\n",
              "\n",
              "    [theme=dark] .colab-df-convert:hover {\n",
              "      background-color: #434B5C;\n",
              "      box-shadow: 0px 1px 3px 1px rgba(0, 0, 0, 0.15);\n",
              "      filter: drop-shadow(0px 1px 2px rgba(0, 0, 0, 0.3));\n",
              "      fill: #FFFFFF;\n",
              "    }\n",
              "  </style>\n",
              "\n",
              "      <script>\n",
              "        const buttonEl =\n",
              "          document.querySelector('#df-d0616813-4a00-4320-a59d-cc75292cdf11 button.colab-df-convert');\n",
              "        buttonEl.style.display =\n",
              "          google.colab.kernel.accessAllowed ? 'block' : 'none';\n",
              "\n",
              "        async function convertToInteractive(key) {\n",
              "          const element = document.querySelector('#df-d0616813-4a00-4320-a59d-cc75292cdf11');\n",
              "          const dataTable =\n",
              "            await google.colab.kernel.invokeFunction('convertToInteractive',\n",
              "                                                     [key], {});\n",
              "          if (!dataTable) return;\n",
              "\n",
              "          const docLinkHtml = 'Like what you see? Visit the ' +\n",
              "            '<a target=\"_blank\" href=https://colab.research.google.com/notebooks/data_table.ipynb>data table notebook</a>'\n",
              "            + ' to learn more about interactive tables.';\n",
              "          element.innerHTML = '';\n",
              "          dataTable['output_type'] = 'display_data';\n",
              "          await google.colab.output.renderOutput(dataTable, element);\n",
              "          const docLink = document.createElement('div');\n",
              "          docLink.innerHTML = docLinkHtml;\n",
              "          element.appendChild(docLink);\n",
              "        }\n",
              "      </script>\n",
              "    </div>\n",
              "  </div>\n",
              "  "
            ]
          },
          "metadata": {},
          "execution_count": 10
        }
      ],
      "source": [
        "# first column (symbol) is the ticker\n",
        "# 'target_DC1' is the log of return for delta between current close to previous close\n",
        "# 'target' is the y which is ranked by Era using 'target_DC1'\n",
        "# the rest of the columns are features to be used for ML\n",
        "train_dataset.head()"
      ]
    },
    {
      "cell_type": "code",
      "source": [
        "info = train_dataset.describe().transpose().reset_index()"
      ],
      "metadata": {
        "id": "JIIo-J6qnX-P"
      },
      "execution_count": 11,
      "outputs": []
    },
    {
      "cell_type": "code",
      "source": [
        "plt.plot(train_dataset[train_dataset['symbol']=='0xBTC']['date'], np.exp(train_dataset[train_dataset['symbol']=='0xBTC']['target_DC1']))"
      ],
      "metadata": {
        "id": "lkWnUt1bXoJQ",
        "outputId": "4c4f9640-7f72-4aa2-cfca-a300105e7e39",
        "colab": {
          "base_uri": "https://localhost:8080/",
          "height": 282
        }
      },
      "execution_count": 12,
      "outputs": [
        {
          "output_type": "execute_result",
          "data": {
            "text/plain": [
              "[<matplotlib.lines.Line2D at 0x7f75bc7d3690>]"
            ]
          },
          "metadata": {},
          "execution_count": 12
        },
        {
          "output_type": "display_data",
          "data": {
            "text/plain": [
              "<Figure size 432x288 with 1 Axes>"
            ],
            "image/png": "[encoded data removed]"
          },
          "metadata": {
            "needs_background": "light"
          }
        }
      ]
    },
    {
      "cell_type": "code",
      "source": [
        "plt.plot(train_dataset[train_dataset['symbol']=='0xBTC']['date'], np.exp(train_dataset[train_dataset['symbol']=='0xBTC']['feature_DC1']))"
      ],
      "metadata": {
        "id": "9CAuvDncVOB7",
        "outputId": "e44d58c8-b3a3-4ce6-c075-e4f32bbfeac0",
        "colab": {
          "base_uri": "https://localhost:8080/",
          "height": 282
        }
      },
      "execution_count": 13,
      "outputs": [
        {
          "output_type": "execute_result",
          "data": {
            "text/plain": [
              "[<matplotlib.lines.Line2D at 0x7f75be5dcfd0>]"
            ]
          },
          "metadata": {},
          "execution_count": 13
        },
        {
          "output_type": "display_data",
          "data": {
            "text/plain": [
              "<Figure size 432x288 with 1 Axes>"
            ],
            "image/png": "[encoded data removed]"
          },
          "metadata": {
            "needs_background": "light"
          }
        }
      ]
    },
    {
      "cell_type": "code",
      "source": [
        "symbols = train_dataset.symbol.unique()\n",
        "trainsize = train_dataset.shape[0]\n",
        "\n",
        "train_dataset = pd.concat([train_dataset, validation_dataset], axis = 0)\n",
        "train_dataset['dc1_lag1'] = -1\n",
        "train_dataset['dc1_lag1_rolling'] = -1\n",
        "train_dataset['dc1_lag2'] = -1\n",
        "train_dataset['target_lag1'] = -1\n",
        "train_dataset['target_lag2'] = -1\n",
        "\n",
        "for sym in tqdm(symbols):\n",
        "  train_dataset.loc[train_dataset['symbol']==sym,'dc1_lag1'] = train_dataset[train_dataset['symbol']==sym]['target_DC1'].shift(1)\n",
        "  train_dataset.loc[train_dataset['symbol']==sym,'target_lag1'] = train_dataset[train_dataset['symbol']==sym]['target'].shift(1)\n",
        "  train_dataset.loc[train_dataset['symbol']==sym,'dc1_lag2'] = train_dataset[train_dataset['symbol']==sym]['target_DC1'].shift(2)\n",
        "  train_dataset.loc[train_dataset['symbol']==sym,'target_lag2'] = train_dataset[train_dataset['symbol']==sym]['target'].shift(2)\n",
        "  train_dataset.loc[train_dataset['symbol']==sym,'dc1_lag1_rolling'] = train_dataset.loc[train_dataset['symbol']==sym,'dc1_lag1'].rolling(window=3).sum()\n",
        "  train_dataset.loc[train_dataset['symbol']==sym,'dc1_lag1_diff'] = train_dataset.loc[train_dataset['symbol']==sym,'dc1_lag1'].diff()\n",
        "  \n",
        "train_dataset['dc1_lag1_exp'] = np.exp(train_dataset['dc1_lag1'])\n",
        "train_dataset.fillna(-1,inplace = True)\n",
        "train_dataset['month'] = pd.to_datetime(train_dataset['date']).apply(lambda x: x.month)\n",
        "train_dataset['year'] = pd.to_datetime(train_dataset['date']).apply(lambda x: x.year)\n",
        "train_dataset['day'] = pd.to_datetime(train_dataset['date']).apply(lambda x: x.day)\n",
        "\n",
        "\n",
        "\n",
        "validation_dataset = train_dataset.iloc[trainsize:]\n",
        "train_dataset = train_dataset.iloc[:trainsize]"
      ],
      "metadata": {
        "id": "yXTR6esMjujL",
        "outputId": "efad335f-4d1a-46e0-886b-8d797e4add73",
        "colab": {
          "base_uri": "https://localhost:8080/",
          "height": 49,
          "referenced_widgets": [
            "25c6dc4e13ac4f13b078853126337793",
            "5d73a45c632d4cf8a4bdde7eced6f2aa",
            "da5f401510ca4094a572214766bb8c95",
            "d8d4306e7e1d498b8d35df4de558a708",
            "7358481234144207928f4421193c1a92",
            "56ce882e6968492fafe7672be26a6266",
            "cc1539c32937423e8920889513a361b8",
            "6c2c587986f74814a953aed86f6f1a3b",
            "4c63ef45c8864dd7ac044aa4e76cbb4e",
            "20ef1c4985f94b0a9fe2a1f0a97d13f3",
            "253bc81656f04c4faa2417ac06f25ba3"
          ]
        }
      },
      "execution_count": 16,
      "outputs": [
        {
          "output_type": "display_data",
          "data": {
            "text/plain": [
              "  0%|          | 0/980 [00:00<?, ?it/s]"
            ],
            "application/vnd.jupyter.widget-view+json": {
              "version_major": 2,
              "version_minor": 0,
              "model_id": "25c6dc4e13ac4f13b078853126337793"
            }
          },
          "metadata": {}
        }
      ]
    },
    {
      "cell_type": "markdown",
      "metadata": {
        "id": "bfLrwf_h8R3N"
      },
      "source": [
        "### Create X and y from train_dataset"
      ]
    },
    {
      "cell_type": "markdown",
      "metadata": {
        "id": "-hTrF-1x8R3P"
      },
      "source": [
        "### Each era representing a set of cryptocurrency assets for the time period, the number of assets within each Era is different"
      ]
    },
    {
      "cell_type": "code",
      "execution_count": 17,
      "metadata": {
        "colab": {
          "base_uri": "https://localhost:8080/",
          "height": 334
        },
        "id": "38VXk0008R3P",
        "outputId": "63d41433-44a0-4768-f0b7-b0d2c82ca10a"
      },
      "outputs": [
        {
          "output_type": "display_data",
          "data": {
            "text/plain": [
              "<Figure size 720x360 with 1 Axes>"
            ],
            "image/png": "[encoded data removed]"
          },
          "metadata": {
            "needs_background": "light"
          }
        }
      ],
      "source": [
        "train_dataset.groupby(train_dataset.date).count().iloc[:,1].plot(figsize = (10,5));"
      ]
    },
    {
      "cell_type": "markdown",
      "metadata": {
        "id": "CaqtnWY78R3P"
      },
      "source": [
        "### Split dataset into train and test by era"
      ]
    },
    {
      "cell_type": "code",
      "execution_count": 18,
      "metadata": {
        "colab": {
          "base_uri": "https://localhost:8080/"
        },
        "id": "FqhwxuL58R3P",
        "outputId": "b261bc96-d9d5-4fec-adcc-31e0e31e2bc4"
      },
      "outputs": [
        {
          "output_type": "stream",
          "name": "stdout",
          "text": [
            "total Era: 224\n",
            "train Era: 201\n",
            "validation Era: 23\n"
          ]
        }
      ],
      "source": [
        "# Run Once\n",
        "train = 0.9\n",
        "test = 0.1\n",
        "dates = sorted(train_dataset.date.unique())\n",
        "era = len(dates)\n",
        "train_era = int(era * train)\n",
        "test_era = era - train_era\n",
        "print('total Era: {}'.format(era))\n",
        "print('train Era: {}'.format(train_era))\n",
        "print('validation Era: {}'.format(test_era))"
      ]
    },
    {
      "cell_type": "code",
      "execution_count": 19,
      "metadata": {
        "colab": {
          "base_uri": "https://localhost:8080/"
        },
        "id": "IFLlfFTn8R3Q",
        "outputId": "f44b052d-f9f9-4327-ee14-eaeec0a1c356"
      },
      "outputs": [
        {
          "output_type": "stream",
          "name": "stdout",
          "text": [
            "Train dataset shape: (71448, 2024)\n",
            "Validation dataset shape: (14637, 2024)\n"
          ]
        }
      ],
      "source": [
        "#split train and test set according to the train_era and test_era\n",
        "# Run Once\n",
        "train_set = train_dataset.loc[train_dataset.date < dates[train_era]]\n",
        "val_set = train_dataset.loc[train_dataset.date >= dates[train_era]]\n",
        "print('Train dataset shape: {}'.format(train_set.shape))\n",
        "print('Validation dataset shape: {}'.format(val_set.shape))"
      ]
    },
    {
      "cell_type": "code",
      "source": [
        "train_set.to_csv(\"train_set.csv\",index = False)\n",
        "val_set.to_csv(\"val_set.csv\",index = False)\n",
        "validation_dataset.to_csv(\"test_set.csv\",index = False)"
      ],
      "metadata": {
        "id": "sZ8c979plYWn"
      },
      "execution_count": 20,
      "outputs": []
    },
    {
      "cell_type": "code",
      "source": [
        "os.kill(os.getpid(), 9)"
      ],
      "metadata": {
        "id": "-EN-Z6Pwl8Tb"
      },
      "execution_count": null,
      "outputs": []
    },
    {
      "cell_type": "code",
      "source": [
        "train_set = pd.read_csv(\"train_set.csv\")\n",
        "val_set = pd.read_csv(\"val_set.csv\")\n",
        "validation_dataset= pd.read_csv(\"test_set.csv\")"
      ],
      "metadata": {
        "id": "NUk6RiHlljzV"
      },
      "execution_count": 5,
      "outputs": []
    },
    {
      "cell_type": "code",
      "source": [
        "train_set.head()"
      ],
      "metadata": {
        "id": "AB_wHOkh3NEL",
        "outputId": "9c0e159c-d9ea-43b9-e7dc-6cfbaa6d0888",
        "colab": {
          "base_uri": "https://localhost:8080/",
          "height": 386
        }
      },
      "execution_count": 6,
      "outputs": [
        {
          "output_type": "execute_result",
          "data": {
            "text/plain": [
              "         date symbol  feature_1  feature_2  feature_3  feature_4  feature_5  \\\n",
              "0  2018-12-23  0xBTC   0.974026   0.987013   0.978355   0.991342   0.982684   \n",
              "1  2018-12-30  0xBTC   0.016878   0.033755   0.949367   0.936709   0.978903   \n",
              "2  2019-01-06  0xBTC   0.158996   0.016736   0.033473   0.928870   0.868201   \n",
              "3  2019-01-13  0xBTC   0.737500   0.279167   0.020833   0.054167   0.945833   \n",
              "4  2019-01-20  0xBTC   0.983607   0.987705   0.983607   0.430328   0.971311   \n",
              "\n",
              "   feature_6  feature_7  feature_8  ...  dc1_lag1  dc1_lag1_rolling  dc1_lag2  \\\n",
              "0   0.982684   0.982684   0.978355  ... -1.000000         -1.000000 -1.000000   \n",
              "1   0.907173   0.962025   0.953586  ... -0.211551         -1.000000 -1.000000   \n",
              "2   0.941423   0.740586   0.933054  ... -0.192849         -1.000000 -0.211551   \n",
              "3   0.908333   0.962500   0.870833  ... -0.263822         -0.668222 -0.192849   \n",
              "4   0.991803   0.987705   0.991803  ...  0.023985         -0.432686 -0.263822   \n",
              "\n",
              "   target_lag1  target_lag2  dc1_lag1_diff  dc1_lag1_exp  month  year  day  \n",
              "0    -1.000000    -1.000000      -1.000000     -1.000000     12  2018   23  \n",
              "1     0.095238    -1.000000      -1.000000      0.809328     12  2018   30  \n",
              "2     0.046414     0.095238       0.018702      0.824607      1  2019    6  \n",
              "3     0.284519     0.046414      -0.070974      0.768110      1  2019   13  \n",
              "4     0.391667     0.284519       0.287807      1.024275      1  2019   20  \n",
              "\n",
              "[5 rows x 2024 columns]"
            ],
            "text/html": [
              "\n",
              "  <div id=\"df-5f5637a9-c444-4071-bd7e-b0b95db8351c\">\n",
              "    <div class=\"colab-df-container\">\n",
              "      <div>\n",
              "<style scoped>\n",
              "    .dataframe tbody tr th:only-of-type {\n",
              "        vertical-align: middle;\n",
              "    }\n",
              "\n",
              "    .dataframe tbody tr th {\n",
              "        vertical-align: top;\n",
              "    }\n",
              "\n",
              "    .dataframe thead th {\n",
              "        text-align: right;\n",
              "    }\n",
              "</style>\n",
              "<table border=\"1\" class=\"dataframe\">\n",
              "  <thead>\n",
              "    <tr style=\"text-align: right;\">\n",
              "      <th></th>\n",
              "      <th>date</th>\n",
              "      <th>symbol</th>\n",
              "      <th>feature_1</th>\n",
              "      <th>feature_2</th>\n",
              "      <th>feature_3</th>\n",
              "      <th>feature_4</th>\n",
              "      <th>feature_5</th>\n",
              "      <th>feature_6</th>\n",
              "      <th>feature_7</th>\n",
              "      <th>feature_8</th>\n",
              "      <th>...</th>\n",
              "      <th>dc1_lag1</th>\n",
              "      <th>dc1_lag1_rolling</th>\n",
              "      <th>dc1_lag2</th>\n",
              "      <th>target_lag1</th>\n",
              "      <th>target_lag2</th>\n",
              "      <th>dc1_lag1_diff</th>\n",
              "      <th>dc1_lag1_exp</th>\n",
              "      <th>month</th>\n",
              "      <th>year</th>\n",
              "      <th>day</th>\n",
              "    </tr>\n",
              "  </thead>\n",
              "  <tbody>\n",
              "    <tr>\n",
              "      <th>0</th>\n",
              "      <td>2018-12-23</td>\n",
              "      <td>0xBTC</td>\n",
              "      <td>0.974026</td>\n",
              "      <td>0.987013</td>\n",
              "      <td>0.978355</td>\n",
              "      <td>0.991342</td>\n",
              "      <td>0.982684</td>\n",
              "      <td>0.982684</td>\n",
              "      <td>0.982684</td>\n",
              "      <td>0.978355</td>\n",
              "      <td>...</td>\n",
              "      <td>-1.000000</td>\n",
              "      <td>-1.000000</td>\n",
              "      <td>-1.000000</td>\n",
              "      <td>-1.000000</td>\n",
              "      <td>-1.000000</td>\n",
              "      <td>-1.000000</td>\n",
              "      <td>-1.000000</td>\n",
              "      <td>12</td>\n",
              "      <td>2018</td>\n",
              "      <td>23</td>\n",
              "    </tr>\n",
              "    <tr>\n",
              "      <th>1</th>\n",
              "      <td>2018-12-30</td>\n",
              "      <td>0xBTC</td>\n",
              "      <td>0.016878</td>\n",
              "      <td>0.033755</td>\n",
              "      <td>0.949367</td>\n",
              "      <td>0.936709</td>\n",
              "      <td>0.978903</td>\n",
              "      <td>0.907173</td>\n",
              "      <td>0.962025</td>\n",
              "      <td>0.953586</td>\n",
              "      <td>...</td>\n",
              "      <td>-0.211551</td>\n",
              "      <td>-1.000000</td>\n",
              "      <td>-1.000000</td>\n",
              "      <td>0.095238</td>\n",
              "      <td>-1.000000</td>\n",
              "      <td>-1.000000</td>\n",
              "      <td>0.809328</td>\n",
              "      <td>12</td>\n",
              "      <td>2018</td>\n",
              "      <td>30</td>\n",
              "    </tr>\n",
              "    <tr>\n",
              "      <th>2</th>\n",
              "      <td>2019-01-06</td>\n",
              "      <td>0xBTC</td>\n",
              "      <td>0.158996</td>\n",
              "      <td>0.016736</td>\n",
              "      <td>0.033473</td>\n",
              "      <td>0.928870</td>\n",
              "      <td>0.868201</td>\n",
              "      <td>0.941423</td>\n",
              "      <td>0.740586</td>\n",
              "      <td>0.933054</td>\n",
              "      <td>...</td>\n",
              "      <td>-0.192849</td>\n",
              "      <td>-1.000000</td>\n",
              "      <td>-0.211551</td>\n",
              "      <td>0.046414</td>\n",
              "      <td>0.095238</td>\n",
              "      <td>0.018702</td>\n",
              "      <td>0.824607</td>\n",
              "      <td>1</td>\n",
              "      <td>2019</td>\n",
              "      <td>6</td>\n",
              "    </tr>\n",
              "    <tr>\n",
              "      <th>3</th>\n",
              "      <td>2019-01-13</td>\n",
              "      <td>0xBTC</td>\n",
              "      <td>0.737500</td>\n",
              "      <td>0.279167</td>\n",
              "      <td>0.020833</td>\n",
              "      <td>0.054167</td>\n",
              "      <td>0.945833</td>\n",
              "      <td>0.908333</td>\n",
              "      <td>0.962500</td>\n",
              "      <td>0.870833</td>\n",
              "      <td>...</td>\n",
              "      <td>-0.263822</td>\n",
              "      <td>-0.668222</td>\n",
              "      <td>-0.192849</td>\n",
              "      <td>0.284519</td>\n",
              "      <td>0.046414</td>\n",
              "      <td>-0.070974</td>\n",
              "      <td>0.768110</td>\n",
              "      <td>1</td>\n",
              "      <td>2019</td>\n",
              "      <td>13</td>\n",
              "    </tr>\n",
              "    <tr>\n",
              "      <th>4</th>\n",
              "      <td>2019-01-20</td>\n",
              "      <td>0xBTC</td>\n",
              "      <td>0.983607</td>\n",
              "      <td>0.987705</td>\n",
              "      <td>0.983607</td>\n",
              "      <td>0.430328</td>\n",
              "      <td>0.971311</td>\n",
              "      <td>0.991803</td>\n",
              "      <td>0.987705</td>\n",
              "      <td>0.991803</td>\n",
              "      <td>...</td>\n",
              "      <td>0.023985</td>\n",
              "      <td>-0.432686</td>\n",
              "      <td>-0.263822</td>\n",
              "      <td>0.391667</td>\n",
              "      <td>0.284519</td>\n",
              "      <td>0.287807</td>\n",
              "      <td>1.024275</td>\n",
              "      <td>1</td>\n",
              "      <td>2019</td>\n",
              "      <td>20</td>\n",
              "    </tr>\n",
              "  </tbody>\n",
              "</table>\n",
              "<p>5 rows × 2024 columns</p>\n",
              "</div>\n",
              "      <button class=\"colab-df-convert\" onclick=\"convertToInteractive('df-5f5637a9-c444-4071-bd7e-b0b95db8351c')\"\n",
              "              title=\"Convert this dataframe to an interactive table.\"\n",
              "              style=\"display:none;\">\n",
              "        \n",
              "  <svg xmlns=\"http://www.w3.org/2000/svg\" height=\"24px\"viewBox=\"0 0 24 24\"\n",
              "       width=\"24px\">\n",
              "    <path d=\"M0 0h24v24H0V0z\" fill=\"none\"/>\n",
              "    <path d=\"M18.56 5.44l.94 2.06.94-2.06 2.06-.94-2.06-.94-.94-2.06-.94 2.06-2.06.94zm-11 1L8.5 8.5l.94-2.06 2.06-.94-2.06-.94L8.5 2.5l-.94 2.06-2.06.94zm10 10l.94 2.06.94-2.06 2.06-.94-2.06-.94-.94-2.06-.94 2.06-2.06.94z\"/><path d=\"M17.41 7.96l-1.37-1.37c-.4-.4-.92-.59-1.43-.59-.52 0-1.04.2-1.43.59L10.3 9.45l-7.72 7.72c-.78.78-.78 2.05 0 2.83L4 21.41c.39.39.9.59 1.41.59.51 0 1.02-.2 1.41-.59l7.78-7.78 2.81-2.81c.8-.78.8-2.07 0-2.86zM5.41 20L4 18.59l7.72-7.72 1.47 1.35L5.41 20z\"/>\n",
              "  </svg>\n",
              "      </button>\n",
              "      \n",
              "  <style>\n",
              "    .colab-df-container {\n",
              "      display:flex;\n",
              "      flex-wrap:wrap;\n",
              "      gap: 12px;\n",
              "    }\n",
              "\n",
              "    .colab-df-convert {\n",
              "      background-color: #E8F0FE;\n",
              "      border: none;\n",
              "      border-radius: 50%;\n",
              "      cursor: pointer;\n",
              "      display: none;\n",
              "      fill: #1967D2;\n",
              "      height: 32px;\n",
              "      padding: 0 0 0 0;\n",
              "      width: 32px;\n",
              "    }\n",
              "\n",
              "    .colab-df-convert:hover {\n",
              "      background-color: #E2EBFA;\n",
              "      box-shadow: 0px 1px 2px rgba(60, 64, 67, 0.3), 0px 1px 3px 1px rgba(60, 64, 67, 0.15);\n",
              "      fill: #174EA6;\n",
              "    }\n",
              "\n",
              "    [theme=dark] .colab-df-convert {\n",
              "      background-color: #3B4455;\n",
              "      fill: #D2E3FC;\n",
              "    }\n",
              "\n",
              "    [theme=dark] .colab-df-convert:hover {\n",
              "      background-color: #434B5C;\n",
              "      box-shadow: 0px 1px 3px 1px rgba(0, 0, 0, 0.15);\n",
              "      filter: drop-shadow(0px 1px 2px rgba(0, 0, 0, 0.3));\n",
              "      fill: #FFFFFF;\n",
              "    }\n",
              "  </style>\n",
              "\n",
              "      <script>\n",
              "        const buttonEl =\n",
              "          document.querySelector('#df-5f5637a9-c444-4071-bd7e-b0b95db8351c button.colab-df-convert');\n",
              "        buttonEl.style.display =\n",
              "          google.colab.kernel.accessAllowed ? 'block' : 'none';\n",
              "\n",
              "        async function convertToInteractive(key) {\n",
              "          const element = document.querySelector('#df-5f5637a9-c444-4071-bd7e-b0b95db8351c');\n",
              "          const dataTable =\n",
              "            await google.colab.kernel.invokeFunction('convertToInteractive',\n",
              "                                                     [key], {});\n",
              "          if (!dataTable) return;\n",
              "\n",
              "          const docLinkHtml = 'Like what you see? Visit the ' +\n",
              "            '<a target=\"_blank\" href=https://colab.research.google.com/notebooks/data_table.ipynb>data table notebook</a>'\n",
              "            + ' to learn more about interactive tables.';\n",
              "          element.innerHTML = '';\n",
              "          dataTable['output_type'] = 'display_data';\n",
              "          await google.colab.output.renderOutput(dataTable, element);\n",
              "          const docLink = document.createElement('div');\n",
              "          docLink.innerHTML = docLinkHtml;\n",
              "          element.appendChild(docLink);\n",
              "        }\n",
              "      </script>\n",
              "    </div>\n",
              "  </div>\n",
              "  "
            ]
          },
          "metadata": {},
          "execution_count": 6
        }
      ]
    },
    {
      "cell_type": "code",
      "source": [
        "with_target = True"
      ],
      "metadata": {
        "id": "_HTX98zuX8TF"
      },
      "execution_count": 7,
      "outputs": []
    },
    {
      "cell_type": "code",
      "source": [
        "from xgboost import XGBRegressor\n",
        "\n",
        "params = {'objective' : \"reg:squarederror\", \n",
        "          'n_estimators' : 1000, \n",
        "          'tree_method' : \"gpu_hist\", \n",
        "          'learning_rate': 0.03,                                                                                                                                                                                                                                                                                                                                                                                                                                                                    \n",
        "          'reg_alpha':0.1,\n",
        "          'reg_lambda':0.01,\n",
        "          'subsample': 0.8,\n",
        "          'colsample_bytree':0.8,\n",
        "          'colsample_bylevel':0.8,\n",
        "          'max_depth':9, \n",
        "          \"reg_alpha\":0.01\n",
        "}\n",
        "\n",
        "def fitXGB(with_target = with_target):\n",
        "  X_train = train_set.drop(['date','symbol','target','target_DC1'], axis = 1)\n",
        "  X_val = val_set.drop(['date','symbol','target','target_DC1'], axis = 1)\n",
        "\n",
        "  if with_target:\n",
        "    Y_train = train_set['target']\n",
        "    Y_val = val_set['target']\n",
        "  else:\n",
        "    Y_train = train_set['target_DC1']\n",
        "    Y_val = val_set['target_DC1']\n",
        "  \n",
        "  reg = XGBRegressor(**params)\n",
        "  reg.fit(X_train,Y_train, eval_metric = \"rmse\",\n",
        "          eval_set=[(X_train,Y_train),(X_val,Y_val)], \n",
        "          early_stopping_rounds = 10)\n",
        "  return reg\n",
        "\n",
        "xgb = fitXGB()"
      ],
      "metadata": {
        "id": "ZFAWYHx_SZd2",
        "outputId": "44180dd0-b436-49f0-b28b-ae86391bb1cd",
        "colab": {
          "base_uri": "https://localhost:8080/"
        }
      },
      "execution_count": 8,
      "outputs": [
        {
          "output_type": "stream",
          "name": "stdout",
          "text": [
            "[0]\tvalidation_0-rmse:0.28855\tvalidation_1-rmse:0.288959\n",
            "Multiple eval metrics have been passed: 'validation_1-rmse' will be used for early stopping.\n",
            "\n",
            "Will train until validation_1-rmse hasn't improved in 10 rounds.\n",
            "[1]\tvalidation_0-rmse:0.287674\tvalidation_1-rmse:0.288818\n",
            "[2]\tvalidation_0-rmse:0.286804\tvalidation_1-rmse:0.288661\n",
            "[3]\tvalidation_0-rmse:0.285934\tvalidation_1-rmse:0.28856\n",
            "[4]\tvalidation_0-rmse:0.285003\tvalidation_1-rmse:0.288449\n",
            "[5]\tvalidation_0-rmse:0.284169\tvalidation_1-rmse:0.288346\n",
            "[6]\tvalidation_0-rmse:0.283325\tvalidation_1-rmse:0.2882\n",
            "[7]\tvalidation_0-rmse:0.282523\tvalidation_1-rmse:0.288067\n",
            "[8]\tvalidation_0-rmse:0.281708\tvalidation_1-rmse:0.287935\n",
            "[9]\tvalidation_0-rmse:0.280897\tvalidation_1-rmse:0.28785\n",
            "[10]\tvalidation_0-rmse:0.28018\tvalidation_1-rmse:0.287785\n",
            "[11]\tvalidation_0-rmse:0.279466\tvalidation_1-rmse:0.287754\n",
            "[12]\tvalidation_0-rmse:0.278702\tvalidation_1-rmse:0.287656\n",
            "[13]\tvalidation_0-rmse:0.277961\tvalidation_1-rmse:0.287629\n",
            "[14]\tvalidation_0-rmse:0.277232\tvalidation_1-rmse:0.28755\n",
            "[15]\tvalidation_0-rmse:0.276501\tvalidation_1-rmse:0.287499\n",
            "[16]\tvalidation_0-rmse:0.275849\tvalidation_1-rmse:0.287456\n",
            "[17]\tvalidation_0-rmse:0.275119\tvalidation_1-rmse:0.287403\n",
            "[18]\tvalidation_0-rmse:0.274399\tvalidation_1-rmse:0.287392\n",
            "[19]\tvalidation_0-rmse:0.273748\tvalidation_1-rmse:0.287363\n",
            "[20]\tvalidation_0-rmse:0.273079\tvalidation_1-rmse:0.287323\n",
            "[21]\tvalidation_0-rmse:0.272482\tvalidation_1-rmse:0.287324\n",
            "[22]\tvalidation_0-rmse:0.271813\tvalidation_1-rmse:0.287326\n",
            "[23]\tvalidation_0-rmse:0.271204\tvalidation_1-rmse:0.287277\n",
            "[24]\tvalidation_0-rmse:0.270584\tvalidation_1-rmse:0.287301\n",
            "[25]\tvalidation_0-rmse:0.26996\tvalidation_1-rmse:0.287275\n",
            "[26]\tvalidation_0-rmse:0.269302\tvalidation_1-rmse:0.287285\n",
            "[27]\tvalidation_0-rmse:0.268717\tvalidation_1-rmse:0.287295\n",
            "[28]\tvalidation_0-rmse:0.268082\tvalidation_1-rmse:0.287223\n",
            "[29]\tvalidation_0-rmse:0.267512\tvalidation_1-rmse:0.287207\n",
            "[30]\tvalidation_0-rmse:0.266849\tvalidation_1-rmse:0.2872\n",
            "[31]\tvalidation_0-rmse:0.266257\tvalidation_1-rmse:0.287218\n",
            "[32]\tvalidation_0-rmse:0.265641\tvalidation_1-rmse:0.287182\n",
            "[33]\tvalidation_0-rmse:0.265072\tvalidation_1-rmse:0.287165\n",
            "[34]\tvalidation_0-rmse:0.264435\tvalidation_1-rmse:0.287172\n",
            "[35]\tvalidation_0-rmse:0.263869\tvalidation_1-rmse:0.287175\n",
            "[36]\tvalidation_0-rmse:0.263243\tvalidation_1-rmse:0.287156\n",
            "[37]\tvalidation_0-rmse:0.262689\tvalidation_1-rmse:0.287168\n",
            "[38]\tvalidation_0-rmse:0.26218\tvalidation_1-rmse:0.287154\n",
            "[39]\tvalidation_0-rmse:0.261694\tvalidation_1-rmse:0.287154\n",
            "[40]\tvalidation_0-rmse:0.261169\tvalidation_1-rmse:0.287147\n",
            "[41]\tvalidation_0-rmse:0.260637\tvalidation_1-rmse:0.287143\n",
            "[42]\tvalidation_0-rmse:0.260026\tvalidation_1-rmse:0.287151\n",
            "[43]\tvalidation_0-rmse:0.259503\tvalidation_1-rmse:0.287141\n",
            "[44]\tvalidation_0-rmse:0.258966\tvalidation_1-rmse:0.287135\n",
            "[45]\tvalidation_0-rmse:0.258406\tvalidation_1-rmse:0.287153\n",
            "[46]\tvalidation_0-rmse:0.257906\tvalidation_1-rmse:0.287191\n",
            "[47]\tvalidation_0-rmse:0.257276\tvalidation_1-rmse:0.287197\n",
            "[48]\tvalidation_0-rmse:0.256771\tvalidation_1-rmse:0.287252\n",
            "[49]\tvalidation_0-rmse:0.25616\tvalidation_1-rmse:0.287263\n",
            "[50]\tvalidation_0-rmse:0.255668\tvalidation_1-rmse:0.287284\n",
            "[51]\tvalidation_0-rmse:0.255144\tvalidation_1-rmse:0.287258\n",
            "[52]\tvalidation_0-rmse:0.254539\tvalidation_1-rmse:0.28721\n",
            "[53]\tvalidation_0-rmse:0.253955\tvalidation_1-rmse:0.287208\n",
            "[54]\tvalidation_0-rmse:0.25349\tvalidation_1-rmse:0.287187\n",
            "Stopping. Best iteration:\n",
            "[44]\tvalidation_0-rmse:0.258966\tvalidation_1-rmse:0.287135\n",
            "\n"
          ]
        }
      ]
    },
    {
      "cell_type": "code",
      "source": [
        "evals = xgb.evals_result()\n",
        "evaluation_plot = plt.figure()\n",
        "plt.grid()\n",
        "plt.plot(evals['validation_0']['rmse'],c='blue',label = 'train')\n",
        "plt.plot(evals['validation_1']['rmse'],c='orange',label = 'valid')\n",
        "plt.legend()"
      ],
      "metadata": {
        "id": "MMlLATdcShev",
        "outputId": "faa638c4-d9cb-4f17-b8be-a96681417899",
        "colab": {
          "base_uri": "https://localhost:8080/",
          "height": 282
        }
      },
      "execution_count": 9,
      "outputs": [
        {
          "output_type": "execute_result",
          "data": {
            "text/plain": [
              "<matplotlib.legend.Legend at 0x7f3242c7a250>"
            ]
          },
          "metadata": {},
          "execution_count": 9
        },
        {
          "output_type": "display_data",
          "data": {
            "text/plain": [
              "<Figure size 432x288 with 1 Axes>"
            ],
            "image/png": "[encoded data removed]"
          },
          "metadata": {
            "needs_background": "light"
          }
        }
      ]
    },
    {
      "cell_type": "code",
      "execution_count": 10,
      "metadata": {
        "id": "QkGs7IpI8R3Q",
        "outputId": "46e768dc-225e-49c9-e893-2f01ebb4be92",
        "colab": {
          "base_uri": "https://localhost:8080/"
        }
      },
      "outputs": [
        {
          "output_type": "stream",
          "name": "stdout",
          "text": [
            "[1]\ttrain's l2: 0.0836415\ttrain's rmse: 0.289208\tvalid's l2: 0.0835227\tvalid's rmse: 0.289003\n",
            "Training until validation scores don't improve for 10 rounds.\n",
            "[2]\ttrain's l2: 0.0834807\ttrain's rmse: 0.28893\tvalid's l2: 0.0834627\tvalid's rmse: 0.288899\n",
            "[3]\ttrain's l2: 0.0833244\ttrain's rmse: 0.28866\tvalid's l2: 0.0833982\tvalid's rmse: 0.288787\n",
            "[4]\ttrain's l2: 0.0831731\ttrain's rmse: 0.288397\tvalid's l2: 0.0833391\tvalid's rmse: 0.288685\n",
            "[5]\ttrain's l2: 0.0830339\ttrain's rmse: 0.288156\tvalid's l2: 0.0832821\tvalid's rmse: 0.288586\n",
            "[6]\ttrain's l2: 0.0828926\ttrain's rmse: 0.287911\tvalid's l2: 0.0832345\tvalid's rmse: 0.288504\n",
            "[7]\ttrain's l2: 0.0827644\ttrain's rmse: 0.287688\tvalid's l2: 0.0831834\tvalid's rmse: 0.288415\n",
            "[8]\ttrain's l2: 0.0826335\ttrain's rmse: 0.28746\tvalid's l2: 0.0831518\tvalid's rmse: 0.28836\n",
            "[9]\ttrain's l2: 0.0825075\ttrain's rmse: 0.287241\tvalid's l2: 0.0831294\tvalid's rmse: 0.288322\n",
            "[10]\ttrain's l2: 0.0823873\ttrain's rmse: 0.287032\tvalid's l2: 0.0831061\tvalid's rmse: 0.288281\n",
            "[11]\ttrain's l2: 0.0822755\ttrain's rmse: 0.286837\tvalid's l2: 0.0830784\tvalid's rmse: 0.288233\n",
            "[12]\ttrain's l2: 0.082162\ttrain's rmse: 0.286639\tvalid's l2: 0.0830418\tvalid's rmse: 0.28817\n",
            "[13]\ttrain's l2: 0.0820475\ttrain's rmse: 0.286439\tvalid's l2: 0.0829975\tvalid's rmse: 0.288093\n",
            "[14]\ttrain's l2: 0.0819376\ttrain's rmse: 0.286247\tvalid's l2: 0.0829621\tvalid's rmse: 0.288031\n",
            "[15]\ttrain's l2: 0.0818303\ttrain's rmse: 0.28606\tvalid's l2: 0.0829455\tvalid's rmse: 0.288003\n",
            "[16]\ttrain's l2: 0.0817289\ttrain's rmse: 0.285883\tvalid's l2: 0.0829309\tvalid's rmse: 0.287977\n",
            "[17]\ttrain's l2: 0.0816274\ttrain's rmse: 0.285705\tvalid's l2: 0.0829145\tvalid's rmse: 0.287949\n",
            "[18]\ttrain's l2: 0.081531\ttrain's rmse: 0.285536\tvalid's l2: 0.082903\tvalid's rmse: 0.287929\n",
            "[19]\ttrain's l2: 0.0814345\ttrain's rmse: 0.285367\tvalid's l2: 0.0828809\tvalid's rmse: 0.28789\n",
            "[20]\ttrain's l2: 0.0813447\ttrain's rmse: 0.28521\tvalid's l2: 0.0828548\tvalid's rmse: 0.287845\n",
            "[21]\ttrain's l2: 0.0812532\ttrain's rmse: 0.285049\tvalid's l2: 0.0828289\tvalid's rmse: 0.2878\n",
            "[22]\ttrain's l2: 0.081165\ttrain's rmse: 0.284895\tvalid's l2: 0.0828092\tvalid's rmse: 0.287766\n",
            "[23]\ttrain's l2: 0.0810787\ttrain's rmse: 0.284743\tvalid's l2: 0.0827964\tvalid's rmse: 0.287744\n",
            "[24]\ttrain's l2: 0.0809921\ttrain's rmse: 0.284591\tvalid's l2: 0.0827803\tvalid's rmse: 0.287716\n",
            "[25]\ttrain's l2: 0.0809097\ttrain's rmse: 0.284446\tvalid's l2: 0.0827727\tvalid's rmse: 0.287702\n",
            "[26]\ttrain's l2: 0.080827\ttrain's rmse: 0.284301\tvalid's l2: 0.0827653\tvalid's rmse: 0.28769\n",
            "[27]\ttrain's l2: 0.0807374\ttrain's rmse: 0.284143\tvalid's l2: 0.0827518\tvalid's rmse: 0.287666\n",
            "[28]\ttrain's l2: 0.0806592\ttrain's rmse: 0.284006\tvalid's l2: 0.08274\tvalid's rmse: 0.287646\n",
            "[29]\ttrain's l2: 0.0805762\ttrain's rmse: 0.28386\tvalid's l2: 0.0827255\tvalid's rmse: 0.28762\n",
            "[30]\ttrain's l2: 0.0804946\ttrain's rmse: 0.283716\tvalid's l2: 0.082724\tvalid's rmse: 0.287618\n",
            "[31]\ttrain's l2: 0.0804169\ttrain's rmse: 0.283579\tvalid's l2: 0.0827279\tvalid's rmse: 0.287624\n",
            "[32]\ttrain's l2: 0.0803411\ttrain's rmse: 0.283445\tvalid's l2: 0.0827198\tvalid's rmse: 0.28761\n",
            "[33]\ttrain's l2: 0.0802649\ttrain's rmse: 0.283311\tvalid's l2: 0.082721\tvalid's rmse: 0.287613\n",
            "[34]\ttrain's l2: 0.0801912\ttrain's rmse: 0.28318\tvalid's l2: 0.0827044\tvalid's rmse: 0.287584\n",
            "[35]\ttrain's l2: 0.0801155\ttrain's rmse: 0.283047\tvalid's l2: 0.0827017\tvalid's rmse: 0.287579\n",
            "[36]\ttrain's l2: 0.0800383\ttrain's rmse: 0.28291\tvalid's l2: 0.0826917\tvalid's rmse: 0.287562\n",
            "[37]\ttrain's l2: 0.0799688\ttrain's rmse: 0.282788\tvalid's l2: 0.0826737\tvalid's rmse: 0.28753\n",
            "[38]\ttrain's l2: 0.0798952\ttrain's rmse: 0.282657\tvalid's l2: 0.0826767\tvalid's rmse: 0.287536\n",
            "[39]\ttrain's l2: 0.0798242\ttrain's rmse: 0.282532\tvalid's l2: 0.082658\tvalid's rmse: 0.287503\n",
            "[40]\ttrain's l2: 0.0797564\ttrain's rmse: 0.282412\tvalid's l2: 0.0826496\tvalid's rmse: 0.287489\n",
            "[41]\ttrain's l2: 0.0796909\ttrain's rmse: 0.282296\tvalid's l2: 0.0826441\tvalid's rmse: 0.287479\n",
            "[42]\ttrain's l2: 0.0796239\ttrain's rmse: 0.282177\tvalid's l2: 0.0826545\tvalid's rmse: 0.287497\n",
            "[43]\ttrain's l2: 0.0795553\ttrain's rmse: 0.282055\tvalid's l2: 0.0826448\tvalid's rmse: 0.28748\n",
            "[44]\ttrain's l2: 0.0794857\ttrain's rmse: 0.281932\tvalid's l2: 0.0826188\tvalid's rmse: 0.287435\n",
            "[45]\ttrain's l2: 0.0794225\ttrain's rmse: 0.28182\tvalid's l2: 0.0826075\tvalid's rmse: 0.287415\n",
            "[46]\ttrain's l2: 0.0793636\ttrain's rmse: 0.281715\tvalid's l2: 0.0826079\tvalid's rmse: 0.287416\n",
            "[47]\ttrain's l2: 0.0792987\ttrain's rmse: 0.2816\tvalid's l2: 0.0826088\tvalid's rmse: 0.287418\n",
            "[48]\ttrain's l2: 0.0792402\ttrain's rmse: 0.281496\tvalid's l2: 0.0826049\tvalid's rmse: 0.287411\n",
            "[49]\ttrain's l2: 0.0791845\ttrain's rmse: 0.281397\tvalid's l2: 0.0825994\tvalid's rmse: 0.287401\n",
            "[50]\ttrain's l2: 0.0791238\ttrain's rmse: 0.28129\tvalid's l2: 0.082589\tvalid's rmse: 0.287383\n",
            "[51]\ttrain's l2: 0.0790607\ttrain's rmse: 0.281177\tvalid's l2: 0.0825772\tvalid's rmse: 0.287363\n",
            "[52]\ttrain's l2: 0.0790015\ttrain's rmse: 0.281072\tvalid's l2: 0.0825658\tvalid's rmse: 0.287343\n",
            "[53]\ttrain's l2: 0.0789389\ttrain's rmse: 0.280961\tvalid's l2: 0.0825626\tvalid's rmse: 0.287337\n",
            "[54]\ttrain's l2: 0.0788795\ttrain's rmse: 0.280855\tvalid's l2: 0.082563\tvalid's rmse: 0.287338\n",
            "[55]\ttrain's l2: 0.0788201\ttrain's rmse: 0.280749\tvalid's l2: 0.0825575\tvalid's rmse: 0.287328\n",
            "[56]\ttrain's l2: 0.0787578\ttrain's rmse: 0.280638\tvalid's l2: 0.0825522\tvalid's rmse: 0.287319\n",
            "[57]\ttrain's l2: 0.0786989\ttrain's rmse: 0.280533\tvalid's l2: 0.0825475\tvalid's rmse: 0.287311\n",
            "[58]\ttrain's l2: 0.0786405\ttrain's rmse: 0.280429\tvalid's l2: 0.0825399\tvalid's rmse: 0.287298\n",
            "[59]\ttrain's l2: 0.0785844\ttrain's rmse: 0.280329\tvalid's l2: 0.0825352\tvalid's rmse: 0.287289\n",
            "[60]\ttrain's l2: 0.0785241\ttrain's rmse: 0.280221\tvalid's l2: 0.0825351\tvalid's rmse: 0.287289\n",
            "[61]\ttrain's l2: 0.0784696\ttrain's rmse: 0.280124\tvalid's l2: 0.0825238\tvalid's rmse: 0.28727\n",
            "[62]\ttrain's l2: 0.0784104\ttrain's rmse: 0.280019\tvalid's l2: 0.0825109\tvalid's rmse: 0.287247\n",
            "[63]\ttrain's l2: 0.0783564\ttrain's rmse: 0.279922\tvalid's l2: 0.0825067\tvalid's rmse: 0.28724\n",
            "[64]\ttrain's l2: 0.0782989\ttrain's rmse: 0.279819\tvalid's l2: 0.082485\tvalid's rmse: 0.287202\n",
            "[65]\ttrain's l2: 0.0782442\ttrain's rmse: 0.279722\tvalid's l2: 0.0824893\tvalid's rmse: 0.287209\n",
            "[66]\ttrain's l2: 0.0781936\ttrain's rmse: 0.279631\tvalid's l2: 0.0824842\tvalid's rmse: 0.287201\n",
            "[67]\ttrain's l2: 0.0781369\ttrain's rmse: 0.27953\tvalid's l2: 0.0824803\tvalid's rmse: 0.287194\n",
            "[68]\ttrain's l2: 0.0780858\ttrain's rmse: 0.279438\tvalid's l2: 0.0824786\tvalid's rmse: 0.287191\n",
            "[69]\ttrain's l2: 0.078029\ttrain's rmse: 0.279337\tvalid's l2: 0.0824786\tvalid's rmse: 0.287191\n",
            "[70]\ttrain's l2: 0.0779788\ttrain's rmse: 0.279247\tvalid's l2: 0.0824666\tvalid's rmse: 0.28717\n",
            "[71]\ttrain's l2: 0.0779226\ttrain's rmse: 0.279146\tvalid's l2: 0.0824653\tvalid's rmse: 0.287168\n",
            "[72]\ttrain's l2: 0.0778682\ttrain's rmse: 0.279049\tvalid's l2: 0.0824566\tvalid's rmse: 0.287153\n",
            "[73]\ttrain's l2: 0.0778167\ttrain's rmse: 0.278956\tvalid's l2: 0.082447\tvalid's rmse: 0.287136\n",
            "[74]\ttrain's l2: 0.0777641\ttrain's rmse: 0.278862\tvalid's l2: 0.082448\tvalid's rmse: 0.287138\n",
            "[75]\ttrain's l2: 0.0777154\ttrain's rmse: 0.278775\tvalid's l2: 0.0824517\tvalid's rmse: 0.287144\n",
            "[76]\ttrain's l2: 0.0776645\ttrain's rmse: 0.278683\tvalid's l2: 0.0824456\tvalid's rmse: 0.287133\n",
            "[77]\ttrain's l2: 0.0776148\ttrain's rmse: 0.278594\tvalid's l2: 0.0824455\tvalid's rmse: 0.287133\n",
            "[78]\ttrain's l2: 0.077566\ttrain's rmse: 0.278507\tvalid's l2: 0.0824414\tvalid's rmse: 0.287126\n",
            "[79]\ttrain's l2: 0.0775086\ttrain's rmse: 0.278404\tvalid's l2: 0.0824304\tvalid's rmse: 0.287107\n",
            "[80]\ttrain's l2: 0.0774622\ttrain's rmse: 0.27832\tvalid's l2: 0.0824344\tvalid's rmse: 0.287114\n",
            "[81]\ttrain's l2: 0.0774123\ttrain's rmse: 0.278231\tvalid's l2: 0.0824337\tvalid's rmse: 0.287113\n",
            "[82]\ttrain's l2: 0.0773591\ttrain's rmse: 0.278135\tvalid's l2: 0.0824268\tvalid's rmse: 0.287101\n",
            "[83]\ttrain's l2: 0.0773052\ttrain's rmse: 0.278038\tvalid's l2: 0.0824199\tvalid's rmse: 0.287089\n",
            "[84]\ttrain's l2: 0.0772609\ttrain's rmse: 0.277958\tvalid's l2: 0.0824155\tvalid's rmse: 0.287081\n",
            "[85]\ttrain's l2: 0.0772111\ttrain's rmse: 0.277869\tvalid's l2: 0.0824081\tvalid's rmse: 0.287068\n",
            "[86]\ttrain's l2: 0.0771656\ttrain's rmse: 0.277787\tvalid's l2: 0.0824071\tvalid's rmse: 0.287066\n",
            "[87]\ttrain's l2: 0.0771181\ttrain's rmse: 0.277701\tvalid's l2: 0.0823988\tvalid's rmse: 0.287052\n",
            "[88]\ttrain's l2: 0.0770686\ttrain's rmse: 0.277612\tvalid's l2: 0.0823937\tvalid's rmse: 0.287043\n",
            "[89]\ttrain's l2: 0.0770183\ttrain's rmse: 0.277522\tvalid's l2: 0.0823852\tvalid's rmse: 0.287028\n",
            "[90]\ttrain's l2: 0.0769717\ttrain's rmse: 0.277438\tvalid's l2: 0.0823863\tvalid's rmse: 0.28703\n",
            "[91]\ttrain's l2: 0.0769285\ttrain's rmse: 0.27736\tvalid's l2: 0.0823773\tvalid's rmse: 0.287014\n",
            "[92]\ttrain's l2: 0.0768773\ttrain's rmse: 0.277267\tvalid's l2: 0.082368\tvalid's rmse: 0.286998\n",
            "[93]\ttrain's l2: 0.0768246\ttrain's rmse: 0.277173\tvalid's l2: 0.082357\tvalid's rmse: 0.286979\n",
            "[94]\ttrain's l2: 0.0767804\ttrain's rmse: 0.277093\tvalid's l2: 0.0823562\tvalid's rmse: 0.286978\n",
            "[95]\ttrain's l2: 0.0767348\ttrain's rmse: 0.27701\tvalid's l2: 0.0823602\tvalid's rmse: 0.286985\n",
            "[96]\ttrain's l2: 0.0766912\ttrain's rmse: 0.276932\tvalid's l2: 0.0823652\tvalid's rmse: 0.286993\n",
            "[97]\ttrain's l2: 0.0766454\ttrain's rmse: 0.276849\tvalid's l2: 0.0823699\tvalid's rmse: 0.287002\n",
            "[98]\ttrain's l2: 0.0766032\ttrain's rmse: 0.276773\tvalid's l2: 0.0823772\tvalid's rmse: 0.287014\n",
            "[99]\ttrain's l2: 0.0765576\ttrain's rmse: 0.27669\tvalid's l2: 0.0823746\tvalid's rmse: 0.28701\n",
            "[100]\ttrain's l2: 0.0765051\ttrain's rmse: 0.276595\tvalid's l2: 0.0823575\tvalid's rmse: 0.28698\n",
            "[101]\ttrain's l2: 0.0764629\ttrain's rmse: 0.276519\tvalid's l2: 0.0823599\tvalid's rmse: 0.286984\n",
            "[102]\ttrain's l2: 0.076411\ttrain's rmse: 0.276425\tvalid's l2: 0.0823571\tvalid's rmse: 0.286979\n",
            "[103]\ttrain's l2: 0.0763644\ttrain's rmse: 0.276341\tvalid's l2: 0.0823545\tvalid's rmse: 0.286975\n",
            "[104]\ttrain's l2: 0.0763249\ttrain's rmse: 0.27627\tvalid's l2: 0.0823508\tvalid's rmse: 0.286968\n",
            "[105]\ttrain's l2: 0.0762761\ttrain's rmse: 0.276181\tvalid's l2: 0.0823331\tvalid's rmse: 0.286938\n",
            "[106]\ttrain's l2: 0.0762306\ttrain's rmse: 0.276099\tvalid's l2: 0.0823287\tvalid's rmse: 0.28693\n",
            "[107]\ttrain's l2: 0.0761918\ttrain's rmse: 0.276029\tvalid's l2: 0.0823326\tvalid's rmse: 0.286936\n",
            "[108]\ttrain's l2: 0.0761495\ttrain's rmse: 0.275952\tvalid's l2: 0.0823363\tvalid's rmse: 0.286943\n",
            "[109]\ttrain's l2: 0.0761029\ttrain's rmse: 0.275868\tvalid's l2: 0.0823399\tvalid's rmse: 0.286949\n",
            "[110]\ttrain's l2: 0.0760586\ttrain's rmse: 0.275787\tvalid's l2: 0.0823394\tvalid's rmse: 0.286948\n",
            "[111]\ttrain's l2: 0.0760193\ttrain's rmse: 0.275716\tvalid's l2: 0.0823421\tvalid's rmse: 0.286953\n",
            "[112]\ttrain's l2: 0.0759775\ttrain's rmse: 0.27564\tvalid's l2: 0.0823335\tvalid's rmse: 0.286938\n",
            "[113]\ttrain's l2: 0.0759403\ttrain's rmse: 0.275573\tvalid's l2: 0.0823307\tvalid's rmse: 0.286933\n",
            "[114]\ttrain's l2: 0.0758935\ttrain's rmse: 0.275488\tvalid's l2: 0.0823148\tvalid's rmse: 0.286906\n",
            "[115]\ttrain's l2: 0.0758519\ttrain's rmse: 0.275412\tvalid's l2: 0.0823217\tvalid's rmse: 0.286918\n",
            "[116]\ttrain's l2: 0.075803\ttrain's rmse: 0.275323\tvalid's l2: 0.0823055\tvalid's rmse: 0.286889\n",
            "[117]\ttrain's l2: 0.0757614\ttrain's rmse: 0.275248\tvalid's l2: 0.0822991\tvalid's rmse: 0.286878\n",
            "[118]\ttrain's l2: 0.0757174\ttrain's rmse: 0.275168\tvalid's l2: 0.0822944\tvalid's rmse: 0.28687\n",
            "[119]\ttrain's l2: 0.0756752\ttrain's rmse: 0.275091\tvalid's l2: 0.0823066\tvalid's rmse: 0.286891\n",
            "[120]\ttrain's l2: 0.0756343\ttrain's rmse: 0.275017\tvalid's l2: 0.0823043\tvalid's rmse: 0.286887\n",
            "[121]\ttrain's l2: 0.0755965\ttrain's rmse: 0.274948\tvalid's l2: 0.0823031\tvalid's rmse: 0.286885\n",
            "[122]\ttrain's l2: 0.0755504\ttrain's rmse: 0.274864\tvalid's l2: 0.0823028\tvalid's rmse: 0.286885\n",
            "[123]\ttrain's l2: 0.075508\ttrain's rmse: 0.274787\tvalid's l2: 0.0823023\tvalid's rmse: 0.286884\n",
            "[124]\ttrain's l2: 0.0754693\ttrain's rmse: 0.274717\tvalid's l2: 0.0823024\tvalid's rmse: 0.286884\n",
            "[125]\ttrain's l2: 0.075428\ttrain's rmse: 0.274642\tvalid's l2: 0.0822976\tvalid's rmse: 0.286876\n",
            "[126]\ttrain's l2: 0.0753867\ttrain's rmse: 0.274566\tvalid's l2: 0.0822997\tvalid's rmse: 0.286879\n",
            "[127]\ttrain's l2: 0.0753462\ttrain's rmse: 0.274493\tvalid's l2: 0.0823001\tvalid's rmse: 0.28688\n",
            "[128]\ttrain's l2: 0.0753035\ttrain's rmse: 0.274415\tvalid's l2: 0.0822976\tvalid's rmse: 0.286876\n",
            "Early stopping, best iteration is:\n",
            "[118]\ttrain's l2: 0.0757174\ttrain's rmse: 0.275168\tvalid's l2: 0.0822944\tvalid's rmse: 0.28687\n"
          ]
        }
      ],
      "source": [
        "import lightgbm as lgb\n",
        "\n",
        "params = {'boosting_type': 'gbdt',\n",
        "          'n_estimators':1000,\n",
        "          'objective': 'regression',\n",
        "          'learning_rate': 0.03,                                                                                                                                                                                                                                                                                                                                                                                                                                                                    \n",
        "          'reg_alpha':0.1,\n",
        "          'reg_lambda':0.01,\n",
        "          'max_depth':9,\n",
        "          'subsample': 0.8,\n",
        "          'colsample_bytree':0.8,\n",
        "          'colsample_bylevel':0.8\n",
        "          }\n",
        "evals = {}\n",
        "\n",
        "def fitLGB(with_target = with_target):\n",
        "  X_train = train_set.drop(['date','symbol','target','target_DC1'], axis = 1)\n",
        "  X_val = val_set.drop(['date','symbol','target','target_DC1'], axis = 1)\n",
        "  cats = ['month','year','day']\n",
        "  feature_name = X_train.columns.to_list()\n",
        "\n",
        "  if with_target:\n",
        "    Y_train = train_set['target']\n",
        "    Y_val = val_set['target']\n",
        "  else:\n",
        "    Y_train = train_set['target_DC1']\n",
        "    Y_val = val_set['target_DC1']\n",
        "  \n",
        "  reg = LGBMRegressor(**params)\n",
        "  reg.fit(X_train,Y_train,\n",
        "          eval_metric = \"rmse\",\n",
        "          feature_name = feature_name ,\n",
        "          categorical_feature = cats,\n",
        "          early_stopping_rounds = 10,\n",
        "          callbacks = [lgb.record_evaluation(evals)],\n",
        "          eval_set=[(X_train,Y_train), (X_val,Y_val)],\n",
        "          eval_names=['train','valid'])\n",
        "  return reg\n",
        "\n",
        "lgb = fitLGB()"
      ]
    },
    {
      "cell_type": "code",
      "source": [
        "evaluation_plot = plt.figure()\n",
        "plt.grid()\n",
        "plt.plot(evals['train']['rmse'],c='blue',label = 'train')\n",
        "plt.plot(evals['valid']['rmse'],c='orange',label = 'valid')\n",
        "plt.legend()"
      ],
      "metadata": {
        "id": "fciBoilGZlXT",
        "outputId": "6cbc1abd-4897-491d-ddb4-222b148592f8",
        "colab": {
          "base_uri": "https://localhost:8080/",
          "height": 282
        }
      },
      "execution_count": 11,
      "outputs": [
        {
          "output_type": "execute_result",
          "data": {
            "text/plain": [
              "<matplotlib.legend.Legend at 0x7f323ffb34d0>"
            ]
          },
          "metadata": {},
          "execution_count": 11
        },
        {
          "output_type": "display_data",
          "data": {
            "text/plain": [
              "<Figure size 432x288 with 1 Axes>"
            ],
            "image/png": "[encoded data removed]"
          },
          "metadata": {
            "needs_background": "light"
          }
        }
      ]
    },
    {
      "cell_type": "code",
      "source": [
        "def predictFunction(xgb, lgb, dataset, with_target = with_target):\n",
        "  files = dataset.copy()\n",
        "  xgb_pred = xgb.predict(files.drop(['date','symbol','target','target_DC1'], axis = 1))\n",
        "  lgb_pred = lgb.predict(files.drop(['date','symbol','target','target_DC1'], axis = 1))\n",
        "\n",
        "  if with_target:\n",
        "    files.loc[:,'predicted_target'] = (xgb_pred.reshape((-1,1))+lgb_pred.reshape((-1,1)))/2\n",
        "  else:\n",
        "    files.loc[:,'predicted_DC1'] = (xgb_pred.reshape((-1,1))+lgb_pred.reshape((-1,1)))/2\n",
        "    files.loc[:,'predicted_target'] = -1\n",
        "    for date in files.date.unique():\n",
        "      files.loc[files['date']==date,'predicted_target'] = rank_data(files[files['date']==date]['predicted_DC1'])\n",
        "      \n",
        "  return files[['symbol','date','predicted_target']]"
      ],
      "metadata": {
        "id": "Dgu9ZPeq-mNG"
      },
      "execution_count": 12,
      "outputs": []
    },
    {
      "cell_type": "code",
      "execution_count": 13,
      "metadata": {
        "id": "ETY9qjj58R3Q"
      },
      "outputs": [],
      "source": [
        "# function to calculate Spearman correlation by era (mean, std, max, min)\n",
        "# we want to maximize but maintain stable correlation across era to maximize both challenge and competition reward\n",
        "def spearman_by_era(prediction,target, dates):\n",
        "  df = pd.DataFrame(index=dates,\n",
        "                    data = {'prediction': prediction,\n",
        "                            'target': target}\n",
        "                    )\n",
        "  spearman_era_list = []\n",
        "  for era in df.index.unique():\n",
        "    era_df = df[df.index == era]\n",
        "    spearman_corr = sp.stats.spearmanr(era_df.prediction, era_df.target)[0]\n",
        "    spearman_era_list.append(spearman_corr)\n",
        "\n",
        "  mean = np.mean(spearman_era_list)\n",
        "  std = np.std(spearman_era_list)\n",
        "  max = np.max(spearman_era_list)\n",
        "  min = np.min(spearman_era_list)\n",
        "  return mean, std, max, min\n",
        "  "
      ]
    },
    {
      "cell_type": "code",
      "source": [
        "pred_train = predictFunction(xgb,lgb, train_set)\n",
        "train_spearman = spearman_by_era(pred_train['predicted_target'].values, train_set['target'].values,\n",
        "                                pred_train['date'].values)\n",
        "\n",
        "print('Train dataset Spearman correlation: mean = {} ; std = {} ; max = {} ; min = {}'.format(round(train_spearman[0], 4), \n",
        "                                                                                            round(train_spearman[1], 4),\n",
        "                                                                                            round(train_spearman[2], 4),\n",
        "                                                                                            round(train_spearman[3], 4),\n",
        "                                                                                            ))\n"
      ],
      "metadata": {
        "id": "uSYGCko-7-Nd",
        "outputId": "79497c8c-31b5-4c45-fb94-84adcbebbd19",
        "colab": {
          "base_uri": "https://localhost:8080/"
        }
      },
      "execution_count": 14,
      "outputs": [
        {
          "output_type": "stream",
          "name": "stdout",
          "text": [
            "Train dataset Spearman correlation: mean = 0.547 ; std = 0.0589 ; max = 0.7032 ; min = 0.3615\n"
          ]
        }
      ]
    },
    {
      "cell_type": "code",
      "source": [
        "pred_val = predictFunction(xgb, lgb, val_set)\n",
        "test_spearman = spearman_by_era(pred_val['predicted_target'].values, val_set['target'].values,\n",
        "                                pred_val['date'].values)\n",
        "\n",
        "print('Test dataset Spearman correlation: mean = {} ; std = {} ; max = {} ; min = {}'.format(round(test_spearman[0], 4),\n",
        "                                                                                            round(test_spearman[1], 4),\n",
        "                                                                                            round(test_spearman[2], 4),\n",
        "                                                                                            round(test_spearman[3], 4),\n",
        "                                                                                            ))"
      ],
      "metadata": {
        "id": "hGDlyG6j7nj6",
        "outputId": "f3def54e-bfc7-4831-ba9c-3fe2d9fd1739",
        "colab": {
          "base_uri": "https://localhost:8080/"
        }
      },
      "execution_count": 15,
      "outputs": [
        {
          "output_type": "stream",
          "name": "stdout",
          "text": [
            "Test dataset Spearman correlation: mean = 0.1051 ; std = 0.0729 ; max = 0.2682 ; min = -0.0248\n"
          ]
        }
      ]
    },
    {
      "cell_type": "code",
      "source": [
        "mse = mean_squared_error(pred_val['predicted_target'],val_set['target'])\n",
        "mae = mean_absolute_error(pred_val['predicted_target'],val_set['target'])\n",
        "rmse = mean_squared_error(pred_val['predicted_target'],val_set['target'], squared = False)"
      ],
      "metadata": {
        "id": "a1j0ZoXcYOUU"
      },
      "execution_count": 16,
      "outputs": []
    },
    {
      "cell_type": "code",
      "source": [
        "error = train_set[['symbol','date','target','target_DC1']].copy()\n",
        "error['predicted'] = predictFunction(xgb, lgb, train_set)['predicted_target']\n",
        "error['error'] = (error['target']-error['predicted'])**2\n",
        "error"
      ],
      "metadata": {
        "id": "hYL9_3ScwQ7q",
        "outputId": "6f1b648a-e5c4-4187-980f-e2f36732b014",
        "colab": {
          "base_uri": "https://localhost:8080/",
          "height": 424
        }
      },
      "execution_count": 17,
      "outputs": [
        {
          "output_type": "execute_result",
          "data": {
            "text/plain": [
              "      symbol        date    target  target_DC1  predicted     error\n",
              "0      0xBTC  2018-12-23  0.095238   -0.211551   0.447161  0.123850\n",
              "1      0xBTC  2018-12-30  0.046414   -0.192849   0.468297  0.177985\n",
              "2      0xBTC  2019-01-06  0.284519   -0.263822   0.480294  0.038328\n",
              "3      0xBTC  2019-01-13  0.391667    0.023985   0.495068  0.010692\n",
              "4      0xBTC  2019-01-20  0.032787   -0.251842   0.508172  0.225991\n",
              "...      ...         ...       ...         ...        ...       ...\n",
              "71443    ZYN  2022-01-02  0.984894    0.447752   0.545407  0.193149\n",
              "71444    ZYN  2022-01-23  0.884615    0.143837   0.476837  0.166284\n",
              "71445    ZYN  2022-01-30  0.983232    0.591620   0.461330  0.272382\n",
              "71446    ZYN  2022-02-06  0.045365   -0.254563   0.397253  0.123825\n",
              "71447  eRSDL  2022-02-27  0.143603   -0.113692   0.495734  0.123996\n",
              "\n",
              "[71448 rows x 6 columns]"
            ],
            "text/html": [
              "\n",
              "  <div id=\"df-a15be0e6-a4ba-48ae-905a-5ea8d8563408\">\n",
              "    <div class=\"colab-df-container\">\n",
              "      <div>\n",
              "<style scoped>\n",
              "    .dataframe tbody tr th:only-of-type {\n",
              "        vertical-align: middle;\n",
              "    }\n",
              "\n",
              "    .dataframe tbody tr th {\n",
              "        vertical-align: top;\n",
              "    }\n",
              "\n",
              "    .dataframe thead th {\n",
              "        text-align: right;\n",
              "    }\n",
              "</style>\n",
              "<table border=\"1\" class=\"dataframe\">\n",
              "  <thead>\n",
              "    <tr style=\"text-align: right;\">\n",
              "      <th></th>\n",
              "      <th>symbol</th>\n",
              "      <th>date</th>\n",
              "      <th>target</th>\n",
              "      <th>target_DC1</th>\n",
              "      <th>predicted</th>\n",
              "      <th>error</th>\n",
              "    </tr>\n",
              "  </thead>\n",
              "  <tbody>\n",
              "    <tr>\n",
              "      <th>0</th>\n",
              "      <td>0xBTC</td>\n",
              "      <td>2018-12-23</td>\n",
              "      <td>0.095238</td>\n",
              "      <td>-0.211551</td>\n",
              "      <td>0.447161</td>\n",
              "      <td>0.123850</td>\n",
              "    </tr>\n",
              "    <tr>\n",
              "      <th>1</th>\n",
              "      <td>0xBTC</td>\n",
              "      <td>2018-12-30</td>\n",
              "      <td>0.046414</td>\n",
              "      <td>-0.192849</td>\n",
              "      <td>0.468297</td>\n",
              "      <td>0.177985</td>\n",
              "    </tr>\n",
              "    <tr>\n",
              "      <th>2</th>\n",
              "      <td>0xBTC</td>\n",
              "      <td>2019-01-06</td>\n",
              "      <td>0.284519</td>\n",
              "      <td>-0.263822</td>\n",
              "      <td>0.480294</td>\n",
              "      <td>0.038328</td>\n",
              "    </tr>\n",
              "    <tr>\n",
              "      <th>3</th>\n",
              "      <td>0xBTC</td>\n",
              "      <td>2019-01-13</td>\n",
              "      <td>0.391667</td>\n",
              "      <td>0.023985</td>\n",
              "      <td>0.495068</td>\n",
              "      <td>0.010692</td>\n",
              "    </tr>\n",
              "    <tr>\n",
              "      <th>4</th>\n",
              "      <td>0xBTC</td>\n",
              "      <td>2019-01-20</td>\n",
              "      <td>0.032787</td>\n",
              "      <td>-0.251842</td>\n",
              "      <td>0.508172</td>\n",
              "      <td>0.225991</td>\n",
              "    </tr>\n",
              "    <tr>\n",
              "      <th>...</th>\n",
              "      <td>...</td>\n",
              "      <td>...</td>\n",
              "      <td>...</td>\n",
              "      <td>...</td>\n",
              "      <td>...</td>\n",
              "      <td>...</td>\n",
              "    </tr>\n",
              "    <tr>\n",
              "      <th>71443</th>\n",
              "      <td>ZYN</td>\n",
              "      <td>2022-01-02</td>\n",
              "      <td>0.984894</td>\n",
              "      <td>0.447752</td>\n",
              "      <td>0.545407</td>\n",
              "      <td>0.193149</td>\n",
              "    </tr>\n",
              "    <tr>\n",
              "      <th>71444</th>\n",
              "      <td>ZYN</td>\n",
              "      <td>2022-01-23</td>\n",
              "      <td>0.884615</td>\n",
              "      <td>0.143837</td>\n",
              "      <td>0.476837</td>\n",
              "      <td>0.166284</td>\n",
              "    </tr>\n",
              "    <tr>\n",
              "      <th>71445</th>\n",
              "      <td>ZYN</td>\n",
              "      <td>2022-01-30</td>\n",
              "      <td>0.983232</td>\n",
              "      <td>0.591620</td>\n",
              "      <td>0.461330</td>\n",
              "      <td>0.272382</td>\n",
              "    </tr>\n",
              "    <tr>\n",
              "      <th>71446</th>\n",
              "      <td>ZYN</td>\n",
              "      <td>2022-02-06</td>\n",
              "      <td>0.045365</td>\n",
              "      <td>-0.254563</td>\n",
              "      <td>0.397253</td>\n",
              "      <td>0.123825</td>\n",
              "    </tr>\n",
              "    <tr>\n",
              "      <th>71447</th>\n",
              "      <td>eRSDL</td>\n",
              "      <td>2022-02-27</td>\n",
              "      <td>0.143603</td>\n",
              "      <td>-0.113692</td>\n",
              "      <td>0.495734</td>\n",
              "      <td>0.123996</td>\n",
              "    </tr>\n",
              "  </tbody>\n",
              "</table>\n",
              "<p>71448 rows × 6 columns</p>\n",
              "</div>\n",
              "      <button class=\"colab-df-convert\" onclick=\"convertToInteractive('df-a15be0e6-a4ba-48ae-905a-5ea8d8563408')\"\n",
              "              title=\"Convert this dataframe to an interactive table.\"\n",
              "              style=\"display:none;\">\n",
              "        \n",
              "  <svg xmlns=\"http://www.w3.org/2000/svg\" height=\"24px\"viewBox=\"0 0 24 24\"\n",
              "       width=\"24px\">\n",
              "    <path d=\"M0 0h24v24H0V0z\" fill=\"none\"/>\n",
              "    <path d=\"M18.56 5.44l.94 2.06.94-2.06 2.06-.94-2.06-.94-.94-2.06-.94 2.06-2.06.94zm-11 1L8.5 8.5l.94-2.06 2.06-.94-2.06-.94L8.5 2.5l-.94 2.06-2.06.94zm10 10l.94 2.06.94-2.06 2.06-.94-2.06-.94-.94-2.06-.94 2.06-2.06.94z\"/><path d=\"M17.41 7.96l-1.37-1.37c-.4-.4-.92-.59-1.43-.59-.52 0-1.04.2-1.43.59L10.3 9.45l-7.72 7.72c-.78.78-.78 2.05 0 2.83L4 21.41c.39.39.9.59 1.41.59.51 0 1.02-.2 1.41-.59l7.78-7.78 2.81-2.81c.8-.78.8-2.07 0-2.86zM5.41 20L4 18.59l7.72-7.72 1.47 1.35L5.41 20z\"/>\n",
              "  </svg>\n",
              "      </button>\n",
              "      \n",
              "  <style>\n",
              "    .colab-df-container {\n",
              "      display:flex;\n",
              "      flex-wrap:wrap;\n",
              "      gap: 12px;\n",
              "    }\n",
              "\n",
              "    .colab-df-convert {\n",
              "      background-color: #E8F0FE;\n",
              "      border: none;\n",
              "      border-radius: 50%;\n",
              "      cursor: pointer;\n",
              "      display: none;\n",
              "      fill: #1967D2;\n",
              "      height: 32px;\n",
              "      padding: 0 0 0 0;\n",
              "      width: 32px;\n",
              "    }\n",
              "\n",
              "    .colab-df-convert:hover {\n",
              "      background-color: #E2EBFA;\n",
              "      box-shadow: 0px 1px 2px rgba(60, 64, 67, 0.3), 0px 1px 3px 1px rgba(60, 64, 67, 0.15);\n",
              "      fill: #174EA6;\n",
              "    }\n",
              "\n",
              "    [theme=dark] .colab-df-convert {\n",
              "      background-color: #3B4455;\n",
              "      fill: #D2E3FC;\n",
              "    }\n",
              "\n",
              "    [theme=dark] .colab-df-convert:hover {\n",
              "      background-color: #434B5C;\n",
              "      box-shadow: 0px 1px 3px 1px rgba(0, 0, 0, 0.15);\n",
              "      filter: drop-shadow(0px 1px 2px rgba(0, 0, 0, 0.3));\n",
              "      fill: #FFFFFF;\n",
              "    }\n",
              "  </style>\n",
              "\n",
              "      <script>\n",
              "        const buttonEl =\n",
              "          document.querySelector('#df-a15be0e6-a4ba-48ae-905a-5ea8d8563408 button.colab-df-convert');\n",
              "        buttonEl.style.display =\n",
              "          google.colab.kernel.accessAllowed ? 'block' : 'none';\n",
              "\n",
              "        async function convertToInteractive(key) {\n",
              "          const element = document.querySelector('#df-a15be0e6-a4ba-48ae-905a-5ea8d8563408');\n",
              "          const dataTable =\n",
              "            await google.colab.kernel.invokeFunction('convertToInteractive',\n",
              "                                                     [key], {});\n",
              "          if (!dataTable) return;\n",
              "\n",
              "          const docLinkHtml = 'Like what you see? Visit the ' +\n",
              "            '<a target=\"_blank\" href=https://colab.research.google.com/notebooks/data_table.ipynb>data table notebook</a>'\n",
              "            + ' to learn more about interactive tables.';\n",
              "          element.innerHTML = '';\n",
              "          dataTable['output_type'] = 'display_data';\n",
              "          await google.colab.output.renderOutput(dataTable, element);\n",
              "          const docLink = document.createElement('div');\n",
              "          docLink.innerHTML = docLinkHtml;\n",
              "          element.appendChild(docLink);\n",
              "        }\n",
              "      </script>\n",
              "    </div>\n",
              "  </div>\n",
              "  "
            ]
          },
          "metadata": {},
          "execution_count": 17
        }
      ]
    },
    {
      "cell_type": "code",
      "source": [
        "plt.plot(error[error['symbol']=='0xBTC'].date, error[error['symbol']=='0xBTC'].target)\n",
        "plt.plot(error[error['symbol']=='0xBTC'].date, error[error['symbol']=='0xBTC'].predicted, color='orange')"
      ],
      "metadata": {
        "id": "o4R7OxHAc-yn",
        "outputId": "59dcdf04-b29c-46f0-835b-32ff89875c10",
        "colab": {
          "base_uri": "https://localhost:8080/",
          "height": 282
        }
      },
      "execution_count": 18,
      "outputs": [
        {
          "output_type": "execute_result",
          "data": {
            "text/plain": [
              "[<matplotlib.lines.Line2D at 0x7f323f30e510>]"
            ]
          },
          "metadata": {},
          "execution_count": 18
        },
        {
          "output_type": "display_data",
          "data": {
            "text/plain": [
              "<Figure size 432x288 with 1 Axes>"
            ],
            "image/png": "[encoded data removed]"
          },
          "metadata": {
            "needs_background": "light"
          }
        }
      ]
    },
    {
      "cell_type": "code",
      "source": [
        "error[error['error']==np.max(error['error'])]"
      ],
      "metadata": {
        "id": "o9uPYBFswgJT",
        "outputId": "0ca098b1-e9ee-4e28-d10d-6cebfa3a74fd",
        "colab": {
          "base_uri": "https://localhost:8080/",
          "height": 81
        }
      },
      "execution_count": 19,
      "outputs": [
        {
          "output_type": "execute_result",
          "data": {
            "text/plain": [
              "      symbol        date  target  target_DC1  predicted     error\n",
              "20669    DTH  2020-07-19     1.0    2.722598   0.386905  0.375885"
            ],
            "text/html": [
              "\n",
              "  <div id=\"df-6a3bd935-3ac1-4bee-a76c-a5e481e60455\">\n",
              "    <div class=\"colab-df-container\">\n",
              "      <div>\n",
              "<style scoped>\n",
              "    .dataframe tbody tr th:only-of-type {\n",
              "        vertical-align: middle;\n",
              "    }\n",
              "\n",
              "    .dataframe tbody tr th {\n",
              "        vertical-align: top;\n",
              "    }\n",
              "\n",
              "    .dataframe thead th {\n",
              "        text-align: right;\n",
              "    }\n",
              "</style>\n",
              "<table border=\"1\" class=\"dataframe\">\n",
              "  <thead>\n",
              "    <tr style=\"text-align: right;\">\n",
              "      <th></th>\n",
              "      <th>symbol</th>\n",
              "      <th>date</th>\n",
              "      <th>target</th>\n",
              "      <th>target_DC1</th>\n",
              "      <th>predicted</th>\n",
              "      <th>error</th>\n",
              "    </tr>\n",
              "  </thead>\n",
              "  <tbody>\n",
              "    <tr>\n",
              "      <th>20669</th>\n",
              "      <td>DTH</td>\n",
              "      <td>2020-07-19</td>\n",
              "      <td>1.0</td>\n",
              "      <td>2.722598</td>\n",
              "      <td>0.386905</td>\n",
              "      <td>0.375885</td>\n",
              "    </tr>\n",
              "  </tbody>\n",
              "</table>\n",
              "</div>\n",
              "      <button class=\"colab-df-convert\" onclick=\"convertToInteractive('df-6a3bd935-3ac1-4bee-a76c-a5e481e60455')\"\n",
              "              title=\"Convert this dataframe to an interactive table.\"\n",
              "              style=\"display:none;\">\n",
              "        \n",
              "  <svg xmlns=\"http://www.w3.org/2000/svg\" height=\"24px\"viewBox=\"0 0 24 24\"\n",
              "       width=\"24px\">\n",
              "    <path d=\"M0 0h24v24H0V0z\" fill=\"none\"/>\n",
              "    <path d=\"M18.56 5.44l.94 2.06.94-2.06 2.06-.94-2.06-.94-.94-2.06-.94 2.06-2.06.94zm-11 1L8.5 8.5l.94-2.06 2.06-.94-2.06-.94L8.5 2.5l-.94 2.06-2.06.94zm10 10l.94 2.06.94-2.06 2.06-.94-2.06-.94-.94-2.06-.94 2.06-2.06.94z\"/><path d=\"M17.41 7.96l-1.37-1.37c-.4-.4-.92-.59-1.43-.59-.52 0-1.04.2-1.43.59L10.3 9.45l-7.72 7.72c-.78.78-.78 2.05 0 2.83L4 21.41c.39.39.9.59 1.41.59.51 0 1.02-.2 1.41-.59l7.78-7.78 2.81-2.81c.8-.78.8-2.07 0-2.86zM5.41 20L4 18.59l7.72-7.72 1.47 1.35L5.41 20z\"/>\n",
              "  </svg>\n",
              "      </button>\n",
              "      \n",
              "  <style>\n",
              "    .colab-df-container {\n",
              "      display:flex;\n",
              "      flex-wrap:wrap;\n",
              "      gap: 12px;\n",
              "    }\n",
              "\n",
              "    .colab-df-convert {\n",
              "      background-color: #E8F0FE;\n",
              "      border: none;\n",
              "      border-radius: 50%;\n",
              "      cursor: pointer;\n",
              "      display: none;\n",
              "      fill: #1967D2;\n",
              "      height: 32px;\n",
              "      padding: 0 0 0 0;\n",
              "      width: 32px;\n",
              "    }\n",
              "\n",
              "    .colab-df-convert:hover {\n",
              "      background-color: #E2EBFA;\n",
              "      box-shadow: 0px 1px 2px rgba(60, 64, 67, 0.3), 0px 1px 3px 1px rgba(60, 64, 67, 0.15);\n",
              "      fill: #174EA6;\n",
              "    }\n",
              "\n",
              "    [theme=dark] .colab-df-convert {\n",
              "      background-color: #3B4455;\n",
              "      fill: #D2E3FC;\n",
              "    }\n",
              "\n",
              "    [theme=dark] .colab-df-convert:hover {\n",
              "      background-color: #434B5C;\n",
              "      box-shadow: 0px 1px 3px 1px rgba(0, 0, 0, 0.15);\n",
              "      filter: drop-shadow(0px 1px 2px rgba(0, 0, 0, 0.3));\n",
              "      fill: #FFFFFF;\n",
              "    }\n",
              "  </style>\n",
              "\n",
              "      <script>\n",
              "        const buttonEl =\n",
              "          document.querySelector('#df-6a3bd935-3ac1-4bee-a76c-a5e481e60455 button.colab-df-convert');\n",
              "        buttonEl.style.display =\n",
              "          google.colab.kernel.accessAllowed ? 'block' : 'none';\n",
              "\n",
              "        async function convertToInteractive(key) {\n",
              "          const element = document.querySelector('#df-6a3bd935-3ac1-4bee-a76c-a5e481e60455');\n",
              "          const dataTable =\n",
              "            await google.colab.kernel.invokeFunction('convertToInteractive',\n",
              "                                                     [key], {});\n",
              "          if (!dataTable) return;\n",
              "\n",
              "          const docLinkHtml = 'Like what you see? Visit the ' +\n",
              "            '<a target=\"_blank\" href=https://colab.research.google.com/notebooks/data_table.ipynb>data table notebook</a>'\n",
              "            + ' to learn more about interactive tables.';\n",
              "          element.innerHTML = '';\n",
              "          dataTable['output_type'] = 'display_data';\n",
              "          await google.colab.output.renderOutput(dataTable, element);\n",
              "          const docLink = document.createElement('div');\n",
              "          docLink.innerHTML = docLinkHtml;\n",
              "          element.appendChild(docLink);\n",
              "        }\n",
              "      </script>\n",
              "    </div>\n",
              "  </div>\n",
              "  "
            ]
          },
          "metadata": {},
          "execution_count": 19
        }
      ]
    },
    {
      "cell_type": "code",
      "source": [
        "error[error['error']==np.min(error['error'])]"
      ],
      "metadata": {
        "id": "e9k2nyK_DFwG",
        "outputId": "9d4b4db2-6856-4391-eac5-e191551e7286",
        "colab": {
          "base_uri": "https://localhost:8080/",
          "height": 81
        }
      },
      "execution_count": 20,
      "outputs": [
        {
          "output_type": "execute_result",
          "data": {
            "text/plain": [
              "      symbol        date    target  target_DC1  predicted         error\n",
              "24440   FARM  2021-09-19  0.497018   -0.161689   0.497014  1.541059e-11"
            ],
            "text/html": [
              "\n",
              "  <div id=\"df-a6153268-664c-4972-9514-6ecb76e1cb97\">\n",
              "    <div class=\"colab-df-container\">\n",
              "      <div>\n",
              "<style scoped>\n",
              "    .dataframe tbody tr th:only-of-type {\n",
              "        vertical-align: middle;\n",
              "    }\n",
              "\n",
              "    .dataframe tbody tr th {\n",
              "        vertical-align: top;\n",
              "    }\n",
              "\n",
              "    .dataframe thead th {\n",
              "        text-align: right;\n",
              "    }\n",
              "</style>\n",
              "<table border=\"1\" class=\"dataframe\">\n",
              "  <thead>\n",
              "    <tr style=\"text-align: right;\">\n",
              "      <th></th>\n",
              "      <th>symbol</th>\n",
              "      <th>date</th>\n",
              "      <th>target</th>\n",
              "      <th>target_DC1</th>\n",
              "      <th>predicted</th>\n",
              "      <th>error</th>\n",
              "    </tr>\n",
              "  </thead>\n",
              "  <tbody>\n",
              "    <tr>\n",
              "      <th>24440</th>\n",
              "      <td>FARM</td>\n",
              "      <td>2021-09-19</td>\n",
              "      <td>0.497018</td>\n",
              "      <td>-0.161689</td>\n",
              "      <td>0.497014</td>\n",
              "      <td>1.541059e-11</td>\n",
              "    </tr>\n",
              "  </tbody>\n",
              "</table>\n",
              "</div>\n",
              "      <button class=\"colab-df-convert\" onclick=\"convertToInteractive('df-a6153268-664c-4972-9514-6ecb76e1cb97')\"\n",
              "              title=\"Convert this dataframe to an interactive table.\"\n",
              "              style=\"display:none;\">\n",
              "        \n",
              "  <svg xmlns=\"http://www.w3.org/2000/svg\" height=\"24px\"viewBox=\"0 0 24 24\"\n",
              "       width=\"24px\">\n",
              "    <path d=\"M0 0h24v24H0V0z\" fill=\"none\"/>\n",
              "    <path d=\"M18.56 5.44l.94 2.06.94-2.06 2.06-.94-2.06-.94-.94-2.06-.94 2.06-2.06.94zm-11 1L8.5 8.5l.94-2.06 2.06-.94-2.06-.94L8.5 2.5l-.94 2.06-2.06.94zm10 10l.94 2.06.94-2.06 2.06-.94-2.06-.94-.94-2.06-.94 2.06-2.06.94z\"/><path d=\"M17.41 7.96l-1.37-1.37c-.4-.4-.92-.59-1.43-.59-.52 0-1.04.2-1.43.59L10.3 9.45l-7.72 7.72c-.78.78-.78 2.05 0 2.83L4 21.41c.39.39.9.59 1.41.59.51 0 1.02-.2 1.41-.59l7.78-7.78 2.81-2.81c.8-.78.8-2.07 0-2.86zM5.41 20L4 18.59l7.72-7.72 1.47 1.35L5.41 20z\"/>\n",
              "  </svg>\n",
              "      </button>\n",
              "      \n",
              "  <style>\n",
              "    .colab-df-container {\n",
              "      display:flex;\n",
              "      flex-wrap:wrap;\n",
              "      gap: 12px;\n",
              "    }\n",
              "\n",
              "    .colab-df-convert {\n",
              "      background-color: #E8F0FE;\n",
              "      border: none;\n",
              "      border-radius: 50%;\n",
              "      cursor: pointer;\n",
              "      display: none;\n",
              "      fill: #1967D2;\n",
              "      height: 32px;\n",
              "      padding: 0 0 0 0;\n",
              "      width: 32px;\n",
              "    }\n",
              "\n",
              "    .colab-df-convert:hover {\n",
              "      background-color: #E2EBFA;\n",
              "      box-shadow: 0px 1px 2px rgba(60, 64, 67, 0.3), 0px 1px 3px 1px rgba(60, 64, 67, 0.15);\n",
              "      fill: #174EA6;\n",
              "    }\n",
              "\n",
              "    [theme=dark] .colab-df-convert {\n",
              "      background-color: #3B4455;\n",
              "      fill: #D2E3FC;\n",
              "    }\n",
              "\n",
              "    [theme=dark] .colab-df-convert:hover {\n",
              "      background-color: #434B5C;\n",
              "      box-shadow: 0px 1px 3px 1px rgba(0, 0, 0, 0.15);\n",
              "      filter: drop-shadow(0px 1px 2px rgba(0, 0, 0, 0.3));\n",
              "      fill: #FFFFFF;\n",
              "    }\n",
              "  </style>\n",
              "\n",
              "      <script>\n",
              "        const buttonEl =\n",
              "          document.querySelector('#df-a6153268-664c-4972-9514-6ecb76e1cb97 button.colab-df-convert');\n",
              "        buttonEl.style.display =\n",
              "          google.colab.kernel.accessAllowed ? 'block' : 'none';\n",
              "\n",
              "        async function convertToInteractive(key) {\n",
              "          const element = document.querySelector('#df-a6153268-664c-4972-9514-6ecb76e1cb97');\n",
              "          const dataTable =\n",
              "            await google.colab.kernel.invokeFunction('convertToInteractive',\n",
              "                                                     [key], {});\n",
              "          if (!dataTable) return;\n",
              "\n",
              "          const docLinkHtml = 'Like what you see? Visit the ' +\n",
              "            '<a target=\"_blank\" href=https://colab.research.google.com/notebooks/data_table.ipynb>data table notebook</a>'\n",
              "            + ' to learn more about interactive tables.';\n",
              "          element.innerHTML = '';\n",
              "          dataTable['output_type'] = 'display_data';\n",
              "          await google.colab.output.renderOutput(dataTable, element);\n",
              "          const docLink = document.createElement('div');\n",
              "          docLink.innerHTML = docLinkHtml;\n",
              "          element.appendChild(docLink);\n",
              "        }\n",
              "      </script>\n",
              "    </div>\n",
              "  </div>\n",
              "  "
            ]
          },
          "metadata": {},
          "execution_count": 20
        }
      ]
    },
    {
      "cell_type": "code",
      "source": [
        "error[[\"target\",\"target_DC1\",\"error\"]].corr()"
      ],
      "metadata": {
        "id": "7q6NpCeQDIsd",
        "outputId": "c24a63a6-f907-4637-b355-df1fb86eadd8",
        "colab": {
          "base_uri": "https://localhost:8080/",
          "height": 143
        }
      },
      "execution_count": 21,
      "outputs": [
        {
          "output_type": "execute_result",
          "data": {
            "text/plain": [
              "              target  target_DC1     error\n",
              "target      1.000000    0.672581  0.046733\n",
              "target_DC1  0.672581    1.000000  0.121537\n",
              "error       0.046733    0.121537  1.000000"
            ],
            "text/html": [
              "\n",
              "  <div id=\"df-c75583b0-32b4-4374-bb0a-42bc6e8dab0d\">\n",
              "    <div class=\"colab-df-container\">\n",
              "      <div>\n",
              "<style scoped>\n",
              "    .dataframe tbody tr th:only-of-type {\n",
              "        vertical-align: middle;\n",
              "    }\n",
              "\n",
              "    .dataframe tbody tr th {\n",
              "        vertical-align: top;\n",
              "    }\n",
              "\n",
              "    .dataframe thead th {\n",
              "        text-align: right;\n",
              "    }\n",
              "</style>\n",
              "<table border=\"1\" class=\"dataframe\">\n",
              "  <thead>\n",
              "    <tr style=\"text-align: right;\">\n",
              "      <th></th>\n",
              "      <th>target</th>\n",
              "      <th>target_DC1</th>\n",
              "      <th>error</th>\n",
              "    </tr>\n",
              "  </thead>\n",
              "  <tbody>\n",
              "    <tr>\n",
              "      <th>target</th>\n",
              "      <td>1.000000</td>\n",
              "      <td>0.672581</td>\n",
              "      <td>0.046733</td>\n",
              "    </tr>\n",
              "    <tr>\n",
              "      <th>target_DC1</th>\n",
              "      <td>0.672581</td>\n",
              "      <td>1.000000</td>\n",
              "      <td>0.121537</td>\n",
              "    </tr>\n",
              "    <tr>\n",
              "      <th>error</th>\n",
              "      <td>0.046733</td>\n",
              "      <td>0.121537</td>\n",
              "      <td>1.000000</td>\n",
              "    </tr>\n",
              "  </tbody>\n",
              "</table>\n",
              "</div>\n",
              "      <button class=\"colab-df-convert\" onclick=\"convertToInteractive('df-c75583b0-32b4-4374-bb0a-42bc6e8dab0d')\"\n",
              "              title=\"Convert this dataframe to an interactive table.\"\n",
              "              style=\"display:none;\">\n",
              "        \n",
              "  <svg xmlns=\"http://www.w3.org/2000/svg\" height=\"24px\"viewBox=\"0 0 24 24\"\n",
              "       width=\"24px\">\n",
              "    <path d=\"M0 0h24v24H0V0z\" fill=\"none\"/>\n",
              "    <path d=\"M18.56 5.44l.94 2.06.94-2.06 2.06-.94-2.06-.94-.94-2.06-.94 2.06-2.06.94zm-11 1L8.5 8.5l.94-2.06 2.06-.94-2.06-.94L8.5 2.5l-.94 2.06-2.06.94zm10 10l.94 2.06.94-2.06 2.06-.94-2.06-.94-.94-2.06-.94 2.06-2.06.94z\"/><path d=\"M17.41 7.96l-1.37-1.37c-.4-.4-.92-.59-1.43-.59-.52 0-1.04.2-1.43.59L10.3 9.45l-7.72 7.72c-.78.78-.78 2.05 0 2.83L4 21.41c.39.39.9.59 1.41.59.51 0 1.02-.2 1.41-.59l7.78-7.78 2.81-2.81c.8-.78.8-2.07 0-2.86zM5.41 20L4 18.59l7.72-7.72 1.47 1.35L5.41 20z\"/>\n",
              "  </svg>\n",
              "      </button>\n",
              "      \n",
              "  <style>\n",
              "    .colab-df-container {\n",
              "      display:flex;\n",
              "      flex-wrap:wrap;\n",
              "      gap: 12px;\n",
              "    }\n",
              "\n",
              "    .colab-df-convert {\n",
              "      background-color: #E8F0FE;\n",
              "      border: none;\n",
              "      border-radius: 50%;\n",
              "      cursor: pointer;\n",
              "      display: none;\n",
              "      fill: #1967D2;\n",
              "      height: 32px;\n",
              "      padding: 0 0 0 0;\n",
              "      width: 32px;\n",
              "    }\n",
              "\n",
              "    .colab-df-convert:hover {\n",
              "      background-color: #E2EBFA;\n",
              "      box-shadow: 0px 1px 2px rgba(60, 64, 67, 0.3), 0px 1px 3px 1px rgba(60, 64, 67, 0.15);\n",
              "      fill: #174EA6;\n",
              "    }\n",
              "\n",
              "    [theme=dark] .colab-df-convert {\n",
              "      background-color: #3B4455;\n",
              "      fill: #D2E3FC;\n",
              "    }\n",
              "\n",
              "    [theme=dark] .colab-df-convert:hover {\n",
              "      background-color: #434B5C;\n",
              "      box-shadow: 0px 1px 3px 1px rgba(0, 0, 0, 0.15);\n",
              "      filter: drop-shadow(0px 1px 2px rgba(0, 0, 0, 0.3));\n",
              "      fill: #FFFFFF;\n",
              "    }\n",
              "  </style>\n",
              "\n",
              "      <script>\n",
              "        const buttonEl =\n",
              "          document.querySelector('#df-c75583b0-32b4-4374-bb0a-42bc6e8dab0d button.colab-df-convert');\n",
              "        buttonEl.style.display =\n",
              "          google.colab.kernel.accessAllowed ? 'block' : 'none';\n",
              "\n",
              "        async function convertToInteractive(key) {\n",
              "          const element = document.querySelector('#df-c75583b0-32b4-4374-bb0a-42bc6e8dab0d');\n",
              "          const dataTable =\n",
              "            await google.colab.kernel.invokeFunction('convertToInteractive',\n",
              "                                                     [key], {});\n",
              "          if (!dataTable) return;\n",
              "\n",
              "          const docLinkHtml = 'Like what you see? Visit the ' +\n",
              "            '<a target=\"_blank\" href=https://colab.research.google.com/notebooks/data_table.ipynb>data table notebook</a>'\n",
              "            + ' to learn more about interactive tables.';\n",
              "          element.innerHTML = '';\n",
              "          dataTable['output_type'] = 'display_data';\n",
              "          await google.colab.output.renderOutput(dataTable, element);\n",
              "          const docLink = document.createElement('div');\n",
              "          docLink.innerHTML = docLinkHtml;\n",
              "          element.appendChild(docLink);\n",
              "        }\n",
              "      </script>\n",
              "    </div>\n",
              "  </div>\n",
              "  "
            ]
          },
          "metadata": {},
          "execution_count": 21
        }
      ]
    },
    {
      "cell_type": "code",
      "source": [
        "error_plot = plt.figure()\n",
        "sns.scatterplot(x = \"target_DC1\", y = \"error\", data = error)"
      ],
      "metadata": {
        "id": "88VlU_cmDNOZ",
        "outputId": "3496803b-623d-49fe-bfdf-999cc7faa9e8",
        "colab": {
          "base_uri": "https://localhost:8080/",
          "height": 297
        }
      },
      "execution_count": 22,
      "outputs": [
        {
          "output_type": "execute_result",
          "data": {
            "text/plain": [
              "<matplotlib.axes._subplots.AxesSubplot at 0x7f3240817ed0>"
            ]
          },
          "metadata": {},
          "execution_count": 22
        },
        {
          "output_type": "display_data",
          "data": {
            "text/plain": [
              "<Figure size 432x288 with 1 Axes>"
            ],
            "image/png": "[encoded data removed]"
          },
          "metadata": {
            "needs_background": "light"
          }
        }
      ]
    },
    {
      "cell_type": "code",
      "source": [
        "@model(\"lgb_model\")\n",
        "def train_function():  \n",
        "    importance = lgb.feature_importances_\n",
        "    importances_rfc_df = pd.DataFrame(importance, index=train_set.drop(['date','symbol','target','target_DC1'], axis = 1).columns, columns=['Importance'])\n",
        "    importances_rfc_df = importances_rfc_df.sort_values(by='Importance', ascending=False)\n",
        "    importances_rfc_df = importances_rfc_df[importances_rfc_df['Importance'] > 0]\n",
        "    print(\"[INFO] Number of important features:\",importances_rfc_df.shape[0])\n",
        "    importances_rfc_df = importances_rfc_df.head(15)\n",
        "\n",
        "    plt.figure(figsize=(8,8))\n",
        "    plt.xticks(rotation=60, fontsize = 20)\n",
        "    sns.barplot(y=importances_rfc_df.index, x=importances_rfc_df['Importance'])\n",
        "    \n",
        "    \n",
        "    layer.log(params)\n",
        "    layer.log({'With Target':with_target})\n",
        "    layer.log({'Mean Absolute Error':mae})\n",
        "    layer.log({'Mean Squarred Error': mse})\n",
        "    layer.log({'Root Mean Squared Error': rmse})\n",
        "    layer.log({\"Train mean pearson\":round(train_spearman[0], 4)})\n",
        "    layer.log({\"Train std pearson\":round(train_spearman[1], 4)})\n",
        "    layer.log({\"Validation mean pearson\":round(test_spearman[0], 4)})\n",
        "    layer.log({\"Validation std pearson\":round(test_spearman[1], 4)})\n",
        "    layer.log({\"Feature importance\": plt.gcf()})\n",
        "    layer.log({\"Training metrics\": evaluation_plot})\n",
        "    layer.log({\"Error Plot\":error_plot})\n",
        "    plt.show()\n",
        "    return lgb\n",
        "\n",
        "_ = train_function()"
      ],
      "metadata": {
        "id": "6940MUi1U7Ac",
        "outputId": "b4adb3e5-b5ae-4085-b960-7f290214065a",
        "colab": {
          "base_uri": "https://localhost:8080/",
          "height": 53,
          "referenced_widgets": [
            "1a43e3ef8b6a41b3ac521ddc2a9911e0",
            "25ffe45dffca470db3dceedfe235c011"
          ]
        }
      },
      "execution_count": 25,
      "outputs": [
        {
          "output_type": "display_data",
          "data": {
            "text/plain": [
              "Output()"
            ],
            "application/vnd.jupyter.widget-view+json": {
              "version_major": 2,
              "version_minor": 0,
              "model_id": "1a43e3ef8b6a41b3ac521ddc2a9911e0"
            }
          },
          "metadata": {}
        },
        {
          "output_type": "display_data",
          "data": {
            "text/plain": [
              ""
            ],
            "text/html": [
              "<pre style=\"white-space:pre;overflow-x:auto;line-height:normal;font-family:Menlo,'DejaVu Sans Mono',consolas,'Courier New',monospace\"></pre>\n"
            ]
          },
          "metadata": {}
        },
        {
          "output_type": "display_data",
          "data": {
            "text/plain": [
              "\n"
            ],
            "text/html": [
              "<pre style=\"white-space:pre;overflow-x:auto;line-height:normal;font-family:Menlo,'DejaVu Sans Mono',consolas,'Courier New',monospace\">\n",
              "</pre>\n"
            ]
          },
          "metadata": {}
        }
      ]
    },
    {
      "cell_type": "code",
      "source": [
        "importance = lgb.feature_importances_\n",
        "importances_rfc_df = pd.DataFrame(importance, index=train_set.drop(['date','symbol','target','target_DC1'], axis = 1).columns, columns=['Importance'])\n",
        "importances_rfc_df = importances_rfc_df.sort_values(by='Importance', ascending=False)\n",
        "importances_rfc_df = importances_rfc_df[importances_rfc_df['Importance'] > 0]\n",
        "print(\"[INFO] Number of important features:\",importances_rfc_df.shape[0])\n",
        "importances_rfc_df = importances_rfc_df.head(15)\n",
        "\n",
        "plt.figure(figsize=(8,8))\n",
        "plt.xticks(rotation=60, fontsize = 20)\n",
        "sns.barplot(y=importances_rfc_df.index, x=importances_rfc_df['Importance'])"
      ],
      "metadata": {
        "id": "dhbELT2_YpIl",
        "outputId": "7e192ddb-379f-442b-be3d-a7bd49eb8add",
        "colab": {
          "base_uri": "https://localhost:8080/",
          "height": 565
        }
      },
      "execution_count": 23,
      "outputs": [
        {
          "output_type": "stream",
          "name": "stdout",
          "text": [
            "[INFO] Number of important features: 1135\n"
          ]
        },
        {
          "output_type": "execute_result",
          "data": {
            "text/plain": [
              "<matplotlib.axes._subplots.AxesSubplot at 0x7f323f59bb90>"
            ]
          },
          "metadata": {},
          "execution_count": 23
        },
        {
          "output_type": "display_data",
          "data": {
            "text/plain": [
              "<Figure size 576x576 with 1 Axes>"
            ],
            "image/png": "[encoded data removed]"
          },
          "metadata": {
            "needs_background": "light"
          }
        }
      ]
    },
    {
      "cell_type": "code",
      "source": [
        "pred_submission = predictFunction(xgb, lgb, validation_dataset)\n",
        "pred_submission"
      ],
      "metadata": {
        "id": "z3vXir9lkkrD",
        "colab": {
          "base_uri": "https://localhost:8080/",
          "height": 424
        },
        "outputId": "be2bd33e-d391-44d7-e15e-9b71105205ff"
      },
      "execution_count": 24,
      "outputs": [
        {
          "output_type": "execute_result",
          "data": {
            "text/plain": [
              "    symbol        date  predicted_target\n",
              "0    0xBTC  2022-08-14          0.524608\n",
              "1     1ECO  2022-08-14          0.561365\n",
              "2    1INCH  2022-08-14          0.523747\n",
              "3      1WO  2022-08-14          0.488343\n",
              "4      AAB  2022-08-14          0.511937\n",
              "..     ...         ...               ...\n",
              "711    ZLW  2022-08-14          0.522280\n",
              "712   ZORA  2022-08-14          0.321542\n",
              "713    ZRX  2022-08-14          0.499559\n",
              "714    ZSC  2022-08-14          0.491442\n",
              "715  eRSDL  2022-08-14          0.480524\n",
              "\n",
              "[716 rows x 3 columns]"
            ],
            "text/html": [
              "\n",
              "  <div id=\"df-15c8be7e-a84b-43ac-8429-ff4220ad95a0\">\n",
              "    <div class=\"colab-df-container\">\n",
              "      <div>\n",
              "<style scoped>\n",
              "    .dataframe tbody tr th:only-of-type {\n",
              "        vertical-align: middle;\n",
              "    }\n",
              "\n",
              "    .dataframe tbody tr th {\n",
              "        vertical-align: top;\n",
              "    }\n",
              "\n",
              "    .dataframe thead th {\n",
              "        text-align: right;\n",
              "    }\n",
              "</style>\n",
              "<table border=\"1\" class=\"dataframe\">\n",
              "  <thead>\n",
              "    <tr style=\"text-align: right;\">\n",
              "      <th></th>\n",
              "      <th>symbol</th>\n",
              "      <th>date</th>\n",
              "      <th>predicted_target</th>\n",
              "    </tr>\n",
              "  </thead>\n",
              "  <tbody>\n",
              "    <tr>\n",
              "      <th>0</th>\n",
              "      <td>0xBTC</td>\n",
              "      <td>2022-08-14</td>\n",
              "      <td>0.524608</td>\n",
              "    </tr>\n",
              "    <tr>\n",
              "      <th>1</th>\n",
              "      <td>1ECO</td>\n",
              "      <td>2022-08-14</td>\n",
              "      <td>0.561365</td>\n",
              "    </tr>\n",
              "    <tr>\n",
              "      <th>2</th>\n",
              "      <td>1INCH</td>\n",
              "      <td>2022-08-14</td>\n",
              "      <td>0.523747</td>\n",
              "    </tr>\n",
              "    <tr>\n",
              "      <th>3</th>\n",
              "      <td>1WO</td>\n",
              "      <td>2022-08-14</td>\n",
              "      <td>0.488343</td>\n",
              "    </tr>\n",
              "    <tr>\n",
              "      <th>4</th>\n",
              "      <td>AAB</td>\n",
              "      <td>2022-08-14</td>\n",
              "      <td>0.511937</td>\n",
              "    </tr>\n",
              "    <tr>\n",
              "      <th>...</th>\n",
              "      <td>...</td>\n",
              "      <td>...</td>\n",
              "      <td>...</td>\n",
              "    </tr>\n",
              "    <tr>\n",
              "      <th>711</th>\n",
              "      <td>ZLW</td>\n",
              "      <td>2022-08-14</td>\n",
              "      <td>0.522280</td>\n",
              "    </tr>\n",
              "    <tr>\n",
              "      <th>712</th>\n",
              "      <td>ZORA</td>\n",
              "      <td>2022-08-14</td>\n",
              "      <td>0.321542</td>\n",
              "    </tr>\n",
              "    <tr>\n",
              "      <th>713</th>\n",
              "      <td>ZRX</td>\n",
              "      <td>2022-08-14</td>\n",
              "      <td>0.499559</td>\n",
              "    </tr>\n",
              "    <tr>\n",
              "      <th>714</th>\n",
              "      <td>ZSC</td>\n",
              "      <td>2022-08-14</td>\n",
              "      <td>0.491442</td>\n",
              "    </tr>\n",
              "    <tr>\n",
              "      <th>715</th>\n",
              "      <td>eRSDL</td>\n",
              "      <td>2022-08-14</td>\n",
              "      <td>0.480524</td>\n",
              "    </tr>\n",
              "  </tbody>\n",
              "</table>\n",
              "<p>716 rows × 3 columns</p>\n",
              "</div>\n",
              "      <button class=\"colab-df-convert\" onclick=\"convertToInteractive('df-15c8be7e-a84b-43ac-8429-ff4220ad95a0')\"\n",
              "              title=\"Convert this dataframe to an interactive table.\"\n",
              "              style=\"display:none;\">\n",
              "        \n",
              "  <svg xmlns=\"http://www.w3.org/2000/svg\" height=\"24px\"viewBox=\"0 0 24 24\"\n",
              "       width=\"24px\">\n",
              "    <path d=\"M0 0h24v24H0V0z\" fill=\"none\"/>\n",
              "    <path d=\"M18.56 5.44l.94 2.06.94-2.06 2.06-.94-2.06-.94-.94-2.06-.94 2.06-2.06.94zm-11 1L8.5 8.5l.94-2.06 2.06-.94-2.06-.94L8.5 2.5l-.94 2.06-2.06.94zm10 10l.94 2.06.94-2.06 2.06-.94-2.06-.94-.94-2.06-.94 2.06-2.06.94z\"/><path d=\"M17.41 7.96l-1.37-1.37c-.4-.4-.92-.59-1.43-.59-.52 0-1.04.2-1.43.59L10.3 9.45l-7.72 7.72c-.78.78-.78 2.05 0 2.83L4 21.41c.39.39.9.59 1.41.59.51 0 1.02-.2 1.41-.59l7.78-7.78 2.81-2.81c.8-.78.8-2.07 0-2.86zM5.41 20L4 18.59l7.72-7.72 1.47 1.35L5.41 20z\"/>\n",
              "  </svg>\n",
              "      </button>\n",
              "      \n",
              "  <style>\n",
              "    .colab-df-container {\n",
              "      display:flex;\n",
              "      flex-wrap:wrap;\n",
              "      gap: 12px;\n",
              "    }\n",
              "\n",
              "    .colab-df-convert {\n",
              "      background-color: #E8F0FE;\n",
              "      border: none;\n",
              "      border-radius: 50%;\n",
              "      cursor: pointer;\n",
              "      display: none;\n",
              "      fill: #1967D2;\n",
              "      height: 32px;\n",
              "      padding: 0 0 0 0;\n",
              "      width: 32px;\n",
              "    }\n",
              "\n",
              "    .colab-df-convert:hover {\n",
              "      background-color: #E2EBFA;\n",
              "      box-shadow: 0px 1px 2px rgba(60, 64, 67, 0.3), 0px 1px 3px 1px rgba(60, 64, 67, 0.15);\n",
              "      fill: #174EA6;\n",
              "    }\n",
              "\n",
              "    [theme=dark] .colab-df-convert {\n",
              "      background-color: #3B4455;\n",
              "      fill: #D2E3FC;\n",
              "    }\n",
              "\n",
              "    [theme=dark] .colab-df-convert:hover {\n",
              "      background-color: #434B5C;\n",
              "      box-shadow: 0px 1px 3px 1px rgba(0, 0, 0, 0.15);\n",
              "      filter: drop-shadow(0px 1px 2px rgba(0, 0, 0, 0.3));\n",
              "      fill: #FFFFFF;\n",
              "    }\n",
              "  </style>\n",
              "\n",
              "      <script>\n",
              "        const buttonEl =\n",
              "          document.querySelector('#df-15c8be7e-a84b-43ac-8429-ff4220ad95a0 button.colab-df-convert');\n",
              "        buttonEl.style.display =\n",
              "          google.colab.kernel.accessAllowed ? 'block' : 'none';\n",
              "\n",
              "        async function convertToInteractive(key) {\n",
              "          const element = document.querySelector('#df-15c8be7e-a84b-43ac-8429-ff4220ad95a0');\n",
              "          const dataTable =\n",
              "            await google.colab.kernel.invokeFunction('convertToInteractive',\n",
              "                                                     [key], {});\n",
              "          if (!dataTable) return;\n",
              "\n",
              "          const docLinkHtml = 'Like what you see? Visit the ' +\n",
              "            '<a target=\"_blank\" href=https://colab.research.google.com/notebooks/data_table.ipynb>data table notebook</a>'\n",
              "            + ' to learn more about interactive tables.';\n",
              "          element.innerHTML = '';\n",
              "          dataTable['output_type'] = 'display_data';\n",
              "          await google.colab.output.renderOutput(dataTable, element);\n",
              "          const docLink = document.createElement('div');\n",
              "          docLink.innerHTML = docLinkHtml;\n",
              "          element.appendChild(docLink);\n",
              "        }\n",
              "      </script>\n",
              "    </div>\n",
              "  </div>\n",
              "  "
            ]
          },
          "metadata": {},
          "execution_count": 24
        }
      ]
    },
    {
      "cell_type": "code",
      "execution_count": 25,
      "metadata": {
        "id": "wemVQ7xo8R3Q",
        "outputId": "753d62b2-3000-4a30-bc77-9d12584dd9aa",
        "colab": {
          "base_uri": "https://localhost:8080/"
        }
      },
      "outputs": [
        {
          "output_type": "execute_result",
          "data": {
            "text/plain": [
              "array([0.52460812, 0.56136463, 0.52374705, 0.48834342, 0.51193705])"
            ]
          },
          "metadata": {},
          "execution_count": 25
        }
      ],
      "source": [
        "# Use the trained Linear Regression model to make prediction on latest data\n",
        "# X_validation = validation_dataset.iloc[:, 1:-2]\n",
        "# y_validation_linear_reg = reg.predict(X_validation)\n",
        "y_validation_linear_reg = pred_submission['predicted_target'].values\n",
        "y_validation_linear_reg[:5]"
      ]
    },
    {
      "cell_type": "markdown",
      "metadata": {
        "id": "wPdrXYI58R3R"
      },
      "source": [
        "### Let's use the prediction from linear regression to join with validation dataset symbol for submission"
      ]
    },
    {
      "cell_type": "code",
      "execution_count": 26,
      "metadata": {
        "id": "OKwa_RfT8R3R",
        "outputId": "7b30da60-0c0a-41eb-93d6-591a35ed146c",
        "colab": {
          "base_uri": "https://localhost:8080/",
          "height": 424
        }
      },
      "outputs": [
        {
          "output_type": "execute_result",
          "data": {
            "text/plain": [
              "    symbol  prediction\n",
              "254    GEN    0.320166\n",
              "712   ZORA    0.321542\n",
              "317    JRT    0.337113\n",
              "272  GSWAP    0.338123\n",
              "32     ART    0.339697\n",
              "..     ...         ...\n",
              "404    MYB    0.597895\n",
              "43     AWC    0.606630\n",
              "79     BOR    0.641584\n",
              "698  YFFII    0.649770\n",
              "538    S4F    0.706582\n",
              "\n",
              "[716 rows x 2 columns]"
            ],
            "text/html": [
              "\n",
              "  <div id=\"df-2c30763b-d888-44a7-861d-70265d171d68\">\n",
              "    <div class=\"colab-df-container\">\n",
              "      <div>\n",
              "<style scoped>\n",
              "    .dataframe tbody tr th:only-of-type {\n",
              "        vertical-align: middle;\n",
              "    }\n",
              "\n",
              "    .dataframe tbody tr th {\n",
              "        vertical-align: top;\n",
              "    }\n",
              "\n",
              "    .dataframe thead th {\n",
              "        text-align: right;\n",
              "    }\n",
              "</style>\n",
              "<table border=\"1\" class=\"dataframe\">\n",
              "  <thead>\n",
              "    <tr style=\"text-align: right;\">\n",
              "      <th></th>\n",
              "      <th>symbol</th>\n",
              "      <th>prediction</th>\n",
              "    </tr>\n",
              "  </thead>\n",
              "  <tbody>\n",
              "    <tr>\n",
              "      <th>254</th>\n",
              "      <td>GEN</td>\n",
              "      <td>0.320166</td>\n",
              "    </tr>\n",
              "    <tr>\n",
              "      <th>712</th>\n",
              "      <td>ZORA</td>\n",
              "      <td>0.321542</td>\n",
              "    </tr>\n",
              "    <tr>\n",
              "      <th>317</th>\n",
              "      <td>JRT</td>\n",
              "      <td>0.337113</td>\n",
              "    </tr>\n",
              "    <tr>\n",
              "      <th>272</th>\n",
              "      <td>GSWAP</td>\n",
              "      <td>0.338123</td>\n",
              "    </tr>\n",
              "    <tr>\n",
              "      <th>32</th>\n",
              "      <td>ART</td>\n",
              "      <td>0.339697</td>\n",
              "    </tr>\n",
              "    <tr>\n",
              "      <th>...</th>\n",
              "      <td>...</td>\n",
              "      <td>...</td>\n",
              "    </tr>\n",
              "    <tr>\n",
              "      <th>404</th>\n",
              "      <td>MYB</td>\n",
              "      <td>0.597895</td>\n",
              "    </tr>\n",
              "    <tr>\n",
              "      <th>43</th>\n",
              "      <td>AWC</td>\n",
              "      <td>0.606630</td>\n",
              "    </tr>\n",
              "    <tr>\n",
              "      <th>79</th>\n",
              "      <td>BOR</td>\n",
              "      <td>0.641584</td>\n",
              "    </tr>\n",
              "    <tr>\n",
              "      <th>698</th>\n",
              "      <td>YFFII</td>\n",
              "      <td>0.649770</td>\n",
              "    </tr>\n",
              "    <tr>\n",
              "      <th>538</th>\n",
              "      <td>S4F</td>\n",
              "      <td>0.706582</td>\n",
              "    </tr>\n",
              "  </tbody>\n",
              "</table>\n",
              "<p>716 rows × 2 columns</p>\n",
              "</div>\n",
              "      <button class=\"colab-df-convert\" onclick=\"convertToInteractive('df-2c30763b-d888-44a7-861d-70265d171d68')\"\n",
              "              title=\"Convert this dataframe to an interactive table.\"\n",
              "              style=\"display:none;\">\n",
              "        \n",
              "  <svg xmlns=\"http://www.w3.org/2000/svg\" height=\"24px\"viewBox=\"0 0 24 24\"\n",
              "       width=\"24px\">\n",
              "    <path d=\"M0 0h24v24H0V0z\" fill=\"none\"/>\n",
              "    <path d=\"M18.56 5.44l.94 2.06.94-2.06 2.06-.94-2.06-.94-.94-2.06-.94 2.06-2.06.94zm-11 1L8.5 8.5l.94-2.06 2.06-.94-2.06-.94L8.5 2.5l-.94 2.06-2.06.94zm10 10l.94 2.06.94-2.06 2.06-.94-2.06-.94-.94-2.06-.94 2.06-2.06.94z\"/><path d=\"M17.41 7.96l-1.37-1.37c-.4-.4-.92-.59-1.43-.59-.52 0-1.04.2-1.43.59L10.3 9.45l-7.72 7.72c-.78.78-.78 2.05 0 2.83L4 21.41c.39.39.9.59 1.41.59.51 0 1.02-.2 1.41-.59l7.78-7.78 2.81-2.81c.8-.78.8-2.07 0-2.86zM5.41 20L4 18.59l7.72-7.72 1.47 1.35L5.41 20z\"/>\n",
              "  </svg>\n",
              "      </button>\n",
              "      \n",
              "  <style>\n",
              "    .colab-df-container {\n",
              "      display:flex;\n",
              "      flex-wrap:wrap;\n",
              "      gap: 12px;\n",
              "    }\n",
              "\n",
              "    .colab-df-convert {\n",
              "      background-color: #E8F0FE;\n",
              "      border: none;\n",
              "      border-radius: 50%;\n",
              "      cursor: pointer;\n",
              "      display: none;\n",
              "      fill: #1967D2;\n",
              "      height: 32px;\n",
              "      padding: 0 0 0 0;\n",
              "      width: 32px;\n",
              "    }\n",
              "\n",
              "    .colab-df-convert:hover {\n",
              "      background-color: #E2EBFA;\n",
              "      box-shadow: 0px 1px 2px rgba(60, 64, 67, 0.3), 0px 1px 3px 1px rgba(60, 64, 67, 0.15);\n",
              "      fill: #174EA6;\n",
              "    }\n",
              "\n",
              "    [theme=dark] .colab-df-convert {\n",
              "      background-color: #3B4455;\n",
              "      fill: #D2E3FC;\n",
              "    }\n",
              "\n",
              "    [theme=dark] .colab-df-convert:hover {\n",
              "      background-color: #434B5C;\n",
              "      box-shadow: 0px 1px 3px 1px rgba(0, 0, 0, 0.15);\n",
              "      filter: drop-shadow(0px 1px 2px rgba(0, 0, 0, 0.3));\n",
              "      fill: #FFFFFF;\n",
              "    }\n",
              "  </style>\n",
              "\n",
              "      <script>\n",
              "        const buttonEl =\n",
              "          document.querySelector('#df-2c30763b-d888-44a7-861d-70265d171d68 button.colab-df-convert');\n",
              "        buttonEl.style.display =\n",
              "          google.colab.kernel.accessAllowed ? 'block' : 'none';\n",
              "\n",
              "        async function convertToInteractive(key) {\n",
              "          const element = document.querySelector('#df-2c30763b-d888-44a7-861d-70265d171d68');\n",
              "          const dataTable =\n",
              "            await google.colab.kernel.invokeFunction('convertToInteractive',\n",
              "                                                     [key], {});\n",
              "          if (!dataTable) return;\n",
              "\n",
              "          const docLinkHtml = 'Like what you see? Visit the ' +\n",
              "            '<a target=\"_blank\" href=https://colab.research.google.com/notebooks/data_table.ipynb>data table notebook</a>'\n",
              "            + ' to learn more about interactive tables.';\n",
              "          element.innerHTML = '';\n",
              "          dataTable['output_type'] = 'display_data';\n",
              "          await google.colab.output.renderOutput(dataTable, element);\n",
              "          const docLink = document.createElement('div');\n",
              "          docLink.innerHTML = docLinkHtml;\n",
              "          element.appendChild(docLink);\n",
              "        }\n",
              "      </script>\n",
              "    </div>\n",
              "  </div>\n",
              "  "
            ]
          },
          "metadata": {},
          "execution_count": 26
        }
      ],
      "source": [
        "prediction = pd.DataFrame()\n",
        "prediction['symbol'] = list(pred_submission.symbol)\n",
        "prediction['prediction'] = y_validation_linear_reg\n",
        "\n",
        "# sort the prediction to check which symbol is weaker and stronger, ie. FOX is weakest; BTC is strongest\n",
        "prediction.sort_values('prediction')"
      ]
    },
    {
      "cell_type": "markdown",
      "metadata": {
        "id": "2mq_vcI18R3R"
      },
      "source": [
        "### Check is prediction dataframe in accordance for submission format (using the prediction from linear regression)"
      ]
    },
    {
      "cell_type": "code",
      "execution_count": 27,
      "metadata": {
        "colab": {
          "base_uri": "https://localhost:8080/"
        },
        "id": "Nf0GPjqn8R3R",
        "outputId": "a56b54f7-445e-4c14-a173-dd09d88726ba"
      },
      "outputs": [
        {
          "output_type": "stream",
          "name": "stdout",
          "text": [
            "symbol matched!\n",
            "column counts ok!\n"
          ]
        }
      ],
      "source": [
        "#check if y_latest is in accordance to shape for submission\n",
        "if set(prediction.symbol) == set(validation_dataset.symbol):\n",
        "    print('symbol matched!')\n",
        "else:\n",
        "    print('symbol unmatched, the symbol in prediction df must match the symbol in validation_dataset...')\n",
        "    \n",
        "if prediction.shape[1] == 2:\n",
        "    print('column counts ok!')\n",
        "else:\n",
        "    print('It should have 2 columns, first column with symbol, second with prediction...')\n"
      ]
    },
    {
      "cell_type": "markdown",
      "metadata": {
        "id": "0PhAfMnR8R3S"
      },
      "source": [
        "### Output prediction as a .csv file for submission!"
      ]
    },
    {
      "cell_type": "code",
      "execution_count": 28,
      "metadata": {
        "id": "utRTWe0-8R3S"
      },
      "outputs": [],
      "source": [
        "#Output submission as .csv file\n",
        "#The prediction.csv is stored in content/prediction folder\n",
        "import os\n",
        "if not os.path.exists('/content/prediction'):\n",
        "    os.makedirs('/content/prediction')\n",
        "prediction.to_csv('/content/prediction/prediction.csv', index = False, header = None)"
      ]
    },
    {
      "cell_type": "markdown",
      "source": [
        "# **Submission Section**"
      ],
      "metadata": {
        "id": "aEv18jY34Kww"
      }
    },
    {
      "cell_type": "markdown",
      "metadata": {
        "collapsed": false,
        "id": "jKSoiqEW0Lg4"
      },
      "source": [
        "## **Setup**"
      ]
    },
    {
      "cell_type": "code",
      "source": [
        "!git clone https://github.com/rocketcapital-ai/competition_submission.git\n",
        "%cd /content/competition_submission"
      ],
      "metadata": {
        "id": "M7LbLhIz0Xh7",
        "outputId": "1c7db341-c819-4fd5-e7e6-6a29b0a474da",
        "colab": {
          "base_uri": "https://localhost:8080/"
        }
      },
      "execution_count": 29,
      "outputs": [
        {
          "output_type": "stream",
          "name": "stdout",
          "text": [
            "Cloning into 'competition_submission'...\n",
            "remote: Enumerating objects: 23, done.\u001b[K\n",
            "remote: Counting objects: 100% (23/23), done.\u001b[K\n",
            "remote: Compressing objects: 100% (16/16), done.\u001b[K\n",
            "remote: Total 23 (delta 3), reused 19 (delta 3), pack-reused 0\u001b[K\n",
            "Unpacking objects: 100% (23/23), done.\n",
            "/content/competition_submission\n"
          ]
        }
      ]
    },
    {
      "cell_type": "code",
      "source": [
        "!pip install base58\n",
        "!pip install PyYAML\n",
        "!pip install requests\n",
        "!pip install web3==5.29.2\n",
        "!pip install pandas \n",
        "from IPython.display import clear_output\n",
        "clear_output(wait = False)"
      ],
      "metadata": {
        "id": "lEl2hoVI2V-J"
      },
      "execution_count": 30,
      "outputs": []
    },
    {
      "cell_type": "code",
      "execution_count": 31,
      "metadata": {
        "pycharm": {
          "name": "#%%\n"
        },
        "id": "VgUYwRkJ0Lg8"
      },
      "outputs": [],
      "source": [
        "from lib.submitter import *\n",
        "\n",
        "jwt = 'eyJhbGciOiJIUzI1NiIsInR5cCI6IkpXVCJ9.eyJ1c2VySW5mb3JtYXRpb24iOnsiaWQiOiIxMDIwZDY0OC1kNzQ5LTQ5YjItOTZmZS1hNWQ0NDY5ODRjNTQiLCJlbWFpbCI6ImJpYmhhc2hwLmRhc0BnbWFpbC5jb20iLCJlbWFpbF92ZXJpZmllZCI6dHJ1ZSwicGluX3BvbGljeSI6eyJyZWdpb25zIjpbeyJpZCI6IkZSQTEiLCJkZXNpcmVkUmVwbGljYXRpb25Db3VudCI6MX0seyJpZCI6Ik5ZQzEiLCJkZXNpcmVkUmVwbGljYXRpb25Db3VudCI6MX1dLCJ2ZXJzaW9uIjoxfSwibWZhX2VuYWJsZWQiOmZhbHNlLCJzdGF0dXMiOiJBQ1RJVkUifSwiYXV0aGVudGljYXRpb25UeXBlIjoic2NvcGVkS2V5Iiwic2NvcGVkS2V5S2V5IjoiYmM4NWI0ZDQ1N2FhYWZlNzBmNGIiLCJzY29wZWRLZXlTZWNyZXQiOiJlMmEyOGFlZmFlNTcyMWZkNzM1Mjg4NzE5OTIzYTBkZTQ4MWY5NzUxZWQyZmVhMTE0MGJmYzRlNzNjNzRhYzI2IiwiaWF0IjoxNjU1MTM2Nzc4fQ.xl2FxgrL04kQIa7cIn89a_iE0I9xphiNf6K5K2mor5o'      # User-specified field.\n",
        "address = '0xcF16365d53ed53055f39010830e3CcD5A7a8245E'  # User-specified field.\n",
        "pk = '32316dfe607ed4a240ac29a6dcad9db6f484f0fbdf7894c15511237e1e13db70'       # User-specified field.\n",
        "submitter = Submitter(jwt, address, pk)"
      ]
    },
    {
      "cell_type": "markdown",
      "metadata": {
        "id": "3XjTmExp0Lg_"
      },
      "source": [
        "## View wallet address information."
      ]
    },
    {
      "cell_type": "code",
      "execution_count": 32,
      "metadata": {
        "pycharm": {
          "name": "#%%\n"
        },
        "id": "9BN9wZGW0LhB",
        "outputId": "7414ce85-ed09-4566-893b-99290934bf61",
        "colab": {
          "base_uri": "https://localhost:8080/"
        }
      },
      "outputs": [
        {
          "output_type": "stream",
          "name": "stdout",
          "text": [
            "MATIC balance for 0xcF16365d53ed53055f39010830e3CcD5A7a8245E: 0.980523475163870781\n",
            "MUSA balance for 0xcF16365d53ed53055f39010830e3CcD5A7a8245E: 0.869313545300001154\n",
            "Current stake for 0xcF16365d53ed53055f39010830e3CcD5A7a8245E: 264.943605785000001024\n"
          ]
        }
      ],
      "source": [
        "print('MATIC balance for {}: {}'.format(submitter.address, submitter.get_matic_balance()))\n",
        "print('MUSA balance for {}: {}'.format(submitter.address, submitter.get_musa_balance()))\n",
        "print('Current stake for {}: {}'.format(submitter.address, submitter.get_stake()))"
      ]
    },
    {
      "cell_type": "markdown",
      "metadata": {
        "collapsed": false,
        "id": "5ohgOcZ60LhC"
      },
      "source": [
        "## **Retrieve Dataset and run models.**\n",
        "### Please follow the instructions and example found [here](https://github.com/rocketcapital-ai/competition_quickstart_dataloader).\n",
        "\n",
        "### When completed, please place final prediction csv file in the `file_to_submit` folder."
      ]
    },
    {
      "cell_type": "code",
      "source": [
        "!cp \"/content/prediction/prediction.csv\" \"/content/competition_submission/file_to_submit/\""
      ],
      "metadata": {
        "id": "7UVxH1w93Rdy"
      },
      "execution_count": 33,
      "outputs": []
    },
    {
      "cell_type": "markdown",
      "metadata": {
        "collapsed": false,
        "id": "wQ894w1O0LhD"
      },
      "source": [
        "## **Set stake.** (optional)\n",
        "### Skip if no changes need to be made."
      ]
    },
    {
      "cell_type": "code",
      "execution_count": 34,
      "metadata": {
        "pycharm": {
          "name": "#%%\n"
        },
        "id": "uJlwEyJW0LhE"
      },
      "outputs": [],
      "source": [
        "# set_stake_amount = 125.00  # User-specified field.\n",
        "# transaction_success = submitter.set_stake(set_stake_amount)\n",
        "# assert transaction_success, 'Setting stake failed.'"
      ]
    },
    {
      "cell_type": "markdown",
      "metadata": {
        "collapsed": false,
        "pycharm": {
          "name": "#%% md\n"
        },
        "id": "G_iqtyFY0LhF"
      },
      "source": [
        "## **Submit predictions.**\n",
        "Note that the same `submit_prediction` method should be used for re-submitting predictions."
      ]
    },
    {
      "cell_type": "code",
      "execution_count": 35,
      "metadata": {
        "pycharm": {
          "name": "#%%\n"
        },
        "id": "eMYyDAIL0LhF",
        "colab": {
          "base_uri": "https://localhost:8080/"
        },
        "outputId": "79d6006a-1d3b-416b-a11c-8ec44c3067fa"
      },
      "outputs": [
        {
          "output_type": "stream",
          "name": "stdout",
          "text": [
            "Encrypting file.\n",
            "Zipping encrypted file.\n",
            "Uploading and recording on blockchain.\n",
            "Setting gas price to 87 gwei.\n",
            "Sending transaction 0x8d0281233191e3b422dae3e191a5287a7e941ac3315864aef9f46221b3779a9a\n",
            "Transaction sent. Tx ID: 0x8d0281233191e3b422dae3e191a5287a7e941ac3315864aef9f46221b3779a9a\n"
          ]
        }
      ],
      "source": [
        "submission_file_name = 'prediction.csv'  # User-specified field.\n",
        "transaction_success = submitter.submit_prediction(submission_file_name)\n",
        "assert transaction_success, 'Submission failed.'"
      ]
    },
    {
      "cell_type": "markdown",
      "metadata": {
        "id": "41q5KfA70LhG"
      },
      "source": [
        "### **Retrieve and double-check predictions.** (optional)\n",
        "This section retrieves your submitted files, decrypts them, and compares them to the original file in `file_to_submit`.\n",
        "\n",
        "If the verification fails, please wait a few minutes and perform the verification again. If the problem persists, please re-submit your predictions."
      ]
    },
    {
      "cell_type": "code",
      "execution_count": 36,
      "metadata": {
        "id": "NTANPvlH0LhH",
        "colab": {
          "base_uri": "https://localhost:8080/"
        },
        "outputId": "821ba924-5cd7-40d7-eb45-0962ddc0d972"
      },
      "outputs": [
        {
          "output_type": "stream",
          "name": "stdout",
          "text": [
            "Retrieving file.\n",
            "File retrieved.\n",
            "File unzipped.\n",
            "File decrypted. Comparing files.\n",
            "Removing temp files.\n",
            "Temp files removed.\n",
            "Files are identical. Verification check passed.\n"
          ]
        }
      ],
      "source": [
        "verification_success = submitter.download_and_check(submission_file_name)\n",
        "assert verification_success, 'Submission verification failed.'\n",
        "print('Files are identical. Verification check passed.')"
      ]
    },
    {
      "cell_type": "code",
      "source": [
        ""
      ],
      "metadata": {
        "id": "quwbIwHeykQY"
      },
      "execution_count": null,
      "outputs": []
    }
  ],
  "metadata": {
    "colab": {
      "collapsed_sections": [],
      "machine_shape": "hm",
      "name": "Quickstart-Copy1.ipynb",
      "provenance": [],
      "include_colab_link": true
    },
    "kernelspec": {
      "display_name": "Python 3 (ipykernel)",
      "language": "python",
      "name": "python3"
    },
    "language_info": {
      "codemirror_mode": {
        "name": "ipython",
        "version": 3
      },
      "file_extension": ".py",
      "mimetype": "text/x-python",
      "name": "python",
      "nbconvert_exporter": "python",
      "pygments_lexer": "ipython3",
      "version": "3.8.10"
    },
    "widgets": {
      "application/vnd.jupyter.widget-state+json": {
        "25c6dc4e13ac4f13b078853126337793": {
          "model_module": "@jupyter-widgets/controls",
          "model_name": "HBoxModel",
          "model_module_version": "1.5.0",
          "state": {
            "_dom_classes": [],
            "_model_module": "@jupyter-widgets/controls",
            "_model_module_version": "1.5.0",
            "_model_name": "HBoxModel",
            "_view_count": null,
            "_view_module": "@jupyter-widgets/controls",
            "_view_module_version": "1.5.0",
            "_view_name": "HBoxView",
            "box_style": "",
            "children": [
              "IPY_MODEL_5d73a45c632d4cf8a4bdde7eced6f2aa",
              "IPY_MODEL_da5f401510ca4094a572214766bb8c95",
              "IPY_MODEL_d8d4306e7e1d498b8d35df4de558a708"
            ],
            "layout": "IPY_MODEL_7358481234144207928f4421193c1a92"
          }
        },
        "5d73a45c632d4cf8a4bdde7eced6f2aa": {
          "model_module": "@jupyter-widgets/controls",
          "model_name": "HTMLModel",
          "model_module_version": "1.5.0",
          "state": {
            "_dom_classes": [],
            "_model_module": "@jupyter-widgets/controls",
            "_model_module_version": "1.5.0",
            "_model_name": "HTMLModel",
            "_view_count": null,
            "_view_module": "@jupyter-widgets/controls",
            "_view_module_version": "1.5.0",
            "_view_name": "HTMLView",
            "description": "",
            "description_tooltip": null,
            "layout": "IPY_MODEL_56ce882e6968492fafe7672be26a6266",
            "placeholder": "​",
            "style": "IPY_MODEL_cc1539c32937423e8920889513a361b8",
            "value": "100%"
          }
        },
        "da5f401510ca4094a572214766bb8c95": {
          "model_module": "@jupyter-widgets/controls",
          "model_name": "FloatProgressModel",
          "model_module_version": "1.5.0",
          "state": {
            "_dom_classes": [],
            "_model_module": "@jupyter-widgets/controls",
            "_model_module_version": "1.5.0",
            "_model_name": "FloatProgressModel",
            "_view_count": null,
            "_view_module": "@jupyter-widgets/controls",
            "_view_module_version": "1.5.0",
            "_view_name": "ProgressView",
            "bar_style": "success",
            "description": "",
            "description_tooltip": null,
            "layout": "IPY_MODEL_6c2c587986f74814a953aed86f6f1a3b",
            "max": 980,
            "min": 0,
            "orientation": "horizontal",
            "style": "IPY_MODEL_4c63ef45c8864dd7ac044aa4e76cbb4e",
            "value": 980
          }
        },
        "d8d4306e7e1d498b8d35df4de558a708": {
          "model_module": "@jupyter-widgets/controls",
          "model_name": "HTMLModel",
          "model_module_version": "1.5.0",
          "state": {
            "_dom_classes": [],
            "_model_module": "@jupyter-widgets/controls",
            "_model_module_version": "1.5.0",
            "_model_name": "HTMLModel",
            "_view_count": null,
            "_view_module": "@jupyter-widgets/controls",
            "_view_module_version": "1.5.0",
            "_view_name": "HTMLView",
            "description": "",
            "description_tooltip": null,
            "layout": "IPY_MODEL_20ef1c4985f94b0a9fe2a1f0a97d13f3",
            "placeholder": "​",
            "style": "IPY_MODEL_253bc81656f04c4faa2417ac06f25ba3",
            "value": " 980/980 [01:21&lt;00:00, 13.35it/s]"
          }
        },
        "7358481234144207928f4421193c1a92": {
          "model_module": "@jupyter-widgets/base",
          "model_name": "LayoutModel",
          "model_module_version": "1.2.0",
          "state": {
            "_model_module": "@jupyter-widgets/base",
            "_model_module_version": "1.2.0",
            "_model_name": "LayoutModel",
            "_view_count": null,
            "_view_module": "@jupyter-widgets/base",
            "_view_module_version": "1.2.0",
            "_view_name": "LayoutView",
            "align_content": null,
            "align_items": null,
            "align_self": null,
            "border": null,
            "bottom": null,
            "display": null,
            "flex": null,
            "flex_flow": null,
            "grid_area": null,
            "grid_auto_columns": null,
            "grid_auto_flow": null,
            "grid_auto_rows": null,
            "grid_column": null,
            "grid_gap": null,
            "grid_row": null,
            "grid_template_areas": null,
            "grid_template_columns": null,
            "grid_template_rows": null,
            "height": null,
            "justify_content": null,
            "justify_items": null,
            "left": null,
            "margin": null,
            "max_height": null,
            "max_width": null,
            "min_height": null,
            "min_width": null,
            "object_fit": null,
            "object_position": null,
            "order": null,
            "overflow": null,
            "overflow_x": null,
            "overflow_y": null,
            "padding": null,
            "right": null,
            "top": null,
            "visibility": null,
            "width": null
          }
        },
        "56ce882e6968492fafe7672be26a6266": {
          "model_module": "@jupyter-widgets/base",
          "model_name": "LayoutModel",
          "model_module_version": "1.2.0",
          "state": {
            "_model_module": "@jupyter-widgets/base",
            "_model_module_version": "1.2.0",
            "_model_name": "LayoutModel",
            "_view_count": null,
            "_view_module": "@jupyter-widgets/base",
            "_view_module_version": "1.2.0",
            "_view_name": "LayoutView",
            "align_content": null,
            "align_items": null,
            "align_self": null,
            "border": null,
            "bottom": null,
            "display": null,
            "flex": null,
            "flex_flow": null,
            "grid_area": null,
            "grid_auto_columns": null,
            "grid_auto_flow": null,
            "grid_auto_rows": null,
            "grid_column": null,
            "grid_gap": null,
            "grid_row": null,
            "grid_template_areas": null,
            "grid_template_columns": null,
            "grid_template_rows": null,
            "height": null,
            "justify_content": null,
            "justify_items": null,
            "left": null,
            "margin": null,
            "max_height": null,
            "max_width": null,
            "min_height": null,
            "min_width": null,
            "object_fit": null,
            "object_position": null,
            "order": null,
            "overflow": null,
            "overflow_x": null,
            "overflow_y": null,
            "padding": null,
            "right": null,
            "top": null,
            "visibility": null,
            "width": null
          }
        },
        "cc1539c32937423e8920889513a361b8": {
          "model_module": "@jupyter-widgets/controls",
          "model_name": "DescriptionStyleModel",
          "model_module_version": "1.5.0",
          "state": {
            "_model_module": "@jupyter-widgets/controls",
            "_model_module_version": "1.5.0",
            "_model_name": "DescriptionStyleModel",
            "_view_count": null,
            "_view_module": "@jupyter-widgets/base",
            "_view_module_version": "1.2.0",
            "_view_name": "StyleView",
            "description_width": ""
          }
        },
        "6c2c587986f74814a953aed86f6f1a3b": {
          "model_module": "@jupyter-widgets/base",
          "model_name": "LayoutModel",
          "model_module_version": "1.2.0",
          "state": {
            "_model_module": "@jupyter-widgets/base",
            "_model_module_version": "1.2.0",
            "_model_name": "LayoutModel",
            "_view_count": null,
            "_view_module": "@jupyter-widgets/base",
            "_view_module_version": "1.2.0",
            "_view_name": "LayoutView",
            "align_content": null,
            "align_items": null,
            "align_self": null,
            "border": null,
            "bottom": null,
            "display": null,
            "flex": null,
            "flex_flow": null,
            "grid_area": null,
            "grid_auto_columns": null,
            "grid_auto_flow": null,
            "grid_auto_rows": null,
            "grid_column": null,
            "grid_gap": null,
            "grid_row": null,
            "grid_template_areas": null,
            "grid_template_columns": null,
            "grid_template_rows": null,
            "height": null,
            "justify_content": null,
            "justify_items": null,
            "left": null,
            "margin": null,
            "max_height": null,
            "max_width": null,
            "min_height": null,
            "min_width": null,
            "object_fit": null,
            "object_position": null,
            "order": null,
            "overflow": null,
            "overflow_x": null,
            "overflow_y": null,
            "padding": null,
            "right": null,
            "top": null,
            "visibility": null,
            "width": null
          }
        },
        "4c63ef45c8864dd7ac044aa4e76cbb4e": {
          "model_module": "@jupyter-widgets/controls",
          "model_name": "ProgressStyleModel",
          "model_module_version": "1.5.0",
          "state": {
            "_model_module": "@jupyter-widgets/controls",
            "_model_module_version": "1.5.0",
            "_model_name": "ProgressStyleModel",
            "_view_count": null,
            "_view_module": "@jupyter-widgets/base",
            "_view_module_version": "1.2.0",
            "_view_name": "StyleView",
            "bar_color": null,
            "description_width": ""
          }
        },
        "20ef1c4985f94b0a9fe2a1f0a97d13f3": {
          "model_module": "@jupyter-widgets/base",
          "model_name": "LayoutModel",
          "model_module_version": "1.2.0",
          "state": {
            "_model_module": "@jupyter-widgets/base",
            "_model_module_version": "1.2.0",
            "_model_name": "LayoutModel",
            "_view_count": null,
            "_view_module": "@jupyter-widgets/base",
            "_view_module_version": "1.2.0",
            "_view_name": "LayoutView",
            "align_content": null,
            "align_items": null,
            "align_self": null,
            "border": null,
            "bottom": null,
            "display": null,
            "flex": null,
            "flex_flow": null,
            "grid_area": null,
            "grid_auto_columns": null,
            "grid_auto_flow": null,
            "grid_auto_rows": null,
            "grid_column": null,
            "grid_gap": null,
            "grid_row": null,
            "grid_template_areas": null,
            "grid_template_columns": null,
            "grid_template_rows": null,
            "height": null,
            "justify_content": null,
            "justify_items": null,
            "left": null,
            "margin": null,
            "max_height": null,
            "max_width": null,
            "min_height": null,
            "min_width": null,
            "object_fit": null,
            "object_position": null,
            "order": null,
            "overflow": null,
            "overflow_x": null,
            "overflow_y": null,
            "padding": null,
            "right": null,
            "top": null,
            "visibility": null,
            "width": null
          }
        },
        "253bc81656f04c4faa2417ac06f25ba3": {
          "model_module": "@jupyter-widgets/controls",
          "model_name": "DescriptionStyleModel",
          "model_module_version": "1.5.0",
          "state": {
            "_model_module": "@jupyter-widgets/controls",
            "_model_module_version": "1.5.0",
            "_model_name": "DescriptionStyleModel",
            "_view_count": null,
            "_view_module": "@jupyter-widgets/base",
            "_view_module_version": "1.2.0",
            "_view_name": "StyleView",
            "description_width": ""
          }
        },
        "1a43e3ef8b6a41b3ac521ddc2a9911e0": {
          "model_module": "@jupyter-widgets/output",
          "model_name": "OutputModel",
          "model_module_version": "1.0.0",
          "state": {
            "_dom_classes": [],
            "_model_module": "@jupyter-widgets/output",
            "_model_module_version": "1.0.0",
            "_model_name": "OutputModel",
            "_view_count": null,
            "_view_module": "@jupyter-widgets/output",
            "_view_module_version": "1.0.0",
            "_view_name": "OutputView",
            "layout": "IPY_MODEL_25ffe45dffca470db3dceedfe235c011",
            "msg_id": "",
            "outputs": [
              {
                "output_type": "display_data",
                "data": {
                  "text/plain": "✅  lgb_model            \u001b[38;2;21;127;61m━━━━━━━━━━\u001b[0m \u001b[38;2;21;127;61mDONE\u001b[0m \u001b[39m[\u001b[0m\u001b[38;2;155;155;159m0:00:12\u001b[0m\u001b[39m]\u001b[0m                        \n    \u001b[4;38;2;161;161;169m↳ \u001b[0m\u001b]8;id=4513;https://app.layer.ai/bibhash/rci-competition/models/lgb_model?v=2.3\u001b\\\u001b[4;38;2;161;161;169mhttps://app.layer.ai/bibhash/rci-competition/models/lgb_model?v=2.3\u001b[0m\u001b]8;;\u001b\\ \n",
                  "text/html": "<pre style=\"white-space:pre;overflow-x:auto;line-height:normal;font-family:Menlo,'DejaVu Sans Mono',consolas,'Courier New',monospace\">✅  lgb_model            <span style=\"color: #157f3d; text-decoration-color: #157f3d\">━━━━━━━━━━</span> <span style=\"color: #157f3d; text-decoration-color: #157f3d\">DONE</span> <span style=\"color: #000000; text-decoration-color: #000000\">[</span><span style=\"color: #9b9b9f; text-decoration-color: #9b9b9f\">0:00:12</span><span style=\"color: #000000; text-decoration-color: #000000\">]</span>                        \n    <span style=\"color: #a1a1a9; text-decoration-color: #a1a1a9; text-decoration: underline\">↳ </span><a href=\"https://app.layer.ai/bibhash/rci-competition/models/lgb_model?v=2.3\" target=\"_blank\"><span style=\"color: #a1a1a9; text-decoration-color: #a1a1a9; text-decoration: underline\">https://app.layer.ai/bibhash/rci-competition/models/lgb_model?v=2.3</span></a> \n</pre>\n"
                },
                "metadata": {}
              }
            ]
          }
        },
        "25ffe45dffca470db3dceedfe235c011": {
          "model_module": "@jupyter-widgets/base",
          "model_name": "LayoutModel",
          "model_module_version": "1.2.0",
          "state": {
            "_model_module": "@jupyter-widgets/base",
            "_model_module_version": "1.2.0",
            "_model_name": "LayoutModel",
            "_view_count": null,
            "_view_module": "@jupyter-widgets/base",
            "_view_module_version": "1.2.0",
            "_view_name": "LayoutView",
            "align_content": null,
            "align_items": null,
            "align_self": null,
            "border": null,
            "bottom": null,
            "display": null,
            "flex": null,
            "flex_flow": null,
            "grid_area": null,
            "grid_auto_columns": null,
            "grid_auto_flow": null,
            "grid_auto_rows": null,
            "grid_column": null,
            "grid_gap": null,
            "grid_row": null,
            "grid_template_areas": null,
            "grid_template_columns": null,
            "grid_template_rows": null,
            "height": null,
            "justify_content": null,
            "justify_items": null,
            "left": null,
            "margin": null,
            "max_height": null,
            "max_width": null,
            "min_height": null,
            "min_width": null,
            "object_fit": null,
            "object_position": null,
            "order": null,
            "overflow": null,
            "overflow_x": null,
            "overflow_y": null,
            "padding": null,
            "right": null,
            "top": null,
            "visibility": null,
            "width": null
          }
        }
      }
    },
    "gpuClass": "standard",
    "accelerator": "GPU"
  },
  "nbformat": 4,
  "nbformat_minor": 0
}