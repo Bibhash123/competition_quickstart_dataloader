{
  "cells": [
    {
      "cell_type": "markdown",
      "metadata": {
        "id": "view-in-github",
        "colab_type": "text"
      },
      "source": [
        "<a href=\"https://colab.research.google.com/github/Bibhash123/competition_quickstart_dataloader/blob/main/Ideas.ipynb\" target=\"_parent\"><img src=\"https://colab.research.google.com/assets/colab-badge.svg\" alt=\"Open In Colab\"/></a>"
      ]
    },
    {
      "cell_type": "markdown",
      "metadata": {
        "id": "ftqpYUgS8R3K"
      },
      "source": [
        "## This is a sample jupyter notebook to generate the prediction for competition submission"
      ]
    },
    {
      "cell_type": "markdown",
      "metadata": {
        "id": "NQLWgQD89hcA"
      },
      "source": [
        "### Download and import custom module from RCI repo to get latest dataset from IPFS"
      ]
    },
    {
      "cell_type": "code",
      "execution_count": null,
      "metadata": {
        "id": "BKdPUCb4hHWl"
      },
      "outputs": [],
      "source": [
        "# # download custom module from RCI github repo which enable us to download dataset directly from IPFS\n",
        "# !wget -O dataloader.py https://raw.githubusercontent.com/rocketcapital-ai/competition_quickstart_dataloader/main/dataloader.py\n",
        "\n",
        "# # import modules\n",
        "# import sys, zipfile\n",
        "# from google.colab import files\n",
        "\n",
        "# # append the directory of downloaded custom module to system path so we can import it\n",
        "# sys.path.append('/content/')\n",
        "\n",
        "# # install base58 module to decrpt the dataset\n",
        "# !pip install base58\n",
        "\n",
        "# # import the downloaded module\n",
        "# from dataloader import download_dataset\n",
        "\n",
        "# # download latest dataset from IPFS\n",
        "# filename = download_dataset()\n",
        "\n",
        "# # unzip the file\n",
        "# with zipfile.ZipFile(filename, 'r') as zip_ref:\n",
        "#     zip_ref.extractall()\n"
      ]
    },
    {
      "cell_type": "code",
      "source": [
        "from IPython.display import clear_output\n",
        "!mkdir ~/.kaggle/\n",
        "!cp kaggle.json ~/.kaggle/kaggle.json\n",
        "!chmod 600 ~/.kaggle/kaggle.json\n",
        "!pip install -q kaggle\n",
        "!kaggle datasets download -d \"bericdondarion/rcidata\"\n",
        "!unzip rcidata.zip -d \"/content/rci/\"\n",
        "!rm -r rcidata.zip\n",
        "clear_output(wait = False)"
      ],
      "metadata": {
        "id": "aK1Iwo5ehXl0"
      },
      "execution_count": null,
      "outputs": []
    },
    {
      "cell_type": "markdown",
      "source": [
        "## Imports"
      ],
      "metadata": {
        "id": "200S2nD2NhrH"
      }
    },
    {
      "cell_type": "code",
      "source": [
        "import os\n",
        "from tqdm.notebook import tqdm\n",
        "import pandas as pd\n",
        "import numpy as np\n",
        "import scipy as sp\n",
        "import warnings\n",
        "warnings.filterwarnings(action='ignore', category=UserWarning)"
      ],
      "metadata": {
        "id": "YgzM4cbIZoox"
      },
      "execution_count": 15,
      "outputs": []
    },
    {
      "cell_type": "code",
      "source": [
        "import tensorflow as tf\n",
        "import tensorflow.keras.layers as L\n",
        "import tensorflow.keras.backend as K\n",
        "\n",
        "BATCH_SIZE = 16"
      ],
      "metadata": {
        "id": "1n2ugUWq5bye"
      },
      "execution_count": 16,
      "outputs": []
    },
    {
      "cell_type": "code",
      "source": [
        "def rank_data(series):\n",
        "    return (series.rank() - 1) / (len(series) - 1)"
      ],
      "metadata": {
        "id": "xoUpfyDZingj"
      },
      "execution_count": 17,
      "outputs": []
    },
    {
      "cell_type": "markdown",
      "source": [
        "## Data Loading"
      ],
      "metadata": {
        "id": "m_5VXKA1g-8j"
      }
    },
    {
      "cell_type": "code",
      "source": [
        "def build_generator(files, labelled = True):\n",
        "  def load_data():\n",
        "    for _,record in files.iterrows():\n",
        "      if not pd.isnull(record['filename']):\n",
        "        temp = np.load(record['filename'])\n",
        "        if labelled:\n",
        "          yield (temp['arr_0'], temp['arr_1']), record['target_DC1']\n",
        "        else:\n",
        "          yield (temp['arr_0'], temp['arr_1'])\n",
        "      else:\n",
        "        continue\n",
        "  return load_data\n",
        "\n",
        "def getDataset(files, batch = True, repeat = True, shuffle = True, labelled = True):\n",
        "  datagen = build_generator(files, labelled)\n",
        "  data = tf.data.Dataset.from_generator(datagen, output_signature = ((tf.TensorSpec(shape=(10,2010), dtype=tf.float32),\n",
        "                                                                      tf.TensorSpec(shape=(10,1), dtype=tf.float32)),\n",
        "                                                                      tf.TensorSpec(shape=(), dtype=tf.float32)))\n",
        "  \n",
        "  data = data.shuffle(10* BATCH_SIZE) if shuffle else data\n",
        "  data = data.batch(BATCH_SIZE) if batch else data\n",
        "  data = data.repeat() if repeat else data\n",
        "  return data"
      ],
      "metadata": {
        "id": "SX9536C2g9Zs"
      },
      "execution_count": 19,
      "outputs": []
    },
    {
      "cell_type": "code",
      "source": [
        "X_train = pd.read_csv(\"/content/data/train_files.csv\")\n",
        "X_test = pd.read_csv(\"/content/data/val_files.csv\")\n",
        "test_files = pd.read_csv(\"/content/data/test_files.csv\")"
      ],
      "metadata": {
        "id": "AGci87j0nWZ7"
      },
      "execution_count": 20,
      "outputs": []
    },
    {
      "cell_type": "code",
      "source": [
        "!mv \"/content/rci/data\" \"/content/\""
      ],
      "metadata": {
        "id": "ymg36SwYyc9e"
      },
      "execution_count": null,
      "outputs": []
    },
    {
      "cell_type": "code",
      "source": [
        "train_data = getDataset(X_train, batch = True, shuffle = True, repeat = True, labelled = True)\n",
        "val_data = getDataset(X_test, batch = True, shuffle = False, repeat = False, labelled = True)"
      ],
      "metadata": {
        "id": "X-CHPoAgZSff"
      },
      "execution_count": 21,
      "outputs": []
    },
    {
      "cell_type": "markdown",
      "source": [
        "# LSTM model building"
      ],
      "metadata": {
        "id": "rgRTi9tOZ0LZ"
      }
    },
    {
      "cell_type": "code",
      "source": [
        "class AttentionHead(L.Layer):\n",
        "    def __init__(self, in_features, hidden_dim):\n",
        "        super(AttentionHead,self).__init__()\n",
        "        self.in_features = in_features\n",
        "        self.middle_features = hidden_dim\n",
        "        self.W = L.Dense(hidden_dim)\n",
        "        self.V = L.Dense(1)\n",
        "        self.out_features = hidden_dim\n",
        "        self.mul = L.Multiply()\n",
        "    \n",
        "    def call(self, features, attn_mask):\n",
        "        att = tf.keras.activations.tanh(self.W(features))\n",
        "        score = self.V(att)\n",
        "        attention_weights = tf.keras.activations.softmax(score, axis=1)\n",
        "        mod_attention_weights = self.mul([attn_mask, attention_weights])\n",
        "        context_vector = mod_attention_weights * features\n",
        "        context_vector = K.sum(context_vector, axis=1)\n",
        "\n",
        "        return context_vector"
      ],
      "metadata": {
        "id": "e232mdXyidYc"
      },
      "execution_count": 22,
      "outputs": []
    },
    {
      "cell_type": "code",
      "source": [
        "def buildModel():\n",
        "  inp1 = L.Input(shape = (10, 2010))\n",
        "  inp2 = L.Input(shape = (10, 1))\n",
        "  inp11 = inp1[:,:,:-1]\n",
        "  inp12 = tf.expand_dims(inp1[:,:,-1],axis = -1)\n",
        "  h1 = L.LSTM(256, return_sequences = True)(inp11)\n",
        "  h1 = L.LSTM(64, return_sequences = True)(h1)\n",
        "  h1 = AttentionHead(64, 32)(h1, inp2)\n",
        "  h2 = L.Conv1D(1,3, activation = \"relu\")(inp12)\n",
        "  \n",
        "\n",
        "  h1 = L.Flatten()(h1)\n",
        "  h2 = L.Flatten()(h2)\n",
        "  h = L.Concatenate(axis = -1)([h1,h2])\n",
        "  \n",
        "  h = L.Dropout(0.1)(h)\n",
        "  h = L.Dense(32, activation = \"relu\")(h)\n",
        "  h = L.Dropout(0.1)(h)\n",
        "  h = L.Dense(16, activation = \"relu\")(h)\n",
        "  h = L.Dropout(0.1)(h)\n",
        "  h = L.Dense(1, activation = \"linear\")(h)\n",
        "  model = tf.keras.Model(inputs = [inp1, inp2], outputs=  h)\n",
        "  opt = tf.keras.optimizers.Adam(learning_rate = 1e-3)\n",
        "  model.compile(loss = \"mse\", optimizer = opt)\n",
        "  return model\n",
        "\n",
        "model = buildModel()\n",
        "model.summary()"
      ],
      "metadata": {
        "id": "qpET5rlmZ2x3",
        "outputId": "703b3433-0c34-476f-899d-e3eeae218ce2",
        "colab": {
          "base_uri": "https://localhost:8080/"
        }
      },
      "execution_count": 26,
      "outputs": [
        {
          "output_type": "stream",
          "name": "stdout",
          "text": [
            "(None, 10, 1)\n",
            "Model: \"model\"\n",
            "__________________________________________________________________________________________________\n",
            " Layer (type)                   Output Shape         Param #     Connected to                     \n",
            "==================================================================================================\n",
            " input_7 (InputLayer)           [(None, 10, 2010)]   0           []                               \n",
            "                                                                                                  \n",
            " tf.__operators__.getitem_3 (Sl  (None, 10, 2009)    0           ['input_7[0][0]']                \n",
            " icingOpLambda)                                                                                   \n",
            "                                                                                                  \n",
            " lstm_2 (LSTM)                  (None, 10, 256)      2320384     ['tf.__operators__.getitem_3[0][0\n",
            "                                                                 ]']                              \n",
            "                                                                                                  \n",
            " tf.__operators__.getitem_4 (Sl  (None, 10)          0           ['input_7[0][0]']                \n",
            " icingOpLambda)                                                                                   \n",
            "                                                                                                  \n",
            " lstm_3 (LSTM)                  (None, 10, 64)       82176       ['lstm_2[0][0]']                 \n",
            "                                                                                                  \n",
            " input_8 (InputLayer)           [(None, 10, 1)]      0           []                               \n",
            "                                                                                                  \n",
            " tf.expand_dims (TFOpLambda)    (None, 10, 1)        0           ['tf.__operators__.getitem_4[0][0\n",
            "                                                                 ]']                              \n",
            "                                                                                                  \n",
            " attention_head_1 (AttentionHea  (None, 64)          2113        ['lstm_3[0][0]',                 \n",
            " d)                                                               'input_8[0][0]']                \n",
            "                                                                                                  \n",
            " conv1d_1 (Conv1D)              (None, 8, 1)         4           ['tf.expand_dims[0][0]']         \n",
            "                                                                                                  \n",
            " flatten (Flatten)              (None, 64)           0           ['attention_head_1[0][0]']       \n",
            "                                                                                                  \n",
            " flatten_1 (Flatten)            (None, 8)            0           ['conv1d_1[0][0]']               \n",
            "                                                                                                  \n",
            " concatenate (Concatenate)      (None, 72)           0           ['flatten[0][0]',                \n",
            "                                                                  'flatten_1[0][0]']              \n",
            "                                                                                                  \n",
            " dropout (Dropout)              (None, 72)           0           ['concatenate[0][0]']            \n",
            "                                                                                                  \n",
            " dense_4 (Dense)                (None, 32)           2336        ['dropout[0][0]']                \n",
            "                                                                                                  \n",
            " dropout_1 (Dropout)            (None, 32)           0           ['dense_4[0][0]']                \n",
            "                                                                                                  \n",
            " dense_5 (Dense)                (None, 16)           528         ['dropout_1[0][0]']              \n",
            "                                                                                                  \n",
            " dropout_2 (Dropout)            (None, 16)           0           ['dense_5[0][0]']                \n",
            "                                                                                                  \n",
            " dense_6 (Dense)                (None, 1)            17          ['dropout_2[0][0]']              \n",
            "                                                                                                  \n",
            "==================================================================================================\n",
            "Total params: 2,407,558\n",
            "Trainable params: 2,407,558\n",
            "Non-trainable params: 0\n",
            "__________________________________________________________________________________________________\n"
          ]
        }
      ]
    },
    {
      "cell_type": "code",
      "source": [
        "ckpt = tf.keras.callbacks.ModelCheckpoint('model.hdf5', monitor = 'val_loss', mode = 'min', save_best_only = True, \n",
        "                                          save_weights_only = True)\n",
        "es = tf.keras.callbacks.EarlyStopping(patience = 5, monitor = 'val_loss', mode = 'min')\n",
        "\n",
        "model.fit(train_data,\n",
        "          epochs = 10,\n",
        "          steps_per_epoch = X_train.shape[0]//BATCH_SIZE,\n",
        "          validation_data = val_data,\n",
        "          callbacks = [ckpt, es]\n",
        "          )"
      ],
      "metadata": {
        "id": "fVK9no_VkcMe",
        "colab": {
          "base_uri": "https://localhost:8080/",
          "height": 432
        },
        "outputId": "6c9f07b0-7349-4119-8e99-1fa234ddaaea"
      },
      "execution_count": 27,
      "outputs": [
        {
          "output_type": "stream",
          "name": "stdout",
          "text": [
            "Epoch 1/10\n",
            "(None, 10, 1)\n",
            "(None, 10, 1)\n",
            " 261/3825 [=>............................] - ETA: 4:27 - loss: 0.0483"
          ]
        },
        {
          "output_type": "error",
          "ename": "KeyboardInterrupt",
          "evalue": "ignored",
          "traceback": [
            "\u001b[0;31m---------------------------------------------------------------------------\u001b[0m",
            "\u001b[0;31mKeyboardInterrupt\u001b[0m                         Traceback (most recent call last)",
            "\u001b[0;32m<ipython-input-27-40e77dadea6a>\u001b[0m in \u001b[0;36m<module>\u001b[0;34m()\u001b[0m\n\u001b[1;32m      7\u001b[0m           \u001b[0msteps_per_epoch\u001b[0m \u001b[0;34m=\u001b[0m \u001b[0mX_train\u001b[0m\u001b[0;34m.\u001b[0m\u001b[0mshape\u001b[0m\u001b[0;34m[\u001b[0m\u001b[0;36m0\u001b[0m\u001b[0;34m]\u001b[0m\u001b[0;34m//\u001b[0m\u001b[0mBATCH_SIZE\u001b[0m\u001b[0;34m,\u001b[0m\u001b[0;34m\u001b[0m\u001b[0;34m\u001b[0m\u001b[0m\n\u001b[1;32m      8\u001b[0m           \u001b[0mvalidation_data\u001b[0m \u001b[0;34m=\u001b[0m \u001b[0mval_data\u001b[0m\u001b[0;34m,\u001b[0m\u001b[0;34m\u001b[0m\u001b[0;34m\u001b[0m\u001b[0m\n\u001b[0;32m----> 9\u001b[0;31m           \u001b[0mcallbacks\u001b[0m \u001b[0;34m=\u001b[0m \u001b[0;34m[\u001b[0m\u001b[0mckpt\u001b[0m\u001b[0;34m,\u001b[0m \u001b[0mes\u001b[0m\u001b[0;34m]\u001b[0m\u001b[0;34m\u001b[0m\u001b[0;34m\u001b[0m\u001b[0m\n\u001b[0m\u001b[1;32m     10\u001b[0m           )\n",
            "\u001b[0;32m/usr/local/lib/python3.7/dist-packages/keras/utils/traceback_utils.py\u001b[0m in \u001b[0;36merror_handler\u001b[0;34m(*args, **kwargs)\u001b[0m\n\u001b[1;32m     62\u001b[0m     \u001b[0mfiltered_tb\u001b[0m \u001b[0;34m=\u001b[0m \u001b[0;32mNone\u001b[0m\u001b[0;34m\u001b[0m\u001b[0;34m\u001b[0m\u001b[0m\n\u001b[1;32m     63\u001b[0m     \u001b[0;32mtry\u001b[0m\u001b[0;34m:\u001b[0m\u001b[0;34m\u001b[0m\u001b[0;34m\u001b[0m\u001b[0m\n\u001b[0;32m---> 64\u001b[0;31m       \u001b[0;32mreturn\u001b[0m \u001b[0mfn\u001b[0m\u001b[0;34m(\u001b[0m\u001b[0;34m*\u001b[0m\u001b[0margs\u001b[0m\u001b[0;34m,\u001b[0m \u001b[0;34m**\u001b[0m\u001b[0mkwargs\u001b[0m\u001b[0;34m)\u001b[0m\u001b[0;34m\u001b[0m\u001b[0;34m\u001b[0m\u001b[0m\n\u001b[0m\u001b[1;32m     65\u001b[0m     \u001b[0;32mexcept\u001b[0m \u001b[0mException\u001b[0m \u001b[0;32mas\u001b[0m \u001b[0me\u001b[0m\u001b[0;34m:\u001b[0m  \u001b[0;31m# pylint: disable=broad-except\u001b[0m\u001b[0;34m\u001b[0m\u001b[0;34m\u001b[0m\u001b[0m\n\u001b[1;32m     66\u001b[0m       \u001b[0mfiltered_tb\u001b[0m \u001b[0;34m=\u001b[0m \u001b[0m_process_traceback_frames\u001b[0m\u001b[0;34m(\u001b[0m\u001b[0me\u001b[0m\u001b[0;34m.\u001b[0m\u001b[0m__traceback__\u001b[0m\u001b[0;34m)\u001b[0m\u001b[0;34m\u001b[0m\u001b[0;34m\u001b[0m\u001b[0m\n",
            "\u001b[0;32m/usr/local/lib/python3.7/dist-packages/keras/engine/training.py\u001b[0m in \u001b[0;36mfit\u001b[0;34m(self, x, y, batch_size, epochs, verbose, callbacks, validation_split, validation_data, shuffle, class_weight, sample_weight, initial_epoch, steps_per_epoch, validation_steps, validation_batch_size, validation_freq, max_queue_size, workers, use_multiprocessing)\u001b[0m\n\u001b[1;32m   1382\u001b[0m                 _r=1):\n\u001b[1;32m   1383\u001b[0m               \u001b[0mcallbacks\u001b[0m\u001b[0;34m.\u001b[0m\u001b[0mon_train_batch_begin\u001b[0m\u001b[0;34m(\u001b[0m\u001b[0mstep\u001b[0m\u001b[0;34m)\u001b[0m\u001b[0;34m\u001b[0m\u001b[0;34m\u001b[0m\u001b[0m\n\u001b[0;32m-> 1384\u001b[0;31m               \u001b[0mtmp_logs\u001b[0m \u001b[0;34m=\u001b[0m \u001b[0mself\u001b[0m\u001b[0;34m.\u001b[0m\u001b[0mtrain_function\u001b[0m\u001b[0;34m(\u001b[0m\u001b[0miterator\u001b[0m\u001b[0;34m)\u001b[0m\u001b[0;34m\u001b[0m\u001b[0;34m\u001b[0m\u001b[0m\n\u001b[0m\u001b[1;32m   1385\u001b[0m               \u001b[0;32mif\u001b[0m \u001b[0mdata_handler\u001b[0m\u001b[0;34m.\u001b[0m\u001b[0mshould_sync\u001b[0m\u001b[0;34m:\u001b[0m\u001b[0;34m\u001b[0m\u001b[0;34m\u001b[0m\u001b[0m\n\u001b[1;32m   1386\u001b[0m                 \u001b[0mcontext\u001b[0m\u001b[0;34m.\u001b[0m\u001b[0masync_wait\u001b[0m\u001b[0;34m(\u001b[0m\u001b[0;34m)\u001b[0m\u001b[0;34m\u001b[0m\u001b[0;34m\u001b[0m\u001b[0m\n",
            "\u001b[0;32m/usr/local/lib/python3.7/dist-packages/tensorflow/python/util/traceback_utils.py\u001b[0m in \u001b[0;36merror_handler\u001b[0;34m(*args, **kwargs)\u001b[0m\n\u001b[1;32m    148\u001b[0m     \u001b[0mfiltered_tb\u001b[0m \u001b[0;34m=\u001b[0m \u001b[0;32mNone\u001b[0m\u001b[0;34m\u001b[0m\u001b[0;34m\u001b[0m\u001b[0m\n\u001b[1;32m    149\u001b[0m     \u001b[0;32mtry\u001b[0m\u001b[0;34m:\u001b[0m\u001b[0;34m\u001b[0m\u001b[0;34m\u001b[0m\u001b[0m\n\u001b[0;32m--> 150\u001b[0;31m       \u001b[0;32mreturn\u001b[0m \u001b[0mfn\u001b[0m\u001b[0;34m(\u001b[0m\u001b[0;34m*\u001b[0m\u001b[0margs\u001b[0m\u001b[0;34m,\u001b[0m \u001b[0;34m**\u001b[0m\u001b[0mkwargs\u001b[0m\u001b[0;34m)\u001b[0m\u001b[0;34m\u001b[0m\u001b[0;34m\u001b[0m\u001b[0m\n\u001b[0m\u001b[1;32m    151\u001b[0m     \u001b[0;32mexcept\u001b[0m \u001b[0mException\u001b[0m \u001b[0;32mas\u001b[0m \u001b[0me\u001b[0m\u001b[0;34m:\u001b[0m\u001b[0;34m\u001b[0m\u001b[0;34m\u001b[0m\u001b[0m\n\u001b[1;32m    152\u001b[0m       \u001b[0mfiltered_tb\u001b[0m \u001b[0;34m=\u001b[0m \u001b[0m_process_traceback_frames\u001b[0m\u001b[0;34m(\u001b[0m\u001b[0me\u001b[0m\u001b[0;34m.\u001b[0m\u001b[0m__traceback__\u001b[0m\u001b[0;34m)\u001b[0m\u001b[0;34m\u001b[0m\u001b[0;34m\u001b[0m\u001b[0m\n",
            "\u001b[0;32m/usr/local/lib/python3.7/dist-packages/tensorflow/python/eager/def_function.py\u001b[0m in \u001b[0;36m__call__\u001b[0;34m(self, *args, **kwds)\u001b[0m\n\u001b[1;32m    913\u001b[0m \u001b[0;34m\u001b[0m\u001b[0m\n\u001b[1;32m    914\u001b[0m       \u001b[0;32mwith\u001b[0m \u001b[0mOptionalXlaContext\u001b[0m\u001b[0;34m(\u001b[0m\u001b[0mself\u001b[0m\u001b[0;34m.\u001b[0m\u001b[0m_jit_compile\u001b[0m\u001b[0;34m)\u001b[0m\u001b[0;34m:\u001b[0m\u001b[0;34m\u001b[0m\u001b[0;34m\u001b[0m\u001b[0m\n\u001b[0;32m--> 915\u001b[0;31m         \u001b[0mresult\u001b[0m \u001b[0;34m=\u001b[0m \u001b[0mself\u001b[0m\u001b[0;34m.\u001b[0m\u001b[0m_call\u001b[0m\u001b[0;34m(\u001b[0m\u001b[0;34m*\u001b[0m\u001b[0margs\u001b[0m\u001b[0;34m,\u001b[0m \u001b[0;34m**\u001b[0m\u001b[0mkwds\u001b[0m\u001b[0;34m)\u001b[0m\u001b[0;34m\u001b[0m\u001b[0;34m\u001b[0m\u001b[0m\n\u001b[0m\u001b[1;32m    916\u001b[0m \u001b[0;34m\u001b[0m\u001b[0m\n\u001b[1;32m    917\u001b[0m       \u001b[0mnew_tracing_count\u001b[0m \u001b[0;34m=\u001b[0m \u001b[0mself\u001b[0m\u001b[0;34m.\u001b[0m\u001b[0mexperimental_get_tracing_count\u001b[0m\u001b[0;34m(\u001b[0m\u001b[0;34m)\u001b[0m\u001b[0;34m\u001b[0m\u001b[0;34m\u001b[0m\u001b[0m\n",
            "\u001b[0;32m/usr/local/lib/python3.7/dist-packages/tensorflow/python/eager/def_function.py\u001b[0m in \u001b[0;36m_call\u001b[0;34m(self, *args, **kwds)\u001b[0m\n\u001b[1;32m    945\u001b[0m       \u001b[0;31m# In this case we have created variables on the first call, so we run the\u001b[0m\u001b[0;34m\u001b[0m\u001b[0;34m\u001b[0m\u001b[0;34m\u001b[0m\u001b[0m\n\u001b[1;32m    946\u001b[0m       \u001b[0;31m# defunned version which is guaranteed to never create variables.\u001b[0m\u001b[0;34m\u001b[0m\u001b[0;34m\u001b[0m\u001b[0;34m\u001b[0m\u001b[0m\n\u001b[0;32m--> 947\u001b[0;31m       \u001b[0;32mreturn\u001b[0m \u001b[0mself\u001b[0m\u001b[0;34m.\u001b[0m\u001b[0m_stateless_fn\u001b[0m\u001b[0;34m(\u001b[0m\u001b[0;34m*\u001b[0m\u001b[0margs\u001b[0m\u001b[0;34m,\u001b[0m \u001b[0;34m**\u001b[0m\u001b[0mkwds\u001b[0m\u001b[0;34m)\u001b[0m  \u001b[0;31m# pylint: disable=not-callable\u001b[0m\u001b[0;34m\u001b[0m\u001b[0;34m\u001b[0m\u001b[0m\n\u001b[0m\u001b[1;32m    948\u001b[0m     \u001b[0;32melif\u001b[0m \u001b[0mself\u001b[0m\u001b[0;34m.\u001b[0m\u001b[0m_stateful_fn\u001b[0m \u001b[0;32mis\u001b[0m \u001b[0;32mnot\u001b[0m \u001b[0;32mNone\u001b[0m\u001b[0;34m:\u001b[0m\u001b[0;34m\u001b[0m\u001b[0;34m\u001b[0m\u001b[0m\n\u001b[1;32m    949\u001b[0m       \u001b[0;31m# Release the lock early so that multiple threads can perform the call\u001b[0m\u001b[0;34m\u001b[0m\u001b[0;34m\u001b[0m\u001b[0;34m\u001b[0m\u001b[0m\n",
            "\u001b[0;32m/usr/local/lib/python3.7/dist-packages/tensorflow/python/eager/function.py\u001b[0m in \u001b[0;36m__call__\u001b[0;34m(self, *args, **kwargs)\u001b[0m\n\u001b[1;32m   2955\u001b[0m        filtered_flat_args) = self._maybe_define_function(args, kwargs)\n\u001b[1;32m   2956\u001b[0m     return graph_function._call_flat(\n\u001b[0;32m-> 2957\u001b[0;31m         filtered_flat_args, captured_inputs=graph_function.captured_inputs)  # pylint: disable=protected-access\n\u001b[0m\u001b[1;32m   2958\u001b[0m \u001b[0;34m\u001b[0m\u001b[0m\n\u001b[1;32m   2959\u001b[0m   \u001b[0;34m@\u001b[0m\u001b[0mproperty\u001b[0m\u001b[0;34m\u001b[0m\u001b[0;34m\u001b[0m\u001b[0m\n",
            "\u001b[0;32m/usr/local/lib/python3.7/dist-packages/tensorflow/python/eager/function.py\u001b[0m in \u001b[0;36m_call_flat\u001b[0;34m(self, args, captured_inputs, cancellation_manager)\u001b[0m\n\u001b[1;32m   1852\u001b[0m       \u001b[0;31m# No tape is watching; skip to running the function.\u001b[0m\u001b[0;34m\u001b[0m\u001b[0;34m\u001b[0m\u001b[0;34m\u001b[0m\u001b[0m\n\u001b[1;32m   1853\u001b[0m       return self._build_call_outputs(self._inference_function.call(\n\u001b[0;32m-> 1854\u001b[0;31m           ctx, args, cancellation_manager=cancellation_manager))\n\u001b[0m\u001b[1;32m   1855\u001b[0m     forward_backward = self._select_forward_and_backward_functions(\n\u001b[1;32m   1856\u001b[0m         \u001b[0margs\u001b[0m\u001b[0;34m,\u001b[0m\u001b[0;34m\u001b[0m\u001b[0;34m\u001b[0m\u001b[0m\n",
            "\u001b[0;32m/usr/local/lib/python3.7/dist-packages/tensorflow/python/eager/function.py\u001b[0m in \u001b[0;36mcall\u001b[0;34m(self, ctx, args, cancellation_manager)\u001b[0m\n\u001b[1;32m    502\u001b[0m               \u001b[0minputs\u001b[0m\u001b[0;34m=\u001b[0m\u001b[0margs\u001b[0m\u001b[0;34m,\u001b[0m\u001b[0;34m\u001b[0m\u001b[0;34m\u001b[0m\u001b[0m\n\u001b[1;32m    503\u001b[0m               \u001b[0mattrs\u001b[0m\u001b[0;34m=\u001b[0m\u001b[0mattrs\u001b[0m\u001b[0;34m,\u001b[0m\u001b[0;34m\u001b[0m\u001b[0;34m\u001b[0m\u001b[0m\n\u001b[0;32m--> 504\u001b[0;31m               ctx=ctx)\n\u001b[0m\u001b[1;32m    505\u001b[0m         \u001b[0;32melse\u001b[0m\u001b[0;34m:\u001b[0m\u001b[0;34m\u001b[0m\u001b[0;34m\u001b[0m\u001b[0m\n\u001b[1;32m    506\u001b[0m           outputs = execute.execute_with_cancellation(\n",
            "\u001b[0;32m/usr/local/lib/python3.7/dist-packages/tensorflow/python/eager/execute.py\u001b[0m in \u001b[0;36mquick_execute\u001b[0;34m(op_name, num_outputs, inputs, attrs, ctx, name)\u001b[0m\n\u001b[1;32m     53\u001b[0m     \u001b[0mctx\u001b[0m\u001b[0;34m.\u001b[0m\u001b[0mensure_initialized\u001b[0m\u001b[0;34m(\u001b[0m\u001b[0;34m)\u001b[0m\u001b[0;34m\u001b[0m\u001b[0;34m\u001b[0m\u001b[0m\n\u001b[1;32m     54\u001b[0m     tensors = pywrap_tfe.TFE_Py_Execute(ctx._handle, device_name, op_name,\n\u001b[0;32m---> 55\u001b[0;31m                                         inputs, attrs, num_outputs)\n\u001b[0m\u001b[1;32m     56\u001b[0m   \u001b[0;32mexcept\u001b[0m \u001b[0mcore\u001b[0m\u001b[0;34m.\u001b[0m\u001b[0m_NotOkStatusException\u001b[0m \u001b[0;32mas\u001b[0m \u001b[0me\u001b[0m\u001b[0;34m:\u001b[0m\u001b[0;34m\u001b[0m\u001b[0;34m\u001b[0m\u001b[0m\n\u001b[1;32m     57\u001b[0m     \u001b[0;32mif\u001b[0m \u001b[0mname\u001b[0m \u001b[0;32mis\u001b[0m \u001b[0;32mnot\u001b[0m \u001b[0;32mNone\u001b[0m\u001b[0;34m:\u001b[0m\u001b[0;34m\u001b[0m\u001b[0;34m\u001b[0m\u001b[0m\n",
            "\u001b[0;31mKeyboardInterrupt\u001b[0m: "
          ]
        }
      ]
    },
    {
      "cell_type": "code",
      "source": [
        "def getY(x,y):\n",
        "  return y\n",
        "\n",
        "def errorAnalysis(files_):\n",
        "  files = files_.copy()\n",
        "  trn = getDataset(files, batch = True, shuffle = False, repeat = False, labelled = True)\n",
        "  model = buildModel()\n",
        "  model.load_weights('model.hdf5')\n",
        "  pred = model.predict(trn)\n",
        "  y = list(trn.unbatch().map(getY).as_numpy_iterator())\n",
        "  files['error'] = (pred-y)**2\n",
        "  return files\n",
        "\n",
        "error = errorAnalysis(X_train)"
      ],
      "metadata": {
        "id": "RI3xszSGvMg5"
      },
      "execution_count": null,
      "outputs": []
    },
    {
      "cell_type": "code",
      "source": [
        "error"
      ],
      "metadata": {
        "id": "hYL9_3ScwQ7q"
      },
      "execution_count": null,
      "outputs": []
    },
    {
      "cell_type": "code",
      "source": [
        "error[error['error']==np.max(error['error'])]"
      ],
      "metadata": {
        "id": "o9uPYBFswgJT"
      },
      "execution_count": null,
      "outputs": []
    },
    {
      "cell_type": "code",
      "source": [
        " !cp \"model.hdf5\" \"/content/rci/\""
      ],
      "metadata": {
        "id": "K3nGNMGwNsIi"
      },
      "execution_count": null,
      "outputs": []
    },
    {
      "cell_type": "markdown",
      "metadata": {
        "id": "VPmHvRvv8R3Q"
      },
      "source": [
        "### Use simple XGBoost to train a model"
      ]
    },
    {
      "cell_type": "code",
      "source": [
        "X_train = pd.read_csv(\"/content/rci/data/train_files.csv\")\n",
        "X_test = pd.read_csv(\"/content/rci/data/val_files.csv\")\n",
        "test_files = pd.read_csv(\"/content/rci/data/test_files.csv\")"
      ],
      "metadata": {
        "id": "qTQAsWmt57Lh"
      },
      "execution_count": null,
      "outputs": []
    },
    {
      "cell_type": "code",
      "source": [
        "def buildModel():\n",
        "  inp = L.Input(shape = (10, 2010))\n",
        "  h = L.Bidirectional(L.LSTM(512, return_sequences = True), merge_mode = \"ave\")(inp)\n",
        "  h = AttentionHead(2010, 512)(h)\n",
        "  h = L.Dense(128, activation = \"relu\")(h)\n",
        "  h = L.Dense(16, activation = \"relu\")(h)\n",
        "  h = L.Dense(1, activation = \"linear\")(h)\n",
        "  model = tf.keras.Model(inputs = inp, outputs=  h)\n",
        "  model.compile(loss = \"mse\", optimizer = \"adam\")\n",
        "  return model\n",
        "\n",
        "model = buildModel()\n",
        "model.load_weights(\"/content/rci/model.hdf5\")\n",
        "model.summary()"
      ],
      "metadata": {
        "id": "IcORG-75ojfq",
        "outputId": "f4b3529a-eff8-457a-cfc7-81ea83e49061",
        "colab": {
          "base_uri": "https://localhost:8080/"
        }
      },
      "execution_count": null,
      "outputs": [
        {
          "output_type": "stream",
          "name": "stdout",
          "text": [
            "Model: \"model\"\n",
            "_________________________________________________________________\n",
            " Layer (type)                Output Shape              Param #   \n",
            "=================================================================\n",
            " input_1 (InputLayer)        [(None, 10, 2010)]        0         \n",
            "                                                                 \n",
            " bidirectional (Bidirectiona  (None, 10, 512)          10334208  \n",
            " l)                                                              \n",
            "                                                                 \n",
            " attention_head (AttentionHe  (None, 512)              263169    \n",
            " ad)                                                             \n",
            "                                                                 \n",
            " dense_2 (Dense)             (None, 128)               65664     \n",
            "                                                                 \n",
            " dense_3 (Dense)             (None, 16)                2064      \n",
            "                                                                 \n",
            " dense_4 (Dense)             (None, 1)                 17        \n",
            "                                                                 \n",
            "=================================================================\n",
            "Total params: 10,665,122\n",
            "Trainable params: 10,665,122\n",
            "Non-trainable params: 0\n",
            "_________________________________________________________________\n"
          ]
        }
      ]
    },
    {
      "cell_type": "code",
      "source": [
        "def loadSet(files, labelled = True):\n",
        "  x,ydc,y = [],[],[]\n",
        "  for _,row in files.iterrows():\n",
        "    x.append(np.load(row['filename'], allow_pickle = True)['arr_0'][-1])\n",
        "    ydc.append(row['target_DC1'])\n",
        "    y.append(row['target'])      \n",
        "  return np.stack(x, axis = 0), np.stack(ydc, axis = 0), np.stack(y, axis = 0)"
      ],
      "metadata": {
        "id": "jbCq5YrX8fir"
      },
      "execution_count": null,
      "outputs": []
    },
    {
      "cell_type": "code",
      "source": [
        "!mv \"/content/rci/data\" \"/content/\""
      ],
      "metadata": {
        "id": "NICVIr0inf6O"
      },
      "execution_count": null,
      "outputs": []
    },
    {
      "cell_type": "code",
      "source": [
        "# test_data = loadSet(test_files, validation_dataset, labelled = False)\n",
        "X_train_plain, Y_train_plain, target_train_plain = loadSet(X_train)\n",
        "X_test_plain, Y_test_plain, target_test_plain = loadSet(X_test)"
      ],
      "metadata": {
        "id": "BCwb9mNhE7T4"
      },
      "execution_count": null,
      "outputs": []
    },
    {
      "cell_type": "code",
      "execution_count": null,
      "metadata": {
        "id": "QkGs7IpI8R3Q",
        "outputId": "6d39f575-ef41-49cd-882b-adb1b95539c3",
        "colab": {
          "base_uri": "https://localhost:8080/"
        }
      },
      "outputs": [
        {
          "output_type": "stream",
          "name": "stdout",
          "text": [
            "[0]\tvalidation_0-rmse:0.527322\tvalidation_1-rmse:0.548756\n",
            "Multiple eval metrics have been passed: 'validation_1-rmse' will be used for early stopping.\n",
            "\n",
            "Will train until validation_1-rmse hasn't improved in 10 rounds.\n",
            "Stopping. Best iteration:\n",
            "[56]\tvalidation_0-rmse:0.148903\tvalidation_1-rmse:0.21828\n",
            "\n"
          ]
        },
        {
          "output_type": "execute_result",
          "data": {
            "text/plain": [
              "XGBRegressor(max_depth=9, n_estimators=1000, objective='reg:squarederror',\n",
              "             reg_alpha=0.01, tree_method='gpu_hist')"
            ]
          },
          "metadata": {},
          "execution_count": 10
        }
      ],
      "source": [
        "from xgboost import XGBRegressor\n",
        "\n",
        "params = {'objective' : \"reg:squarederror\", \n",
        "          'n_estimators' : 1000, \n",
        "          'tree_method' : \"gpu_hist\", \n",
        "          'max_depth':9, \n",
        "          \"reg_alpha\":0.01\n",
        "          }\n",
        "\n",
        "reg = XGBRegressor(**params)\n",
        "reg.fit(X_train_plain, Y_train_plain, eval_metric = \"rmse\",\n",
        "        eval_set=[(X_train_plain,Y_train_plain),(X_test_plain, Y_test_plain)], \n",
        "        early_stopping_rounds = 10, verbose = 10)"
      ]
    },
    {
      "cell_type": "code",
      "source": [
        "def predictFunction(lstm,xgb,files_df):\n",
        "  files = files_df.copy()\n",
        "  lstm_pred = []\n",
        "  xgb_pred = []\n",
        "  for _,row in tqdm(files.iterrows(), total =files.shape[0]):\n",
        "    if pd.isnull(row['filename']):\n",
        "      lstm_pred.append(0.0)\n",
        "      xgb_pred.append(xgb.predict(np.expand_dims(np.load(row['filename'],allow_pickle=True)['arr_0'][-1],axis = 0))[0])\n",
        "    else:\n",
        "      lstm_pred.append(lstm.predict(np.expand_dims(np.load(row['filename'],allow_pickle=True)['arr_0'],axis = 0).astype(np.float32))[0])\n",
        "      xgb_pred.append(xgb.predict(np.expand_dims(np.load(row['filename'],allow_pickle=True)['arr_0'][-1],axis = 0).astype(np.float32))[0])\n",
        "\n",
        "  lstm_pred = np.stack(lstm_pred)\n",
        "  xgb_pred = np.stack(xgb_pred)\n",
        "  mask = lstm_pred == 0\n",
        "  mask = mask[:,0]\n",
        "  if np.any(mask):\n",
        "    lstm_pred[mask] = lstm_pred[mask]+xgb_pred[mask]\n",
        "  files.loc[:,'predicted_DC1'] = (lstm_pred.reshape((-1,1))+xgb_pred.reshape((-1,1)))/2\n",
        "  files.loc[:,'predicted_target'] = -1\n",
        "  for date in files.date.unique():\n",
        "    files.loc[files['date']==date,'predicted_target'] = rank_data(files[files['date']==date]['predicted_DC1'])\n",
        "  return files"
      ],
      "metadata": {
        "id": "Dgu9ZPeq-mNG"
      },
      "execution_count": null,
      "outputs": []
    },
    {
      "cell_type": "code",
      "execution_count": null,
      "metadata": {
        "id": "ETY9qjj58R3Q"
      },
      "outputs": [],
      "source": [
        "# function to calculate Spearman correlation by era (mean, std, max, min)\n",
        "# we want to maximize but maintain stable correlation across era to maximize both challenge and competition reward\n",
        "def spearman_by_era(prediction,target, dates):\n",
        "  df = pd.DataFrame(index=dates,\n",
        "                    data = {'prediction': prediction,\n",
        "                            'target': target}\n",
        "                    )\n",
        "  \n",
        "  spearman_era_list = []\n",
        "  for era in df.index.unique():\n",
        "    era_df = df[df.index == era]\n",
        "    spearman_corr = sp.stats.spearmanr(era_df.prediction, era_df.target)[0]\n",
        "    spearman_era_list.append(spearman_corr)\n",
        "\n",
        "  mean = np.mean(spearman_era_list)\n",
        "  std = np.std(spearman_era_list)\n",
        "  max = np.max(spearman_era_list)\n",
        "  min = np.min(spearman_era_list)\n",
        "  return mean, std, max, min\n",
        "  "
      ]
    },
    {
      "cell_type": "code",
      "source": [
        "pred_train = predictFunction(model,reg, X_train)\n",
        "train_spearman = spearman_by_era(pred_train['predicted_target'].values, target_train_plain,\n",
        "                                pred_train['date'].values)\n",
        "\n",
        "print('Train dataset Spearman correlation: mean = {} ; std = {} ; max = {} ; min = {}'.format(round(train_spearman[0], 4), \n",
        "                                                                                            round(train_spearman[1], 4),\n",
        "                                                                                            round(train_spearman[2], 4),\n",
        "                                                                                            round(train_spearman[3], 4),\n",
        "                                                                                            ))\n"
      ],
      "metadata": {
        "id": "uSYGCko-7-Nd"
      },
      "execution_count": null,
      "outputs": []
    },
    {
      "cell_type": "code",
      "source": [
        "pred_val = predictFunction(model,reg, X_test)\n",
        "test_spearman = spearman_by_era(pred_val['predicted_target'].values, target_test_plain,\n",
        "                                pred_val['date'].values)\n",
        "print('Test dataset Spearman correlation: mean = {} ; std = {} ; max = {} ; min = {}'.format(round(test_spearman[0], 4),\n",
        "                                                                                            round(test_spearman[1], 4),\n",
        "                                                                                            round(test_spearman[2], 4),\n",
        "                                                                                            round(test_spearman[3], 4),\n",
        "                                                                                            ))\n"
      ],
      "metadata": {
        "id": "hGDlyG6j7nj6",
        "outputId": "e1f3d355-7940-470b-8b1f-6ae4d868c4cf",
        "colab": {
          "base_uri": "https://localhost:8080/"
        }
      },
      "execution_count": null,
      "outputs": [
        {
          "output_type": "stream",
          "name": "stdout",
          "text": [
            "Test dataset Spearman correlation: mean = 0.076 ; std = 0.0611 ; max = 0.1821 ; min = -0.0578\n"
          ]
        }
      ]
    },
    {
      "cell_type": "code",
      "source": [
        "pred_submission = predictFunction(model,reg, test_files)"
      ],
      "metadata": {
        "id": "z3vXir9lkkrD",
        "outputId": "5abe92d9-e5c1-4755-ecfc-a4af20dba811",
        "colab": {
          "base_uri": "https://localhost:8080/",
          "height": 49,
          "referenced_widgets": [
            "4705aca8b8bd4ff6b3e7a39ea927aef0",
            "955c1344debd4ad5901fc0e06ddcee54",
            "a7755e2c7348413ca2177c82d6df81f8",
            "c753bce11d684e90be1a928ee54d7f48",
            "19ce0aa32dcd43c5b08dcdf2b77bec20",
            "f7d047a59d1942fdbc42e6a9b280e0fd",
            "163eb1cbdf3b43b499c6de95b3ad639f",
            "d800ad9e34fc4774ae0442118107d27d",
            "c499d524486e4fed989e8cc651ad406e",
            "9a3a1e9afd5c4ba4be8abc146ac30f18",
            "3413aea21da14f2aaa563c587c821920"
          ]
        }
      },
      "execution_count": null,
      "outputs": [
        {
          "output_type": "display_data",
          "data": {
            "text/plain": [
              "0it [00:00, ?it/s]"
            ],
            "application/vnd.jupyter.widget-view+json": {
              "version_major": 2,
              "version_minor": 0,
              "model_id": "4705aca8b8bd4ff6b3e7a39ea927aef0"
            }
          },
          "metadata": {}
        }
      ]
    },
    {
      "cell_type": "code",
      "execution_count": null,
      "metadata": {
        "id": "wemVQ7xo8R3Q",
        "outputId": "7140cddc-da8e-4e85-9b90-49b0c9f92d60",
        "colab": {
          "base_uri": "https://localhost:8080/"
        }
      },
      "outputs": [
        {
          "output_type": "execute_result",
          "data": {
            "text/plain": [
              "array([0.70359281, 0.1002994 , 0.22005988, 0.23652695, 0.34730539])"
            ]
          },
          "metadata": {},
          "execution_count": 43
        }
      ],
      "source": [
        "# Use the trained Linear Regression model to make prediction on latest data\n",
        "# X_validation = validation_dataset.iloc[:, 1:-2]\n",
        "# y_validation_linear_reg = reg.predict(X_validation)\n",
        "y_validation_linear_reg = pred_submission['predicted_target'].values\n",
        "y_validation_linear_reg[:5]"
      ]
    },
    {
      "cell_type": "markdown",
      "metadata": {
        "id": "wPdrXYI58R3R"
      },
      "source": [
        "### Let's use the prediction from linear regression to join with validation dataset symbol for submission"
      ]
    },
    {
      "cell_type": "code",
      "execution_count": null,
      "metadata": {
        "id": "OKwa_RfT8R3R",
        "outputId": "363a0f4b-e31c-455c-cc80-41370b9e684e",
        "colab": {
          "base_uri": "https://localhost:8080/",
          "height": 424
        }
      },
      "outputs": [
        {
          "output_type": "execute_result",
          "data": {
            "text/plain": [
              "    symbol  prediction\n",
              "361    MYB    0.000000\n",
              "573   TONE    0.001497\n",
              "103    CLR    0.002994\n",
              "473    RDN    0.004491\n",
              "94     CEL    0.005988\n",
              "..     ...         ...\n",
              "668  eRSDL    0.994012\n",
              "590   UBEX    0.995509\n",
              "293     L2    0.997006\n",
              "431    POA    0.998503\n",
              "657  YTSLA    1.000000\n",
              "\n",
              "[669 rows x 2 columns]"
            ],
            "text/html": [
              "\n",
              "  <div id=\"df-eb1c4ebc-524e-4113-9fef-8bcbc06b3599\">\n",
              "    <div class=\"colab-df-container\">\n",
              "      <div>\n",
              "<style scoped>\n",
              "    .dataframe tbody tr th:only-of-type {\n",
              "        vertical-align: middle;\n",
              "    }\n",
              "\n",
              "    .dataframe tbody tr th {\n",
              "        vertical-align: top;\n",
              "    }\n",
              "\n",
              "    .dataframe thead th {\n",
              "        text-align: right;\n",
              "    }\n",
              "</style>\n",
              "<table border=\"1\" class=\"dataframe\">\n",
              "  <thead>\n",
              "    <tr style=\"text-align: right;\">\n",
              "      <th></th>\n",
              "      <th>symbol</th>\n",
              "      <th>prediction</th>\n",
              "    </tr>\n",
              "  </thead>\n",
              "  <tbody>\n",
              "    <tr>\n",
              "      <th>361</th>\n",
              "      <td>MYB</td>\n",
              "      <td>0.000000</td>\n",
              "    </tr>\n",
              "    <tr>\n",
              "      <th>573</th>\n",
              "      <td>TONE</td>\n",
              "      <td>0.001497</td>\n",
              "    </tr>\n",
              "    <tr>\n",
              "      <th>103</th>\n",
              "      <td>CLR</td>\n",
              "      <td>0.002994</td>\n",
              "    </tr>\n",
              "    <tr>\n",
              "      <th>473</th>\n",
              "      <td>RDN</td>\n",
              "      <td>0.004491</td>\n",
              "    </tr>\n",
              "    <tr>\n",
              "      <th>94</th>\n",
              "      <td>CEL</td>\n",
              "      <td>0.005988</td>\n",
              "    </tr>\n",
              "    <tr>\n",
              "      <th>...</th>\n",
              "      <td>...</td>\n",
              "      <td>...</td>\n",
              "    </tr>\n",
              "    <tr>\n",
              "      <th>668</th>\n",
              "      <td>eRSDL</td>\n",
              "      <td>0.994012</td>\n",
              "    </tr>\n",
              "    <tr>\n",
              "      <th>590</th>\n",
              "      <td>UBEX</td>\n",
              "      <td>0.995509</td>\n",
              "    </tr>\n",
              "    <tr>\n",
              "      <th>293</th>\n",
              "      <td>L2</td>\n",
              "      <td>0.997006</td>\n",
              "    </tr>\n",
              "    <tr>\n",
              "      <th>431</th>\n",
              "      <td>POA</td>\n",
              "      <td>0.998503</td>\n",
              "    </tr>\n",
              "    <tr>\n",
              "      <th>657</th>\n",
              "      <td>YTSLA</td>\n",
              "      <td>1.000000</td>\n",
              "    </tr>\n",
              "  </tbody>\n",
              "</table>\n",
              "<p>669 rows × 2 columns</p>\n",
              "</div>\n",
              "      <button class=\"colab-df-convert\" onclick=\"convertToInteractive('df-eb1c4ebc-524e-4113-9fef-8bcbc06b3599')\"\n",
              "              title=\"Convert this dataframe to an interactive table.\"\n",
              "              style=\"display:none;\">\n",
              "        \n",
              "  <svg xmlns=\"http://www.w3.org/2000/svg\" height=\"24px\"viewBox=\"0 0 24 24\"\n",
              "       width=\"24px\">\n",
              "    <path d=\"M0 0h24v24H0V0z\" fill=\"none\"/>\n",
              "    <path d=\"M18.56 5.44l.94 2.06.94-2.06 2.06-.94-2.06-.94-.94-2.06-.94 2.06-2.06.94zm-11 1L8.5 8.5l.94-2.06 2.06-.94-2.06-.94L8.5 2.5l-.94 2.06-2.06.94zm10 10l.94 2.06.94-2.06 2.06-.94-2.06-.94-.94-2.06-.94 2.06-2.06.94z\"/><path d=\"M17.41 7.96l-1.37-1.37c-.4-.4-.92-.59-1.43-.59-.52 0-1.04.2-1.43.59L10.3 9.45l-7.72 7.72c-.78.78-.78 2.05 0 2.83L4 21.41c.39.39.9.59 1.41.59.51 0 1.02-.2 1.41-.59l7.78-7.78 2.81-2.81c.8-.78.8-2.07 0-2.86zM5.41 20L4 18.59l7.72-7.72 1.47 1.35L5.41 20z\"/>\n",
              "  </svg>\n",
              "      </button>\n",
              "      \n",
              "  <style>\n",
              "    .colab-df-container {\n",
              "      display:flex;\n",
              "      flex-wrap:wrap;\n",
              "      gap: 12px;\n",
              "    }\n",
              "\n",
              "    .colab-df-convert {\n",
              "      background-color: #E8F0FE;\n",
              "      border: none;\n",
              "      border-radius: 50%;\n",
              "      cursor: pointer;\n",
              "      display: none;\n",
              "      fill: #1967D2;\n",
              "      height: 32px;\n",
              "      padding: 0 0 0 0;\n",
              "      width: 32px;\n",
              "    }\n",
              "\n",
              "    .colab-df-convert:hover {\n",
              "      background-color: #E2EBFA;\n",
              "      box-shadow: 0px 1px 2px rgba(60, 64, 67, 0.3), 0px 1px 3px 1px rgba(60, 64, 67, 0.15);\n",
              "      fill: #174EA6;\n",
              "    }\n",
              "\n",
              "    [theme=dark] .colab-df-convert {\n",
              "      background-color: #3B4455;\n",
              "      fill: #D2E3FC;\n",
              "    }\n",
              "\n",
              "    [theme=dark] .colab-df-convert:hover {\n",
              "      background-color: #434B5C;\n",
              "      box-shadow: 0px 1px 3px 1px rgba(0, 0, 0, 0.15);\n",
              "      filter: drop-shadow(0px 1px 2px rgba(0, 0, 0, 0.3));\n",
              "      fill: #FFFFFF;\n",
              "    }\n",
              "  </style>\n",
              "\n",
              "      <script>\n",
              "        const buttonEl =\n",
              "          document.querySelector('#df-eb1c4ebc-524e-4113-9fef-8bcbc06b3599 button.colab-df-convert');\n",
              "        buttonEl.style.display =\n",
              "          google.colab.kernel.accessAllowed ? 'block' : 'none';\n",
              "\n",
              "        async function convertToInteractive(key) {\n",
              "          const element = document.querySelector('#df-eb1c4ebc-524e-4113-9fef-8bcbc06b3599');\n",
              "          const dataTable =\n",
              "            await google.colab.kernel.invokeFunction('convertToInteractive',\n",
              "                                                     [key], {});\n",
              "          if (!dataTable) return;\n",
              "\n",
              "          const docLinkHtml = 'Like what you see? Visit the ' +\n",
              "            '<a target=\"_blank\" href=https://colab.research.google.com/notebooks/data_table.ipynb>data table notebook</a>'\n",
              "            + ' to learn more about interactive tables.';\n",
              "          element.innerHTML = '';\n",
              "          dataTable['output_type'] = 'display_data';\n",
              "          await google.colab.output.renderOutput(dataTable, element);\n",
              "          const docLink = document.createElement('div');\n",
              "          docLink.innerHTML = docLinkHtml;\n",
              "          element.appendChild(docLink);\n",
              "        }\n",
              "      </script>\n",
              "    </div>\n",
              "  </div>\n",
              "  "
            ]
          },
          "metadata": {},
          "execution_count": 44
        }
      ],
      "source": [
        "prediction = pd.DataFrame()\n",
        "prediction['symbol'] = list(pred_submission.symbol)\n",
        "prediction['prediction'] = y_validation_linear_reg\n",
        "\n",
        "# sort the prediction to check which symbol is weaker and stronger, ie. FOX is weakest; BTC is strongest\n",
        "prediction.sort_values('prediction')"
      ]
    },
    {
      "cell_type": "markdown",
      "metadata": {
        "id": "2mq_vcI18R3R"
      },
      "source": [
        "### Check is prediction dataframe in accordance for submission format (using the prediction from linear regression)"
      ]
    },
    {
      "cell_type": "code",
      "execution_count": null,
      "metadata": {
        "colab": {
          "base_uri": "https://localhost:8080/"
        },
        "id": "Nf0GPjqn8R3R",
        "outputId": "35565284-cd47-4051-8471-2d27d447646a"
      },
      "outputs": [
        {
          "output_type": "stream",
          "name": "stdout",
          "text": [
            "symbol matched!\n",
            "column counts ok!\n"
          ]
        }
      ],
      "source": [
        "#check if y_latest is in accordance to shape for submission\n",
        "if set(prediction.symbol) == set(validation_dataset.symbol):\n",
        "    print('symbol matched!')\n",
        "else:\n",
        "    print('symbol unmatched, the symbol in prediction df must match the symbol in validation_dataset...')\n",
        "    \n",
        "if prediction.shape[1] == 2:\n",
        "    print('column counts ok!')\n",
        "else:\n",
        "    print('It should have 2 columns, first column with symbol, second with prediction...')\n"
      ]
    },
    {
      "cell_type": "markdown",
      "metadata": {
        "id": "0PhAfMnR8R3S"
      },
      "source": [
        "### Output prediction as a .csv file for submission!"
      ]
    },
    {
      "cell_type": "code",
      "execution_count": null,
      "metadata": {
        "id": "utRTWe0-8R3S"
      },
      "outputs": [],
      "source": [
        "#Output submission as .csv file\n",
        "#The prediction.csv is stored in content/prediction folder\n",
        "import os\n",
        "if not os.path.exists('/content/prediction'):\n",
        "    os.makedirs('/content/prediction')\n",
        "prediction.to_csv('/content/prediction/prediction.csv', index = False, header = None)"
      ]
    },
    {
      "cell_type": "markdown",
      "source": [
        "# **Submission Section**"
      ],
      "metadata": {
        "id": "aEv18jY34Kww"
      }
    },
    {
      "cell_type": "markdown",
      "metadata": {
        "collapsed": false,
        "id": "jKSoiqEW0Lg4"
      },
      "source": [
        "## **Setup**"
      ]
    },
    {
      "cell_type": "code",
      "source": [
        "!git clone https://github.com/rocketcapital-ai/competition_submission.git\n",
        "%cd /content/competition_submission"
      ],
      "metadata": {
        "id": "M7LbLhIz0Xh7",
        "outputId": "f89e2569-cbcf-4c1e-80db-437d23392f10",
        "colab": {
          "base_uri": "https://localhost:8080/"
        }
      },
      "execution_count": null,
      "outputs": [
        {
          "output_type": "stream",
          "name": "stdout",
          "text": [
            "Cloning into 'competition_submission'...\n",
            "remote: Enumerating objects: 23, done.\u001b[K\n",
            "remote: Counting objects: 100% (23/23), done.\u001b[K\n",
            "remote: Compressing objects: 100% (16/16), done.\u001b[K\n",
            "remote: Total 23 (delta 3), reused 19 (delta 3), pack-reused 0\u001b[K\n",
            "Unpacking objects: 100% (23/23), done.\n",
            "/content/competition_submission\n"
          ]
        }
      ]
    },
    {
      "cell_type": "code",
      "source": [
        "!pip install base58\n",
        "!pip install PyYAML\n",
        "!pip install requests\n",
        "!pip install web3\n",
        "!pip install pandas \n",
        "from IPython.display import clear_output\n",
        "clear_output(wait = False)"
      ],
      "metadata": {
        "id": "lEl2hoVI2V-J"
      },
      "execution_count": null,
      "outputs": []
    },
    {
      "cell_type": "code",
      "execution_count": null,
      "metadata": {
        "pycharm": {
          "name": "#%%\n"
        },
        "id": "VgUYwRkJ0Lg8"
      },
      "outputs": [],
      "source": [
        "from lib.submitter import *\n",
        "\n",
        "jwt = 'eyJhbGciOiJIUzI1NiIsInR5cCI6IkpXVCJ9.eyJ1c2VySW5mb3JtYXRpb24iOnsiaWQiOiIxMDIwZDY0OC1kNzQ5LTQ5YjItOTZmZS1hNWQ0NDY5ODRjNTQiLCJlbWFpbCI6ImJpYmhhc2hwLmRhc0BnbWFpbC5jb20iLCJlbWFpbF92ZXJpZmllZCI6dHJ1ZSwicGluX3BvbGljeSI6eyJyZWdpb25zIjpbeyJpZCI6IkZSQTEiLCJkZXNpcmVkUmVwbGljYXRpb25Db3VudCI6MX0seyJpZCI6Ik5ZQzEiLCJkZXNpcmVkUmVwbGljYXRpb25Db3VudCI6MX1dLCJ2ZXJzaW9uIjoxfSwibWZhX2VuYWJsZWQiOmZhbHNlLCJzdGF0dXMiOiJBQ1RJVkUifSwiYXV0aGVudGljYXRpb25UeXBlIjoic2NvcGVkS2V5Iiwic2NvcGVkS2V5S2V5IjoiYmM4NWI0ZDQ1N2FhYWZlNzBmNGIiLCJzY29wZWRLZXlTZWNyZXQiOiJlMmEyOGFlZmFlNTcyMWZkNzM1Mjg4NzE5OTIzYTBkZTQ4MWY5NzUxZWQyZmVhMTE0MGJmYzRlNzNjNzRhYzI2IiwiaWF0IjoxNjU1MTM2Nzc4fQ.xl2FxgrL04kQIa7cIn89a_iE0I9xphiNf6K5K2mor5o'      # User-specified field.\n",
        "address = '0xcF16365d53ed53055f39010830e3CcD5A7a8245E'  # User-specified field.\n",
        "pk = '32316dfe607ed4a240ac29a6dcad9db6f484f0fbdf7894c15511237e1e13db70'       # User-specified field.\n",
        "submitter = Submitter(jwt, address, pk)"
      ]
    },
    {
      "cell_type": "markdown",
      "metadata": {
        "id": "3XjTmExp0Lg_"
      },
      "source": [
        "## View wallet address information."
      ]
    },
    {
      "cell_type": "code",
      "execution_count": null,
      "metadata": {
        "pycharm": {
          "name": "#%%\n"
        },
        "id": "9BN9wZGW0LhB",
        "outputId": "17ca4d93-d61b-4959-8312-ee6cde7589db",
        "colab": {
          "base_uri": "https://localhost:8080/"
        }
      },
      "outputs": [
        {
          "output_type": "stream",
          "name": "stdout",
          "text": [
            "MATIC balance for 0xcF16365d53ed53055f39010830e3CcD5A7a8245E: 1.032258504668605866\n",
            "MUSA balance for 0xcF16365d53ed53055f39010830e3CcD5A7a8245E: 25.869313545300001154\n",
            "Current stake for 0xcF16365d53ed53055f39010830e3CcD5A7a8245E: 100.000000000000000000\n"
          ]
        }
      ],
      "source": [
        "print('MATIC balance for {}: {}'.format(submitter.address, submitter.get_matic_balance()))\n",
        "print('MUSA balance for {}: {}'.format(submitter.address, submitter.get_musa_balance()))\n",
        "print('Current stake for {}: {}'.format(submitter.address, submitter.get_stake()))"
      ]
    },
    {
      "cell_type": "markdown",
      "metadata": {
        "collapsed": false,
        "id": "5ohgOcZ60LhC"
      },
      "source": [
        "## **Retrieve Dataset and run models.**\n",
        "### Please follow the instructions and example found [here](https://github.com/rocketcapital-ai/competition_quickstart_dataloader).\n",
        "\n",
        "### When completed, please place final prediction csv file in the `file_to_submit` folder."
      ]
    },
    {
      "cell_type": "code",
      "source": [
        "!cp \"/content/prediction/prediction.csv\" \"/content/competition_submission/file_to_submit/\""
      ],
      "metadata": {
        "id": "7UVxH1w93Rdy"
      },
      "execution_count": null,
      "outputs": []
    },
    {
      "cell_type": "markdown",
      "metadata": {
        "collapsed": false,
        "id": "wQ894w1O0LhD"
      },
      "source": [
        "## **Set stake.** (optional)\n",
        "### Skip if no changes need to be made."
      ]
    },
    {
      "cell_type": "code",
      "execution_count": null,
      "metadata": {
        "pycharm": {
          "name": "#%%\n"
        },
        "id": "uJlwEyJW0LhE",
        "colab": {
          "base_uri": "https://localhost:8080/"
        },
        "outputId": "336bd7a9-129f-4997-e82b-a288a39055cc"
      },
      "outputs": [
        {
          "output_type": "stream",
          "name": "stdout",
          "text": [
            "Setting gas price to 65 gwei.\n",
            "Sending transaction 0xe3cf8d0d27ab1452e097706b3ceb1c3bb6f4ab91c181af5e21588934c3d82469\n",
            "Transaction sent. Tx ID: 0xe3cf8d0d27ab1452e097706b3ceb1c3bb6f4ab91c181af5e21588934c3d82469\n"
          ]
        }
      ],
      "source": [
        "set_stake_amount = 125.00  # User-specified field.\n",
        "transaction_success = submitter.set_stake(set_stake_amount)\n",
        "assert transaction_success, 'Setting stake failed.'"
      ]
    },
    {
      "cell_type": "markdown",
      "metadata": {
        "collapsed": false,
        "pycharm": {
          "name": "#%% md\n"
        },
        "id": "G_iqtyFY0LhF"
      },
      "source": [
        "## **Submit predictions.**\n",
        "Note that the same `submit_prediction` method should be used for re-submitting predictions."
      ]
    },
    {
      "cell_type": "code",
      "execution_count": null,
      "metadata": {
        "pycharm": {
          "name": "#%%\n"
        },
        "id": "eMYyDAIL0LhF",
        "colab": {
          "base_uri": "https://localhost:8080/"
        },
        "outputId": "a043b774-2b09-4869-c302-7a7e2b633486"
      },
      "outputs": [
        {
          "output_type": "stream",
          "name": "stdout",
          "text": [
            "Encrypting file.\n",
            "Zipping encrypted file.\n",
            "Uploading and recording on blockchain.\n",
            "Setting gas price to 68 gwei.\n",
            "Sending transaction 0xd15c69d2bd8b878ff18d1fbcd6eb906ee1a87a67188eb3bac799ce1a017b95a2\n",
            "Transaction sent. Tx ID: 0xd15c69d2bd8b878ff18d1fbcd6eb906ee1a87a67188eb3bac799ce1a017b95a2\n"
          ]
        }
      ],
      "source": [
        "submission_file_name = 'prediction.csv'  # User-specified field.\n",
        "transaction_success = submitter.submit_prediction(submission_file_name)\n",
        "assert transaction_success, 'Submission failed.'"
      ]
    },
    {
      "cell_type": "markdown",
      "metadata": {
        "id": "41q5KfA70LhG"
      },
      "source": [
        "### **Retrieve and double-check predictions.** (optional)\n",
        "This section retrieves your submitted files, decrypts them, and compares them to the original file in `file_to_submit`.\n",
        "\n",
        "If the verification fails, please wait a few minutes and perform the verification again. If the problem persists, please re-submit your predictions."
      ]
    },
    {
      "cell_type": "code",
      "execution_count": null,
      "metadata": {
        "id": "NTANPvlH0LhH",
        "colab": {
          "base_uri": "https://localhost:8080/"
        },
        "outputId": "cccbb836-0049-4990-9a04-2a3906c1abc3"
      },
      "outputs": [
        {
          "output_type": "stream",
          "name": "stdout",
          "text": [
            "Retrieving file.\n",
            "File retrieved.\n",
            "File unzipped.\n",
            "File decrypted. Comparing files.\n",
            "Removing temp files.\n",
            "Temp files removed.\n",
            "Files are identical. Verification check passed.\n"
          ]
        }
      ],
      "source": [
        "verification_success = submitter.download_and_check(submission_file_name)\n",
        "assert verification_success, 'Submission verification failed.'\n",
        "print('Files are identical. Verification check passed.')"
      ]
    },
    {
      "cell_type": "markdown",
      "source": [
        "# **Data Preparation**"
      ],
      "metadata": {
        "id": "PkRtP1W7NBMe"
      }
    },
    {
      "cell_type": "code",
      "source": [
        "import os\n",
        "import numpy as np\n",
        "import pandas as pd\n",
        "from tqdm.notebook import tqdm\n",
        "import matplotlib.pyplot as plt\n",
        "import seaborn as sns"
      ],
      "metadata": {
        "id": "ZdjJY--dEck1"
      },
      "execution_count": 1,
      "outputs": []
    },
    {
      "cell_type": "code",
      "source": [
        "!wget https://rocketcompetition.mypinata.cloud/ipfs/QmfH9YeyUL9bKBQ4MaYE3VQd7Pykocu4av12AhUBucDwm5\n",
        "!unzip -q QmfH9YeyUL9bKBQ4MaYE3VQd7Pykocu4av12AhUBucDwm5 -d \"/content/\"\n",
        "!rm -r QmfH9YeyUL9bKBQ4MaYE3VQd7Pykocu4av12AhUBucDwm5"
      ],
      "metadata": {
        "colab": {
          "base_uri": "https://localhost:8080/"
        },
        "id": "2GmJgHsYyuu7",
        "outputId": "d6b7d715-51f0-4f81-d3ee-cc2d8c7eeac1"
      },
      "execution_count": 2,
      "outputs": [
        {
          "output_type": "stream",
          "name": "stdout",
          "text": [
            "--2022-06-25 09:01:55--  https://rocketcompetition.mypinata.cloud/ipfs/QmfH9YeyUL9bKBQ4MaYE3VQd7Pykocu4av12AhUBucDwm5\n",
            "Resolving rocketcompetition.mypinata.cloud (rocketcompetition.mypinata.cloud)... 104.18.31.237, 104.18.30.237, 2606:4700::6812:1eed, ...\n",
            "Connecting to rocketcompetition.mypinata.cloud (rocketcompetition.mypinata.cloud)|104.18.31.237|:443... connected.\n",
            "HTTP request sent, awaiting response... 200 OK\n",
            "Length: 354504089 (338M) [application/zip]\n",
            "Saving to: ‘QmfH9YeyUL9bKBQ4MaYE3VQd7Pykocu4av12AhUBucDwm5’\n",
            "\n",
            "QmfH9YeyUL9bKBQ4MaY 100%[===================>] 338.08M  50.8MB/s    in 6.9s    \n",
            "\n",
            "2022-06-25 09:02:03 (49.3 MB/s) - ‘QmfH9YeyUL9bKBQ4MaYE3VQd7Pykocu4av12AhUBucDwm5’ saved [354504089/354504089]\n",
            "\n"
          ]
        }
      ]
    },
    {
      "cell_type": "markdown",
      "metadata": {
        "id": "bnhEMubk8R3L"
      },
      "source": [
        "### Loading train_dataset and validation_dataset"
      ]
    },
    {
      "cell_type": "code",
      "source": [
        "train_dataset  = pd.read_csv('/content/dataset/train_dataset.csv', index_col = 'date')\n",
        "validation_dataset  = pd.read_csv('/content/dataset/validation_dataset.csv', index_col = 'date')\n",
        "print(\"Shape of train set:\",train_dataset.shape)\n",
        "print(\"Shape of test set:\",validation_dataset.shape)"
      ],
      "metadata": {
        "id": "rsFeEBtLhqXe",
        "outputId": "a9340dc1-52bd-466b-903e-039d83ac834c",
        "colab": {
          "base_uri": "https://localhost:8080/"
        }
      },
      "execution_count": 3,
      "outputs": [
        {
          "output_type": "stream",
          "name": "stdout",
          "text": [
            "Shape of train set: (80538, 2013)\n",
            "Shape of test set: (669, 2013)\n"
          ]
        }
      ]
    },
    {
      "cell_type": "code",
      "source": [
        "train_dataset = train_dataset.reset_index(drop=False).sort_values(by=[\"symbol\",\"date\"])\n",
        "validation_dataset = validation_dataset.reset_index(drop=False).sort_values(by=[\"symbol\",\"date\"])"
      ],
      "metadata": {
        "id": "C7J4gI1oKElb"
      },
      "execution_count": 4,
      "outputs": []
    },
    {
      "cell_type": "code",
      "source": [
        "df = train_dataset.groupby(\"symbol\")['date'].count().to_frame().reset_index()\n",
        "sns.displot(df['date'],bins = 100)"
      ],
      "metadata": {
        "id": "r8_ERZybER7t",
        "outputId": "82a93eb7-1e9f-49f6-bc33-8955f183a3ab",
        "colab": {
          "base_uri": "https://localhost:8080/",
          "height": 386
        }
      },
      "execution_count": 5,
      "outputs": [
        {
          "output_type": "execute_result",
          "data": {
            "text/plain": [
              "<seaborn.axisgrid.FacetGrid at 0x7f1c8446c490>"
            ]
          },
          "metadata": {},
          "execution_count": 5
        },
        {
          "output_type": "display_data",
          "data": {
            "text/plain": [
              "<Figure size 360x360 with 1 Axes>"
            ],
            "image/png": "[encoded data removed]"
          },
          "metadata": {
            "needs_background": "light"
          }
        }
      ]
    },
    {
      "cell_type": "code",
      "execution_count": 6,
      "metadata": {
        "colab": {
          "base_uri": "https://localhost:8080/",
          "height": 386
        },
        "id": "9S5S-hgR8R3M",
        "outputId": "e4d3dacd-2d71-4c36-e9f8-174974f1b09f"
      },
      "outputs": [
        {
          "output_type": "execute_result",
          "data": {
            "text/plain": [
              "            date symbol  feature_1  feature_2  feature_3  feature_4  \\\n",
              "5122  2018-12-23  0xBTC   0.974026   0.987013   0.978355   0.991342   \n",
              "5437  2018-12-30  0xBTC   0.016878   0.033755   0.949367   0.936709   \n",
              "5737  2019-01-06  0xBTC   0.158996   0.016736   0.033473   0.928870   \n",
              "5912  2019-01-13  0xBTC   0.737500   0.279167   0.020833   0.054167   \n",
              "6161  2019-01-20  0xBTC   0.983607   0.987705   0.983607   0.430328   \n",
              "\n",
              "      feature_5  feature_6  feature_7  feature_8  ...  feature_2003  \\\n",
              "5122   0.982684   0.982684   0.982684   0.978355  ...      0.887446   \n",
              "5437   0.978903   0.907173   0.962025   0.953586  ...      0.936709   \n",
              "5737   0.868201   0.941423   0.740586   0.933054  ...      0.891213   \n",
              "5912   0.945833   0.908333   0.962500   0.870833  ...      0.645833   \n",
              "6161   0.971311   0.991803   0.987705   0.991803  ...      0.504098   \n",
              "\n",
              "      feature_2004  feature_2005  feature_2006  feature_2007  feature_2008  \\\n",
              "5122      0.857143      0.857143      0.857143      0.835498      0.839827   \n",
              "5437      0.953586      0.962025      0.932489      0.940928      0.945148   \n",
              "5737      0.874477      0.857741      0.912134      0.849372      0.807531   \n",
              "5912      0.600000      0.541667      0.691667      0.591667      0.504167   \n",
              "6161      0.454918      0.422131      0.553279      0.368852      0.331967   \n",
              "\n",
              "      feature_2009  feature_DC1    target  target_DC1  \n",
              "5122      0.839827     0.891775  0.095238   -0.211551  \n",
              "5437      0.915612     0.101266  0.046414   -0.192849  \n",
              "5737      0.878661     0.050209  0.284519   -0.263822  \n",
              "5912      0.670833     0.287500  0.391667    0.023985  \n",
              "6161      0.450820     0.397541  0.032787   -0.251842  \n",
              "\n",
              "[5 rows x 2014 columns]"
            ],
            "text/html": [
              "\n",
              "  <div id=\"df-270cd796-4e13-4269-9c9e-145e7e6c5525\">\n",
              "    <div class=\"colab-df-container\">\n",
              "      <div>\n",
              "<style scoped>\n",
              "    .dataframe tbody tr th:only-of-type {\n",
              "        vertical-align: middle;\n",
              "    }\n",
              "\n",
              "    .dataframe tbody tr th {\n",
              "        vertical-align: top;\n",
              "    }\n",
              "\n",
              "    .dataframe thead th {\n",
              "        text-align: right;\n",
              "    }\n",
              "</style>\n",
              "<table border=\"1\" class=\"dataframe\">\n",
              "  <thead>\n",
              "    <tr style=\"text-align: right;\">\n",
              "      <th></th>\n",
              "      <th>date</th>\n",
              "      <th>symbol</th>\n",
              "      <th>feature_1</th>\n",
              "      <th>feature_2</th>\n",
              "      <th>feature_3</th>\n",
              "      <th>feature_4</th>\n",
              "      <th>feature_5</th>\n",
              "      <th>feature_6</th>\n",
              "      <th>feature_7</th>\n",
              "      <th>feature_8</th>\n",
              "      <th>...</th>\n",
              "      <th>feature_2003</th>\n",
              "      <th>feature_2004</th>\n",
              "      <th>feature_2005</th>\n",
              "      <th>feature_2006</th>\n",
              "      <th>feature_2007</th>\n",
              "      <th>feature_2008</th>\n",
              "      <th>feature_2009</th>\n",
              "      <th>feature_DC1</th>\n",
              "      <th>target</th>\n",
              "      <th>target_DC1</th>\n",
              "    </tr>\n",
              "  </thead>\n",
              "  <tbody>\n",
              "    <tr>\n",
              "      <th>5122</th>\n",
              "      <td>2018-12-23</td>\n",
              "      <td>0xBTC</td>\n",
              "      <td>0.974026</td>\n",
              "      <td>0.987013</td>\n",
              "      <td>0.978355</td>\n",
              "      <td>0.991342</td>\n",
              "      <td>0.982684</td>\n",
              "      <td>0.982684</td>\n",
              "      <td>0.982684</td>\n",
              "      <td>0.978355</td>\n",
              "      <td>...</td>\n",
              "      <td>0.887446</td>\n",
              "      <td>0.857143</td>\n",
              "      <td>0.857143</td>\n",
              "      <td>0.857143</td>\n",
              "      <td>0.835498</td>\n",
              "      <td>0.839827</td>\n",
              "      <td>0.839827</td>\n",
              "      <td>0.891775</td>\n",
              "      <td>0.095238</td>\n",
              "      <td>-0.211551</td>\n",
              "    </tr>\n",
              "    <tr>\n",
              "      <th>5437</th>\n",
              "      <td>2018-12-30</td>\n",
              "      <td>0xBTC</td>\n",
              "      <td>0.016878</td>\n",
              "      <td>0.033755</td>\n",
              "      <td>0.949367</td>\n",
              "      <td>0.936709</td>\n",
              "      <td>0.978903</td>\n",
              "      <td>0.907173</td>\n",
              "      <td>0.962025</td>\n",
              "      <td>0.953586</td>\n",
              "      <td>...</td>\n",
              "      <td>0.936709</td>\n",
              "      <td>0.953586</td>\n",
              "      <td>0.962025</td>\n",
              "      <td>0.932489</td>\n",
              "      <td>0.940928</td>\n",
              "      <td>0.945148</td>\n",
              "      <td>0.915612</td>\n",
              "      <td>0.101266</td>\n",
              "      <td>0.046414</td>\n",
              "      <td>-0.192849</td>\n",
              "    </tr>\n",
              "    <tr>\n",
              "      <th>5737</th>\n",
              "      <td>2019-01-06</td>\n",
              "      <td>0xBTC</td>\n",
              "      <td>0.158996</td>\n",
              "      <td>0.016736</td>\n",
              "      <td>0.033473</td>\n",
              "      <td>0.928870</td>\n",
              "      <td>0.868201</td>\n",
              "      <td>0.941423</td>\n",
              "      <td>0.740586</td>\n",
              "      <td>0.933054</td>\n",
              "      <td>...</td>\n",
              "      <td>0.891213</td>\n",
              "      <td>0.874477</td>\n",
              "      <td>0.857741</td>\n",
              "      <td>0.912134</td>\n",
              "      <td>0.849372</td>\n",
              "      <td>0.807531</td>\n",
              "      <td>0.878661</td>\n",
              "      <td>0.050209</td>\n",
              "      <td>0.284519</td>\n",
              "      <td>-0.263822</td>\n",
              "    </tr>\n",
              "    <tr>\n",
              "      <th>5912</th>\n",
              "      <td>2019-01-13</td>\n",
              "      <td>0xBTC</td>\n",
              "      <td>0.737500</td>\n",
              "      <td>0.279167</td>\n",
              "      <td>0.020833</td>\n",
              "      <td>0.054167</td>\n",
              "      <td>0.945833</td>\n",
              "      <td>0.908333</td>\n",
              "      <td>0.962500</td>\n",
              "      <td>0.870833</td>\n",
              "      <td>...</td>\n",
              "      <td>0.645833</td>\n",
              "      <td>0.600000</td>\n",
              "      <td>0.541667</td>\n",
              "      <td>0.691667</td>\n",
              "      <td>0.591667</td>\n",
              "      <td>0.504167</td>\n",
              "      <td>0.670833</td>\n",
              "      <td>0.287500</td>\n",
              "      <td>0.391667</td>\n",
              "      <td>0.023985</td>\n",
              "    </tr>\n",
              "    <tr>\n",
              "      <th>6161</th>\n",
              "      <td>2019-01-20</td>\n",
              "      <td>0xBTC</td>\n",
              "      <td>0.983607</td>\n",
              "      <td>0.987705</td>\n",
              "      <td>0.983607</td>\n",
              "      <td>0.430328</td>\n",
              "      <td>0.971311</td>\n",
              "      <td>0.991803</td>\n",
              "      <td>0.987705</td>\n",
              "      <td>0.991803</td>\n",
              "      <td>...</td>\n",
              "      <td>0.504098</td>\n",
              "      <td>0.454918</td>\n",
              "      <td>0.422131</td>\n",
              "      <td>0.553279</td>\n",
              "      <td>0.368852</td>\n",
              "      <td>0.331967</td>\n",
              "      <td>0.450820</td>\n",
              "      <td>0.397541</td>\n",
              "      <td>0.032787</td>\n",
              "      <td>-0.251842</td>\n",
              "    </tr>\n",
              "  </tbody>\n",
              "</table>\n",
              "<p>5 rows × 2014 columns</p>\n",
              "</div>\n",
              "      <button class=\"colab-df-convert\" onclick=\"convertToInteractive('df-270cd796-4e13-4269-9c9e-145e7e6c5525')\"\n",
              "              title=\"Convert this dataframe to an interactive table.\"\n",
              "              style=\"display:none;\">\n",
              "        \n",
              "  <svg xmlns=\"http://www.w3.org/2000/svg\" height=\"24px\"viewBox=\"0 0 24 24\"\n",
              "       width=\"24px\">\n",
              "    <path d=\"M0 0h24v24H0V0z\" fill=\"none\"/>\n",
              "    <path d=\"M18.56 5.44l.94 2.06.94-2.06 2.06-.94-2.06-.94-.94-2.06-.94 2.06-2.06.94zm-11 1L8.5 8.5l.94-2.06 2.06-.94-2.06-.94L8.5 2.5l-.94 2.06-2.06.94zm10 10l.94 2.06.94-2.06 2.06-.94-2.06-.94-.94-2.06-.94 2.06-2.06.94z\"/><path d=\"M17.41 7.96l-1.37-1.37c-.4-.4-.92-.59-1.43-.59-.52 0-1.04.2-1.43.59L10.3 9.45l-7.72 7.72c-.78.78-.78 2.05 0 2.83L4 21.41c.39.39.9.59 1.41.59.51 0 1.02-.2 1.41-.59l7.78-7.78 2.81-2.81c.8-.78.8-2.07 0-2.86zM5.41 20L4 18.59l7.72-7.72 1.47 1.35L5.41 20z\"/>\n",
              "  </svg>\n",
              "      </button>\n",
              "      \n",
              "  <style>\n",
              "    .colab-df-container {\n",
              "      display:flex;\n",
              "      flex-wrap:wrap;\n",
              "      gap: 12px;\n",
              "    }\n",
              "\n",
              "    .colab-df-convert {\n",
              "      background-color: #E8F0FE;\n",
              "      border: none;\n",
              "      border-radius: 50%;\n",
              "      cursor: pointer;\n",
              "      display: none;\n",
              "      fill: #1967D2;\n",
              "      height: 32px;\n",
              "      padding: 0 0 0 0;\n",
              "      width: 32px;\n",
              "    }\n",
              "\n",
              "    .colab-df-convert:hover {\n",
              "      background-color: #E2EBFA;\n",
              "      box-shadow: 0px 1px 2px rgba(60, 64, 67, 0.3), 0px 1px 3px 1px rgba(60, 64, 67, 0.15);\n",
              "      fill: #174EA6;\n",
              "    }\n",
              "\n",
              "    [theme=dark] .colab-df-convert {\n",
              "      background-color: #3B4455;\n",
              "      fill: #D2E3FC;\n",
              "    }\n",
              "\n",
              "    [theme=dark] .colab-df-convert:hover {\n",
              "      background-color: #434B5C;\n",
              "      box-shadow: 0px 1px 3px 1px rgba(0, 0, 0, 0.15);\n",
              "      filter: drop-shadow(0px 1px 2px rgba(0, 0, 0, 0.3));\n",
              "      fill: #FFFFFF;\n",
              "    }\n",
              "  </style>\n",
              "\n",
              "      <script>\n",
              "        const buttonEl =\n",
              "          document.querySelector('#df-270cd796-4e13-4269-9c9e-145e7e6c5525 button.colab-df-convert');\n",
              "        buttonEl.style.display =\n",
              "          google.colab.kernel.accessAllowed ? 'block' : 'none';\n",
              "\n",
              "        async function convertToInteractive(key) {\n",
              "          const element = document.querySelector('#df-270cd796-4e13-4269-9c9e-145e7e6c5525');\n",
              "          const dataTable =\n",
              "            await google.colab.kernel.invokeFunction('convertToInteractive',\n",
              "                                                     [key], {});\n",
              "          if (!dataTable) return;\n",
              "\n",
              "          const docLinkHtml = 'Like what you see? Visit the ' +\n",
              "            '<a target=\"_blank\" href=https://colab.research.google.com/notebooks/data_table.ipynb>data table notebook</a>'\n",
              "            + ' to learn more about interactive tables.';\n",
              "          element.innerHTML = '';\n",
              "          dataTable['output_type'] = 'display_data';\n",
              "          await google.colab.output.renderOutput(dataTable, element);\n",
              "          const docLink = document.createElement('div');\n",
              "          docLink.innerHTML = docLinkHtml;\n",
              "          element.appendChild(docLink);\n",
              "        }\n",
              "      </script>\n",
              "    </div>\n",
              "  </div>\n",
              "  "
            ]
          },
          "metadata": {},
          "execution_count": 6
        }
      ],
      "source": [
        "# first column (symbol) is the ticker\n",
        "# 'target_DC1' is the log of return for delta between current close to previous close\n",
        "# 'target' is the y which is ranked by Era using 'target_DC1'\n",
        "# the rest of the columns are features to be used for ML\n",
        "train_dataset.head()"
      ]
    },
    {
      "cell_type": "markdown",
      "source": [
        "## Create Records"
      ],
      "metadata": {
        "id": "Hc6-aV5UhDO6"
      }
    },
    {
      "cell_type": "code",
      "source": [
        "symbols = train_dataset.symbol.unique()\n",
        "def prepareData(dataframe, savedir, window = 10):\n",
        "  if not os.path.isdir(savedir):\n",
        "    os.mkdir(savedir)\n",
        "\n",
        "  records = []\n",
        "  for sym in tqdm(symbols, \"Preparing Train Data\"):\n",
        "    values = dataframe[dataframe['symbol']==sym].drop([\"target\",\t\"target_DC1\", \"date\", \"symbol\"], axis = 1).values\n",
        "    attention = np.ones((values.shape[0],1))\n",
        "    dates = dataframe[dataframe['symbol']==sym]['date'].values\n",
        "    targets = dataframe[dataframe['symbol']==sym]['target'].values\n",
        "    targets_dc1 = dataframe[dataframe['symbol']==sym]['target_DC1'].values\n",
        "    if values.shape[0]<window:\n",
        "      values = np.concatenate([values, np.zeros((window-values.shape[0], values.shape[1]))], axis=0)\n",
        "      attention = np.concatenate([attention, np.zeros((window-values.shape[0], 1))], axis=0)\n",
        "      targets = np.concatenate([targets, np.repeat(targets[-1],window-targets.shape[0], axis = 0)], axis=0)\n",
        "      targets_dc1 = np.concatenate([targets_dc1, np.repeat(targets_dc1[-1],window-targets_dc1.shape[0], axis = 0)], axis=0)\n",
        "      dates = np.concatenate([dates, np.repeat(dates[-1],window-dates.shape[0], axis = 0)], axis=0)\n",
        "\n",
        "    n = values.shape[0]\n",
        "    for i in range(window,n+1,1):\n",
        "      temp = values[i-window:i]\n",
        "      attn = attention[i-window:i]\n",
        "      t = targets[i-1]\n",
        "      tdc1 = targets_dc1[i-1]\n",
        "      d = dates[i-1]\n",
        "      filename = os.path.join(savedir, f\"{sym}_file_{d}.npz\")\n",
        "      np.savez(filename, temp, attn)\n",
        "      records.append([sym, d, filename, t, tdc1])\n",
        "\n",
        "  files = pd.DataFrame(np.stack(records, axis = 0), columns = [\"symbol\", \"date\", \"filename\", \"target\", \"target_DC1\"])\n",
        "  files = files.sort_values(by = ['date','symbol'])\n",
        "  return files\n",
        "\n",
        "def preparedValData(train_files, dataframe, savedir, window = 10):\n",
        "  if not os.path.isdir(savedir):\n",
        "    os.mkdir(savedir)\n",
        "\n",
        "  records = []\n",
        "  test_symbols = dataframe.symbol.unique()\n",
        "  assert len(test_symbols)<= dataframe.shape[0], f\"Length of dataframe greater than {len(test_symbols)}\"\n",
        "\n",
        "  for sym in tqdm(test_symbols, \"Preparing test data\"):\n",
        "    if sym not in symbols:\n",
        "      records.append([sym, np.nan, np.nan])\n",
        "      continue\n",
        "\n",
        "    rec = np.load(train_files[train_files[\"symbol\"] == sym].iloc[-1,-3])['arr_0']\n",
        "    assert rec.shape[-1]==2010, f\"Incorrect shape of record: {rec.shape}\"\n",
        "    new_rec = np.expand_dims(dataframe[dataframe['symbol']==sym].iloc[0,2:-2].values,axis=0)\n",
        "    new_rec = np.concatenate([rec[1:,:], new_rec],axis=0)\n",
        "\n",
        "    assert new_rec.shape==(10,2010), f\"Incorrect shape of new record {new_rec.shape}\"\n",
        "    d = dataframe[dataframe['symbol']==sym]['date'].values[0]\n",
        "    filename = os.path.join(savedir, f\"{sym}_file_{d}.npz\")\n",
        "    np.savez(filename, new_rec, axis = 0)\n",
        "    records.append([sym, d, filename])\n",
        "\n",
        "  files = pd.DataFrame(np.stack(records, axis = 0), columns = [\"symbol\", \"date\", \"filename\"])\n",
        "  files = files.sort_values(by = ['date','symbol'])\n",
        "  return files"
      ],
      "metadata": {
        "id": "ZGLm7_zTMl9U"
      },
      "execution_count": 9,
      "outputs": []
    },
    {
      "cell_type": "code",
      "source": [
        "train_files = prepareData(train_dataset, \"/content/data\")"
      ],
      "metadata": {
        "id": "GClnvANYczHL",
        "outputId": "80c0b5af-e8de-44a2-a371-cb2c149ec21f",
        "colab": {
          "base_uri": "https://localhost:8080/",
          "height": 49,
          "referenced_widgets": [
            "b9967fdc92ec428d902656b7604c7796",
            "e20fbe5105144ae68a47a0626482c749",
            "e6cf998bbfae47f78e1562b6afd0ffc3",
            "27021f1a8249416bb8ae6f103bc1d4c6",
            "1450ed9bce2346b6aeb0c417f4a73c66",
            "11d3e71a569a48f5831197d2d055ab9b",
            "1ff58dfd46114437a4e62a2d5a7bfa54",
            "bcf537d5ea1045869a836c3e71c25073",
            "53e02a42ee8d4e47b4a5838d2df7b83d",
            "ddceec94f0f244c3a4aab21a0fe23d50",
            "820abe354dae495eb04f6ed920c669c0"
          ]
        }
      },
      "execution_count": 10,
      "outputs": [
        {
          "output_type": "display_data",
          "data": {
            "text/plain": [
              "Preparing Train Data:   0%|          | 0/962 [00:00<?, ?it/s]"
            ],
            "application/vnd.jupyter.widget-view+json": {
              "version_major": 2,
              "version_minor": 0,
              "model_id": "b9967fdc92ec428d902656b7604c7796"
            }
          },
          "metadata": {}
        }
      ]
    },
    {
      "cell_type": "code",
      "source": [
        "test_files = preparedValData(train_files, validation_dataset, \"/content/data\")"
      ],
      "metadata": {
        "id": "OOl_XrMYYOGw",
        "outputId": "a9fec67f-b771-46d2-dbf6-261aa8f973ea",
        "colab": {
          "base_uri": "https://localhost:8080/",
          "height": 49,
          "referenced_widgets": [
            "6ec2ca2b504c4afeb165fb0b0e660e72",
            "cdeb8d4187c64368ac478153408d3088",
            "4ecd3f4580334905904c1cd79722cac2",
            "92e8485a09594f58b85da501756fdf92",
            "084f5fb463424097876ce2bd58b3493b",
            "e9ceb8adbb124f55bbc3cffa88c42445",
            "9670df2dab5b4a3f9b156215750f4c5a",
            "5509af7f28be49ce840e8018b70ee429",
            "4976019b5333443bbbe2bdcc2d6d14a5",
            "e800f8f1be2646888020365d4fa5e99c",
            "09c88c7cbd1b4bb78d0c8b99776c8190"
          ]
        }
      },
      "execution_count": 11,
      "outputs": [
        {
          "output_type": "display_data",
          "data": {
            "text/plain": [
              "Preparing test data:   0%|          | 0/669 [00:00<?, ?it/s]"
            ],
            "application/vnd.jupyter.widget-view+json": {
              "version_major": 2,
              "version_minor": 0,
              "model_id": "6ec2ca2b504c4afeb165fb0b0e660e72"
            }
          },
          "metadata": {}
        }
      ]
    },
    {
      "cell_type": "markdown",
      "metadata": {
        "id": "bfLrwf_h8R3N"
      },
      "source": [
        "### Create X and y from train_dataset"
      ]
    },
    {
      "cell_type": "markdown",
      "metadata": {
        "id": "-hTrF-1x8R3P"
      },
      "source": [
        "### Each era representing a set of cryptocurrency assets for the time period, the number of assets within each Era is different"
      ]
    },
    {
      "cell_type": "code",
      "execution_count": null,
      "metadata": {
        "colab": {
          "base_uri": "https://localhost:8080/",
          "height": 334
        },
        "id": "38VXk0008R3P",
        "outputId": "fdbb20b7-6883-458c-95cc-b6a3984f8b59"
      },
      "outputs": [
        {
          "output_type": "display_data",
          "data": {
            "text/plain": [
              "<Figure size 720x360 with 1 Axes>"
            ],
            "image/png": "[encoded data removed]"
          },
          "metadata": {
            "needs_background": "light"
          }
        }
      ],
      "source": [
        "train_dataset.groupby(train_dataset.date).count().iloc[:,1].plot(figsize = (10,5));"
      ]
    },
    {
      "cell_type": "markdown",
      "metadata": {
        "id": "CaqtnWY78R3P"
      },
      "source": [
        "### Split dataset into train and test by era"
      ]
    },
    {
      "cell_type": "code",
      "execution_count": 12,
      "metadata": {
        "colab": {
          "base_uri": "https://localhost:8080/"
        },
        "id": "FqhwxuL58R3P",
        "outputId": "888d64fb-773c-4165-e7c1-1c3c10660d58"
      },
      "outputs": [
        {
          "output_type": "stream",
          "name": "stdout",
          "text": [
            "total Era: 207\n",
            "train Era: 186\n",
            "validation Era: 21\n"
          ]
        }
      ],
      "source": [
        "# Run Once\n",
        "train = 0.9\n",
        "test = 0.1\n",
        "era = len(train_files.date.unique())\n",
        "train_era = int(era * train)\n",
        "test_era = era - train_era\n",
        "print('total Era: {}'.format(era))\n",
        "print('train Era: {}'.format(train_era))\n",
        "print('validation Era: {}'.format(test_era))"
      ]
    },
    {
      "cell_type": "code",
      "execution_count": 13,
      "metadata": {
        "colab": {
          "base_uri": "https://localhost:8080/"
        },
        "id": "IFLlfFTn8R3Q",
        "outputId": "3580060b-8775-4458-c74f-315f5a403b7b"
      },
      "outputs": [
        {
          "output_type": "stream",
          "name": "stdout",
          "text": [
            "Train dataset shape: (61201, 5)\n",
            "Validation dataset shape: (11035, 5)\n"
          ]
        }
      ],
      "source": [
        "#split train and test set according to the train_era and test_era\n",
        "# Run Once\n",
        "X_train = train_files.loc[train_files.date < train_files.date.unique()[train_era]]\n",
        "X_test = train_files.loc[train_files.date >= train_files.date.unique()[train_era]]\n",
        "print('Train dataset shape: {}'.format(X_train.shape))\n",
        "print('Validation dataset shape: {}'.format(X_test.shape))"
      ]
    },
    {
      "cell_type": "code",
      "source": [
        "# Run Once\n",
        "X_train.to_csv(\"/content/data/train_files.csv\", index = False)\n",
        "X_test.to_csv(\"/content/data/val_files.csv\", index = False)\n",
        "test_files.to_csv(\"/content/data/test_files.csv\", index = False)\n",
        "# !cp -r \"/content/data\" \"/content/gdrive/MyDrive/rci-competition/\""
      ],
      "metadata": {
        "id": "2AmNilAjlpPD"
      },
      "execution_count": 14,
      "outputs": []
    },
    {
      "cell_type": "code",
      "source": [
        "from IPython.display import clear_output\n",
        "!mkdir ~/.kaggle/\n",
        "!cp kaggle.json ~/.kaggle/kaggle.json\n",
        "!chmod 600 ~/.kaggle/kaggle.json\n",
        "!pip install -q kaggle\n",
        "!kaggle datasets download -d \"bericdondarion/rcidata\"\n",
        "!unzip rcidata.zip -d \"/content/rci/\"\n",
        "!rm -r rcidata.zip\n",
        "clear_output(wait = False)"
      ],
      "metadata": {
        "id": "LfUV-C5FNOLv"
      },
      "execution_count": null,
      "outputs": []
    },
    {
      "cell_type": "code",
      "source": [
        "if os.path.isdir(\"/content/rci/data\"):\n",
        "  !rm -r \"/content/rci/data\"\n",
        "\n",
        "!mv \"/content/data\" \"/content/rci/data\"\n",
        "!kaggle datasets init -p \"/content/rci/\""
      ],
      "metadata": {
        "id": "twcavLjZoCsQ"
      },
      "execution_count": null,
      "outputs": []
    },
    {
      "cell_type": "code",
      "source": [
        "!kaggle datasets version -p \"/content/rci/\" -m \"Data for new week\" --dir-mode tar"
      ],
      "metadata": {
        "id": "bROd0HIXOUo5"
      },
      "execution_count": null,
      "outputs": []
    }
  ],
  "metadata": {
    "colab": {
      "collapsed_sections": [],
      "machine_shape": "hm",
      "name": "Quickstart-Copy1.ipynb",
      "provenance": [],
      "include_colab_link": true
    },
    "kernelspec": {
      "display_name": "Python 3 (ipykernel)",
      "language": "python",
      "name": "python3"
    },
    "language_info": {
      "codemirror_mode": {
        "name": "ipython",
        "version": 3
      },
      "file_extension": ".py",
      "mimetype": "text/x-python",
      "name": "python",
      "nbconvert_exporter": "python",
      "pygments_lexer": "ipython3",
      "version": "3.8.10"
    },
    "widgets": {
      "application/vnd.jupyter.widget-state+json": {
        "4705aca8b8bd4ff6b3e7a39ea927aef0": {
          "model_module": "@jupyter-widgets/controls",
          "model_name": "HBoxModel",
          "model_module_version": "1.5.0",
          "state": {
            "_dom_classes": [],
            "_model_module": "@jupyter-widgets/controls",
            "_model_module_version": "1.5.0",
            "_model_name": "HBoxModel",
            "_view_count": null,
            "_view_module": "@jupyter-widgets/controls",
            "_view_module_version": "1.5.0",
            "_view_name": "HBoxView",
            "box_style": "",
            "children": [
              "IPY_MODEL_955c1344debd4ad5901fc0e06ddcee54",
              "IPY_MODEL_a7755e2c7348413ca2177c82d6df81f8",
              "IPY_MODEL_c753bce11d684e90be1a928ee54d7f48"
            ],
            "layout": "IPY_MODEL_19ce0aa32dcd43c5b08dcdf2b77bec20"
          }
        },
        "955c1344debd4ad5901fc0e06ddcee54": {
          "model_module": "@jupyter-widgets/controls",
          "model_name": "HTMLModel",
          "model_module_version": "1.5.0",
          "state": {
            "_dom_classes": [],
            "_model_module": "@jupyter-widgets/controls",
            "_model_module_version": "1.5.0",
            "_model_name": "HTMLModel",
            "_view_count": null,
            "_view_module": "@jupyter-widgets/controls",
            "_view_module_version": "1.5.0",
            "_view_name": "HTMLView",
            "description": "",
            "description_tooltip": null,
            "layout": "IPY_MODEL_f7d047a59d1942fdbc42e6a9b280e0fd",
            "placeholder": "​",
            "style": "IPY_MODEL_163eb1cbdf3b43b499c6de95b3ad639f",
            "value": ""
          }
        },
        "a7755e2c7348413ca2177c82d6df81f8": {
          "model_module": "@jupyter-widgets/controls",
          "model_name": "FloatProgressModel",
          "model_module_version": "1.5.0",
          "state": {
            "_dom_classes": [],
            "_model_module": "@jupyter-widgets/controls",
            "_model_module_version": "1.5.0",
            "_model_name": "FloatProgressModel",
            "_view_count": null,
            "_view_module": "@jupyter-widgets/controls",
            "_view_module_version": "1.5.0",
            "_view_name": "ProgressView",
            "bar_style": "success",
            "description": "",
            "description_tooltip": null,
            "layout": "IPY_MODEL_d800ad9e34fc4774ae0442118107d27d",
            "max": 1,
            "min": 0,
            "orientation": "horizontal",
            "style": "IPY_MODEL_c499d524486e4fed989e8cc651ad406e",
            "value": 1
          }
        },
        "c753bce11d684e90be1a928ee54d7f48": {
          "model_module": "@jupyter-widgets/controls",
          "model_name": "HTMLModel",
          "model_module_version": "1.5.0",
          "state": {
            "_dom_classes": [],
            "_model_module": "@jupyter-widgets/controls",
            "_model_module_version": "1.5.0",
            "_model_name": "HTMLModel",
            "_view_count": null,
            "_view_module": "@jupyter-widgets/controls",
            "_view_module_version": "1.5.0",
            "_view_name": "HTMLView",
            "description": "",
            "description_tooltip": null,
            "layout": "IPY_MODEL_9a3a1e9afd5c4ba4be8abc146ac30f18",
            "placeholder": "​",
            "style": "IPY_MODEL_3413aea21da14f2aaa563c587c821920",
            "value": " 669/? [00:51&lt;00:00,  8.65it/s]"
          }
        },
        "19ce0aa32dcd43c5b08dcdf2b77bec20": {
          "model_module": "@jupyter-widgets/base",
          "model_name": "LayoutModel",
          "model_module_version": "1.2.0",
          "state": {
            "_model_module": "@jupyter-widgets/base",
            "_model_module_version": "1.2.0",
            "_model_name": "LayoutModel",
            "_view_count": null,
            "_view_module": "@jupyter-widgets/base",
            "_view_module_version": "1.2.0",
            "_view_name": "LayoutView",
            "align_content": null,
            "align_items": null,
            "align_self": null,
            "border": null,
            "bottom": null,
            "display": null,
            "flex": null,
            "flex_flow": null,
            "grid_area": null,
            "grid_auto_columns": null,
            "grid_auto_flow": null,
            "grid_auto_rows": null,
            "grid_column": null,
            "grid_gap": null,
            "grid_row": null,
            "grid_template_areas": null,
            "grid_template_columns": null,
            "grid_template_rows": null,
            "height": null,
            "justify_content": null,
            "justify_items": null,
            "left": null,
            "margin": null,
            "max_height": null,
            "max_width": null,
            "min_height": null,
            "min_width": null,
            "object_fit": null,
            "object_position": null,
            "order": null,
            "overflow": null,
            "overflow_x": null,
            "overflow_y": null,
            "padding": null,
            "right": null,
            "top": null,
            "visibility": null,
            "width": null
          }
        },
        "f7d047a59d1942fdbc42e6a9b280e0fd": {
          "model_module": "@jupyter-widgets/base",
          "model_name": "LayoutModel",
          "model_module_version": "1.2.0",
          "state": {
            "_model_module": "@jupyter-widgets/base",
            "_model_module_version": "1.2.0",
            "_model_name": "LayoutModel",
            "_view_count": null,
            "_view_module": "@jupyter-widgets/base",
            "_view_module_version": "1.2.0",
            "_view_name": "LayoutView",
            "align_content": null,
            "align_items": null,
            "align_self": null,
            "border": null,
            "bottom": null,
            "display": null,
            "flex": null,
            "flex_flow": null,
            "grid_area": null,
            "grid_auto_columns": null,
            "grid_auto_flow": null,
            "grid_auto_rows": null,
            "grid_column": null,
            "grid_gap": null,
            "grid_row": null,
            "grid_template_areas": null,
            "grid_template_columns": null,
            "grid_template_rows": null,
            "height": null,
            "justify_content": null,
            "justify_items": null,
            "left": null,
            "margin": null,
            "max_height": null,
            "max_width": null,
            "min_height": null,
            "min_width": null,
            "object_fit": null,
            "object_position": null,
            "order": null,
            "overflow": null,
            "overflow_x": null,
            "overflow_y": null,
            "padding": null,
            "right": null,
            "top": null,
            "visibility": null,
            "width": null
          }
        },
        "163eb1cbdf3b43b499c6de95b3ad639f": {
          "model_module": "@jupyter-widgets/controls",
          "model_name": "DescriptionStyleModel",
          "model_module_version": "1.5.0",
          "state": {
            "_model_module": "@jupyter-widgets/controls",
            "_model_module_version": "1.5.0",
            "_model_name": "DescriptionStyleModel",
            "_view_count": null,
            "_view_module": "@jupyter-widgets/base",
            "_view_module_version": "1.2.0",
            "_view_name": "StyleView",
            "description_width": ""
          }
        },
        "d800ad9e34fc4774ae0442118107d27d": {
          "model_module": "@jupyter-widgets/base",
          "model_name": "LayoutModel",
          "model_module_version": "1.2.0",
          "state": {
            "_model_module": "@jupyter-widgets/base",
            "_model_module_version": "1.2.0",
            "_model_name": "LayoutModel",
            "_view_count": null,
            "_view_module": "@jupyter-widgets/base",
            "_view_module_version": "1.2.0",
            "_view_name": "LayoutView",
            "align_content": null,
            "align_items": null,
            "align_self": null,
            "border": null,
            "bottom": null,
            "display": null,
            "flex": null,
            "flex_flow": null,
            "grid_area": null,
            "grid_auto_columns": null,
            "grid_auto_flow": null,
            "grid_auto_rows": null,
            "grid_column": null,
            "grid_gap": null,
            "grid_row": null,
            "grid_template_areas": null,
            "grid_template_columns": null,
            "grid_template_rows": null,
            "height": null,
            "justify_content": null,
            "justify_items": null,
            "left": null,
            "margin": null,
            "max_height": null,
            "max_width": null,
            "min_height": null,
            "min_width": null,
            "object_fit": null,
            "object_position": null,
            "order": null,
            "overflow": null,
            "overflow_x": null,
            "overflow_y": null,
            "padding": null,
            "right": null,
            "top": null,
            "visibility": null,
            "width": "20px"
          }
        },
        "c499d524486e4fed989e8cc651ad406e": {
          "model_module": "@jupyter-widgets/controls",
          "model_name": "ProgressStyleModel",
          "model_module_version": "1.5.0",
          "state": {
            "_model_module": "@jupyter-widgets/controls",
            "_model_module_version": "1.5.0",
            "_model_name": "ProgressStyleModel",
            "_view_count": null,
            "_view_module": "@jupyter-widgets/base",
            "_view_module_version": "1.2.0",
            "_view_name": "StyleView",
            "bar_color": null,
            "description_width": ""
          }
        },
        "9a3a1e9afd5c4ba4be8abc146ac30f18": {
          "model_module": "@jupyter-widgets/base",
          "model_name": "LayoutModel",
          "model_module_version": "1.2.0",
          "state": {
            "_model_module": "@jupyter-widgets/base",
            "_model_module_version": "1.2.0",
            "_model_name": "LayoutModel",
            "_view_count": null,
            "_view_module": "@jupyter-widgets/base",
            "_view_module_version": "1.2.0",
            "_view_name": "LayoutView",
            "align_content": null,
            "align_items": null,
            "align_self": null,
            "border": null,
            "bottom": null,
            "display": null,
            "flex": null,
            "flex_flow": null,
            "grid_area": null,
            "grid_auto_columns": null,
            "grid_auto_flow": null,
            "grid_auto_rows": null,
            "grid_column": null,
            "grid_gap": null,
            "grid_row": null,
            "grid_template_areas": null,
            "grid_template_columns": null,
            "grid_template_rows": null,
            "height": null,
            "justify_content": null,
            "justify_items": null,
            "left": null,
            "margin": null,
            "max_height": null,
            "max_width": null,
            "min_height": null,
            "min_width": null,
            "object_fit": null,
            "object_position": null,
            "order": null,
            "overflow": null,
            "overflow_x": null,
            "overflow_y": null,
            "padding": null,
            "right": null,
            "top": null,
            "visibility": null,
            "width": null
          }
        },
        "3413aea21da14f2aaa563c587c821920": {
          "model_module": "@jupyter-widgets/controls",
          "model_name": "DescriptionStyleModel",
          "model_module_version": "1.5.0",
          "state": {
            "_model_module": "@jupyter-widgets/controls",
            "_model_module_version": "1.5.0",
            "_model_name": "DescriptionStyleModel",
            "_view_count": null,
            "_view_module": "@jupyter-widgets/base",
            "_view_module_version": "1.2.0",
            "_view_name": "StyleView",
            "description_width": ""
          }
        },
        "b9967fdc92ec428d902656b7604c7796": {
          "model_module": "@jupyter-widgets/controls",
          "model_name": "HBoxModel",
          "model_module_version": "1.5.0",
          "state": {
            "_dom_classes": [],
            "_model_module": "@jupyter-widgets/controls",
            "_model_module_version": "1.5.0",
            "_model_name": "HBoxModel",
            "_view_count": null,
            "_view_module": "@jupyter-widgets/controls",
            "_view_module_version": "1.5.0",
            "_view_name": "HBoxView",
            "box_style": "",
            "children": [
              "IPY_MODEL_e20fbe5105144ae68a47a0626482c749",
              "IPY_MODEL_e6cf998bbfae47f78e1562b6afd0ffc3",
              "IPY_MODEL_27021f1a8249416bb8ae6f103bc1d4c6"
            ],
            "layout": "IPY_MODEL_1450ed9bce2346b6aeb0c417f4a73c66"
          }
        },
        "e20fbe5105144ae68a47a0626482c749": {
          "model_module": "@jupyter-widgets/controls",
          "model_name": "HTMLModel",
          "model_module_version": "1.5.0",
          "state": {
            "_dom_classes": [],
            "_model_module": "@jupyter-widgets/controls",
            "_model_module_version": "1.5.0",
            "_model_name": "HTMLModel",
            "_view_count": null,
            "_view_module": "@jupyter-widgets/controls",
            "_view_module_version": "1.5.0",
            "_view_name": "HTMLView",
            "description": "",
            "description_tooltip": null,
            "layout": "IPY_MODEL_11d3e71a569a48f5831197d2d055ab9b",
            "placeholder": "​",
            "style": "IPY_MODEL_1ff58dfd46114437a4e62a2d5a7bfa54",
            "value": "Preparing Train Data: 100%"
          }
        },
        "e6cf998bbfae47f78e1562b6afd0ffc3": {
          "model_module": "@jupyter-widgets/controls",
          "model_name": "FloatProgressModel",
          "model_module_version": "1.5.0",
          "state": {
            "_dom_classes": [],
            "_model_module": "@jupyter-widgets/controls",
            "_model_module_version": "1.5.0",
            "_model_name": "FloatProgressModel",
            "_view_count": null,
            "_view_module": "@jupyter-widgets/controls",
            "_view_module_version": "1.5.0",
            "_view_name": "ProgressView",
            "bar_style": "success",
            "description": "",
            "description_tooltip": null,
            "layout": "IPY_MODEL_bcf537d5ea1045869a836c3e71c25073",
            "max": 962,
            "min": 0,
            "orientation": "horizontal",
            "style": "IPY_MODEL_53e02a42ee8d4e47b4a5838d2df7b83d",
            "value": 962
          }
        },
        "27021f1a8249416bb8ae6f103bc1d4c6": {
          "model_module": "@jupyter-widgets/controls",
          "model_name": "HTMLModel",
          "model_module_version": "1.5.0",
          "state": {
            "_dom_classes": [],
            "_model_module": "@jupyter-widgets/controls",
            "_model_module_version": "1.5.0",
            "_model_name": "HTMLModel",
            "_view_count": null,
            "_view_module": "@jupyter-widgets/controls",
            "_view_module_version": "1.5.0",
            "_view_name": "HTMLView",
            "description": "",
            "description_tooltip": null,
            "layout": "IPY_MODEL_ddceec94f0f244c3a4aab21a0fe23d50",
            "placeholder": "​",
            "style": "IPY_MODEL_820abe354dae495eb04f6ed920c669c0",
            "value": " 962/962 [01:27&lt;00:00, 13.23it/s]"
          }
        },
        "1450ed9bce2346b6aeb0c417f4a73c66": {
          "model_module": "@jupyter-widgets/base",
          "model_name": "LayoutModel",
          "model_module_version": "1.2.0",
          "state": {
            "_model_module": "@jupyter-widgets/base",
            "_model_module_version": "1.2.0",
            "_model_name": "LayoutModel",
            "_view_count": null,
            "_view_module": "@jupyter-widgets/base",
            "_view_module_version": "1.2.0",
            "_view_name": "LayoutView",
            "align_content": null,
            "align_items": null,
            "align_self": null,
            "border": null,
            "bottom": null,
            "display": null,
            "flex": null,
            "flex_flow": null,
            "grid_area": null,
            "grid_auto_columns": null,
            "grid_auto_flow": null,
            "grid_auto_rows": null,
            "grid_column": null,
            "grid_gap": null,
            "grid_row": null,
            "grid_template_areas": null,
            "grid_template_columns": null,
            "grid_template_rows": null,
            "height": null,
            "justify_content": null,
            "justify_items": null,
            "left": null,
            "margin": null,
            "max_height": null,
            "max_width": null,
            "min_height": null,
            "min_width": null,
            "object_fit": null,
            "object_position": null,
            "order": null,
            "overflow": null,
            "overflow_x": null,
            "overflow_y": null,
            "padding": null,
            "right": null,
            "top": null,
            "visibility": null,
            "width": null
          }
        },
        "11d3e71a569a48f5831197d2d055ab9b": {
          "model_module": "@jupyter-widgets/base",
          "model_name": "LayoutModel",
          "model_module_version": "1.2.0",
          "state": {
            "_model_module": "@jupyter-widgets/base",
            "_model_module_version": "1.2.0",
            "_model_name": "LayoutModel",
            "_view_count": null,
            "_view_module": "@jupyter-widgets/base",
            "_view_module_version": "1.2.0",
            "_view_name": "LayoutView",
            "align_content": null,
            "align_items": null,
            "align_self": null,
            "border": null,
            "bottom": null,
            "display": null,
            "flex": null,
            "flex_flow": null,
            "grid_area": null,
            "grid_auto_columns": null,
            "grid_auto_flow": null,
            "grid_auto_rows": null,
            "grid_column": null,
            "grid_gap": null,
            "grid_row": null,
            "grid_template_areas": null,
            "grid_template_columns": null,
            "grid_template_rows": null,
            "height": null,
            "justify_content": null,
            "justify_items": null,
            "left": null,
            "margin": null,
            "max_height": null,
            "max_width": null,
            "min_height": null,
            "min_width": null,
            "object_fit": null,
            "object_position": null,
            "order": null,
            "overflow": null,
            "overflow_x": null,
            "overflow_y": null,
            "padding": null,
            "right": null,
            "top": null,
            "visibility": null,
            "width": null
          }
        },
        "1ff58dfd46114437a4e62a2d5a7bfa54": {
          "model_module": "@jupyter-widgets/controls",
          "model_name": "DescriptionStyleModel",
          "model_module_version": "1.5.0",
          "state": {
            "_model_module": "@jupyter-widgets/controls",
            "_model_module_version": "1.5.0",
            "_model_name": "DescriptionStyleModel",
            "_view_count": null,
            "_view_module": "@jupyter-widgets/base",
            "_view_module_version": "1.2.0",
            "_view_name": "StyleView",
            "description_width": ""
          }
        },
        "bcf537d5ea1045869a836c3e71c25073": {
          "model_module": "@jupyter-widgets/base",
          "model_name": "LayoutModel",
          "model_module_version": "1.2.0",
          "state": {
            "_model_module": "@jupyter-widgets/base",
            "_model_module_version": "1.2.0",
            "_model_name": "LayoutModel",
            "_view_count": null,
            "_view_module": "@jupyter-widgets/base",
            "_view_module_version": "1.2.0",
            "_view_name": "LayoutView",
            "align_content": null,
            "align_items": null,
            "align_self": null,
            "border": null,
            "bottom": null,
            "display": null,
            "flex": null,
            "flex_flow": null,
            "grid_area": null,
            "grid_auto_columns": null,
            "grid_auto_flow": null,
            "grid_auto_rows": null,
            "grid_column": null,
            "grid_gap": null,
            "grid_row": null,
            "grid_template_areas": null,
            "grid_template_columns": null,
            "grid_template_rows": null,
            "height": null,
            "justify_content": null,
            "justify_items": null,
            "left": null,
            "margin": null,
            "max_height": null,
            "max_width": null,
            "min_height": null,
            "min_width": null,
            "object_fit": null,
            "object_position": null,
            "order": null,
            "overflow": null,
            "overflow_x": null,
            "overflow_y": null,
            "padding": null,
            "right": null,
            "top": null,
            "visibility": null,
            "width": null
          }
        },
        "53e02a42ee8d4e47b4a5838d2df7b83d": {
          "model_module": "@jupyter-widgets/controls",
          "model_name": "ProgressStyleModel",
          "model_module_version": "1.5.0",
          "state": {
            "_model_module": "@jupyter-widgets/controls",
            "_model_module_version": "1.5.0",
            "_model_name": "ProgressStyleModel",
            "_view_count": null,
            "_view_module": "@jupyter-widgets/base",
            "_view_module_version": "1.2.0",
            "_view_name": "StyleView",
            "bar_color": null,
            "description_width": ""
          }
        },
        "ddceec94f0f244c3a4aab21a0fe23d50": {
          "model_module": "@jupyter-widgets/base",
          "model_name": "LayoutModel",
          "model_module_version": "1.2.0",
          "state": {
            "_model_module": "@jupyter-widgets/base",
            "_model_module_version": "1.2.0",
            "_model_name": "LayoutModel",
            "_view_count": null,
            "_view_module": "@jupyter-widgets/base",
            "_view_module_version": "1.2.0",
            "_view_name": "LayoutView",
            "align_content": null,
            "align_items": null,
            "align_self": null,
            "border": null,
            "bottom": null,
            "display": null,
            "flex": null,
            "flex_flow": null,
            "grid_area": null,
            "grid_auto_columns": null,
            "grid_auto_flow": null,
            "grid_auto_rows": null,
            "grid_column": null,
            "grid_gap": null,
            "grid_row": null,
            "grid_template_areas": null,
            "grid_template_columns": null,
            "grid_template_rows": null,
            "height": null,
            "justify_content": null,
            "justify_items": null,
            "left": null,
            "margin": null,
            "max_height": null,
            "max_width": null,
            "min_height": null,
            "min_width": null,
            "object_fit": null,
            "object_position": null,
            "order": null,
            "overflow": null,
            "overflow_x": null,
            "overflow_y": null,
            "padding": null,
            "right": null,
            "top": null,
            "visibility": null,
            "width": null
          }
        },
        "820abe354dae495eb04f6ed920c669c0": {
          "model_module": "@jupyter-widgets/controls",
          "model_name": "DescriptionStyleModel",
          "model_module_version": "1.5.0",
          "state": {
            "_model_module": "@jupyter-widgets/controls",
            "_model_module_version": "1.5.0",
            "_model_name": "DescriptionStyleModel",
            "_view_count": null,
            "_view_module": "@jupyter-widgets/base",
            "_view_module_version": "1.2.0",
            "_view_name": "StyleView",
            "description_width": ""
          }
        },
        "6ec2ca2b504c4afeb165fb0b0e660e72": {
          "model_module": "@jupyter-widgets/controls",
          "model_name": "HBoxModel",
          "model_module_version": "1.5.0",
          "state": {
            "_dom_classes": [],
            "_model_module": "@jupyter-widgets/controls",
            "_model_module_version": "1.5.0",
            "_model_name": "HBoxModel",
            "_view_count": null,
            "_view_module": "@jupyter-widgets/controls",
            "_view_module_version": "1.5.0",
            "_view_name": "HBoxView",
            "box_style": "",
            "children": [
              "IPY_MODEL_cdeb8d4187c64368ac478153408d3088",
              "IPY_MODEL_4ecd3f4580334905904c1cd79722cac2",
              "IPY_MODEL_92e8485a09594f58b85da501756fdf92"
            ],
            "layout": "IPY_MODEL_084f5fb463424097876ce2bd58b3493b"
          }
        },
        "cdeb8d4187c64368ac478153408d3088": {
          "model_module": "@jupyter-widgets/controls",
          "model_name": "HTMLModel",
          "model_module_version": "1.5.0",
          "state": {
            "_dom_classes": [],
            "_model_module": "@jupyter-widgets/controls",
            "_model_module_version": "1.5.0",
            "_model_name": "HTMLModel",
            "_view_count": null,
            "_view_module": "@jupyter-widgets/controls",
            "_view_module_version": "1.5.0",
            "_view_name": "HTMLView",
            "description": "",
            "description_tooltip": null,
            "layout": "IPY_MODEL_e9ceb8adbb124f55bbc3cffa88c42445",
            "placeholder": "​",
            "style": "IPY_MODEL_9670df2dab5b4a3f9b156215750f4c5a",
            "value": "Preparing test data: 100%"
          }
        },
        "4ecd3f4580334905904c1cd79722cac2": {
          "model_module": "@jupyter-widgets/controls",
          "model_name": "FloatProgressModel",
          "model_module_version": "1.5.0",
          "state": {
            "_dom_classes": [],
            "_model_module": "@jupyter-widgets/controls",
            "_model_module_version": "1.5.0",
            "_model_name": "FloatProgressModel",
            "_view_count": null,
            "_view_module": "@jupyter-widgets/controls",
            "_view_module_version": "1.5.0",
            "_view_name": "ProgressView",
            "bar_style": "success",
            "description": "",
            "description_tooltip": null,
            "layout": "IPY_MODEL_5509af7f28be49ce840e8018b70ee429",
            "max": 669,
            "min": 0,
            "orientation": "horizontal",
            "style": "IPY_MODEL_4976019b5333443bbbe2bdcc2d6d14a5",
            "value": 669
          }
        },
        "92e8485a09594f58b85da501756fdf92": {
          "model_module": "@jupyter-widgets/controls",
          "model_name": "HTMLModel",
          "model_module_version": "1.5.0",
          "state": {
            "_dom_classes": [],
            "_model_module": "@jupyter-widgets/controls",
            "_model_module_version": "1.5.0",
            "_model_name": "HTMLModel",
            "_view_count": null,
            "_view_module": "@jupyter-widgets/controls",
            "_view_module_version": "1.5.0",
            "_view_name": "HTMLView",
            "description": "",
            "description_tooltip": null,
            "layout": "IPY_MODEL_e800f8f1be2646888020365d4fa5e99c",
            "placeholder": "​",
            "style": "IPY_MODEL_09c88c7cbd1b4bb78d0c8b99776c8190",
            "value": " 669/669 [00:14&lt;00:00, 44.87it/s]"
          }
        },
        "084f5fb463424097876ce2bd58b3493b": {
          "model_module": "@jupyter-widgets/base",
          "model_name": "LayoutModel",
          "model_module_version": "1.2.0",
          "state": {
            "_model_module": "@jupyter-widgets/base",
            "_model_module_version": "1.2.0",
            "_model_name": "LayoutModel",
            "_view_count": null,
            "_view_module": "@jupyter-widgets/base",
            "_view_module_version": "1.2.0",
            "_view_name": "LayoutView",
            "align_content": null,
            "align_items": null,
            "align_self": null,
            "border": null,
            "bottom": null,
            "display": null,
            "flex": null,
            "flex_flow": null,
            "grid_area": null,
            "grid_auto_columns": null,
            "grid_auto_flow": null,
            "grid_auto_rows": null,
            "grid_column": null,
            "grid_gap": null,
            "grid_row": null,
            "grid_template_areas": null,
            "grid_template_columns": null,
            "grid_template_rows": null,
            "height": null,
            "justify_content": null,
            "justify_items": null,
            "left": null,
            "margin": null,
            "max_height": null,
            "max_width": null,
            "min_height": null,
            "min_width": null,
            "object_fit": null,
            "object_position": null,
            "order": null,
            "overflow": null,
            "overflow_x": null,
            "overflow_y": null,
            "padding": null,
            "right": null,
            "top": null,
            "visibility": null,
            "width": null
          }
        },
        "e9ceb8adbb124f55bbc3cffa88c42445": {
          "model_module": "@jupyter-widgets/base",
          "model_name": "LayoutModel",
          "model_module_version": "1.2.0",
          "state": {
            "_model_module": "@jupyter-widgets/base",
            "_model_module_version": "1.2.0",
            "_model_name": "LayoutModel",
            "_view_count": null,
            "_view_module": "@jupyter-widgets/base",
            "_view_module_version": "1.2.0",
            "_view_name": "LayoutView",
            "align_content": null,
            "align_items": null,
            "align_self": null,
            "border": null,
            "bottom": null,
            "display": null,
            "flex": null,
            "flex_flow": null,
            "grid_area": null,
            "grid_auto_columns": null,
            "grid_auto_flow": null,
            "grid_auto_rows": null,
            "grid_column": null,
            "grid_gap": null,
            "grid_row": null,
            "grid_template_areas": null,
            "grid_template_columns": null,
            "grid_template_rows": null,
            "height": null,
            "justify_content": null,
            "justify_items": null,
            "left": null,
            "margin": null,
            "max_height": null,
            "max_width": null,
            "min_height": null,
            "min_width": null,
            "object_fit": null,
            "object_position": null,
            "order": null,
            "overflow": null,
            "overflow_x": null,
            "overflow_y": null,
            "padding": null,
            "right": null,
            "top": null,
            "visibility": null,
            "width": null
          }
        },
        "9670df2dab5b4a3f9b156215750f4c5a": {
          "model_module": "@jupyter-widgets/controls",
          "model_name": "DescriptionStyleModel",
          "model_module_version": "1.5.0",
          "state": {
            "_model_module": "@jupyter-widgets/controls",
            "_model_module_version": "1.5.0",
            "_model_name": "DescriptionStyleModel",
            "_view_count": null,
            "_view_module": "@jupyter-widgets/base",
            "_view_module_version": "1.2.0",
            "_view_name": "StyleView",
            "description_width": ""
          }
        },
        "5509af7f28be49ce840e8018b70ee429": {
          "model_module": "@jupyter-widgets/base",
          "model_name": "LayoutModel",
          "model_module_version": "1.2.0",
          "state": {
            "_model_module": "@jupyter-widgets/base",
            "_model_module_version": "1.2.0",
            "_model_name": "LayoutModel",
            "_view_count": null,
            "_view_module": "@jupyter-widgets/base",
            "_view_module_version": "1.2.0",
            "_view_name": "LayoutView",
            "align_content": null,
            "align_items": null,
            "align_self": null,
            "border": null,
            "bottom": null,
            "display": null,
            "flex": null,
            "flex_flow": null,
            "grid_area": null,
            "grid_auto_columns": null,
            "grid_auto_flow": null,
            "grid_auto_rows": null,
            "grid_column": null,
            "grid_gap": null,
            "grid_row": null,
            "grid_template_areas": null,
            "grid_template_columns": null,
            "grid_template_rows": null,
            "height": null,
            "justify_content": null,
            "justify_items": null,
            "left": null,
            "margin": null,
            "max_height": null,
            "max_width": null,
            "min_height": null,
            "min_width": null,
            "object_fit": null,
            "object_position": null,
            "order": null,
            "overflow": null,
            "overflow_x": null,
            "overflow_y": null,
            "padding": null,
            "right": null,
            "top": null,
            "visibility": null,
            "width": null
          }
        },
        "4976019b5333443bbbe2bdcc2d6d14a5": {
          "model_module": "@jupyter-widgets/controls",
          "model_name": "ProgressStyleModel",
          "model_module_version": "1.5.0",
          "state": {
            "_model_module": "@jupyter-widgets/controls",
            "_model_module_version": "1.5.0",
            "_model_name": "ProgressStyleModel",
            "_view_count": null,
            "_view_module": "@jupyter-widgets/base",
            "_view_module_version": "1.2.0",
            "_view_name": "StyleView",
            "bar_color": null,
            "description_width": ""
          }
        },
        "e800f8f1be2646888020365d4fa5e99c": {
          "model_module": "@jupyter-widgets/base",
          "model_name": "LayoutModel",
          "model_module_version": "1.2.0",
          "state": {
            "_model_module": "@jupyter-widgets/base",
            "_model_module_version": "1.2.0",
            "_model_name": "LayoutModel",
            "_view_count": null,
            "_view_module": "@jupyter-widgets/base",
            "_view_module_version": "1.2.0",
            "_view_name": "LayoutView",
            "align_content": null,
            "align_items": null,
            "align_self": null,
            "border": null,
            "bottom": null,
            "display": null,
            "flex": null,
            "flex_flow": null,
            "grid_area": null,
            "grid_auto_columns": null,
            "grid_auto_flow": null,
            "grid_auto_rows": null,
            "grid_column": null,
            "grid_gap": null,
            "grid_row": null,
            "grid_template_areas": null,
            "grid_template_columns": null,
            "grid_template_rows": null,
            "height": null,
            "justify_content": null,
            "justify_items": null,
            "left": null,
            "margin": null,
            "max_height": null,
            "max_width": null,
            "min_height": null,
            "min_width": null,
            "object_fit": null,
            "object_position": null,
            "order": null,
            "overflow": null,
            "overflow_x": null,
            "overflow_y": null,
            "padding": null,
            "right": null,
            "top": null,
            "visibility": null,
            "width": null
          }
        },
        "09c88c7cbd1b4bb78d0c8b99776c8190": {
          "model_module": "@jupyter-widgets/controls",
          "model_name": "DescriptionStyleModel",
          "model_module_version": "1.5.0",
          "state": {
            "_model_module": "@jupyter-widgets/controls",
            "_model_module_version": "1.5.0",
            "_model_name": "DescriptionStyleModel",
            "_view_count": null,
            "_view_module": "@jupyter-widgets/base",
            "_view_module_version": "1.2.0",
            "_view_name": "StyleView",
            "description_width": ""
          }
        }
      }
    },
    "gpuClass": "standard",
    "accelerator": "GPU"
  },
  "nbformat": 4,
  "nbformat_minor": 0
}